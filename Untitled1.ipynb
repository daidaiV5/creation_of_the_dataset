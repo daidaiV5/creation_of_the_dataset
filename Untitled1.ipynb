{
 "cells": [
  {
   "cell_type": "code",
   "execution_count": 1,
   "id": "ed5103ce",
   "metadata": {},
   "outputs": [],
   "source": [
    "import pandas as pd\n",
    "from collections import defaultdict\n",
    "import pandas as pd\n",
    "from pysradb.sraweb import SRAweb\n",
    "import os\n",
    "import csv\n",
    "import scipy as sp\n",
    "import subprocess\n",
    "from pysradb.sraweb import SRAweb"
   ]
  },
  {
   "cell_type": "markdown",
   "id": "4c31dd95",
   "metadata": {},
   "source": [
    "### read raw table  "
   ]
  },
  {
   "cell_type": "code",
   "execution_count": 90,
   "id": "970dad16",
   "metadata": {},
   "outputs": [],
   "source": [
    "db=SRAweb()"
   ]
  },
  {
   "cell_type": "code",
   "execution_count": 249,
   "id": "00ae1e30",
   "metadata": {
    "scrolled": true
   },
   "outputs": [],
   "source": [
    "path = '/home/storage_1/yuping/raw_data/test.csv'\n",
    "df = pd.read_csv (path, sep=',',index_col=\"Unnamed: 0\", header=0)"
   ]
  },
  {
   "cell_type": "code",
   "execution_count": 260,
   "id": "4ce00e51",
   "metadata": {},
   "outputs": [
    {
     "data": {
      "text/html": [
       "<div>\n",
       "<style scoped>\n",
       "    .dataframe tbody tr th:only-of-type {\n",
       "        vertical-align: middle;\n",
       "    }\n",
       "\n",
       "    .dataframe tbody tr th {\n",
       "        vertical-align: top;\n",
       "    }\n",
       "\n",
       "    .dataframe thead th {\n",
       "        text-align: right;\n",
       "    }\n",
       "</style>\n",
       "<table border=\"1\" class=\"dataframe\">\n",
       "  <thead>\n",
       "    <tr style=\"text-align: right;\">\n",
       "      <th></th>\n",
       "      <th>strain</th>\n",
       "      <th>tissue</th>\n",
       "      <th>age</th>\n",
       "      <th>age(month)</th>\n",
       "      <th>Sex</th>\n",
       "      <th>genotype</th>\n",
       "      <th>series_id</th>\n",
       "      <th>relation</th>\n",
       "      <th>molecule_ch1</th>\n",
       "      <th>instrument_model</th>\n",
       "      <th>SRA</th>\n",
       "      <th>SRR</th>\n",
       "      <th>end</th>\n",
       "    </tr>\n",
       "  </thead>\n",
       "  <tbody>\n",
       "    <tr>\n",
       "      <th>GSM3358341</th>\n",
       "      <td>strain background: C57BL/6</td>\n",
       "      <td>tissue: whole liver</td>\n",
       "      <td>age: 6 weeks</td>\n",
       "      <td>1</td>\n",
       "      <td>Sex: Female</td>\n",
       "      <td>genotype/variation: WT</td>\n",
       "      <td>GSE119119</td>\n",
       "      <td>BioSample: https://www.ncbi.nlm.nih.gov/biosam...</td>\n",
       "      <td>total RNA</td>\n",
       "      <td>Illumina HiSeq 4000</td>\n",
       "      <td>SRX4616734</td>\n",
       "      <td>SRR7761109</td>\n",
       "      <td>single_end</td>\n",
       "    </tr>\n",
       "    <tr>\n",
       "      <th>GSM3358342</th>\n",
       "      <td>strain background: C57BL/6</td>\n",
       "      <td>tissue: whole liver</td>\n",
       "      <td>age: 6 weeks</td>\n",
       "      <td>1</td>\n",
       "      <td>Sex: Female</td>\n",
       "      <td>genotype/variation: WT</td>\n",
       "      <td>GSE119119</td>\n",
       "      <td>BioSample: https://www.ncbi.nlm.nih.gov/biosam...</td>\n",
       "      <td>total RNA</td>\n",
       "      <td>Illumina HiSeq 4000</td>\n",
       "      <td>SRX4616735</td>\n",
       "      <td>SRR7761110</td>\n",
       "      <td>single_end</td>\n",
       "    </tr>\n",
       "    <tr>\n",
       "      <th>GSM3358343</th>\n",
       "      <td>strain background: C57BL/6</td>\n",
       "      <td>tissue: whole liver</td>\n",
       "      <td>age: 6 weeks</td>\n",
       "      <td>1</td>\n",
       "      <td>Sex: Male</td>\n",
       "      <td>genotype/variation: WT</td>\n",
       "      <td>GSE119119</td>\n",
       "      <td>BioSample: https://www.ncbi.nlm.nih.gov/biosam...</td>\n",
       "      <td>total RNA</td>\n",
       "      <td>Illumina HiSeq 4000</td>\n",
       "      <td>SRX4616736</td>\n",
       "      <td>SRR7761111</td>\n",
       "      <td>single_end</td>\n",
       "    </tr>\n",
       "    <tr>\n",
       "      <th>GSM3358344</th>\n",
       "      <td>strain background: C57BL/6</td>\n",
       "      <td>tissue: whole liver</td>\n",
       "      <td>age: 6 weeks</td>\n",
       "      <td>1</td>\n",
       "      <td>Sex: Male</td>\n",
       "      <td>genotype/variation: WT</td>\n",
       "      <td>GSE119119</td>\n",
       "      <td>BioSample: https://www.ncbi.nlm.nih.gov/biosam...</td>\n",
       "      <td>total RNA</td>\n",
       "      <td>Illumina HiSeq 4000</td>\n",
       "      <td>SRX4616737</td>\n",
       "      <td>SRR7761112</td>\n",
       "      <td>single_end</td>\n",
       "    </tr>\n",
       "    <tr>\n",
       "      <th>GSM4369021</th>\n",
       "      <td>strain: C3H</td>\n",
       "      <td>treatment type: Non-Irradiated Control</td>\n",
       "      <td>time: 1 month</td>\n",
       "      <td>1</td>\n",
       "      <td>Sex: Male</td>\n",
       "      <td>NaN</td>\n",
       "      <td>GSE146254</td>\n",
       "      <td>['BioSample: https://www.ncbi.nlm.nih.gov/bios...</td>\n",
       "      <td>'SRA: https://www.ncbi.nlm.nih.gov/sra?term=S...</td>\n",
       "      <td>['total RNA']</td>\n",
       "      <td>NaN</td>\n",
       "      <td>SRR11216550</td>\n",
       "      <td>paired_end</td>\n",
       "    </tr>\n",
       "    <tr>\n",
       "      <th>...</th>\n",
       "      <td>...</td>\n",
       "      <td>...</td>\n",
       "      <td>...</td>\n",
       "      <td>...</td>\n",
       "      <td>...</td>\n",
       "      <td>...</td>\n",
       "      <td>...</td>\n",
       "      <td>...</td>\n",
       "      <td>...</td>\n",
       "      <td>...</td>\n",
       "      <td>...</td>\n",
       "      <td>...</td>\n",
       "      <td>...</td>\n",
       "    </tr>\n",
       "    <tr>\n",
       "      <th>GSM5737077</th>\n",
       "      <td>4F het</td>\n",
       "      <td>R26::rtTA het C57BL/6</td>\n",
       "      <td>NaN</td>\n",
       "      <td>26 months</td>\n",
       "      <td>26</td>\n",
       "      <td>Sex: Male</td>\n",
       "      <td>NaN</td>\n",
       "      <td>GSE190985 GSE190986</td>\n",
       "      <td>NaN</td>\n",
       "      <td>NaN</td>\n",
       "      <td>NaN</td>\n",
       "      <td>SRR17261704</td>\n",
       "      <td>single_end</td>\n",
       "    </tr>\n",
       "    <tr>\n",
       "      <th>GSM5737078</th>\n",
       "      <td>4F het</td>\n",
       "      <td>R26::rtTA het C57BL/6</td>\n",
       "      <td>NaN</td>\n",
       "      <td>26 months</td>\n",
       "      <td>26</td>\n",
       "      <td>Sex: Female</td>\n",
       "      <td>NaN</td>\n",
       "      <td>GSE190985 GSE190986</td>\n",
       "      <td>NaN</td>\n",
       "      <td>NaN</td>\n",
       "      <td>NaN</td>\n",
       "      <td>SRR17261705</td>\n",
       "      <td>single_end</td>\n",
       "    </tr>\n",
       "    <tr>\n",
       "      <th>GSM2430558</th>\n",
       "      <td>strain: C3B6F1</td>\n",
       "      <td>tissue: liver</td>\n",
       "      <td>age: 26 months</td>\n",
       "      <td>26</td>\n",
       "      <td>Sex: Female</td>\n",
       "      <td>NaN</td>\n",
       "      <td>GSE92486</td>\n",
       "      <td>BioSample: https://www.ncbi.nlm.nih.gov/biosam...</td>\n",
       "      <td>total RNA</td>\n",
       "      <td>Illumina HiSeq 2500</td>\n",
       "      <td>SRX2431047</td>\n",
       "      <td>SRR5115673</td>\n",
       "      <td>paired_end</td>\n",
       "    </tr>\n",
       "    <tr>\n",
       "      <th>GSM2430559</th>\n",
       "      <td>strain: C3B6F1</td>\n",
       "      <td>tissue: liver</td>\n",
       "      <td>age: 26 months</td>\n",
       "      <td>26</td>\n",
       "      <td>Sex: Female</td>\n",
       "      <td>NaN</td>\n",
       "      <td>GSE92486</td>\n",
       "      <td>BioSample: https://www.ncbi.nlm.nih.gov/biosam...</td>\n",
       "      <td>total RNA</td>\n",
       "      <td>Illumina HiSeq 2500</td>\n",
       "      <td>SRX2431045</td>\n",
       "      <td>SRR5115674</td>\n",
       "      <td>paired_end</td>\n",
       "    </tr>\n",
       "    <tr>\n",
       "      <th>GSM2430560</th>\n",
       "      <td>strain: C3B6F1</td>\n",
       "      <td>tissue: liver</td>\n",
       "      <td>age: 26 months</td>\n",
       "      <td>26</td>\n",
       "      <td>Sex: Female</td>\n",
       "      <td>NaN</td>\n",
       "      <td>GSE92486</td>\n",
       "      <td>BioSample: https://www.ncbi.nlm.nih.gov/biosam...</td>\n",
       "      <td>total RNA</td>\n",
       "      <td>Illumina HiSeq 2500</td>\n",
       "      <td>SRX2431046</td>\n",
       "      <td>SRR5115675</td>\n",
       "      <td>paired_end</td>\n",
       "    </tr>\n",
       "  </tbody>\n",
       "</table>\n",
       "<p>306 rows × 13 columns</p>\n",
       "</div>"
      ],
      "text/plain": [
       "                                strain  \\\n",
       "GSM3358341  strain background: C57BL/6   \n",
       "GSM3358342  strain background: C57BL/6   \n",
       "GSM3358343  strain background: C57BL/6   \n",
       "GSM3358344  strain background: C57BL/6   \n",
       "GSM4369021                 strain: C3H   \n",
       "...                                ...   \n",
       "GSM5737077                      4F het   \n",
       "GSM5737078                      4F het   \n",
       "GSM2430558              strain: C3B6F1   \n",
       "GSM2430559              strain: C3B6F1   \n",
       "GSM2430560              strain: C3B6F1   \n",
       "\n",
       "                                            tissue             age age(month)  \\\n",
       "GSM3358341                     tissue: whole liver    age: 6 weeks          1   \n",
       "GSM3358342                     tissue: whole liver    age: 6 weeks          1   \n",
       "GSM3358343                     tissue: whole liver    age: 6 weeks          1   \n",
       "GSM3358344                     tissue: whole liver    age: 6 weeks          1   \n",
       "GSM4369021  treatment type: Non-Irradiated Control   time: 1 month          1   \n",
       "...                                            ...             ...        ...   \n",
       "GSM5737077                   R26::rtTA het C57BL/6             NaN  26 months   \n",
       "GSM5737078                   R26::rtTA het C57BL/6             NaN  26 months   \n",
       "GSM2430558                           tissue: liver  age: 26 months         26   \n",
       "GSM2430559                           tissue: liver  age: 26 months         26   \n",
       "GSM2430560                           tissue: liver  age: 26 months         26   \n",
       "\n",
       "                    Sex                genotype  series_id  \\\n",
       "GSM3358341  Sex: Female  genotype/variation: WT  GSE119119   \n",
       "GSM3358342  Sex: Female  genotype/variation: WT  GSE119119   \n",
       "GSM3358343    Sex: Male  genotype/variation: WT  GSE119119   \n",
       "GSM3358344    Sex: Male  genotype/variation: WT  GSE119119   \n",
       "GSM4369021    Sex: Male                     NaN  GSE146254   \n",
       "...                 ...                     ...        ...   \n",
       "GSM5737077           26               Sex: Male        NaN   \n",
       "GSM5737078           26             Sex: Female        NaN   \n",
       "GSM2430558  Sex: Female                     NaN   GSE92486   \n",
       "GSM2430559  Sex: Female                     NaN   GSE92486   \n",
       "GSM2430560  Sex: Female                     NaN   GSE92486   \n",
       "\n",
       "                                                     relation  \\\n",
       "GSM3358341  BioSample: https://www.ncbi.nlm.nih.gov/biosam...   \n",
       "GSM3358342  BioSample: https://www.ncbi.nlm.nih.gov/biosam...   \n",
       "GSM3358343  BioSample: https://www.ncbi.nlm.nih.gov/biosam...   \n",
       "GSM3358344  BioSample: https://www.ncbi.nlm.nih.gov/biosam...   \n",
       "GSM4369021  ['BioSample: https://www.ncbi.nlm.nih.gov/bios...   \n",
       "...                                                       ...   \n",
       "GSM5737077                                GSE190985 GSE190986   \n",
       "GSM5737078                                GSE190985 GSE190986   \n",
       "GSM2430558  BioSample: https://www.ncbi.nlm.nih.gov/biosam...   \n",
       "GSM2430559  BioSample: https://www.ncbi.nlm.nih.gov/biosam...   \n",
       "GSM2430560  BioSample: https://www.ncbi.nlm.nih.gov/biosam...   \n",
       "\n",
       "                                                 molecule_ch1  \\\n",
       "GSM3358341                                          total RNA   \n",
       "GSM3358342                                          total RNA   \n",
       "GSM3358343                                          total RNA   \n",
       "GSM3358344                                          total RNA   \n",
       "GSM4369021   'SRA: https://www.ncbi.nlm.nih.gov/sra?term=S...   \n",
       "...                                                       ...   \n",
       "GSM5737077                                                NaN   \n",
       "GSM5737078                                                NaN   \n",
       "GSM2430558                                          total RNA   \n",
       "GSM2430559                                          total RNA   \n",
       "GSM2430560                                          total RNA   \n",
       "\n",
       "               instrument_model         SRA          SRR         end  \n",
       "GSM3358341  Illumina HiSeq 4000  SRX4616734   SRR7761109  single_end  \n",
       "GSM3358342  Illumina HiSeq 4000  SRX4616735   SRR7761110  single_end  \n",
       "GSM3358343  Illumina HiSeq 4000  SRX4616736   SRR7761111  single_end  \n",
       "GSM3358344  Illumina HiSeq 4000  SRX4616737   SRR7761112  single_end  \n",
       "GSM4369021        ['total RNA']         NaN  SRR11216550  paired_end  \n",
       "...                         ...         ...          ...         ...  \n",
       "GSM5737077                  NaN         NaN  SRR17261704  single_end  \n",
       "GSM5737078                  NaN         NaN  SRR17261705  single_end  \n",
       "GSM2430558  Illumina HiSeq 2500  SRX2431047   SRR5115673  paired_end  \n",
       "GSM2430559  Illumina HiSeq 2500  SRX2431045   SRR5115674  paired_end  \n",
       "GSM2430560  Illumina HiSeq 2500  SRX2431046   SRR5115675  paired_end  \n",
       "\n",
       "[306 rows x 13 columns]"
      ]
     },
     "execution_count": 260,
     "metadata": {},
     "output_type": "execute_result"
    }
   ],
   "source": [
    "df"
   ]
  },
  {
   "cell_type": "markdown",
   "id": "73829d7b",
   "metadata": {},
   "source": [
    "### GSM to SRR"
   ]
  },
  {
   "cell_type": "code",
   "execution_count": 251,
   "id": "ed561d70",
   "metadata": {},
   "outputs": [],
   "source": [
    "df['end']='NA'"
   ]
  },
  {
   "cell_type": "code",
   "execution_count": 173,
   "id": "fa23d89a",
   "metadata": {
    "scrolled": true
   },
   "outputs": [
    {
     "name": "stdout",
     "output_type": "stream",
     "text": [
      "GSM3358341\n",
      "GSM3358342\n",
      "GSM3358343\n",
      "GSM3358344\n",
      "GSM4369021\n",
      "GSM4369022\n",
      "GSM4369023\n",
      "GSM4745505\n",
      "GSM4745506\n",
      "GSM4745507\n",
      "GSM4745508\n",
      "GSM4745514\n",
      "GSM4745515\n",
      "GSM4745516\n",
      "GSM4745517\n",
      "GSM4745518\n",
      "GSM4048705\n",
      "GSM4048706\n",
      "GSM4048707\n",
      "GSM4369027\n",
      "GSM4369028\n",
      "GSM4369029\n",
      "GSM1605486\n",
      "GSM1605487\n",
      "GSM1605488\n",
      "GSM1605489\n",
      "GSM1605490\n",
      "GSM1605491\n",
      "GSM1605492\n",
      "GSM1605493\n",
      "GSM3984366\n",
      "GSM3984367\n",
      "GSM3984368\n",
      "GSM2046155\n",
      "GSM2046156\n",
      "GSM2046157\n",
      "GSM2046158\n",
      "GSM2046159\n",
      "GSM2046160\n",
      "GSM2046179\n",
      "GSM2046180\n",
      "GSM2046181\n",
      "GSM2046182\n",
      "GSM2046183\n",
      "GSM2046184\n",
      "GSM2355588\n",
      "GSM2355589\n",
      "GSM2355590\n",
      "GSM2355591\n",
      "GSM2355592\n",
      "GSM2355593\n",
      "GSM2355594\n",
      "GSM2355595\n",
      "GSM2355596\n",
      "GSM2355597\n",
      "GSM2355598\n",
      "GSM2355599\n",
      "GSM4199811\n",
      "GSM4199564\n",
      "GSM4199547\n",
      "GSM4199530\n",
      "GSM4199778\n",
      "GSM4199794\n",
      "GSM4369030\n",
      "GSM4369031\n",
      "GSM4369032\n",
      "GSM4048711\n",
      "GSM4048712\n",
      "GSM4048713\n",
      "GSM1869559\n",
      "GSM1869560\n",
      "GSM1869561\n",
      "GSM1869562\n",
      "GSM1869563\n",
      "GSM1869564\n",
      "GSM1869565\n",
      "GSM1869566\n",
      "GSM1869567\n",
      "GSM1869568\n",
      "GSM1869569\n",
      "GSM1869570\n",
      "GSM1869571\n",
      "GSM1869572\n",
      "GSM1869573\n",
      "GSM1869574\n",
      "GSM1869575\n",
      "GSM1869576\n",
      "GSM1869577\n",
      "GSM1869578\n",
      "GSM1869579\n",
      "GSM1869580\n",
      "GSM1869581\n",
      "GSM1869582\n",
      "GSM1869583\n",
      "GSM1869584\n",
      "GSM1869585\n",
      "GSM1869586\n",
      "GSM1869587\n",
      "GSM1869588\n",
      "GSM1869589\n",
      "GSM1869590\n",
      "GSM1869591\n",
      "GSM1869592\n",
      "GSM1869593\n",
      "GSM1869594\n",
      "GSM1869595\n",
      "GSM1869596\n",
      "GSM1869597\n",
      "GSM1869598\n",
      "GSM1869599\n",
      "GSM1869600\n",
      "GSM1869601\n",
      "GSM1869602\n",
      "GSM1869603\n",
      "GSM1869604\n",
      "GSM1869605\n",
      "GSM1869606\n",
      "GSM1869607\n",
      "GSM1869608\n",
      "GSM1869755\n",
      "GSM1869756\n",
      "GSM1869757\n",
      "GSM1869758\n",
      "GSM1869759\n",
      "GSM1869760\n",
      "GSM1869761\n",
      "GSM1869762\n",
      "GSM1869763\n",
      "GSM1869764\n",
      "GSM1869765\n",
      "GSM1869766\n",
      "GSM1869767\n",
      "GSM1869768\n",
      "GSM1869769\n",
      "GSM1869770\n",
      "GSM1869771\n",
      "GSM1869772\n",
      "GSM1869773\n",
      "GSM1869774\n",
      "GSM1869775\n",
      "GSM1869776\n",
      "GSM1869777\n",
      "GSM1869778\n",
      "GSM1869779\n",
      "GSM1869780\n",
      "GSM1869781\n",
      "GSM1869782\n",
      "GSM1869783\n",
      "GSM1869784\n",
      "GSM1869785\n",
      "GSM1869786\n",
      "GSM1869787\n",
      "GSM1869788\n",
      "GSM1869789\n",
      "GSM1869790\n",
      "GSM1869791\n",
      "GSM1869792\n",
      "GSM1869793\n",
      "GSM1869794\n",
      "GSM1869795\n",
      "GSM1869796\n",
      "GSM1869797\n",
      "GSM1869798\n",
      "GSM1869799\n",
      "GSM1869800\n",
      "GSM2197506\n",
      "GSM2197507\n",
      "GSM2197508\n",
      "GSM4369033\n",
      "GSM4369034\n",
      "GSM4369035\n",
      "GSM4199480\n",
      "GSM4199496\n",
      "GSM4199513\n",
      "GSM4199728\n",
      "GSM4199744\n",
      "GSM4199761\n",
      "GSM2995201\n",
      "GSM2995202\n",
      "GSM2995203\n",
      "GSM2995204\n",
      "GSM1605502\n",
      "GSM1605503\n",
      "GSM1605504\n",
      "GSM1605505\n",
      "GSM1605506\n",
      "GSM1605507\n",
      "GSM1605508\n",
      "GSM1605509\n",
      "GSM4369024\n",
      "GSM4369025\n",
      "GSM4369026\n",
      "GSM4048717\n",
      "GSM4048718\n",
      "GSM4048719\n",
      "GSM3815130\n",
      "GSM3815131\n",
      "GSM3815132\n",
      "GSM3815133\n",
      "GSM3815134\n",
      "GSM3815135\n",
      "GSM1845059\n",
      "GSM1845069\n",
      "GSM1845077\n",
      "GSM2283832\n",
      "GSM2283833\n",
      "GSM2283834\n",
      "GSM2283864\n",
      "GSM4636089\n",
      "GSM4636091\n",
      "GSM4636093\n",
      "GSM4636095\n",
      "GSM2711588\n",
      "GSM2711589\n",
      "GSM2711590\n",
      "GSM2711591\n",
      "GSM2711592\n",
      "GSM3106739\n",
      "GSM3106740\n",
      "GSM3106741\n",
      "GSM3106742\n",
      "GSM3106743\n",
      "GSM3106744\n",
      "GSM4811701\n",
      "GSM4811705\n",
      "GSM4811709\n",
      "GSM5567271\n",
      "GSM5567272\n",
      "GSM5567276\n",
      "GSM5567277\n",
      "GSM5567278\n",
      "GSM5067082\n",
      "GSM5067083\n",
      "GSM5067084\n",
      "GSM4078645\n",
      "GSM4078646\n",
      "GSM4078647\n",
      "GSM4078648\n",
      "GSM4078649\n",
      "GSM4078650\n",
      "GSM4078651\n",
      "GSM4078652\n",
      "GSM4078653\n",
      "GSM4078654\n",
      "GSM4078655\n",
      "GSM4078656\n",
      "GSM2857389\n",
      "GSM2857390\n",
      "GSM4636097\n",
      "GSM4636099\n",
      "GSM4636101\n",
      "GSM4636103\n",
      "GSM4048723\n",
      "GSM4048724\n",
      "GSM4048725\n",
      "GSM4199386\n",
      "GSM4199401\n",
      "GSM4199417\n",
      "GSM4199629\n",
      "GSM4199646\n",
      "GSM4199662\n",
      "GSM1390723\n",
      "GSM1390724\n",
      "GSM1390725\n",
      "GSM5737136\n",
      "GSM5737137\n",
      "GSM5737138\n",
      "GSM5737022\n",
      "GSM5737023\n",
      "GSM5737024\n",
      "GSM5737025\n",
      "GSM5737026\n",
      "GSM2363474\n",
      "GSM2363475\n",
      "GSM2363476\n",
      "GSM2363477\n",
      "GSM4811694\n",
      "GSM4811696\n",
      "GSM4811698\n",
      "GSM5510536\n",
      "GSM5510537\n",
      "GSM5510538\n",
      "GSM3454509\n",
      "GSM3454510\n",
      "GSM3454511\n",
      "GSM3454512\n",
      "GSM3454513\n",
      "GSM3454514\n",
      "GSM3454515\n",
      "GSM3454516\n",
      "GSM3454517\n",
      "GSM3454518\n",
      "GSM3454519\n",
      "GSM3454520\n",
      "GSM4199337\n",
      "GSM4199354\n",
      "GSM4199371\n",
      "GSM4199581\n",
      "GSM4199598\n",
      "GSM4199614\n",
      "GSM5737076\n",
      "GSM5737077\n",
      "GSM5737078\n",
      "GSM2430558\n",
      "GSM2430559\n",
      "GSM2430560\n"
     ]
    }
   ],
   "source": [
    "for index in df.index:\n",
    "    print(index)\n",
    "    if(df.loc[index,'SRR']=='NA'):\n",
    "        test=db.gsm_to_srr(index)\n",
    "        df.loc[index,'SRR']=test.iloc[0,1]"
   ]
  },
  {
   "cell_type": "markdown",
   "id": "127f81ef",
   "metadata": {},
   "source": [
    "### single end or paired end"
   ]
  },
  {
   "cell_type": "code",
   "execution_count": null,
   "id": "bf60c3cc",
   "metadata": {},
   "outputs": [],
   "source": [
    "numLines=f'fastq-dump -X 1 -Z --split-spot SRR3184279| wc -l'\n",
    "f=os.popen(numLines)"
   ]
  },
  {
   "cell_type": "code",
   "execution_count": 252,
   "id": "0a7aeffd",
   "metadata": {},
   "outputs": [
    {
     "name": "stdout",
     "output_type": "stream",
     "text": [
      "fastq-dump -X 1 -Z --split-spot SRR7761109| wc -l\n"
     ]
    },
    {
     "name": "stderr",
     "output_type": "stream",
     "text": [
      "Rejected 1 READS because READLEN < 1\n",
      "Read 1 spots for SRR7761109\n",
      "Written 1 spots for SRR7761109\n"
     ]
    },
    {
     "name": "stdout",
     "output_type": "stream",
     "text": [
      "4\n",
      "\n",
      "fastq-dump -X 1 -Z --split-spot SRR7761110| wc -l\n"
     ]
    },
    {
     "name": "stderr",
     "output_type": "stream",
     "text": [
      "Rejected 1 READS because READLEN < 1\n",
      "Read 1 spots for SRR7761110\n",
      "Written 1 spots for SRR7761110\n"
     ]
    },
    {
     "name": "stdout",
     "output_type": "stream",
     "text": [
      "4\n",
      "\n",
      "fastq-dump -X 1 -Z --split-spot SRR7761111| wc -l\n"
     ]
    },
    {
     "name": "stderr",
     "output_type": "stream",
     "text": [
      "Rejected 1 READS because READLEN < 1\n",
      "Read 1 spots for SRR7761111\n",
      "Written 1 spots for SRR7761111\n"
     ]
    },
    {
     "name": "stdout",
     "output_type": "stream",
     "text": [
      "4\n",
      "\n",
      "fastq-dump -X 1 -Z --split-spot SRR7761112| wc -l\n"
     ]
    },
    {
     "name": "stderr",
     "output_type": "stream",
     "text": [
      "Rejected 1 READS because READLEN < 1\n",
      "Read 1 spots for SRR7761112\n",
      "Written 1 spots for SRR7761112\n"
     ]
    },
    {
     "name": "stdout",
     "output_type": "stream",
     "text": [
      "4\n",
      "\n",
      "fastq-dump -X 1 -Z --split-spot SRR11216550| wc -l\n"
     ]
    },
    {
     "name": "stderr",
     "output_type": "stream",
     "text": [
      "Read 1 spots for SRR11216550\n",
      "Written 1 spots for SRR11216550\n"
     ]
    },
    {
     "name": "stdout",
     "output_type": "stream",
     "text": [
      "8\n",
      "\n",
      "fastq-dump -X 1 -Z --split-spot SRR11216551| wc -l\n"
     ]
    },
    {
     "name": "stderr",
     "output_type": "stream",
     "text": [
      "Read 1 spots for SRR11216551\n",
      "Written 1 spots for SRR11216551\n"
     ]
    },
    {
     "name": "stdout",
     "output_type": "stream",
     "text": [
      "8\n",
      "\n",
      "fastq-dump -X 1 -Z --split-spot SRR11216552| wc -l\n"
     ]
    },
    {
     "name": "stderr",
     "output_type": "stream",
     "text": [
      "Read 1 spots for SRR11216552\n",
      "Written 1 spots for SRR11216552\n"
     ]
    },
    {
     "name": "stdout",
     "output_type": "stream",
     "text": [
      "8\n",
      "\n",
      "fastq-dump -X 1 -Z --split-spot SRR12515171| wc -l\n"
     ]
    },
    {
     "name": "stderr",
     "output_type": "stream",
     "text": [
      "Read 1 spots for SRR12515171\n",
      "Written 1 spots for SRR12515171\n"
     ]
    },
    {
     "name": "stdout",
     "output_type": "stream",
     "text": [
      "8\n",
      "\n",
      "fastq-dump -X 1 -Z --split-spot SRR12515172| wc -l\n"
     ]
    },
    {
     "name": "stderr",
     "output_type": "stream",
     "text": [
      "Read 1 spots for SRR12515172\n",
      "Written 1 spots for SRR12515172\n"
     ]
    },
    {
     "name": "stdout",
     "output_type": "stream",
     "text": [
      "8\n",
      "\n",
      "fastq-dump -X 1 -Z --split-spot SRR12515173| wc -l\n"
     ]
    },
    {
     "name": "stderr",
     "output_type": "stream",
     "text": [
      "Read 1 spots for SRR12515173\n",
      "Written 1 spots for SRR12515173\n"
     ]
    },
    {
     "name": "stdout",
     "output_type": "stream",
     "text": [
      "8\n",
      "\n",
      "fastq-dump -X 1 -Z --split-spot SRR12515174| wc -l\n"
     ]
    },
    {
     "name": "stderr",
     "output_type": "stream",
     "text": [
      "Read 1 spots for SRR12515174\n",
      "Written 1 spots for SRR12515174\n"
     ]
    },
    {
     "name": "stdout",
     "output_type": "stream",
     "text": [
      "8\n",
      "\n",
      "fastq-dump -X 1 -Z --split-spot SRR12515180| wc -l\n"
     ]
    },
    {
     "name": "stderr",
     "output_type": "stream",
     "text": [
      "Read 1 spots for SRR12515180\n",
      "Written 1 spots for SRR12515180\n"
     ]
    },
    {
     "name": "stdout",
     "output_type": "stream",
     "text": [
      "8\n",
      "\n",
      "fastq-dump -X 1 -Z --split-spot SRR12515181| wc -l\n"
     ]
    },
    {
     "name": "stderr",
     "output_type": "stream",
     "text": [
      "Read 1 spots for SRR12515181\n",
      "Written 1 spots for SRR12515181\n"
     ]
    },
    {
     "name": "stdout",
     "output_type": "stream",
     "text": [
      "8\n",
      "\n",
      "fastq-dump -X 1 -Z --split-spot SRR12515182| wc -l\n"
     ]
    },
    {
     "name": "stderr",
     "output_type": "stream",
     "text": [
      "Read 1 spots for SRR12515182\n",
      "Written 1 spots for SRR12515182\n"
     ]
    },
    {
     "name": "stdout",
     "output_type": "stream",
     "text": [
      "8\n",
      "\n",
      "fastq-dump -X 1 -Z --split-spot SRR12515183| wc -l\n"
     ]
    },
    {
     "name": "stderr",
     "output_type": "stream",
     "text": [
      "Read 1 spots for SRR12515183\n",
      "Written 1 spots for SRR12515183\n"
     ]
    },
    {
     "name": "stdout",
     "output_type": "stream",
     "text": [
      "8\n",
      "\n",
      "fastq-dump -X 1 -Z --split-spot SRR12515184| wc -l\n"
     ]
    },
    {
     "name": "stderr",
     "output_type": "stream",
     "text": [
      "Read 1 spots for SRR12515184\n",
      "Written 1 spots for SRR12515184\n"
     ]
    },
    {
     "name": "stdout",
     "output_type": "stream",
     "text": [
      "8\n",
      "\n",
      "fastq-dump -X 1 -Z --split-spot SRR10025165| wc -l\n"
     ]
    },
    {
     "name": "stderr",
     "output_type": "stream",
     "text": [
      "Read 1 spots for SRR10025165\n",
      "Written 1 spots for SRR10025165\n"
     ]
    },
    {
     "name": "stdout",
     "output_type": "stream",
     "text": [
      "8\n",
      "\n",
      "fastq-dump -X 1 -Z --split-spot SRR10025166| wc -l\n"
     ]
    },
    {
     "name": "stderr",
     "output_type": "stream",
     "text": [
      "Read 1 spots for SRR10025166\n",
      "Written 1 spots for SRR10025166\n"
     ]
    },
    {
     "name": "stdout",
     "output_type": "stream",
     "text": [
      "8\n",
      "\n",
      "fastq-dump -X 1 -Z --split-spot SRR10025167| wc -l\n"
     ]
    },
    {
     "name": "stderr",
     "output_type": "stream",
     "text": [
      "Read 1 spots for SRR10025167\n",
      "Written 1 spots for SRR10025167\n"
     ]
    },
    {
     "name": "stdout",
     "output_type": "stream",
     "text": [
      "8\n",
      "\n",
      "fastq-dump -X 1 -Z --split-spot SRR11216556| wc -l\n"
     ]
    },
    {
     "name": "stderr",
     "output_type": "stream",
     "text": [
      "Read 1 spots for SRR11216556\n",
      "Written 1 spots for SRR11216556\n"
     ]
    },
    {
     "name": "stdout",
     "output_type": "stream",
     "text": [
      "8\n",
      "\n",
      "fastq-dump -X 1 -Z --split-spot SRR11216557| wc -l\n"
     ]
    },
    {
     "name": "stderr",
     "output_type": "stream",
     "text": [
      "Read 1 spots for SRR11216557\n",
      "Written 1 spots for SRR11216557\n"
     ]
    },
    {
     "name": "stdout",
     "output_type": "stream",
     "text": [
      "8\n",
      "\n",
      "fastq-dump -X 1 -Z --split-spot SRR11216558| wc -l\n"
     ]
    },
    {
     "name": "stderr",
     "output_type": "stream",
     "text": [
      "Read 1 spots for SRR11216558\n",
      "Written 1 spots for SRR11216558\n"
     ]
    },
    {
     "name": "stdout",
     "output_type": "stream",
     "text": [
      "8\n",
      "\n",
      "fastq-dump -X 1 -Z --split-spot SRR1794770| wc -l\n"
     ]
    },
    {
     "name": "stderr",
     "output_type": "stream",
     "text": [
      "Read 1 spots for SRR1794770\n",
      "Written 1 spots for SRR1794770\n"
     ]
    },
    {
     "name": "stdout",
     "output_type": "stream",
     "text": [
      "8\n",
      "\n",
      "fastq-dump -X 1 -Z --split-spot SRR1794771| wc -l\n"
     ]
    },
    {
     "name": "stderr",
     "output_type": "stream",
     "text": [
      "Read 1 spots for SRR1794771\n",
      "Written 1 spots for SRR1794771\n"
     ]
    },
    {
     "name": "stdout",
     "output_type": "stream",
     "text": [
      "8\n",
      "\n",
      "fastq-dump -X 1 -Z --split-spot SRR1794772| wc -l\n"
     ]
    },
    {
     "name": "stderr",
     "output_type": "stream",
     "text": [
      "Read 1 spots for SRR1794772\n",
      "Written 1 spots for SRR1794772\n"
     ]
    },
    {
     "name": "stdout",
     "output_type": "stream",
     "text": [
      "8\n",
      "\n",
      "fastq-dump -X 1 -Z --split-spot SRR1794773| wc -l\n"
     ]
    },
    {
     "name": "stderr",
     "output_type": "stream",
     "text": [
      "Read 1 spots for SRR1794773\n",
      "Written 1 spots for SRR1794773\n"
     ]
    },
    {
     "name": "stdout",
     "output_type": "stream",
     "text": [
      "8\n",
      "\n",
      "fastq-dump -X 1 -Z --split-spot SRR1794774| wc -l\n"
     ]
    },
    {
     "name": "stderr",
     "output_type": "stream",
     "text": [
      "Read 1 spots for SRR1794774\n",
      "Written 1 spots for SRR1794774\n"
     ]
    },
    {
     "name": "stdout",
     "output_type": "stream",
     "text": [
      "8\n",
      "\n",
      "fastq-dump -X 1 -Z --split-spot SRR1794775| wc -l\n"
     ]
    },
    {
     "name": "stderr",
     "output_type": "stream",
     "text": [
      "Read 1 spots for SRR1794775\n",
      "Written 1 spots for SRR1794775\n"
     ]
    },
    {
     "name": "stdout",
     "output_type": "stream",
     "text": [
      "8\n",
      "\n",
      "fastq-dump -X 1 -Z --split-spot SRR1794776| wc -l\n"
     ]
    },
    {
     "name": "stderr",
     "output_type": "stream",
     "text": [
      "Read 1 spots for SRR1794776\n",
      "Written 1 spots for SRR1794776\n"
     ]
    },
    {
     "name": "stdout",
     "output_type": "stream",
     "text": [
      "8\n",
      "\n",
      "fastq-dump -X 1 -Z --split-spot SRR1794777| wc -l\n"
     ]
    },
    {
     "name": "stderr",
     "output_type": "stream",
     "text": [
      "Read 1 spots for SRR1794777\n",
      "Written 1 spots for SRR1794777\n"
     ]
    },
    {
     "name": "stdout",
     "output_type": "stream",
     "text": [
      "8\n",
      "\n",
      "fastq-dump -X 1 -Z --split-spot SRR9856034| wc -l\n"
     ]
    },
    {
     "name": "stderr",
     "output_type": "stream",
     "text": [
      "Read 1 spots for SRR9856034\n",
      "Written 1 spots for SRR9856034\n"
     ]
    },
    {
     "name": "stdout",
     "output_type": "stream",
     "text": [
      "4\n",
      "\n",
      "fastq-dump -X 1 -Z --split-spot SRR9856035| wc -l\n"
     ]
    },
    {
     "name": "stderr",
     "output_type": "stream",
     "text": [
      "Read 1 spots for SRR9856035\n",
      "Written 1 spots for SRR9856035\n"
     ]
    },
    {
     "name": "stdout",
     "output_type": "stream",
     "text": [
      "4\n",
      "\n",
      "fastq-dump -X 1 -Z --split-spot SRR9856036| wc -l\n"
     ]
    },
    {
     "name": "stderr",
     "output_type": "stream",
     "text": [
      "Read 1 spots for SRR9856036\n",
      "Written 1 spots for SRR9856036\n"
     ]
    },
    {
     "name": "stdout",
     "output_type": "stream",
     "text": [
      "4\n",
      "\n",
      "fastq-dump -X 1 -Z --split-spot SRR7161656| wc -l\n"
     ]
    },
    {
     "name": "stderr",
     "output_type": "stream",
     "text": [
      "Read 1 spots for SRR7161656\n",
      "Written 1 spots for SRR7161656\n"
     ]
    },
    {
     "name": "stdout",
     "output_type": "stream",
     "text": [
      "8\n",
      "\n",
      "fastq-dump -X 1 -Z --split-spot SRR7161664| wc -l\n"
     ]
    },
    {
     "name": "stderr",
     "output_type": "stream",
     "text": [
      "Read 1 spots for SRR7161664\n",
      "Written 1 spots for SRR7161664\n"
     ]
    },
    {
     "name": "stdout",
     "output_type": "stream",
     "text": [
      "8\n",
      "\n",
      "fastq-dump -X 1 -Z --split-spot SRR7161672| wc -l\n"
     ]
    },
    {
     "name": "stderr",
     "output_type": "stream",
     "text": [
      "Read 1 spots for SRR7161672\n",
      "Written 1 spots for SRR7161672\n"
     ]
    },
    {
     "name": "stdout",
     "output_type": "stream",
     "text": [
      "8\n",
      "\n",
      "fastq-dump -X 1 -Z --split-spot SRR7161680| wc -l\n"
     ]
    },
    {
     "name": "stderr",
     "output_type": "stream",
     "text": [
      "Read 1 spots for SRR7161680\n",
      "Written 1 spots for SRR7161680\n"
     ]
    },
    {
     "name": "stdout",
     "output_type": "stream",
     "text": [
      "8\n",
      "\n",
      "fastq-dump -X 1 -Z --split-spot SRR7161688| wc -l\n"
     ]
    },
    {
     "name": "stderr",
     "output_type": "stream",
     "text": [
      "Read 1 spots for SRR7161688\n",
      "Written 1 spots for SRR7161688\n"
     ]
    },
    {
     "name": "stdout",
     "output_type": "stream",
     "text": [
      "8\n",
      "\n",
      "fastq-dump -X 1 -Z --split-spot SRR7161696| wc -l\n"
     ]
    },
    {
     "name": "stderr",
     "output_type": "stream",
     "text": [
      "Read 1 spots for SRR7161696\n",
      "Written 1 spots for SRR7161696\n"
     ]
    },
    {
     "name": "stdout",
     "output_type": "stream",
     "text": [
      "8\n",
      "\n",
      "fastq-dump -X 1 -Z --split-spot SRR7161704| wc -l\n"
     ]
    },
    {
     "name": "stderr",
     "output_type": "stream",
     "text": [
      "Read 1 spots for SRR7161704\n",
      "Written 1 spots for SRR7161704\n"
     ]
    },
    {
     "name": "stdout",
     "output_type": "stream",
     "text": [
      "8\n",
      "\n",
      "fastq-dump -X 1 -Z --split-spot SRR7161712| wc -l\n"
     ]
    },
    {
     "name": "stderr",
     "output_type": "stream",
     "text": [
      "Read 1 spots for SRR7161712\n",
      "Written 1 spots for SRR7161712\n"
     ]
    },
    {
     "name": "stdout",
     "output_type": "stream",
     "text": [
      "8\n",
      "\n",
      "fastq-dump -X 1 -Z --split-spot SRR7161720| wc -l\n"
     ]
    },
    {
     "name": "stderr",
     "output_type": "stream",
     "text": [
      "Read 1 spots for SRR7161720\n",
      "Written 1 spots for SRR7161720\n"
     ]
    },
    {
     "name": "stdout",
     "output_type": "stream",
     "text": [
      "8\n",
      "\n",
      "fastq-dump -X 1 -Z --split-spot SRR7161728| wc -l\n"
     ]
    },
    {
     "name": "stderr",
     "output_type": "stream",
     "text": [
      "Read 1 spots for SRR7161728\n",
      "Written 1 spots for SRR7161728\n"
     ]
    },
    {
     "name": "stdout",
     "output_type": "stream",
     "text": [
      "8\n",
      "\n",
      "fastq-dump -X 1 -Z --split-spot SRR7161736| wc -l\n"
     ]
    },
    {
     "name": "stderr",
     "output_type": "stream",
     "text": [
      "Read 1 spots for SRR7161736\n",
      "Written 1 spots for SRR7161736\n"
     ]
    },
    {
     "name": "stdout",
     "output_type": "stream",
     "text": [
      "8\n",
      "\n",
      "fastq-dump -X 1 -Z --split-spot SRR7161744| wc -l\n"
     ]
    },
    {
     "name": "stderr",
     "output_type": "stream",
     "text": [
      "Read 1 spots for SRR7161744\n",
      "Written 1 spots for SRR7161744\n"
     ]
    },
    {
     "name": "stdout",
     "output_type": "stream",
     "text": [
      "8\n",
      "\n",
      "fastq-dump -X 1 -Z --split-spot SRR7161848| wc -l\n"
     ]
    },
    {
     "name": "stderr",
     "output_type": "stream",
     "text": [
      "Read 1 spots for SRR7161848\n",
      "Written 1 spots for SRR7161848\n"
     ]
    },
    {
     "name": "stdout",
     "output_type": "stream",
     "text": [
      "8\n",
      "\n",
      "fastq-dump -X 1 -Z --split-spot SRR7161856| wc -l\n"
     ]
    },
    {
     "name": "stderr",
     "output_type": "stream",
     "text": [
      "Read 1 spots for SRR7161856\n",
      "Written 1 spots for SRR7161856\n"
     ]
    },
    {
     "name": "stdout",
     "output_type": "stream",
     "text": [
      "8\n",
      "\n",
      "fastq-dump -X 1 -Z --split-spot SRR7161864| wc -l\n"
     ]
    },
    {
     "name": "stderr",
     "output_type": "stream",
     "text": [
      "Read 1 spots for SRR7161864\n",
      "Written 1 spots for SRR7161864\n"
     ]
    },
    {
     "name": "stdout",
     "output_type": "stream",
     "text": [
      "8\n",
      "\n",
      "fastq-dump -X 1 -Z --split-spot SRR7161872| wc -l\n"
     ]
    },
    {
     "name": "stderr",
     "output_type": "stream",
     "text": [
      "Read 1 spots for SRR7161872\n",
      "Written 1 spots for SRR7161872\n"
     ]
    },
    {
     "name": "stdout",
     "output_type": "stream",
     "text": [
      "8\n",
      "\n",
      "fastq-dump -X 1 -Z --split-spot SRR7161880| wc -l\n"
     ]
    },
    {
     "name": "stderr",
     "output_type": "stream",
     "text": [
      "Read 1 spots for SRR7161880\n",
      "Written 1 spots for SRR7161880\n"
     ]
    },
    {
     "name": "stdout",
     "output_type": "stream",
     "text": [
      "8\n",
      "\n",
      "fastq-dump -X 1 -Z --split-spot SRR7161888| wc -l\n"
     ]
    },
    {
     "name": "stderr",
     "output_type": "stream",
     "text": [
      "Read 1 spots for SRR7161888\n",
      "Written 1 spots for SRR7161888\n"
     ]
    },
    {
     "name": "stdout",
     "output_type": "stream",
     "text": [
      "8\n",
      "\n",
      "fastq-dump -X 1 -Z --split-spot SRR7161896| wc -l\n"
     ]
    },
    {
     "name": "stderr",
     "output_type": "stream",
     "text": [
      "Read 1 spots for SRR7161896\n",
      "Written 1 spots for SRR7161896\n"
     ]
    },
    {
     "name": "stdout",
     "output_type": "stream",
     "text": [
      "8\n",
      "\n",
      "fastq-dump -X 1 -Z --split-spot SRR7161904| wc -l\n"
     ]
    },
    {
     "name": "stderr",
     "output_type": "stream",
     "text": [
      "Read 1 spots for SRR7161904\n",
      "Written 1 spots for SRR7161904\n"
     ]
    },
    {
     "name": "stdout",
     "output_type": "stream",
     "text": [
      "8\n",
      "\n",
      "fastq-dump -X 1 -Z --split-spot SRR7161912| wc -l\n"
     ]
    },
    {
     "name": "stderr",
     "output_type": "stream",
     "text": [
      "Read 1 spots for SRR7161912\n",
      "Written 1 spots for SRR7161912\n"
     ]
    },
    {
     "name": "stdout",
     "output_type": "stream",
     "text": [
      "8\n",
      "\n",
      "fastq-dump -X 1 -Z --split-spot SRR7161920| wc -l\n"
     ]
    },
    {
     "name": "stderr",
     "output_type": "stream",
     "text": [
      "Read 1 spots for SRR7161920\n",
      "Written 1 spots for SRR7161920\n"
     ]
    },
    {
     "name": "stdout",
     "output_type": "stream",
     "text": [
      "8\n",
      "\n",
      "fastq-dump -X 1 -Z --split-spot SRR7161928| wc -l\n"
     ]
    },
    {
     "name": "stderr",
     "output_type": "stream",
     "text": [
      "Read 1 spots for SRR7161928\n",
      "Written 1 spots for SRR7161928\n"
     ]
    },
    {
     "name": "stdout",
     "output_type": "stream",
     "text": [
      "8\n",
      "\n",
      "fastq-dump -X 1 -Z --split-spot SRR7161936| wc -l\n"
     ]
    },
    {
     "name": "stderr",
     "output_type": "stream",
     "text": [
      "Read 1 spots for SRR7161936\n",
      "Written 1 spots for SRR7161936\n"
     ]
    },
    {
     "name": "stdout",
     "output_type": "stream",
     "text": [
      "8\n",
      "\n",
      "fastq-dump -X 1 -Z --split-spot SRR10573586| wc -l\n"
     ]
    },
    {
     "name": "stderr",
     "output_type": "stream",
     "text": [
      "Rejected 1 READS because READLEN < 1\n",
      "Read 1 spots for SRR10573586\n",
      "Written 1 spots for SRR10573586\n"
     ]
    },
    {
     "name": "stdout",
     "output_type": "stream",
     "text": [
      "4\n",
      "\n",
      "fastq-dump -X 1 -Z --split-spot SRR10573847| wc -l\n"
     ]
    },
    {
     "name": "stderr",
     "output_type": "stream",
     "text": [
      "Rejected 1 READS because READLEN < 1\n",
      "Read 1 spots for SRR10573847\n",
      "Written 1 spots for SRR10573847\n"
     ]
    },
    {
     "name": "stdout",
     "output_type": "stream",
     "text": [
      "4\n",
      "\n",
      "fastq-dump -X 1 -Z --split-spot SRR10573830| wc -l\n"
     ]
    },
    {
     "name": "stderr",
     "output_type": "stream",
     "text": [
      "Rejected 1 READS because READLEN < 1\n",
      "Read 1 spots for SRR10573830\n",
      "Written 1 spots for SRR10573830\n"
     ]
    },
    {
     "name": "stdout",
     "output_type": "stream",
     "text": [
      "4\n",
      "\n",
      "fastq-dump -X 1 -Z --split-spot SRR10573813| wc -l\n"
     ]
    },
    {
     "name": "stderr",
     "output_type": "stream",
     "text": [
      "Rejected 1 READS because READLEN < 1\n",
      "Read 1 spots for SRR10573813\n",
      "Written 1 spots for SRR10573813\n"
     ]
    },
    {
     "name": "stdout",
     "output_type": "stream",
     "text": [
      "4\n",
      "\n",
      "fastq-dump -X 1 -Z --split-spot SRR10573553| wc -l\n"
     ]
    },
    {
     "name": "stderr",
     "output_type": "stream",
     "text": [
      "Rejected 1 READS because READLEN < 1\n",
      "Read 1 spots for SRR10573553\n",
      "Written 1 spots for SRR10573553\n"
     ]
    },
    {
     "name": "stdout",
     "output_type": "stream",
     "text": [
      "4\n",
      "\n",
      "fastq-dump -X 1 -Z --split-spot SRR10573569| wc -l\n"
     ]
    },
    {
     "name": "stderr",
     "output_type": "stream",
     "text": [
      "Rejected 1 READS because READLEN < 1\n",
      "Read 1 spots for SRR10573569\n",
      "Written 1 spots for SRR10573569\n"
     ]
    },
    {
     "name": "stdout",
     "output_type": "stream",
     "text": [
      "4\n",
      "\n",
      "fastq-dump -X 1 -Z --split-spot SRR11216559| wc -l\n"
     ]
    },
    {
     "name": "stderr",
     "output_type": "stream",
     "text": [
      "Read 1 spots for SRR11216559\n",
      "Written 1 spots for SRR11216559\n"
     ]
    },
    {
     "name": "stdout",
     "output_type": "stream",
     "text": [
      "8\n",
      "\n",
      "fastq-dump -X 1 -Z --split-spot SRR11216560| wc -l\n"
     ]
    },
    {
     "name": "stderr",
     "output_type": "stream",
     "text": [
      "Read 1 spots for SRR11216560\n",
      "Written 1 spots for SRR11216560\n"
     ]
    },
    {
     "name": "stdout",
     "output_type": "stream",
     "text": [
      "8\n",
      "\n",
      "fastq-dump -X 1 -Z --split-spot SRR11216561| wc -l\n"
     ]
    },
    {
     "name": "stderr",
     "output_type": "stream",
     "text": [
      "Read 1 spots for SRR11216561\n",
      "Written 1 spots for SRR11216561\n"
     ]
    },
    {
     "name": "stdout",
     "output_type": "stream",
     "text": [
      "8\n",
      "\n",
      "fastq-dump -X 1 -Z --split-spot SRR10025171| wc -l\n"
     ]
    },
    {
     "name": "stderr",
     "output_type": "stream",
     "text": [
      "Read 1 spots for SRR10025171\n",
      "Written 1 spots for SRR10025171\n"
     ]
    },
    {
     "name": "stdout",
     "output_type": "stream",
     "text": [
      "8\n",
      "\n",
      "fastq-dump -X 1 -Z --split-spot SRR10025172| wc -l\n"
     ]
    },
    {
     "name": "stderr",
     "output_type": "stream",
     "text": [
      "Read 1 spots for SRR10025172\n",
      "Written 1 spots for SRR10025172\n"
     ]
    },
    {
     "name": "stdout",
     "output_type": "stream",
     "text": [
      "8\n",
      "\n",
      "fastq-dump -X 1 -Z --split-spot SRR10025173| wc -l\n"
     ]
    },
    {
     "name": "stderr",
     "output_type": "stream",
     "text": [
      "Read 1 spots for SRR10025173\n",
      "Written 1 spots for SRR10025173\n"
     ]
    },
    {
     "name": "stdout",
     "output_type": "stream",
     "text": [
      "8\n",
      "\n",
      "fastq-dump -X 1 -Z --split-spot SRR2297461| wc -l\n"
     ]
    },
    {
     "name": "stderr",
     "output_type": "stream",
     "text": [
      "Read 1 spots for SRR2297461\n",
      "Written 1 spots for SRR2297461\n"
     ]
    },
    {
     "name": "stdout",
     "output_type": "stream",
     "text": [
      "4\n",
      "\n",
      "fastq-dump -X 1 -Z --split-spot SRR2297462| wc -l\n"
     ]
    },
    {
     "name": "stderr",
     "output_type": "stream",
     "text": [
      "Read 1 spots for SRR2297462\n",
      "Written 1 spots for SRR2297462\n"
     ]
    },
    {
     "name": "stdout",
     "output_type": "stream",
     "text": [
      "4\n",
      "\n",
      "fastq-dump -X 1 -Z --split-spot SRR2297463| wc -l\n"
     ]
    },
    {
     "name": "stderr",
     "output_type": "stream",
     "text": [
      "Read 1 spots for SRR2297463\n",
      "Written 1 spots for SRR2297463\n"
     ]
    },
    {
     "name": "stdout",
     "output_type": "stream",
     "text": [
      "4\n",
      "\n",
      "fastq-dump -X 1 -Z --split-spot SRR2297464| wc -l\n"
     ]
    },
    {
     "name": "stderr",
     "output_type": "stream",
     "text": [
      "Read 1 spots for SRR2297464\n",
      "Written 1 spots for SRR2297464\n"
     ]
    },
    {
     "name": "stdout",
     "output_type": "stream",
     "text": [
      "4\n",
      "\n",
      "fastq-dump -X 1 -Z --split-spot SRR2297465| wc -l\n"
     ]
    },
    {
     "name": "stderr",
     "output_type": "stream",
     "text": [
      "Read 1 spots for SRR2297465\n",
      "Written 1 spots for SRR2297465\n"
     ]
    },
    {
     "name": "stdout",
     "output_type": "stream",
     "text": [
      "4\n",
      "\n",
      "fastq-dump -X 1 -Z --split-spot SRR2297466| wc -l\n"
     ]
    },
    {
     "name": "stderr",
     "output_type": "stream",
     "text": [
      "Read 1 spots for SRR2297466\n",
      "Written 1 spots for SRR2297466\n"
     ]
    },
    {
     "name": "stdout",
     "output_type": "stream",
     "text": [
      "4\n",
      "\n",
      "fastq-dump -X 1 -Z --split-spot SRR2297467| wc -l\n"
     ]
    },
    {
     "name": "stderr",
     "output_type": "stream",
     "text": [
      "Read 1 spots for SRR2297467\n",
      "Written 1 spots for SRR2297467\n"
     ]
    },
    {
     "name": "stdout",
     "output_type": "stream",
     "text": [
      "4\n",
      "\n",
      "fastq-dump -X 1 -Z --split-spot SRR2297468| wc -l\n"
     ]
    },
    {
     "name": "stderr",
     "output_type": "stream",
     "text": [
      "Read 1 spots for SRR2297468\n",
      "Written 1 spots for SRR2297468\n"
     ]
    },
    {
     "name": "stdout",
     "output_type": "stream",
     "text": [
      "4\n",
      "\n",
      "fastq-dump -X 1 -Z --split-spot SRR2297469| wc -l\n"
     ]
    },
    {
     "name": "stderr",
     "output_type": "stream",
     "text": [
      "Read 1 spots for SRR2297469\n",
      "Written 1 spots for SRR2297469\n"
     ]
    },
    {
     "name": "stdout",
     "output_type": "stream",
     "text": [
      "4\n",
      "\n",
      "fastq-dump -X 1 -Z --split-spot SRR2297470| wc -l\n"
     ]
    },
    {
     "name": "stderr",
     "output_type": "stream",
     "text": [
      "Read 1 spots for SRR2297470\n",
      "Written 1 spots for SRR2297470\n"
     ]
    },
    {
     "name": "stdout",
     "output_type": "stream",
     "text": [
      "4\n",
      "\n",
      "fastq-dump -X 1 -Z --split-spot SRR2297471| wc -l\n"
     ]
    },
    {
     "name": "stderr",
     "output_type": "stream",
     "text": [
      "Read 1 spots for SRR2297471\n",
      "Written 1 spots for SRR2297471\n"
     ]
    },
    {
     "name": "stdout",
     "output_type": "stream",
     "text": [
      "4\n",
      "\n",
      "fastq-dump -X 1 -Z --split-spot SRR2297472| wc -l\n"
     ]
    },
    {
     "name": "stderr",
     "output_type": "stream",
     "text": [
      "Read 1 spots for SRR2297472\n",
      "Written 1 spots for SRR2297472\n"
     ]
    },
    {
     "name": "stdout",
     "output_type": "stream",
     "text": [
      "4\n",
      "\n",
      "fastq-dump -X 1 -Z --split-spot SRR2297473| wc -l\n"
     ]
    },
    {
     "name": "stderr",
     "output_type": "stream",
     "text": [
      "Read 1 spots for SRR2297473\n",
      "Written 1 spots for SRR2297473\n"
     ]
    },
    {
     "name": "stdout",
     "output_type": "stream",
     "text": [
      "4\n",
      "\n",
      "fastq-dump -X 1 -Z --split-spot SRR2297474| wc -l\n"
     ]
    },
    {
     "name": "stderr",
     "output_type": "stream",
     "text": [
      "Read 1 spots for SRR2297474\n",
      "Written 1 spots for SRR2297474\n"
     ]
    },
    {
     "name": "stdout",
     "output_type": "stream",
     "text": [
      "4\n",
      "\n",
      "fastq-dump -X 1 -Z --split-spot SRR2297475| wc -l\n"
     ]
    },
    {
     "name": "stderr",
     "output_type": "stream",
     "text": [
      "Read 1 spots for SRR2297475\n",
      "Written 1 spots for SRR2297475\n"
     ]
    },
    {
     "name": "stdout",
     "output_type": "stream",
     "text": [
      "4\n",
      "\n",
      "fastq-dump -X 1 -Z --split-spot SRR2297476| wc -l\n"
     ]
    },
    {
     "name": "stderr",
     "output_type": "stream",
     "text": [
      "Read 1 spots for SRR2297476\n",
      "Written 1 spots for SRR2297476\n"
     ]
    },
    {
     "name": "stdout",
     "output_type": "stream",
     "text": [
      "4\n",
      "\n",
      "fastq-dump -X 1 -Z --split-spot SRR2297477| wc -l\n"
     ]
    },
    {
     "name": "stderr",
     "output_type": "stream",
     "text": [
      "Read 1 spots for SRR2297477\n",
      "Written 1 spots for SRR2297477\n"
     ]
    },
    {
     "name": "stdout",
     "output_type": "stream",
     "text": [
      "4\n",
      "\n",
      "fastq-dump -X 1 -Z --split-spot SRR2297478| wc -l\n"
     ]
    },
    {
     "name": "stderr",
     "output_type": "stream",
     "text": [
      "Read 1 spots for SRR2297478\n",
      "Written 1 spots for SRR2297478\n"
     ]
    },
    {
     "name": "stdout",
     "output_type": "stream",
     "text": [
      "4\n",
      "\n",
      "fastq-dump -X 1 -Z --split-spot SRR2297479| wc -l\n"
     ]
    },
    {
     "name": "stderr",
     "output_type": "stream",
     "text": [
      "Read 1 spots for SRR2297479\n",
      "Written 1 spots for SRR2297479\n"
     ]
    },
    {
     "name": "stdout",
     "output_type": "stream",
     "text": [
      "4\n",
      "\n",
      "fastq-dump -X 1 -Z --split-spot SRR2297480| wc -l\n"
     ]
    },
    {
     "name": "stderr",
     "output_type": "stream",
     "text": [
      "Read 1 spots for SRR2297480\n",
      "Written 1 spots for SRR2297480\n"
     ]
    },
    {
     "name": "stdout",
     "output_type": "stream",
     "text": [
      "4\n",
      "\n",
      "fastq-dump -X 1 -Z --split-spot SRR2297481| wc -l\n"
     ]
    },
    {
     "name": "stderr",
     "output_type": "stream",
     "text": [
      "Read 1 spots for SRR2297481\n",
      "Written 1 spots for SRR2297481\n"
     ]
    },
    {
     "name": "stdout",
     "output_type": "stream",
     "text": [
      "4\n",
      "\n",
      "fastq-dump -X 1 -Z --split-spot SRR2297482| wc -l\n"
     ]
    },
    {
     "name": "stderr",
     "output_type": "stream",
     "text": [
      "Read 1 spots for SRR2297482\n",
      "Written 1 spots for SRR2297482\n"
     ]
    },
    {
     "name": "stdout",
     "output_type": "stream",
     "text": [
      "4\n",
      "\n",
      "fastq-dump -X 1 -Z --split-spot SRR2297483| wc -l\n"
     ]
    },
    {
     "name": "stderr",
     "output_type": "stream",
     "text": [
      "Read 1 spots for SRR2297483\n",
      "Written 1 spots for SRR2297483\n"
     ]
    },
    {
     "name": "stdout",
     "output_type": "stream",
     "text": [
      "4\n",
      "\n",
      "fastq-dump -X 1 -Z --split-spot SRR2297484| wc -l\n"
     ]
    },
    {
     "name": "stderr",
     "output_type": "stream",
     "text": [
      "Read 1 spots for SRR2297484\n",
      "Written 1 spots for SRR2297484\n"
     ]
    },
    {
     "name": "stdout",
     "output_type": "stream",
     "text": [
      "4\n",
      "\n",
      "fastq-dump -X 1 -Z --split-spot SRR2297485| wc -l\n"
     ]
    },
    {
     "name": "stderr",
     "output_type": "stream",
     "text": [
      "Read 1 spots for SRR2297485\n",
      "Written 1 spots for SRR2297485\n"
     ]
    },
    {
     "name": "stdout",
     "output_type": "stream",
     "text": [
      "4\n",
      "\n",
      "fastq-dump -X 1 -Z --split-spot SRR2297486| wc -l\n"
     ]
    },
    {
     "name": "stderr",
     "output_type": "stream",
     "text": [
      "Read 1 spots for SRR2297486\n",
      "Written 1 spots for SRR2297486\n"
     ]
    },
    {
     "name": "stdout",
     "output_type": "stream",
     "text": [
      "4\n",
      "\n",
      "fastq-dump -X 1 -Z --split-spot SRR2297487| wc -l\n"
     ]
    },
    {
     "name": "stderr",
     "output_type": "stream",
     "text": [
      "Read 1 spots for SRR2297487\n",
      "Written 1 spots for SRR2297487\n"
     ]
    },
    {
     "name": "stdout",
     "output_type": "stream",
     "text": [
      "4\n",
      "\n",
      "fastq-dump -X 1 -Z --split-spot SRR2297488| wc -l\n"
     ]
    },
    {
     "name": "stderr",
     "output_type": "stream",
     "text": [
      "Read 1 spots for SRR2297488\n",
      "Written 1 spots for SRR2297488\n"
     ]
    },
    {
     "name": "stdout",
     "output_type": "stream",
     "text": [
      "4\n",
      "\n",
      "fastq-dump -X 1 -Z --split-spot SRR2297489| wc -l\n"
     ]
    },
    {
     "name": "stderr",
     "output_type": "stream",
     "text": [
      "Read 1 spots for SRR2297489\n",
      "Written 1 spots for SRR2297489\n"
     ]
    },
    {
     "name": "stdout",
     "output_type": "stream",
     "text": [
      "4\n",
      "\n",
      "fastq-dump -X 1 -Z --split-spot SRR2297490| wc -l\n"
     ]
    },
    {
     "name": "stderr",
     "output_type": "stream",
     "text": [
      "Read 1 spots for SRR2297490\n",
      "Written 1 spots for SRR2297490\n"
     ]
    },
    {
     "name": "stdout",
     "output_type": "stream",
     "text": [
      "4\n",
      "\n",
      "fastq-dump -X 1 -Z --split-spot SRR2297491| wc -l\n"
     ]
    },
    {
     "name": "stderr",
     "output_type": "stream",
     "text": [
      "Read 1 spots for SRR2297491\n",
      "Written 1 spots for SRR2297491\n"
     ]
    },
    {
     "name": "stdout",
     "output_type": "stream",
     "text": [
      "4\n",
      "\n",
      "fastq-dump -X 1 -Z --split-spot SRR2297492| wc -l\n"
     ]
    },
    {
     "name": "stderr",
     "output_type": "stream",
     "text": [
      "Read 1 spots for SRR2297492\n",
      "Written 1 spots for SRR2297492\n"
     ]
    },
    {
     "name": "stdout",
     "output_type": "stream",
     "text": [
      "4\n",
      "\n",
      "fastq-dump -X 1 -Z --split-spot SRR2297493| wc -l\n"
     ]
    },
    {
     "name": "stderr",
     "output_type": "stream",
     "text": [
      "Read 1 spots for SRR2297493\n",
      "Written 1 spots for SRR2297493\n"
     ]
    },
    {
     "name": "stdout",
     "output_type": "stream",
     "text": [
      "4\n",
      "\n",
      "fastq-dump -X 1 -Z --split-spot SRR2297494| wc -l\n"
     ]
    },
    {
     "name": "stderr",
     "output_type": "stream",
     "text": [
      "Read 1 spots for SRR2297494\n",
      "Written 1 spots for SRR2297494\n"
     ]
    },
    {
     "name": "stdout",
     "output_type": "stream",
     "text": [
      "4\n",
      "\n",
      "fastq-dump -X 1 -Z --split-spot SRR2297495| wc -l\n"
     ]
    },
    {
     "name": "stderr",
     "output_type": "stream",
     "text": [
      "Read 1 spots for SRR2297495\n",
      "Written 1 spots for SRR2297495\n"
     ]
    },
    {
     "name": "stdout",
     "output_type": "stream",
     "text": [
      "4\n",
      "\n",
      "fastq-dump -X 1 -Z --split-spot SRR2297496| wc -l\n"
     ]
    },
    {
     "name": "stderr",
     "output_type": "stream",
     "text": [
      "Read 1 spots for SRR2297496\n",
      "Written 1 spots for SRR2297496\n"
     ]
    },
    {
     "name": "stdout",
     "output_type": "stream",
     "text": [
      "4\n",
      "\n",
      "fastq-dump -X 1 -Z --split-spot SRR2297497| wc -l\n"
     ]
    },
    {
     "name": "stderr",
     "output_type": "stream",
     "text": [
      "Read 1 spots for SRR2297497\n",
      "Written 1 spots for SRR2297497\n"
     ]
    },
    {
     "name": "stdout",
     "output_type": "stream",
     "text": [
      "4\n",
      "\n",
      "fastq-dump -X 1 -Z --split-spot SRR2297498| wc -l\n"
     ]
    },
    {
     "name": "stderr",
     "output_type": "stream",
     "text": [
      "Read 1 spots for SRR2297498\n",
      "Written 1 spots for SRR2297498\n"
     ]
    },
    {
     "name": "stdout",
     "output_type": "stream",
     "text": [
      "4\n",
      "\n",
      "fastq-dump -X 1 -Z --split-spot SRR2297499| wc -l\n"
     ]
    },
    {
     "name": "stderr",
     "output_type": "stream",
     "text": [
      "Read 1 spots for SRR2297499\n",
      "Written 1 spots for SRR2297499\n"
     ]
    },
    {
     "name": "stdout",
     "output_type": "stream",
     "text": [
      "4\n",
      "\n",
      "fastq-dump -X 1 -Z --split-spot SRR2297500| wc -l\n"
     ]
    },
    {
     "name": "stderr",
     "output_type": "stream",
     "text": [
      "Read 1 spots for SRR2297500\n",
      "Written 1 spots for SRR2297500\n"
     ]
    },
    {
     "name": "stdout",
     "output_type": "stream",
     "text": [
      "4\n",
      "\n",
      "fastq-dump -X 1 -Z --split-spot SRR2297501| wc -l\n"
     ]
    },
    {
     "name": "stderr",
     "output_type": "stream",
     "text": [
      "Read 1 spots for SRR2297501\n",
      "Written 1 spots for SRR2297501\n"
     ]
    },
    {
     "name": "stdout",
     "output_type": "stream",
     "text": [
      "4\n",
      "\n",
      "fastq-dump -X 1 -Z --split-spot SRR2297502| wc -l\n"
     ]
    },
    {
     "name": "stderr",
     "output_type": "stream",
     "text": [
      "Read 1 spots for SRR2297502\n",
      "Written 1 spots for SRR2297502\n"
     ]
    },
    {
     "name": "stdout",
     "output_type": "stream",
     "text": [
      "4\n",
      "\n",
      "fastq-dump -X 1 -Z --split-spot SRR2297503| wc -l\n"
     ]
    },
    {
     "name": "stderr",
     "output_type": "stream",
     "text": [
      "Read 1 spots for SRR2297503\n",
      "Written 1 spots for SRR2297503\n"
     ]
    },
    {
     "name": "stdout",
     "output_type": "stream",
     "text": [
      "4\n",
      "\n",
      "fastq-dump -X 1 -Z --split-spot SRR2297504| wc -l\n"
     ]
    },
    {
     "name": "stderr",
     "output_type": "stream",
     "text": [
      "Read 1 spots for SRR2297504\n",
      "Written 1 spots for SRR2297504\n"
     ]
    },
    {
     "name": "stdout",
     "output_type": "stream",
     "text": [
      "4\n",
      "\n",
      "fastq-dump -X 1 -Z --split-spot SRR2297505| wc -l\n"
     ]
    },
    {
     "name": "stderr",
     "output_type": "stream",
     "text": [
      "Read 1 spots for SRR2297505\n",
      "Written 1 spots for SRR2297505\n"
     ]
    },
    {
     "name": "stdout",
     "output_type": "stream",
     "text": [
      "4\n",
      "\n",
      "fastq-dump -X 1 -Z --split-spot SRR2297506| wc -l\n"
     ]
    },
    {
     "name": "stderr",
     "output_type": "stream",
     "text": [
      "Read 1 spots for SRR2297506\n",
      "Written 1 spots for SRR2297506\n"
     ]
    },
    {
     "name": "stdout",
     "output_type": "stream",
     "text": [
      "4\n",
      "\n",
      "fastq-dump -X 1 -Z --split-spot SRR2297507| wc -l\n"
     ]
    },
    {
     "name": "stderr",
     "output_type": "stream",
     "text": [
      "Read 1 spots for SRR2297507\n",
      "Written 1 spots for SRR2297507\n"
     ]
    },
    {
     "name": "stdout",
     "output_type": "stream",
     "text": [
      "4\n",
      "\n",
      "fastq-dump -X 1 -Z --split-spot SRR2297508| wc -l\n"
     ]
    },
    {
     "name": "stderr",
     "output_type": "stream",
     "text": [
      "Read 1 spots for SRR2297508\n",
      "Written 1 spots for SRR2297508\n"
     ]
    },
    {
     "name": "stdout",
     "output_type": "stream",
     "text": [
      "4\n",
      "\n",
      "fastq-dump -X 1 -Z --split-spot SRR2297509| wc -l\n"
     ]
    },
    {
     "name": "stderr",
     "output_type": "stream",
     "text": [
      "Read 1 spots for SRR2297509\n",
      "Written 1 spots for SRR2297509\n"
     ]
    },
    {
     "name": "stdout",
     "output_type": "stream",
     "text": [
      "4\n",
      "\n",
      "fastq-dump -X 1 -Z --split-spot SRR2297510| wc -l\n"
     ]
    },
    {
     "name": "stderr",
     "output_type": "stream",
     "text": [
      "Read 1 spots for SRR2297510\n",
      "Written 1 spots for SRR2297510\n"
     ]
    },
    {
     "name": "stdout",
     "output_type": "stream",
     "text": [
      "4\n",
      "\n",
      "fastq-dump -X 1 -Z --split-spot SRR2297657| wc -l\n"
     ]
    },
    {
     "name": "stderr",
     "output_type": "stream",
     "text": [
      "Read 1 spots for SRR2297657\n",
      "Written 1 spots for SRR2297657\n"
     ]
    },
    {
     "name": "stdout",
     "output_type": "stream",
     "text": [
      "4\n",
      "\n",
      "fastq-dump -X 1 -Z --split-spot SRR2297658| wc -l\n"
     ]
    },
    {
     "name": "stderr",
     "output_type": "stream",
     "text": [
      "Read 1 spots for SRR2297658\n",
      "Written 1 spots for SRR2297658\n"
     ]
    },
    {
     "name": "stdout",
     "output_type": "stream",
     "text": [
      "4\n",
      "\n",
      "fastq-dump -X 1 -Z --split-spot SRR2297659| wc -l\n"
     ]
    },
    {
     "name": "stderr",
     "output_type": "stream",
     "text": [
      "Read 1 spots for SRR2297659\n",
      "Written 1 spots for SRR2297659\n"
     ]
    },
    {
     "name": "stdout",
     "output_type": "stream",
     "text": [
      "4\n",
      "\n",
      "fastq-dump -X 1 -Z --split-spot SRR2297660| wc -l\n"
     ]
    },
    {
     "name": "stderr",
     "output_type": "stream",
     "text": [
      "Read 1 spots for SRR2297660\n",
      "Written 1 spots for SRR2297660\n"
     ]
    },
    {
     "name": "stdout",
     "output_type": "stream",
     "text": [
      "4\n",
      "\n",
      "fastq-dump -X 1 -Z --split-spot SRR2297661| wc -l\n"
     ]
    },
    {
     "name": "stderr",
     "output_type": "stream",
     "text": [
      "Read 1 spots for SRR2297661\n",
      "Written 1 spots for SRR2297661\n"
     ]
    },
    {
     "name": "stdout",
     "output_type": "stream",
     "text": [
      "4\n",
      "\n",
      "fastq-dump -X 1 -Z --split-spot SRR2297662| wc -l\n"
     ]
    },
    {
     "name": "stderr",
     "output_type": "stream",
     "text": [
      "Read 1 spots for SRR2297662\n",
      "Written 1 spots for SRR2297662\n"
     ]
    },
    {
     "name": "stdout",
     "output_type": "stream",
     "text": [
      "4\n",
      "\n",
      "fastq-dump -X 1 -Z --split-spot SRR2297663| wc -l\n"
     ]
    },
    {
     "name": "stderr",
     "output_type": "stream",
     "text": [
      "Read 1 spots for SRR2297663\n",
      "Written 1 spots for SRR2297663\n"
     ]
    },
    {
     "name": "stdout",
     "output_type": "stream",
     "text": [
      "4\n",
      "\n",
      "fastq-dump -X 1 -Z --split-spot SRR2297664| wc -l\n"
     ]
    },
    {
     "name": "stderr",
     "output_type": "stream",
     "text": [
      "Read 1 spots for SRR2297664\n",
      "Written 1 spots for SRR2297664\n"
     ]
    },
    {
     "name": "stdout",
     "output_type": "stream",
     "text": [
      "4\n",
      "\n",
      "fastq-dump -X 1 -Z --split-spot SRR2297665| wc -l\n"
     ]
    },
    {
     "name": "stderr",
     "output_type": "stream",
     "text": [
      "Read 1 spots for SRR2297665\n",
      "Written 1 spots for SRR2297665\n"
     ]
    },
    {
     "name": "stdout",
     "output_type": "stream",
     "text": [
      "4\n",
      "\n",
      "fastq-dump -X 1 -Z --split-spot SRR2297666| wc -l\n"
     ]
    },
    {
     "name": "stderr",
     "output_type": "stream",
     "text": [
      "Read 1 spots for SRR2297666\n",
      "Written 1 spots for SRR2297666\n"
     ]
    },
    {
     "name": "stdout",
     "output_type": "stream",
     "text": [
      "4\n",
      "\n",
      "fastq-dump -X 1 -Z --split-spot SRR2297667| wc -l\n"
     ]
    },
    {
     "name": "stderr",
     "output_type": "stream",
     "text": [
      "Read 1 spots for SRR2297667\n",
      "Written 1 spots for SRR2297667\n"
     ]
    },
    {
     "name": "stdout",
     "output_type": "stream",
     "text": [
      "4\n",
      "\n",
      "fastq-dump -X 1 -Z --split-spot SRR2297668| wc -l\n"
     ]
    },
    {
     "name": "stderr",
     "output_type": "stream",
     "text": [
      "Read 1 spots for SRR2297668\n",
      "Written 1 spots for SRR2297668\n"
     ]
    },
    {
     "name": "stdout",
     "output_type": "stream",
     "text": [
      "4\n",
      "\n",
      "fastq-dump -X 1 -Z --split-spot SRR2297669| wc -l\n"
     ]
    },
    {
     "name": "stderr",
     "output_type": "stream",
     "text": [
      "Read 1 spots for SRR2297669\n",
      "Written 1 spots for SRR2297669\n"
     ]
    },
    {
     "name": "stdout",
     "output_type": "stream",
     "text": [
      "4\n",
      "\n",
      "fastq-dump -X 1 -Z --split-spot SRR2297670| wc -l\n"
     ]
    },
    {
     "name": "stderr",
     "output_type": "stream",
     "text": [
      "Read 1 spots for SRR2297670\n",
      "Written 1 spots for SRR2297670\n"
     ]
    },
    {
     "name": "stdout",
     "output_type": "stream",
     "text": [
      "4\n",
      "\n",
      "fastq-dump -X 1 -Z --split-spot SRR2297671| wc -l\n"
     ]
    },
    {
     "name": "stderr",
     "output_type": "stream",
     "text": [
      "Read 1 spots for SRR2297671\n",
      "Written 1 spots for SRR2297671\n"
     ]
    },
    {
     "name": "stdout",
     "output_type": "stream",
     "text": [
      "4\n",
      "\n",
      "fastq-dump -X 1 -Z --split-spot SRR2297672| wc -l\n"
     ]
    },
    {
     "name": "stderr",
     "output_type": "stream",
     "text": [
      "Read 1 spots for SRR2297672\n",
      "Written 1 spots for SRR2297672\n"
     ]
    },
    {
     "name": "stdout",
     "output_type": "stream",
     "text": [
      "4\n",
      "\n",
      "fastq-dump -X 1 -Z --split-spot SRR2297673| wc -l\n"
     ]
    },
    {
     "name": "stderr",
     "output_type": "stream",
     "text": [
      "Read 1 spots for SRR2297673\n",
      "Written 1 spots for SRR2297673\n"
     ]
    },
    {
     "name": "stdout",
     "output_type": "stream",
     "text": [
      "4\n",
      "\n",
      "fastq-dump -X 1 -Z --split-spot SRR2297674| wc -l\n"
     ]
    },
    {
     "name": "stderr",
     "output_type": "stream",
     "text": [
      "Read 1 spots for SRR2297674\n",
      "Written 1 spots for SRR2297674\n"
     ]
    },
    {
     "name": "stdout",
     "output_type": "stream",
     "text": [
      "4\n",
      "\n",
      "fastq-dump -X 1 -Z --split-spot SRR2297675| wc -l\n"
     ]
    },
    {
     "name": "stderr",
     "output_type": "stream",
     "text": [
      "Read 1 spots for SRR2297675\n",
      "Written 1 spots for SRR2297675\n"
     ]
    },
    {
     "name": "stdout",
     "output_type": "stream",
     "text": [
      "4\n",
      "\n",
      "fastq-dump -X 1 -Z --split-spot SRR2297676| wc -l\n"
     ]
    },
    {
     "name": "stderr",
     "output_type": "stream",
     "text": [
      "Read 1 spots for SRR2297676\n",
      "Written 1 spots for SRR2297676\n"
     ]
    },
    {
     "name": "stdout",
     "output_type": "stream",
     "text": [
      "4\n",
      "\n",
      "fastq-dump -X 1 -Z --split-spot SRR2297677| wc -l\n"
     ]
    },
    {
     "name": "stderr",
     "output_type": "stream",
     "text": [
      "Read 1 spots for SRR2297677\n",
      "Written 1 spots for SRR2297677\n"
     ]
    },
    {
     "name": "stdout",
     "output_type": "stream",
     "text": [
      "4\n",
      "\n",
      "fastq-dump -X 1 -Z --split-spot SRR2297678| wc -l\n"
     ]
    },
    {
     "name": "stderr",
     "output_type": "stream",
     "text": [
      "Read 1 spots for SRR2297678\n",
      "Written 1 spots for SRR2297678\n"
     ]
    },
    {
     "name": "stdout",
     "output_type": "stream",
     "text": [
      "4\n",
      "\n",
      "fastq-dump -X 1 -Z --split-spot SRR2297679| wc -l\n"
     ]
    },
    {
     "name": "stderr",
     "output_type": "stream",
     "text": [
      "Read 1 spots for SRR2297679\n",
      "Written 1 spots for SRR2297679\n"
     ]
    },
    {
     "name": "stdout",
     "output_type": "stream",
     "text": [
      "4\n",
      "\n",
      "fastq-dump -X 1 -Z --split-spot SRR2297680| wc -l\n"
     ]
    },
    {
     "name": "stderr",
     "output_type": "stream",
     "text": [
      "Read 1 spots for SRR2297680\n",
      "Written 1 spots for SRR2297680\n"
     ]
    },
    {
     "name": "stdout",
     "output_type": "stream",
     "text": [
      "4\n",
      "\n",
      "fastq-dump -X 1 -Z --split-spot SRR2297681| wc -l\n"
     ]
    },
    {
     "name": "stderr",
     "output_type": "stream",
     "text": [
      "Read 1 spots for SRR2297681\n",
      "Written 1 spots for SRR2297681\n"
     ]
    },
    {
     "name": "stdout",
     "output_type": "stream",
     "text": [
      "4\n",
      "\n",
      "fastq-dump -X 1 -Z --split-spot SRR2297682| wc -l\n"
     ]
    },
    {
     "name": "stderr",
     "output_type": "stream",
     "text": [
      "Read 1 spots for SRR2297682\n",
      "Written 1 spots for SRR2297682\n"
     ]
    },
    {
     "name": "stdout",
     "output_type": "stream",
     "text": [
      "4\n",
      "\n",
      "fastq-dump -X 1 -Z --split-spot SRR2297683| wc -l\n"
     ]
    },
    {
     "name": "stderr",
     "output_type": "stream",
     "text": [
      "Read 1 spots for SRR2297683\n",
      "Written 1 spots for SRR2297683\n"
     ]
    },
    {
     "name": "stdout",
     "output_type": "stream",
     "text": [
      "4\n",
      "\n",
      "fastq-dump -X 1 -Z --split-spot SRR2297684| wc -l\n"
     ]
    },
    {
     "name": "stderr",
     "output_type": "stream",
     "text": [
      "Read 1 spots for SRR2297684\n",
      "Written 1 spots for SRR2297684\n"
     ]
    },
    {
     "name": "stdout",
     "output_type": "stream",
     "text": [
      "4\n",
      "\n",
      "fastq-dump -X 1 -Z --split-spot SRR2297685| wc -l\n"
     ]
    },
    {
     "name": "stderr",
     "output_type": "stream",
     "text": [
      "Read 1 spots for SRR2297685\n",
      "Written 1 spots for SRR2297685\n"
     ]
    },
    {
     "name": "stdout",
     "output_type": "stream",
     "text": [
      "4\n",
      "\n",
      "fastq-dump -X 1 -Z --split-spot SRR2297686| wc -l\n"
     ]
    },
    {
     "name": "stderr",
     "output_type": "stream",
     "text": [
      "Read 1 spots for SRR2297686\n",
      "Written 1 spots for SRR2297686\n"
     ]
    },
    {
     "name": "stdout",
     "output_type": "stream",
     "text": [
      "4\n",
      "\n",
      "fastq-dump -X 1 -Z --split-spot SRR2297687| wc -l\n"
     ]
    },
    {
     "name": "stderr",
     "output_type": "stream",
     "text": [
      "Read 1 spots for SRR2297687\n",
      "Written 1 spots for SRR2297687\n"
     ]
    },
    {
     "name": "stdout",
     "output_type": "stream",
     "text": [
      "4\n",
      "\n",
      "fastq-dump -X 1 -Z --split-spot SRR2297688| wc -l\n"
     ]
    },
    {
     "name": "stderr",
     "output_type": "stream",
     "text": [
      "Read 1 spots for SRR2297688\n",
      "Written 1 spots for SRR2297688\n"
     ]
    },
    {
     "name": "stdout",
     "output_type": "stream",
     "text": [
      "4\n",
      "\n",
      "fastq-dump -X 1 -Z --split-spot SRR2297689| wc -l\n"
     ]
    },
    {
     "name": "stderr",
     "output_type": "stream",
     "text": [
      "Read 1 spots for SRR2297689\n",
      "Written 1 spots for SRR2297689\n"
     ]
    },
    {
     "name": "stdout",
     "output_type": "stream",
     "text": [
      "4\n",
      "\n",
      "fastq-dump -X 1 -Z --split-spot SRR2297690| wc -l\n"
     ]
    },
    {
     "name": "stderr",
     "output_type": "stream",
     "text": [
      "Read 1 spots for SRR2297690\n",
      "Written 1 spots for SRR2297690\n"
     ]
    },
    {
     "name": "stdout",
     "output_type": "stream",
     "text": [
      "4\n",
      "\n",
      "fastq-dump -X 1 -Z --split-spot SRR2297691| wc -l\n"
     ]
    },
    {
     "name": "stderr",
     "output_type": "stream",
     "text": [
      "Read 1 spots for SRR2297691\n",
      "Written 1 spots for SRR2297691\n"
     ]
    },
    {
     "name": "stdout",
     "output_type": "stream",
     "text": [
      "4\n",
      "\n",
      "fastq-dump -X 1 -Z --split-spot SRR2297692| wc -l\n"
     ]
    },
    {
     "name": "stderr",
     "output_type": "stream",
     "text": [
      "Read 1 spots for SRR2297692\n",
      "Written 1 spots for SRR2297692\n"
     ]
    },
    {
     "name": "stdout",
     "output_type": "stream",
     "text": [
      "4\n",
      "\n",
      "fastq-dump -X 1 -Z --split-spot SRR2297693| wc -l\n"
     ]
    },
    {
     "name": "stderr",
     "output_type": "stream",
     "text": [
      "Read 1 spots for SRR2297693\n",
      "Written 1 spots for SRR2297693\n"
     ]
    },
    {
     "name": "stdout",
     "output_type": "stream",
     "text": [
      "4\n",
      "\n",
      "fastq-dump -X 1 -Z --split-spot SRR2297694| wc -l\n"
     ]
    },
    {
     "name": "stderr",
     "output_type": "stream",
     "text": [
      "Read 1 spots for SRR2297694\n",
      "Written 1 spots for SRR2297694\n"
     ]
    },
    {
     "name": "stdout",
     "output_type": "stream",
     "text": [
      "4\n",
      "\n",
      "fastq-dump -X 1 -Z --split-spot SRR2297695| wc -l\n"
     ]
    },
    {
     "name": "stderr",
     "output_type": "stream",
     "text": [
      "Read 1 spots for SRR2297695\n",
      "Written 1 spots for SRR2297695\n"
     ]
    },
    {
     "name": "stdout",
     "output_type": "stream",
     "text": [
      "4\n",
      "\n",
      "fastq-dump -X 1 -Z --split-spot SRR2297696| wc -l\n"
     ]
    },
    {
     "name": "stderr",
     "output_type": "stream",
     "text": [
      "Read 1 spots for SRR2297696\n",
      "Written 1 spots for SRR2297696\n"
     ]
    },
    {
     "name": "stdout",
     "output_type": "stream",
     "text": [
      "4\n",
      "\n",
      "fastq-dump -X 1 -Z --split-spot SRR2297697| wc -l\n"
     ]
    },
    {
     "name": "stderr",
     "output_type": "stream",
     "text": [
      "Read 1 spots for SRR2297697\n",
      "Written 1 spots for SRR2297697\n"
     ]
    },
    {
     "name": "stdout",
     "output_type": "stream",
     "text": [
      "4\n",
      "\n",
      "fastq-dump -X 1 -Z --split-spot SRR2297698| wc -l\n"
     ]
    },
    {
     "name": "stderr",
     "output_type": "stream",
     "text": [
      "Read 1 spots for SRR2297698\n",
      "Written 1 spots for SRR2297698\n"
     ]
    },
    {
     "name": "stdout",
     "output_type": "stream",
     "text": [
      "4\n",
      "\n",
      "fastq-dump -X 1 -Z --split-spot SRR2297699| wc -l\n"
     ]
    },
    {
     "name": "stderr",
     "output_type": "stream",
     "text": [
      "Read 1 spots for SRR2297699\n",
      "Written 1 spots for SRR2297699\n"
     ]
    },
    {
     "name": "stdout",
     "output_type": "stream",
     "text": [
      "4\n",
      "\n",
      "fastq-dump -X 1 -Z --split-spot SRR2297700| wc -l\n"
     ]
    },
    {
     "name": "stderr",
     "output_type": "stream",
     "text": [
      "Read 1 spots for SRR2297700\n",
      "Written 1 spots for SRR2297700\n"
     ]
    },
    {
     "name": "stdout",
     "output_type": "stream",
     "text": [
      "4\n",
      "\n",
      "fastq-dump -X 1 -Z --split-spot SRR2297701| wc -l\n"
     ]
    },
    {
     "name": "stderr",
     "output_type": "stream",
     "text": [
      "Read 1 spots for SRR2297701\n",
      "Written 1 spots for SRR2297701\n"
     ]
    },
    {
     "name": "stdout",
     "output_type": "stream",
     "text": [
      "4\n",
      "\n",
      "fastq-dump -X 1 -Z --split-spot SRR2297702| wc -l\n"
     ]
    },
    {
     "name": "stderr",
     "output_type": "stream",
     "text": [
      "Read 1 spots for SRR2297702\n",
      "Written 1 spots for SRR2297702\n"
     ]
    },
    {
     "name": "stdout",
     "output_type": "stream",
     "text": [
      "4\n",
      "\n",
      "fastq-dump -X 1 -Z --split-spot SRR3657797| wc -l\n"
     ]
    },
    {
     "name": "stderr",
     "output_type": "stream",
     "text": [
      "Read 1 spots for SRR3657797\n",
      "Written 1 spots for SRR3657797\n"
     ]
    },
    {
     "name": "stdout",
     "output_type": "stream",
     "text": [
      "8\n",
      "\n",
      "fastq-dump -X 1 -Z --split-spot SRR3657798| wc -l\n"
     ]
    },
    {
     "name": "stderr",
     "output_type": "stream",
     "text": [
      "Read 1 spots for SRR3657798\n",
      "Written 1 spots for SRR3657798\n"
     ]
    },
    {
     "name": "stdout",
     "output_type": "stream",
     "text": [
      "8\n",
      "\n",
      "fastq-dump -X 1 -Z --split-spot SRR3657799| wc -l\n"
     ]
    },
    {
     "name": "stderr",
     "output_type": "stream",
     "text": [
      "Read 1 spots for SRR3657799\n",
      "Written 1 spots for SRR3657799\n"
     ]
    },
    {
     "name": "stdout",
     "output_type": "stream",
     "text": [
      "8\n",
      "\n",
      "fastq-dump -X 1 -Z --split-spot SRR11216562| wc -l\n"
     ]
    },
    {
     "name": "stderr",
     "output_type": "stream",
     "text": [
      "Read 1 spots for SRR11216562\n",
      "Written 1 spots for SRR11216562\n"
     ]
    },
    {
     "name": "stdout",
     "output_type": "stream",
     "text": [
      "8\n",
      "\n",
      "fastq-dump -X 1 -Z --split-spot SRR11216563| wc -l\n"
     ]
    },
    {
     "name": "stderr",
     "output_type": "stream",
     "text": [
      "Read 1 spots for SRR11216563\n",
      "Written 1 spots for SRR11216563\n"
     ]
    },
    {
     "name": "stdout",
     "output_type": "stream",
     "text": [
      "8\n",
      "\n",
      "fastq-dump -X 1 -Z --split-spot SRR11216564| wc -l\n"
     ]
    },
    {
     "name": "stderr",
     "output_type": "stream",
     "text": [
      "Read 1 spots for SRR11216564\n",
      "Written 1 spots for SRR11216564\n"
     ]
    },
    {
     "name": "stdout",
     "output_type": "stream",
     "text": [
      "8\n",
      "\n",
      "fastq-dump -X 1 -Z --split-spot SRR10573763| wc -l\n"
     ]
    },
    {
     "name": "stderr",
     "output_type": "stream",
     "text": [
      "Rejected 1 READS because READLEN < 1\n",
      "Read 1 spots for SRR10573763\n",
      "Written 1 spots for SRR10573763\n"
     ]
    },
    {
     "name": "stdout",
     "output_type": "stream",
     "text": [
      "4\n",
      "\n",
      "fastq-dump -X 1 -Z --split-spot SRR10573779| wc -l\n"
     ]
    },
    {
     "name": "stderr",
     "output_type": "stream",
     "text": [
      "Rejected 1 READS because READLEN < 1\n",
      "Read 1 spots for SRR10573779\n",
      "Written 1 spots for SRR10573779\n"
     ]
    },
    {
     "name": "stdout",
     "output_type": "stream",
     "text": [
      "4\n",
      "\n",
      "fastq-dump -X 1 -Z --split-spot SRR10573796| wc -l\n"
     ]
    },
    {
     "name": "stderr",
     "output_type": "stream",
     "text": [
      "Rejected 1 READS because READLEN < 1\n",
      "Read 1 spots for SRR10573796\n",
      "Written 1 spots for SRR10573796\n"
     ]
    },
    {
     "name": "stdout",
     "output_type": "stream",
     "text": [
      "4\n",
      "\n",
      "fastq-dump -X 1 -Z --split-spot SRR10574011| wc -l\n"
     ]
    },
    {
     "name": "stderr",
     "output_type": "stream",
     "text": [
      "Rejected 1 READS because READLEN < 1\n",
      "Read 1 spots for SRR10574011\n",
      "Written 1 spots for SRR10574011\n"
     ]
    },
    {
     "name": "stdout",
     "output_type": "stream",
     "text": [
      "4\n",
      "\n",
      "fastq-dump -X 1 -Z --split-spot SRR10573519| wc -l\n"
     ]
    },
    {
     "name": "stderr",
     "output_type": "stream",
     "text": [
      "Rejected 1 READS because READLEN < 1\n",
      "Read 1 spots for SRR10573519\n",
      "Written 1 spots for SRR10573519\n"
     ]
    },
    {
     "name": "stdout",
     "output_type": "stream",
     "text": [
      "4\n",
      "\n",
      "fastq-dump -X 1 -Z --split-spot SRR10573536| wc -l\n"
     ]
    },
    {
     "name": "stderr",
     "output_type": "stream",
     "text": [
      "Rejected 1 READS because READLEN < 1\n",
      "Read 1 spots for SRR10573536\n",
      "Written 1 spots for SRR10573536\n"
     ]
    },
    {
     "name": "stdout",
     "output_type": "stream",
     "text": [
      "4\n",
      "\n",
      "fastq-dump -X 1 -Z --split-spot SRR6714708| wc -l\n"
     ]
    },
    {
     "name": "stderr",
     "output_type": "stream",
     "text": [
      "Read 1 spots for SRR6714708\n",
      "Written 1 spots for SRR6714708\n"
     ]
    },
    {
     "name": "stdout",
     "output_type": "stream",
     "text": [
      "8\n",
      "\n",
      "fastq-dump -X 1 -Z --split-spot SRR6714709| wc -l\n"
     ]
    },
    {
     "name": "stderr",
     "output_type": "stream",
     "text": [
      "Read 1 spots for SRR6714709\n",
      "Written 1 spots for SRR6714709\n"
     ]
    },
    {
     "name": "stdout",
     "output_type": "stream",
     "text": [
      "8\n",
      "\n",
      "fastq-dump -X 1 -Z --split-spot SRR6714710| wc -l\n"
     ]
    },
    {
     "name": "stderr",
     "output_type": "stream",
     "text": [
      "Read 1 spots for SRR6714710\n",
      "Written 1 spots for SRR6714710\n"
     ]
    },
    {
     "name": "stdout",
     "output_type": "stream",
     "text": [
      "8\n",
      "\n",
      "fastq-dump -X 1 -Z --split-spot SRR6714711| wc -l\n"
     ]
    },
    {
     "name": "stderr",
     "output_type": "stream",
     "text": [
      "Read 1 spots for SRR6714711\n",
      "Written 1 spots for SRR6714711\n"
     ]
    },
    {
     "name": "stdout",
     "output_type": "stream",
     "text": [
      "8\n",
      "\n",
      "fastq-dump -X 1 -Z --split-spot SRR1794786| wc -l\n"
     ]
    },
    {
     "name": "stderr",
     "output_type": "stream",
     "text": [
      "Read 1 spots for SRR1794786\n",
      "Written 1 spots for SRR1794786\n"
     ]
    },
    {
     "name": "stdout",
     "output_type": "stream",
     "text": [
      "8\n",
      "\n",
      "fastq-dump -X 1 -Z --split-spot SRR1794787| wc -l\n"
     ]
    },
    {
     "name": "stderr",
     "output_type": "stream",
     "text": [
      "Read 1 spots for SRR1794787\n",
      "Written 1 spots for SRR1794787\n"
     ]
    },
    {
     "name": "stdout",
     "output_type": "stream",
     "text": [
      "8\n",
      "\n",
      "fastq-dump -X 1 -Z --split-spot SRR1794788| wc -l\n"
     ]
    },
    {
     "name": "stderr",
     "output_type": "stream",
     "text": [
      "Read 1 spots for SRR1794788\n",
      "Written 1 spots for SRR1794788\n"
     ]
    },
    {
     "name": "stdout",
     "output_type": "stream",
     "text": [
      "8\n",
      "\n",
      "fastq-dump -X 1 -Z --split-spot SRR1794789| wc -l\n"
     ]
    },
    {
     "name": "stderr",
     "output_type": "stream",
     "text": [
      "Read 1 spots for SRR1794789\n",
      "Written 1 spots for SRR1794789\n"
     ]
    },
    {
     "name": "stdout",
     "output_type": "stream",
     "text": [
      "8\n",
      "\n",
      "fastq-dump -X 1 -Z --split-spot SRR1794790| wc -l\n"
     ]
    },
    {
     "name": "stderr",
     "output_type": "stream",
     "text": [
      "Read 1 spots for SRR1794790\n",
      "Written 1 spots for SRR1794790\n"
     ]
    },
    {
     "name": "stdout",
     "output_type": "stream",
     "text": [
      "8\n",
      "\n",
      "fastq-dump -X 1 -Z --split-spot SRR1794791| wc -l\n"
     ]
    },
    {
     "name": "stderr",
     "output_type": "stream",
     "text": [
      "Read 1 spots for SRR1794791\n",
      "Written 1 spots for SRR1794791\n"
     ]
    },
    {
     "name": "stdout",
     "output_type": "stream",
     "text": [
      "8\n",
      "\n",
      "fastq-dump -X 1 -Z --split-spot SRR1794792| wc -l\n"
     ]
    },
    {
     "name": "stderr",
     "output_type": "stream",
     "text": [
      "Read 1 spots for SRR1794792\n",
      "Written 1 spots for SRR1794792\n"
     ]
    },
    {
     "name": "stdout",
     "output_type": "stream",
     "text": [
      "8\n",
      "\n",
      "fastq-dump -X 1 -Z --split-spot SRR1794793| wc -l\n"
     ]
    },
    {
     "name": "stderr",
     "output_type": "stream",
     "text": [
      "Read 1 spots for SRR1794793\n",
      "Written 1 spots for SRR1794793\n"
     ]
    },
    {
     "name": "stdout",
     "output_type": "stream",
     "text": [
      "8\n",
      "\n",
      "fastq-dump -X 1 -Z --split-spot SRR11216553| wc -l\n"
     ]
    },
    {
     "name": "stderr",
     "output_type": "stream",
     "text": [
      "Read 1 spots for SRR11216553\n",
      "Written 1 spots for SRR11216553\n"
     ]
    },
    {
     "name": "stdout",
     "output_type": "stream",
     "text": [
      "8\n",
      "\n",
      "fastq-dump -X 1 -Z --split-spot SRR11216554| wc -l\n"
     ]
    },
    {
     "name": "stderr",
     "output_type": "stream",
     "text": [
      "Read 1 spots for SRR11216554\n",
      "Written 1 spots for SRR11216554\n"
     ]
    },
    {
     "name": "stdout",
     "output_type": "stream",
     "text": [
      "8\n",
      "\n",
      "fastq-dump -X 1 -Z --split-spot SRR11216555| wc -l\n"
     ]
    },
    {
     "name": "stderr",
     "output_type": "stream",
     "text": [
      "Read 1 spots for SRR11216555\n",
      "Written 1 spots for SRR11216555\n"
     ]
    },
    {
     "name": "stdout",
     "output_type": "stream",
     "text": [
      "8\n",
      "\n",
      "fastq-dump -X 1 -Z --split-spot SRR10025177| wc -l\n"
     ]
    },
    {
     "name": "stderr",
     "output_type": "stream",
     "text": [
      "Read 1 spots for SRR10025177\n",
      "Written 1 spots for SRR10025177\n"
     ]
    },
    {
     "name": "stdout",
     "output_type": "stream",
     "text": [
      "8\n",
      "\n",
      "fastq-dump -X 1 -Z --split-spot SRR10025178| wc -l\n"
     ]
    },
    {
     "name": "stderr",
     "output_type": "stream",
     "text": [
      "Read 1 spots for SRR10025178\n",
      "Written 1 spots for SRR10025178\n"
     ]
    },
    {
     "name": "stdout",
     "output_type": "stream",
     "text": [
      "8\n",
      "\n",
      "fastq-dump -X 1 -Z --split-spot SRR10025179| wc -l\n"
     ]
    },
    {
     "name": "stderr",
     "output_type": "stream",
     "text": [
      "Read 1 spots for SRR10025179\n",
      "Written 1 spots for SRR10025179\n"
     ]
    },
    {
     "name": "stdout",
     "output_type": "stream",
     "text": [
      "8\n",
      "\n",
      "fastq-dump -X 1 -Z --split-spot SRR9119213| wc -l\n"
     ]
    },
    {
     "name": "stderr",
     "output_type": "stream",
     "text": [
      "Read 1 spots for SRR9119213\n",
      "Written 1 spots for SRR9119213\n"
     ]
    },
    {
     "name": "stdout",
     "output_type": "stream",
     "text": [
      "8\n",
      "\n",
      "fastq-dump -X 1 -Z --split-spot SRR9119214| wc -l\n"
     ]
    },
    {
     "name": "stderr",
     "output_type": "stream",
     "text": [
      "Read 1 spots for SRR9119214\n",
      "Written 1 spots for SRR9119214\n"
     ]
    },
    {
     "name": "stdout",
     "output_type": "stream",
     "text": [
      "8\n",
      "\n",
      "fastq-dump -X 1 -Z --split-spot SRR9119215| wc -l\n"
     ]
    },
    {
     "name": "stderr",
     "output_type": "stream",
     "text": [
      "Read 1 spots for SRR9119215\n",
      "Written 1 spots for SRR9119215\n"
     ]
    },
    {
     "name": "stdout",
     "output_type": "stream",
     "text": [
      "8\n",
      "\n",
      "fastq-dump -X 1 -Z --split-spot SRR9119216| wc -l\n"
     ]
    },
    {
     "name": "stderr",
     "output_type": "stream",
     "text": [
      "Read 1 spots for SRR9119216\n",
      "Written 1 spots for SRR9119216\n"
     ]
    },
    {
     "name": "stdout",
     "output_type": "stream",
     "text": [
      "8\n",
      "\n",
      "fastq-dump -X 1 -Z --split-spot SRR9119217| wc -l\n"
     ]
    },
    {
     "name": "stderr",
     "output_type": "stream",
     "text": [
      "Read 1 spots for SRR9119217\n",
      "Written 1 spots for SRR9119217\n"
     ]
    },
    {
     "name": "stdout",
     "output_type": "stream",
     "text": [
      "8\n",
      "\n",
      "fastq-dump -X 1 -Z --split-spot SRR9119218| wc -l\n"
     ]
    },
    {
     "name": "stderr",
     "output_type": "stream",
     "text": [
      "Read 1 spots for SRR9119218\n",
      "Written 1 spots for SRR9119218\n"
     ]
    },
    {
     "name": "stdout",
     "output_type": "stream",
     "text": [
      "8\n",
      "\n",
      "fastq-dump -X 1 -Z --split-spot SRR2153299| wc -l\n"
     ]
    },
    {
     "name": "stderr",
     "output_type": "stream",
     "text": [
      "Read 1 spots for SRR2153299\n",
      "Written 1 spots for SRR2153299\n"
     ]
    },
    {
     "name": "stdout",
     "output_type": "stream",
     "text": [
      "4\n",
      "\n",
      "fastq-dump -X 1 -Z --split-spot SRR2153308| wc -l\n"
     ]
    },
    {
     "name": "stderr",
     "output_type": "stream",
     "text": [
      "Read 1 spots for SRR2153308\n",
      "Written 1 spots for SRR2153308\n"
     ]
    },
    {
     "name": "stdout",
     "output_type": "stream",
     "text": [
      "4\n",
      "\n",
      "fastq-dump -X 1 -Z --split-spot SRR2153316| wc -l\n"
     ]
    },
    {
     "name": "stderr",
     "output_type": "stream",
     "text": [
      "Read 1 spots for SRR2153316\n",
      "Written 1 spots for SRR2153316\n"
     ]
    },
    {
     "name": "stdout",
     "output_type": "stream",
     "text": [
      "4\n",
      "\n",
      "fastq-dump -X 1 -Z --split-spot SRR4043598| wc -l\n"
     ]
    },
    {
     "name": "stderr",
     "output_type": "stream",
     "text": [
      "Read 1 spots for SRR4043598\n",
      "Written 1 spots for SRR4043598\n"
     ]
    },
    {
     "name": "stdout",
     "output_type": "stream",
     "text": [
      "8\n",
      "\n",
      "fastq-dump -X 1 -Z --split-spot SRR4043599| wc -l\n"
     ]
    },
    {
     "name": "stderr",
     "output_type": "stream",
     "text": [
      "Read 1 spots for SRR4043599\n",
      "Written 1 spots for SRR4043599\n"
     ]
    },
    {
     "name": "stdout",
     "output_type": "stream",
     "text": [
      "8\n",
      "\n",
      "fastq-dump -X 1 -Z --split-spot SRR4043600| wc -l\n"
     ]
    },
    {
     "name": "stderr",
     "output_type": "stream",
     "text": [
      "Read 1 spots for SRR4043600\n",
      "Written 1 spots for SRR4043600\n"
     ]
    },
    {
     "name": "stdout",
     "output_type": "stream",
     "text": [
      "4\n",
      "\n",
      "fastq-dump -X 1 -Z --split-spot SRR4043647| wc -l\n"
     ]
    },
    {
     "name": "stderr",
     "output_type": "stream",
     "text": [
      "Read 1 spots for SRR4043647\n",
      "Written 1 spots for SRR4043647\n"
     ]
    },
    {
     "name": "stdout",
     "output_type": "stream",
     "text": [
      "8\n",
      "\n",
      "fastq-dump -X 1 -Z --split-spot SRR12088541| wc -l\n"
     ]
    },
    {
     "name": "stderr",
     "output_type": "stream",
     "text": [
      "Rejected 1 READS because READLEN < 1\n",
      "Read 1 spots for SRR12088541\n",
      "Written 1 spots for SRR12088541\n"
     ]
    },
    {
     "name": "stdout",
     "output_type": "stream",
     "text": [
      "4\n",
      "\n",
      "fastq-dump -X 1 -Z --split-spot SRR12088543| wc -l\n"
     ]
    },
    {
     "name": "stderr",
     "output_type": "stream",
     "text": [
      "Rejected 1 READS because READLEN < 1\n",
      "Read 1 spots for SRR12088543\n",
      "Written 1 spots for SRR12088543\n"
     ]
    },
    {
     "name": "stdout",
     "output_type": "stream",
     "text": [
      "4\n",
      "\n",
      "fastq-dump -X 1 -Z --split-spot SRR12088545| wc -l\n"
     ]
    },
    {
     "name": "stderr",
     "output_type": "stream",
     "text": [
      "Rejected 1 READS because READLEN < 1\n",
      "Read 1 spots for SRR12088545\n",
      "Written 1 spots for SRR12088545\n"
     ]
    },
    {
     "name": "stdout",
     "output_type": "stream",
     "text": [
      "4\n",
      "\n",
      "fastq-dump -X 1 -Z --split-spot SRR12088547| wc -l\n"
     ]
    },
    {
     "name": "stderr",
     "output_type": "stream",
     "text": [
      "Rejected 1 READS because READLEN < 1\n",
      "Read 1 spots for SRR12088547\n",
      "Written 1 spots for SRR12088547\n"
     ]
    },
    {
     "name": "stdout",
     "output_type": "stream",
     "text": [
      "4\n",
      "\n",
      "fastq-dump -X 1 -Z --split-spot SRR5850782| wc -l\n"
     ]
    },
    {
     "name": "stderr",
     "output_type": "stream",
     "text": [
      "Read 1 spots for SRR5850782\n",
      "Written 1 spots for SRR5850782\n"
     ]
    },
    {
     "name": "stdout",
     "output_type": "stream",
     "text": [
      "4\n",
      "\n",
      "fastq-dump -X 1 -Z --split-spot SRR5850784| wc -l\n"
     ]
    },
    {
     "name": "stderr",
     "output_type": "stream",
     "text": [
      "Read 1 spots for SRR5850784\n",
      "Written 1 spots for SRR5850784\n"
     ]
    },
    {
     "name": "stdout",
     "output_type": "stream",
     "text": [
      "4\n",
      "\n",
      "fastq-dump -X 1 -Z --split-spot SRR5850786| wc -l\n"
     ]
    },
    {
     "name": "stderr",
     "output_type": "stream",
     "text": [
      "Read 1 spots for SRR5850786\n",
      "Written 1 spots for SRR5850786\n"
     ]
    },
    {
     "name": "stdout",
     "output_type": "stream",
     "text": [
      "4\n",
      "\n",
      "fastq-dump -X 1 -Z --split-spot SRR5850788| wc -l\n"
     ]
    },
    {
     "name": "stderr",
     "output_type": "stream",
     "text": [
      "Read 1 spots for SRR5850788\n",
      "Written 1 spots for SRR5850788\n"
     ]
    },
    {
     "name": "stdout",
     "output_type": "stream",
     "text": [
      "4\n",
      "\n",
      "fastq-dump -X 1 -Z --split-spot SRR5850790| wc -l\n"
     ]
    },
    {
     "name": "stderr",
     "output_type": "stream",
     "text": [
      "Read 1 spots for SRR5850790\n",
      "Written 1 spots for SRR5850790\n"
     ]
    },
    {
     "name": "stdout",
     "output_type": "stream",
     "text": [
      "4\n",
      "\n",
      "fastq-dump -X 1 -Z --split-spot SRR7050690| wc -l\n"
     ]
    },
    {
     "name": "stderr",
     "output_type": "stream",
     "text": [
      "Read 1 spots for SRR7050690\n",
      "Written 1 spots for SRR7050690\n"
     ]
    },
    {
     "name": "stdout",
     "output_type": "stream",
     "text": [
      "4\n",
      "\n",
      "fastq-dump -X 1 -Z --split-spot SRR7050691| wc -l\n"
     ]
    },
    {
     "name": "stderr",
     "output_type": "stream",
     "text": [
      "Read 1 spots for SRR7050691\n",
      "Written 1 spots for SRR7050691\n"
     ]
    },
    {
     "name": "stdout",
     "output_type": "stream",
     "text": [
      "4\n",
      "\n",
      "fastq-dump -X 1 -Z --split-spot SRR7050692| wc -l\n"
     ]
    },
    {
     "name": "stderr",
     "output_type": "stream",
     "text": [
      "Read 1 spots for SRR7050692\n",
      "Written 1 spots for SRR7050692\n"
     ]
    },
    {
     "name": "stdout",
     "output_type": "stream",
     "text": [
      "4\n",
      "\n",
      "fastq-dump -X 1 -Z --split-spot SRR7050693| wc -l\n"
     ]
    },
    {
     "name": "stderr",
     "output_type": "stream",
     "text": [
      "Read 1 spots for SRR7050693\n",
      "Written 1 spots for SRR7050693\n"
     ]
    },
    {
     "name": "stdout",
     "output_type": "stream",
     "text": [
      "4\n",
      "\n",
      "fastq-dump -X 1 -Z --split-spot SRR7050694| wc -l\n"
     ]
    },
    {
     "name": "stderr",
     "output_type": "stream",
     "text": [
      "Read 1 spots for SRR7050694\n",
      "Written 1 spots for SRR7050694\n"
     ]
    },
    {
     "name": "stdout",
     "output_type": "stream",
     "text": [
      "4\n",
      "\n",
      "fastq-dump -X 1 -Z --split-spot SRR7050695| wc -l\n"
     ]
    },
    {
     "name": "stderr",
     "output_type": "stream",
     "text": [
      "Read 1 spots for SRR7050695\n",
      "Written 1 spots for SRR7050695\n"
     ]
    },
    {
     "name": "stdout",
     "output_type": "stream",
     "text": [
      "4\n",
      "\n",
      "fastq-dump -X 1 -Z --split-spot SRR12748632| wc -l\n"
     ]
    },
    {
     "name": "stderr",
     "output_type": "stream",
     "text": [
      "Read 1 spots for SRR12748632\n",
      "Written 1 spots for SRR12748632\n"
     ]
    },
    {
     "name": "stdout",
     "output_type": "stream",
     "text": [
      "8\n",
      "\n",
      "fastq-dump -X 1 -Z --split-spot SRR12748636| wc -l\n"
     ]
    },
    {
     "name": "stderr",
     "output_type": "stream",
     "text": [
      "Read 1 spots for SRR12748636\n",
      "Written 1 spots for SRR12748636\n"
     ]
    },
    {
     "name": "stdout",
     "output_type": "stream",
     "text": [
      "8\n",
      "\n",
      "fastq-dump -X 1 -Z --split-spot SRR12748640| wc -l\n"
     ]
    },
    {
     "name": "stderr",
     "output_type": "stream",
     "text": [
      "Read 1 spots for SRR12748640\n",
      "Written 1 spots for SRR12748640\n"
     ]
    },
    {
     "name": "stdout",
     "output_type": "stream",
     "text": [
      "8\n",
      "\n",
      "fastq-dump -X 1 -Z --split-spot SRR15809339| wc -l\n"
     ]
    },
    {
     "name": "stderr",
     "output_type": "stream",
     "text": [
      "Read 1 spots for SRR15809339\n",
      "Written 1 spots for SRR15809339\n"
     ]
    },
    {
     "name": "stdout",
     "output_type": "stream",
     "text": [
      "8\n",
      "\n",
      "fastq-dump -X 1 -Z --split-spot SRR15809340| wc -l\n"
     ]
    },
    {
     "name": "stderr",
     "output_type": "stream",
     "text": [
      "Read 1 spots for SRR15809340\n",
      "Written 1 spots for SRR15809340\n"
     ]
    },
    {
     "name": "stdout",
     "output_type": "stream",
     "text": [
      "8\n",
      "\n",
      "fastq-dump -X 1 -Z --split-spot SRR15809344| wc -l\n"
     ]
    },
    {
     "name": "stderr",
     "output_type": "stream",
     "text": [
      "Read 1 spots for SRR15809344\n",
      "Written 1 spots for SRR15809344\n"
     ]
    },
    {
     "name": "stdout",
     "output_type": "stream",
     "text": [
      "8\n",
      "\n",
      "fastq-dump -X 1 -Z --split-spot SRR15809345| wc -l\n"
     ]
    },
    {
     "name": "stderr",
     "output_type": "stream",
     "text": [
      "Read 1 spots for SRR15809345\n",
      "Written 1 spots for SRR15809345\n"
     ]
    },
    {
     "name": "stdout",
     "output_type": "stream",
     "text": [
      "8\n",
      "\n",
      "fastq-dump -X 1 -Z --split-spot SRR15809346| wc -l\n"
     ]
    },
    {
     "name": "stderr",
     "output_type": "stream",
     "text": [
      "Read 1 spots for SRR15809346\n",
      "Written 1 spots for SRR15809346\n"
     ]
    },
    {
     "name": "stdout",
     "output_type": "stream",
     "text": [
      "8\n",
      "\n",
      "fastq-dump -X 1 -Z --split-spot SRR13640879| wc -l\n"
     ]
    },
    {
     "name": "stderr",
     "output_type": "stream",
     "text": [
      "Read 1 spots for SRR13640879\n",
      "Written 1 spots for SRR13640879\n"
     ]
    },
    {
     "name": "stdout",
     "output_type": "stream",
     "text": [
      "8\n",
      "\n",
      "fastq-dump -X 1 -Z --split-spot SRR13640881| wc -l\n"
     ]
    },
    {
     "name": "stderr",
     "output_type": "stream",
     "text": [
      "Read 1 spots for SRR13640881\n",
      "Written 1 spots for SRR13640881\n"
     ]
    },
    {
     "name": "stdout",
     "output_type": "stream",
     "text": [
      "8\n",
      "\n",
      "fastq-dump -X 1 -Z --split-spot SRR13640883| wc -l\n"
     ]
    },
    {
     "name": "stderr",
     "output_type": "stream",
     "text": [
      "Read 1 spots for SRR13640883\n",
      "Written 1 spots for SRR13640883\n"
     ]
    },
    {
     "name": "stdout",
     "output_type": "stream",
     "text": [
      "8\n",
      "\n",
      "fastq-dump -X 1 -Z --split-spot SRR10115869| wc -l\n"
     ]
    },
    {
     "name": "stderr",
     "output_type": "stream",
     "text": [
      "Read 1 spots for SRR10115869\n",
      "Written 1 spots for SRR10115869\n"
     ]
    },
    {
     "name": "stdout",
     "output_type": "stream",
     "text": [
      "8\n",
      "\n",
      "fastq-dump -X 1 -Z --split-spot SRR10115870| wc -l\n"
     ]
    },
    {
     "name": "stderr",
     "output_type": "stream",
     "text": [
      "Read 1 spots for SRR10115870\n",
      "Written 1 spots for SRR10115870\n"
     ]
    },
    {
     "name": "stdout",
     "output_type": "stream",
     "text": [
      "8\n",
      "\n",
      "fastq-dump -X 1 -Z --split-spot SRR10115871| wc -l\n"
     ]
    },
    {
     "name": "stderr",
     "output_type": "stream",
     "text": [
      "Read 1 spots for SRR10115871\n",
      "Written 1 spots for SRR10115871\n"
     ]
    },
    {
     "name": "stdout",
     "output_type": "stream",
     "text": [
      "8\n",
      "\n",
      "fastq-dump -X 1 -Z --split-spot SRR10115872| wc -l\n"
     ]
    },
    {
     "name": "stderr",
     "output_type": "stream",
     "text": [
      "Read 1 spots for SRR10115872\n",
      "Written 1 spots for SRR10115872\n"
     ]
    },
    {
     "name": "stdout",
     "output_type": "stream",
     "text": [
      "8\n",
      "\n",
      "fastq-dump -X 1 -Z --split-spot SRR10115873| wc -l\n"
     ]
    },
    {
     "name": "stderr",
     "output_type": "stream",
     "text": [
      "Read 1 spots for SRR10115873\n",
      "Written 1 spots for SRR10115873\n"
     ]
    },
    {
     "name": "stdout",
     "output_type": "stream",
     "text": [
      "8\n",
      "\n",
      "fastq-dump -X 1 -Z --split-spot SRR10115874| wc -l\n"
     ]
    },
    {
     "name": "stderr",
     "output_type": "stream",
     "text": [
      "Read 1 spots for SRR10115874\n",
      "Written 1 spots for SRR10115874\n"
     ]
    },
    {
     "name": "stdout",
     "output_type": "stream",
     "text": [
      "8\n",
      "\n",
      "fastq-dump -X 1 -Z --split-spot SRR10115875| wc -l\n"
     ]
    },
    {
     "name": "stderr",
     "output_type": "stream",
     "text": [
      "Read 1 spots for SRR10115875\n",
      "Written 1 spots for SRR10115875\n"
     ]
    },
    {
     "name": "stdout",
     "output_type": "stream",
     "text": [
      "8\n",
      "\n",
      "fastq-dump -X 1 -Z --split-spot SRR10115876| wc -l\n"
     ]
    },
    {
     "name": "stderr",
     "output_type": "stream",
     "text": [
      "Read 1 spots for SRR10115876\n",
      "Written 1 spots for SRR10115876\n"
     ]
    },
    {
     "name": "stdout",
     "output_type": "stream",
     "text": [
      "8\n",
      "\n",
      "fastq-dump -X 1 -Z --split-spot SRR10115877| wc -l\n"
     ]
    },
    {
     "name": "stderr",
     "output_type": "stream",
     "text": [
      "Read 1 spots for SRR10115877\n",
      "Written 1 spots for SRR10115877\n"
     ]
    },
    {
     "name": "stdout",
     "output_type": "stream",
     "text": [
      "8\n",
      "\n",
      "fastq-dump -X 1 -Z --split-spot SRR10115878| wc -l\n"
     ]
    },
    {
     "name": "stderr",
     "output_type": "stream",
     "text": [
      "Read 1 spots for SRR10115878\n",
      "Written 1 spots for SRR10115878\n"
     ]
    },
    {
     "name": "stdout",
     "output_type": "stream",
     "text": [
      "8\n",
      "\n",
      "fastq-dump -X 1 -Z --split-spot SRR10115879| wc -l\n"
     ]
    },
    {
     "name": "stderr",
     "output_type": "stream",
     "text": [
      "Read 1 spots for SRR10115879\n",
      "Written 1 spots for SRR10115879\n"
     ]
    },
    {
     "name": "stdout",
     "output_type": "stream",
     "text": [
      "8\n",
      "\n",
      "fastq-dump -X 1 -Z --split-spot SRR10115880| wc -l\n"
     ]
    },
    {
     "name": "stderr",
     "output_type": "stream",
     "text": [
      "Read 1 spots for SRR10115880\n",
      "Written 1 spots for SRR10115880\n"
     ]
    },
    {
     "name": "stdout",
     "output_type": "stream",
     "text": [
      "8\n",
      "\n",
      "fastq-dump -X 1 -Z --split-spot SRR6292438| wc -l\n"
     ]
    },
    {
     "name": "stderr",
     "output_type": "stream",
     "text": [
      "Read 1 spots for SRR6292438\n",
      "Written 1 spots for SRR6292438\n"
     ]
    },
    {
     "name": "stdout",
     "output_type": "stream",
     "text": [
      "4\n",
      "\n",
      "fastq-dump -X 1 -Z --split-spot SRR6292439| wc -l\n"
     ]
    },
    {
     "name": "stderr",
     "output_type": "stream",
     "text": [
      "Read 1 spots for SRR6292439\n",
      "Written 1 spots for SRR6292439\n"
     ]
    },
    {
     "name": "stdout",
     "output_type": "stream",
     "text": [
      "4\n",
      "\n",
      "fastq-dump -X 1 -Z --split-spot SRR12088549| wc -l\n"
     ]
    },
    {
     "name": "stderr",
     "output_type": "stream",
     "text": [
      "Rejected 1 READS because READLEN < 1\n",
      "Read 1 spots for SRR12088549\n",
      "Written 1 spots for SRR12088549\n"
     ]
    },
    {
     "name": "stdout",
     "output_type": "stream",
     "text": [
      "4\n",
      "\n",
      "fastq-dump -X 1 -Z --split-spot SRR12088551| wc -l\n"
     ]
    },
    {
     "name": "stderr",
     "output_type": "stream",
     "text": [
      "Rejected 1 READS because READLEN < 1\n",
      "Read 1 spots for SRR12088551\n",
      "Written 1 spots for SRR12088551\n"
     ]
    },
    {
     "name": "stdout",
     "output_type": "stream",
     "text": [
      "4\n",
      "\n",
      "fastq-dump -X 1 -Z --split-spot SRR12088553| wc -l\n"
     ]
    },
    {
     "name": "stderr",
     "output_type": "stream",
     "text": [
      "Rejected 1 READS because READLEN < 1\n",
      "Read 1 spots for SRR12088553\n",
      "Written 1 spots for SRR12088553\n"
     ]
    },
    {
     "name": "stdout",
     "output_type": "stream",
     "text": [
      "4\n",
      "\n",
      "fastq-dump -X 1 -Z --split-spot SRR12088555| wc -l\n"
     ]
    },
    {
     "name": "stderr",
     "output_type": "stream",
     "text": [
      "Rejected 1 READS because READLEN < 1\n",
      "Read 1 spots for SRR12088555\n",
      "Written 1 spots for SRR12088555\n"
     ]
    },
    {
     "name": "stdout",
     "output_type": "stream",
     "text": [
      "4\n",
      "\n",
      "fastq-dump -X 1 -Z --split-spot SRR10025183| wc -l\n"
     ]
    },
    {
     "name": "stderr",
     "output_type": "stream",
     "text": [
      "Read 1 spots for SRR10025183\n",
      "Written 1 spots for SRR10025183\n"
     ]
    },
    {
     "name": "stdout",
     "output_type": "stream",
     "text": [
      "8\n",
      "\n",
      "fastq-dump -X 1 -Z --split-spot SRR10025184| wc -l\n"
     ]
    },
    {
     "name": "stderr",
     "output_type": "stream",
     "text": [
      "Read 1 spots for SRR10025184\n",
      "Written 1 spots for SRR10025184\n"
     ]
    },
    {
     "name": "stdout",
     "output_type": "stream",
     "text": [
      "8\n",
      "\n",
      "fastq-dump -X 1 -Z --split-spot SRR10025185| wc -l\n"
     ]
    },
    {
     "name": "stderr",
     "output_type": "stream",
     "text": [
      "Read 1 spots for SRR10025185\n",
      "Written 1 spots for SRR10025185\n"
     ]
    },
    {
     "name": "stdout",
     "output_type": "stream",
     "text": [
      "8\n",
      "\n",
      "fastq-dump -X 1 -Z --split-spot SRR10573669| wc -l\n"
     ]
    },
    {
     "name": "stderr",
     "output_type": "stream",
     "text": [
      "Rejected 1 READS because READLEN < 1\n",
      "Read 1 spots for SRR10573669\n",
      "Written 1 spots for SRR10573669\n"
     ]
    },
    {
     "name": "stdout",
     "output_type": "stream",
     "text": [
      "4\n",
      "\n",
      "fastq-dump -X 1 -Z --split-spot SRR10573684| wc -l\n"
     ]
    },
    {
     "name": "stderr",
     "output_type": "stream",
     "text": [
      "Rejected 1 READS because READLEN < 1\n",
      "Read 1 spots for SRR10573684\n",
      "Written 1 spots for SRR10573684\n"
     ]
    },
    {
     "name": "stdout",
     "output_type": "stream",
     "text": [
      "4\n",
      "\n",
      "fastq-dump -X 1 -Z --split-spot SRR10573700| wc -l\n"
     ]
    },
    {
     "name": "stderr",
     "output_type": "stream",
     "text": [
      "Rejected 1 READS because READLEN < 1\n",
      "Read 1 spots for SRR10573700\n",
      "Written 1 spots for SRR10573700\n"
     ]
    },
    {
     "name": "stdout",
     "output_type": "stream",
     "text": [
      "4\n",
      "\n",
      "fastq-dump -X 1 -Z --split-spot SRR10573912| wc -l\n"
     ]
    },
    {
     "name": "stderr",
     "output_type": "stream",
     "text": [
      "Rejected 1 READS because READLEN < 1\n",
      "Read 1 spots for SRR10573912\n",
      "Written 1 spots for SRR10573912\n"
     ]
    },
    {
     "name": "stdout",
     "output_type": "stream",
     "text": [
      "4\n",
      "\n",
      "fastq-dump -X 1 -Z --split-spot SRR10573929| wc -l\n"
     ]
    },
    {
     "name": "stderr",
     "output_type": "stream",
     "text": [
      "Rejected 1 READS because READLEN < 1\n",
      "Read 1 spots for SRR10573929\n",
      "Written 1 spots for SRR10573929\n"
     ]
    },
    {
     "name": "stdout",
     "output_type": "stream",
     "text": [
      "4\n",
      "\n",
      "fastq-dump -X 1 -Z --split-spot SRR10573945| wc -l\n"
     ]
    },
    {
     "name": "stderr",
     "output_type": "stream",
     "text": [
      "Rejected 1 READS because READLEN < 1\n",
      "Read 1 spots for SRR10573945\n",
      "Written 1 spots for SRR10573945\n"
     ]
    },
    {
     "name": "stdout",
     "output_type": "stream",
     "text": [
      "4\n",
      "\n",
      "fastq-dump -X 1 -Z --split-spot SRR1292215| wc -l\n"
     ]
    },
    {
     "name": "stderr",
     "output_type": "stream",
     "text": [
      "Read 1 spots for SRR1292215\n",
      "Written 1 spots for SRR1292215\n"
     ]
    },
    {
     "name": "stdout",
     "output_type": "stream",
     "text": [
      "8\n",
      "\n",
      "fastq-dump -X 1 -Z --split-spot SRR1292216| wc -l\n"
     ]
    },
    {
     "name": "stderr",
     "output_type": "stream",
     "text": [
      "Read 1 spots for SRR1292216\n",
      "Written 1 spots for SRR1292216\n"
     ]
    },
    {
     "name": "stdout",
     "output_type": "stream",
     "text": [
      "8\n",
      "\n",
      "fastq-dump -X 1 -Z --split-spot SRR1292217| wc -l\n"
     ]
    },
    {
     "name": "stderr",
     "output_type": "stream",
     "text": [
      "Read 1 spots for SRR1292217\n",
      "Written 1 spots for SRR1292217\n"
     ]
    },
    {
     "name": "stdout",
     "output_type": "stream",
     "text": [
      "8\n",
      "\n",
      "fastq-dump -X 1 -Z --split-spot SRR17261763| wc -l\n"
     ]
    },
    {
     "name": "stderr",
     "output_type": "stream",
     "text": [
      "Read 1 spots for SRR17261763\n",
      "Written 1 spots for SRR17261763\n"
     ]
    },
    {
     "name": "stdout",
     "output_type": "stream",
     "text": [
      "4\n",
      "\n",
      "fastq-dump -X 1 -Z --split-spot SRR17261764| wc -l\n"
     ]
    },
    {
     "name": "stderr",
     "output_type": "stream",
     "text": [
      "Read 1 spots for SRR17261764\n",
      "Written 1 spots for SRR17261764\n"
     ]
    },
    {
     "name": "stdout",
     "output_type": "stream",
     "text": [
      "4\n",
      "\n",
      "fastq-dump -X 1 -Z --split-spot SRR17261765| wc -l\n"
     ]
    },
    {
     "name": "stderr",
     "output_type": "stream",
     "text": [
      "Read 1 spots for SRR17261765\n",
      "Written 1 spots for SRR17261765\n"
     ]
    },
    {
     "name": "stdout",
     "output_type": "stream",
     "text": [
      "4\n",
      "\n",
      "fastq-dump -X 1 -Z --split-spot SRR17261649| wc -l\n"
     ]
    },
    {
     "name": "stderr",
     "output_type": "stream",
     "text": [
      "Read 1 spots for SRR17261649\n",
      "Written 1 spots for SRR17261649\n"
     ]
    },
    {
     "name": "stdout",
     "output_type": "stream",
     "text": [
      "4\n",
      "\n",
      "fastq-dump -X 1 -Z --split-spot SRR17261650| wc -l\n"
     ]
    },
    {
     "name": "stderr",
     "output_type": "stream",
     "text": [
      "Read 1 spots for SRR17261650\n",
      "Written 1 spots for SRR17261650\n"
     ]
    },
    {
     "name": "stdout",
     "output_type": "stream",
     "text": [
      "4\n",
      "\n",
      "fastq-dump -X 1 -Z --split-spot SRR17261651| wc -l\n"
     ]
    },
    {
     "name": "stderr",
     "output_type": "stream",
     "text": [
      "Read 1 spots for SRR17261651\n",
      "Written 1 spots for SRR17261651\n"
     ]
    },
    {
     "name": "stdout",
     "output_type": "stream",
     "text": [
      "4\n",
      "\n",
      "fastq-dump -X 1 -Z --split-spot SRR17261652| wc -l\n"
     ]
    },
    {
     "name": "stderr",
     "output_type": "stream",
     "text": [
      "Read 1 spots for SRR17261652\n",
      "Written 1 spots for SRR17261652\n"
     ]
    },
    {
     "name": "stdout",
     "output_type": "stream",
     "text": [
      "4\n",
      "\n",
      "fastq-dump -X 1 -Z --split-spot SRR17261653| wc -l\n"
     ]
    },
    {
     "name": "stderr",
     "output_type": "stream",
     "text": [
      "Read 1 spots for SRR17261653\n",
      "Written 1 spots for SRR17261653\n"
     ]
    },
    {
     "name": "stdout",
     "output_type": "stream",
     "text": [
      "4\n",
      "\n",
      "fastq-dump -X 1 -Z --split-spot SRR4473788| wc -l\n"
     ]
    },
    {
     "name": "stderr",
     "output_type": "stream",
     "text": [
      "Read 1 spots for SRR4473788\n",
      "Written 1 spots for SRR4473788\n"
     ]
    },
    {
     "name": "stdout",
     "output_type": "stream",
     "text": [
      "8\n",
      "\n",
      "fastq-dump -X 1 -Z --split-spot SRR4473789| wc -l\n"
     ]
    },
    {
     "name": "stderr",
     "output_type": "stream",
     "text": [
      "Read 1 spots for SRR4473789\n",
      "Written 1 spots for SRR4473789\n"
     ]
    },
    {
     "name": "stdout",
     "output_type": "stream",
     "text": [
      "8\n",
      "\n",
      "fastq-dump -X 1 -Z --split-spot SRR4473790| wc -l\n"
     ]
    },
    {
     "name": "stderr",
     "output_type": "stream",
     "text": [
      "Read 1 spots for SRR4473790\n",
      "Written 1 spots for SRR4473790\n"
     ]
    },
    {
     "name": "stdout",
     "output_type": "stream",
     "text": [
      "8\n",
      "\n",
      "fastq-dump -X 1 -Z --split-spot SRR4473791| wc -l\n"
     ]
    },
    {
     "name": "stderr",
     "output_type": "stream",
     "text": [
      "Read 1 spots for SRR4473791\n",
      "Written 1 spots for SRR4473791\n"
     ]
    },
    {
     "name": "stdout",
     "output_type": "stream",
     "text": [
      "8\n",
      "\n",
      "fastq-dump -X 1 -Z --split-spot SRR12748625| wc -l\n"
     ]
    },
    {
     "name": "stderr",
     "output_type": "stream",
     "text": [
      "Read 1 spots for SRR12748625\n",
      "Written 1 spots for SRR12748625\n"
     ]
    },
    {
     "name": "stdout",
     "output_type": "stream",
     "text": [
      "8\n",
      "\n",
      "fastq-dump -X 1 -Z --split-spot SRR12748627| wc -l\n"
     ]
    },
    {
     "name": "stderr",
     "output_type": "stream",
     "text": [
      "Read 1 spots for SRR12748627\n",
      "Written 1 spots for SRR12748627\n"
     ]
    },
    {
     "name": "stdout",
     "output_type": "stream",
     "text": [
      "8\n",
      "\n",
      "fastq-dump -X 1 -Z --split-spot SRR12748629| wc -l\n"
     ]
    },
    {
     "name": "stderr",
     "output_type": "stream",
     "text": [
      "Read 1 spots for SRR12748629\n",
      "Written 1 spots for SRR12748629\n"
     ]
    },
    {
     "name": "stdout",
     "output_type": "stream",
     "text": [
      "8\n",
      "\n",
      "fastq-dump -X 1 -Z --split-spot SRR15402325| wc -l\n"
     ]
    },
    {
     "name": "stderr",
     "output_type": "stream",
     "text": [
      "Read 1 spots for SRR15402325\n",
      "Written 1 spots for SRR15402325\n"
     ]
    },
    {
     "name": "stdout",
     "output_type": "stream",
     "text": [
      "8\n",
      "\n",
      "fastq-dump -X 1 -Z --split-spot SRR15402326| wc -l\n"
     ]
    },
    {
     "name": "stderr",
     "output_type": "stream",
     "text": [
      "Read 1 spots for SRR15402326\n",
      "Written 1 spots for SRR15402326\n"
     ]
    },
    {
     "name": "stdout",
     "output_type": "stream",
     "text": [
      "8\n",
      "\n",
      "fastq-dump -X 1 -Z --split-spot SRR15402327| wc -l\n"
     ]
    },
    {
     "name": "stderr",
     "output_type": "stream",
     "text": [
      "Read 1 spots for SRR15402327\n",
      "Written 1 spots for SRR15402327\n"
     ]
    },
    {
     "name": "stdout",
     "output_type": "stream",
     "text": [
      "8\n",
      "\n",
      "fastq-dump -X 1 -Z --split-spot SRR8145401| wc -l\n"
     ]
    },
    {
     "name": "stderr",
     "output_type": "stream",
     "text": [
      "Rejected 1 READS because READLEN < 1\n",
      "Read 1 spots for SRR8145401\n",
      "Written 1 spots for SRR8145401\n"
     ]
    },
    {
     "name": "stdout",
     "output_type": "stream",
     "text": [
      "4\n",
      "\n",
      "fastq-dump -X 1 -Z --split-spot SRR8145402| wc -l\n"
     ]
    },
    {
     "name": "stderr",
     "output_type": "stream",
     "text": [
      "Rejected 1 READS because READLEN < 1\n",
      "Read 1 spots for SRR8145402\n",
      "Written 1 spots for SRR8145402\n"
     ]
    },
    {
     "name": "stdout",
     "output_type": "stream",
     "text": [
      "4\n",
      "\n",
      "fastq-dump -X 1 -Z --split-spot SRR8145403| wc -l\n"
     ]
    },
    {
     "name": "stderr",
     "output_type": "stream",
     "text": [
      "Rejected 1 READS because READLEN < 1\n",
      "Read 1 spots for SRR8145403\n",
      "Written 1 spots for SRR8145403\n"
     ]
    },
    {
     "name": "stdout",
     "output_type": "stream",
     "text": [
      "4\n",
      "\n",
      "fastq-dump -X 1 -Z --split-spot SRR8145404| wc -l\n"
     ]
    },
    {
     "name": "stderr",
     "output_type": "stream",
     "text": [
      "Rejected 1 READS because READLEN < 1\n",
      "Read 1 spots for SRR8145404\n",
      "Written 1 spots for SRR8145404\n"
     ]
    },
    {
     "name": "stdout",
     "output_type": "stream",
     "text": [
      "4\n",
      "\n",
      "fastq-dump -X 1 -Z --split-spot SRR8145405| wc -l\n"
     ]
    },
    {
     "name": "stderr",
     "output_type": "stream",
     "text": [
      "Rejected 1 READS because READLEN < 1\n",
      "Read 1 spots for SRR8145405\n",
      "Written 1 spots for SRR8145405\n"
     ]
    },
    {
     "name": "stdout",
     "output_type": "stream",
     "text": [
      "4\n",
      "\n",
      "fastq-dump -X 1 -Z --split-spot SRR8145406| wc -l\n"
     ]
    },
    {
     "name": "stderr",
     "output_type": "stream",
     "text": [
      "Rejected 1 READS because READLEN < 1\n",
      "Read 1 spots for SRR8145406\n",
      "Written 1 spots for SRR8145406\n"
     ]
    },
    {
     "name": "stdout",
     "output_type": "stream",
     "text": [
      "4\n",
      "\n",
      "fastq-dump -X 1 -Z --split-spot SRR8145407| wc -l\n"
     ]
    },
    {
     "name": "stderr",
     "output_type": "stream",
     "text": [
      "Rejected 1 READS because READLEN < 1\n",
      "Read 1 spots for SRR8145407\n",
      "Written 1 spots for SRR8145407\n"
     ]
    },
    {
     "name": "stdout",
     "output_type": "stream",
     "text": [
      "4\n",
      "\n",
      "fastq-dump -X 1 -Z --split-spot SRR8145408| wc -l\n"
     ]
    },
    {
     "name": "stderr",
     "output_type": "stream",
     "text": [
      "Rejected 1 READS because READLEN < 1\n",
      "Read 1 spots for SRR8145408\n",
      "Written 1 spots for SRR8145408\n"
     ]
    },
    {
     "name": "stdout",
     "output_type": "stream",
     "text": [
      "4\n",
      "\n",
      "fastq-dump -X 1 -Z --split-spot SRR8145409| wc -l\n"
     ]
    },
    {
     "name": "stderr",
     "output_type": "stream",
     "text": [
      "Rejected 1 READS because READLEN < 1\n",
      "Read 1 spots for SRR8145409\n",
      "Written 1 spots for SRR8145409\n"
     ]
    },
    {
     "name": "stdout",
     "output_type": "stream",
     "text": [
      "4\n",
      "\n",
      "fastq-dump -X 1 -Z --split-spot SRR8145410| wc -l\n"
     ]
    },
    {
     "name": "stderr",
     "output_type": "stream",
     "text": [
      "Rejected 1 READS because READLEN < 1\n",
      "Read 1 spots for SRR8145410\n",
      "Written 1 spots for SRR8145410\n"
     ]
    },
    {
     "name": "stdout",
     "output_type": "stream",
     "text": [
      "4\n",
      "\n",
      "fastq-dump -X 1 -Z --split-spot SRR8145411| wc -l\n"
     ]
    },
    {
     "name": "stderr",
     "output_type": "stream",
     "text": [
      "Rejected 1 READS because READLEN < 1\n",
      "Read 1 spots for SRR8145411\n",
      "Written 1 spots for SRR8145411\n"
     ]
    },
    {
     "name": "stdout",
     "output_type": "stream",
     "text": [
      "4\n",
      "\n",
      "fastq-dump -X 1 -Z --split-spot SRR8145412| wc -l\n"
     ]
    },
    {
     "name": "stderr",
     "output_type": "stream",
     "text": [
      "Rejected 1 READS because READLEN < 1\n",
      "Read 1 spots for SRR8145412\n",
      "Written 1 spots for SRR8145412\n"
     ]
    },
    {
     "name": "stdout",
     "output_type": "stream",
     "text": [
      "4\n",
      "\n",
      "fastq-dump -X 1 -Z --split-spot SRR10573512| wc -l\n"
     ]
    },
    {
     "name": "stderr",
     "output_type": "stream",
     "text": [
      "Rejected 1 READS because READLEN < 1\n",
      "Read 1 spots for SRR10573512\n",
      "Written 1 spots for SRR10573512\n"
     ]
    },
    {
     "name": "stdout",
     "output_type": "stream",
     "text": [
      "4\n",
      "\n",
      "fastq-dump -X 1 -Z --split-spot SRR10573637| wc -l\n"
     ]
    },
    {
     "name": "stderr",
     "output_type": "stream",
     "text": [
      "Rejected 1 READS because READLEN < 1\n",
      "Read 1 spots for SRR10573637\n",
      "Written 1 spots for SRR10573637\n"
     ]
    },
    {
     "name": "stdout",
     "output_type": "stream",
     "text": [
      "4\n",
      "\n",
      "fastq-dump -X 1 -Z --split-spot SRR10573654| wc -l\n"
     ]
    },
    {
     "name": "stderr",
     "output_type": "stream",
     "text": [
      "Rejected 1 READS because READLEN < 1\n",
      "Read 1 spots for SRR10573654\n",
      "Written 1 spots for SRR10573654\n"
     ]
    },
    {
     "name": "stdout",
     "output_type": "stream",
     "text": [
      "4\n",
      "\n",
      "fastq-dump -X 1 -Z --split-spot SRR10573864| wc -l\n"
     ]
    },
    {
     "name": "stderr",
     "output_type": "stream",
     "text": [
      "Rejected 1 READS because READLEN < 1\n",
      "Read 1 spots for SRR10573864\n",
      "Written 1 spots for SRR10573864\n"
     ]
    },
    {
     "name": "stdout",
     "output_type": "stream",
     "text": [
      "4\n",
      "\n",
      "fastq-dump -X 1 -Z --split-spot SRR10573881| wc -l\n"
     ]
    },
    {
     "name": "stderr",
     "output_type": "stream",
     "text": [
      "Rejected 1 READS because READLEN < 1\n",
      "Read 1 spots for SRR10573881\n",
      "Written 1 spots for SRR10573881\n"
     ]
    },
    {
     "name": "stdout",
     "output_type": "stream",
     "text": [
      "4\n",
      "\n",
      "fastq-dump -X 1 -Z --split-spot SRR10573897| wc -l\n"
     ]
    },
    {
     "name": "stderr",
     "output_type": "stream",
     "text": [
      "Rejected 1 READS because READLEN < 1\n",
      "Read 1 spots for SRR10573897\n",
      "Written 1 spots for SRR10573897\n"
     ]
    },
    {
     "name": "stdout",
     "output_type": "stream",
     "text": [
      "4\n",
      "\n",
      "fastq-dump -X 1 -Z --split-spot SRR17261703| wc -l\n"
     ]
    },
    {
     "name": "stderr",
     "output_type": "stream",
     "text": [
      "Read 1 spots for SRR17261703\n",
      "Written 1 spots for SRR17261703\n"
     ]
    },
    {
     "name": "stdout",
     "output_type": "stream",
     "text": [
      "4\n",
      "\n",
      "fastq-dump -X 1 -Z --split-spot SRR17261704| wc -l\n"
     ]
    },
    {
     "name": "stderr",
     "output_type": "stream",
     "text": [
      "Read 1 spots for SRR17261704\n",
      "Written 1 spots for SRR17261704\n"
     ]
    },
    {
     "name": "stdout",
     "output_type": "stream",
     "text": [
      "4\n",
      "\n",
      "fastq-dump -X 1 -Z --split-spot SRR17261705| wc -l\n"
     ]
    },
    {
     "name": "stderr",
     "output_type": "stream",
     "text": [
      "Read 1 spots for SRR17261705\n",
      "Written 1 spots for SRR17261705\n"
     ]
    },
    {
     "name": "stdout",
     "output_type": "stream",
     "text": [
      "4\n",
      "\n",
      "fastq-dump -X 1 -Z --split-spot SRR5115673| wc -l\n"
     ]
    },
    {
     "name": "stderr",
     "output_type": "stream",
     "text": [
      "Read 1 spots for SRR5115673\n",
      "Written 1 spots for SRR5115673\n"
     ]
    },
    {
     "name": "stdout",
     "output_type": "stream",
     "text": [
      "8\n",
      "\n",
      "fastq-dump -X 1 -Z --split-spot SRR5115674| wc -l\n"
     ]
    },
    {
     "name": "stderr",
     "output_type": "stream",
     "text": [
      "Read 1 spots for SRR5115674\n",
      "Written 1 spots for SRR5115674\n"
     ]
    },
    {
     "name": "stdout",
     "output_type": "stream",
     "text": [
      "8\n",
      "\n",
      "fastq-dump -X 1 -Z --split-spot SRR5115675| wc -l\n",
      "8\n",
      "\n"
     ]
    },
    {
     "name": "stderr",
     "output_type": "stream",
     "text": [
      "Read 1 spots for SRR5115675\n",
      "Written 1 spots for SRR5115675\n"
     ]
    }
   ],
   "source": [
    "for index in df.index:\n",
    "    num=df.loc[index,'SRR']\n",
    "    numLines=f'fastq-dump -X 1 -Z --split-spot {num}| wc -l'\n",
    "    print(numLines)\n",
    "    f=os.popen(numLines)\n",
    "    f=f.read()\n",
    "    print(f)\n",
    "    if(f=='4\\n'):\n",
    "        df.loc[index,'end']='single_end'\n",
    "    else:\n",
    "        df.loc[index,'end']='paired_end'"
   ]
  },
  {
   "cell_type": "code",
   "execution_count": 253,
   "id": "ac4c40f0",
   "metadata": {},
   "outputs": [
    {
     "data": {
      "text/html": [
       "<div>\n",
       "<style scoped>\n",
       "    .dataframe tbody tr th:only-of-type {\n",
       "        vertical-align: middle;\n",
       "    }\n",
       "\n",
       "    .dataframe tbody tr th {\n",
       "        vertical-align: top;\n",
       "    }\n",
       "\n",
       "    .dataframe thead th {\n",
       "        text-align: right;\n",
       "    }\n",
       "</style>\n",
       "<table border=\"1\" class=\"dataframe\">\n",
       "  <thead>\n",
       "    <tr style=\"text-align: right;\">\n",
       "      <th></th>\n",
       "      <th>strain</th>\n",
       "      <th>tissue</th>\n",
       "      <th>age</th>\n",
       "      <th>age(month)</th>\n",
       "      <th>Sex</th>\n",
       "      <th>genotype</th>\n",
       "      <th>series_id</th>\n",
       "      <th>relation</th>\n",
       "      <th>molecule_ch1</th>\n",
       "      <th>instrument_model</th>\n",
       "      <th>SRA</th>\n",
       "      <th>SRR</th>\n",
       "      <th>end</th>\n",
       "    </tr>\n",
       "  </thead>\n",
       "  <tbody>\n",
       "    <tr>\n",
       "      <th>GSM3358341</th>\n",
       "      <td>strain background: C57BL/6</td>\n",
       "      <td>tissue: whole liver</td>\n",
       "      <td>age: 6 weeks</td>\n",
       "      <td>1</td>\n",
       "      <td>Sex: Female</td>\n",
       "      <td>genotype/variation: WT</td>\n",
       "      <td>GSE119119</td>\n",
       "      <td>BioSample: https://www.ncbi.nlm.nih.gov/biosam...</td>\n",
       "      <td>total RNA</td>\n",
       "      <td>Illumina HiSeq 4000</td>\n",
       "      <td>SRX4616734</td>\n",
       "      <td>SRR7761109</td>\n",
       "      <td>single_end</td>\n",
       "    </tr>\n",
       "    <tr>\n",
       "      <th>GSM3358342</th>\n",
       "      <td>strain background: C57BL/6</td>\n",
       "      <td>tissue: whole liver</td>\n",
       "      <td>age: 6 weeks</td>\n",
       "      <td>1</td>\n",
       "      <td>Sex: Female</td>\n",
       "      <td>genotype/variation: WT</td>\n",
       "      <td>GSE119119</td>\n",
       "      <td>BioSample: https://www.ncbi.nlm.nih.gov/biosam...</td>\n",
       "      <td>total RNA</td>\n",
       "      <td>Illumina HiSeq 4000</td>\n",
       "      <td>SRX4616735</td>\n",
       "      <td>SRR7761110</td>\n",
       "      <td>single_end</td>\n",
       "    </tr>\n",
       "    <tr>\n",
       "      <th>GSM3358343</th>\n",
       "      <td>strain background: C57BL/6</td>\n",
       "      <td>tissue: whole liver</td>\n",
       "      <td>age: 6 weeks</td>\n",
       "      <td>1</td>\n",
       "      <td>Sex: Male</td>\n",
       "      <td>genotype/variation: WT</td>\n",
       "      <td>GSE119119</td>\n",
       "      <td>BioSample: https://www.ncbi.nlm.nih.gov/biosam...</td>\n",
       "      <td>total RNA</td>\n",
       "      <td>Illumina HiSeq 4000</td>\n",
       "      <td>SRX4616736</td>\n",
       "      <td>SRR7761111</td>\n",
       "      <td>single_end</td>\n",
       "    </tr>\n",
       "    <tr>\n",
       "      <th>GSM3358344</th>\n",
       "      <td>strain background: C57BL/6</td>\n",
       "      <td>tissue: whole liver</td>\n",
       "      <td>age: 6 weeks</td>\n",
       "      <td>1</td>\n",
       "      <td>Sex: Male</td>\n",
       "      <td>genotype/variation: WT</td>\n",
       "      <td>GSE119119</td>\n",
       "      <td>BioSample: https://www.ncbi.nlm.nih.gov/biosam...</td>\n",
       "      <td>total RNA</td>\n",
       "      <td>Illumina HiSeq 4000</td>\n",
       "      <td>SRX4616737</td>\n",
       "      <td>SRR7761112</td>\n",
       "      <td>single_end</td>\n",
       "    </tr>\n",
       "    <tr>\n",
       "      <th>GSM4369021</th>\n",
       "      <td>strain: C3H</td>\n",
       "      <td>treatment type: Non-Irradiated Control</td>\n",
       "      <td>time: 1 month</td>\n",
       "      <td>1</td>\n",
       "      <td>Sex: Male</td>\n",
       "      <td>NaN</td>\n",
       "      <td>GSE146254</td>\n",
       "      <td>['BioSample: https://www.ncbi.nlm.nih.gov/bios...</td>\n",
       "      <td>'SRA: https://www.ncbi.nlm.nih.gov/sra?term=S...</td>\n",
       "      <td>['total RNA']</td>\n",
       "      <td>NaN</td>\n",
       "      <td>SRR11216550</td>\n",
       "      <td>paired_end</td>\n",
       "    </tr>\n",
       "    <tr>\n",
       "      <th>...</th>\n",
       "      <td>...</td>\n",
       "      <td>...</td>\n",
       "      <td>...</td>\n",
       "      <td>...</td>\n",
       "      <td>...</td>\n",
       "      <td>...</td>\n",
       "      <td>...</td>\n",
       "      <td>...</td>\n",
       "      <td>...</td>\n",
       "      <td>...</td>\n",
       "      <td>...</td>\n",
       "      <td>...</td>\n",
       "      <td>...</td>\n",
       "    </tr>\n",
       "    <tr>\n",
       "      <th>GSM5737077</th>\n",
       "      <td>4F het</td>\n",
       "      <td>R26::rtTA het C57BL/6</td>\n",
       "      <td>NaN</td>\n",
       "      <td>26 months</td>\n",
       "      <td>26</td>\n",
       "      <td>Sex: Male</td>\n",
       "      <td>NaN</td>\n",
       "      <td>GSE190985 GSE190986</td>\n",
       "      <td>NaN</td>\n",
       "      <td>NaN</td>\n",
       "      <td>NaN</td>\n",
       "      <td>SRR17261704</td>\n",
       "      <td>single_end</td>\n",
       "    </tr>\n",
       "    <tr>\n",
       "      <th>GSM5737078</th>\n",
       "      <td>4F het</td>\n",
       "      <td>R26::rtTA het C57BL/6</td>\n",
       "      <td>NaN</td>\n",
       "      <td>26 months</td>\n",
       "      <td>26</td>\n",
       "      <td>Sex: Female</td>\n",
       "      <td>NaN</td>\n",
       "      <td>GSE190985 GSE190986</td>\n",
       "      <td>NaN</td>\n",
       "      <td>NaN</td>\n",
       "      <td>NaN</td>\n",
       "      <td>SRR17261705</td>\n",
       "      <td>single_end</td>\n",
       "    </tr>\n",
       "    <tr>\n",
       "      <th>GSM2430558</th>\n",
       "      <td>strain: C3B6F1</td>\n",
       "      <td>tissue: liver</td>\n",
       "      <td>age: 26 months</td>\n",
       "      <td>26</td>\n",
       "      <td>Sex: Female</td>\n",
       "      <td>NaN</td>\n",
       "      <td>GSE92486</td>\n",
       "      <td>BioSample: https://www.ncbi.nlm.nih.gov/biosam...</td>\n",
       "      <td>total RNA</td>\n",
       "      <td>Illumina HiSeq 2500</td>\n",
       "      <td>SRX2431047</td>\n",
       "      <td>SRR5115673</td>\n",
       "      <td>paired_end</td>\n",
       "    </tr>\n",
       "    <tr>\n",
       "      <th>GSM2430559</th>\n",
       "      <td>strain: C3B6F1</td>\n",
       "      <td>tissue: liver</td>\n",
       "      <td>age: 26 months</td>\n",
       "      <td>26</td>\n",
       "      <td>Sex: Female</td>\n",
       "      <td>NaN</td>\n",
       "      <td>GSE92486</td>\n",
       "      <td>BioSample: https://www.ncbi.nlm.nih.gov/biosam...</td>\n",
       "      <td>total RNA</td>\n",
       "      <td>Illumina HiSeq 2500</td>\n",
       "      <td>SRX2431045</td>\n",
       "      <td>SRR5115674</td>\n",
       "      <td>paired_end</td>\n",
       "    </tr>\n",
       "    <tr>\n",
       "      <th>GSM2430560</th>\n",
       "      <td>strain: C3B6F1</td>\n",
       "      <td>tissue: liver</td>\n",
       "      <td>age: 26 months</td>\n",
       "      <td>26</td>\n",
       "      <td>Sex: Female</td>\n",
       "      <td>NaN</td>\n",
       "      <td>GSE92486</td>\n",
       "      <td>BioSample: https://www.ncbi.nlm.nih.gov/biosam...</td>\n",
       "      <td>total RNA</td>\n",
       "      <td>Illumina HiSeq 2500</td>\n",
       "      <td>SRX2431046</td>\n",
       "      <td>SRR5115675</td>\n",
       "      <td>paired_end</td>\n",
       "    </tr>\n",
       "  </tbody>\n",
       "</table>\n",
       "<p>306 rows × 13 columns</p>\n",
       "</div>"
      ],
      "text/plain": [
       "                                strain  \\\n",
       "GSM3358341  strain background: C57BL/6   \n",
       "GSM3358342  strain background: C57BL/6   \n",
       "GSM3358343  strain background: C57BL/6   \n",
       "GSM3358344  strain background: C57BL/6   \n",
       "GSM4369021                 strain: C3H   \n",
       "...                                ...   \n",
       "GSM5737077                      4F het   \n",
       "GSM5737078                      4F het   \n",
       "GSM2430558              strain: C3B6F1   \n",
       "GSM2430559              strain: C3B6F1   \n",
       "GSM2430560              strain: C3B6F1   \n",
       "\n",
       "                                            tissue             age age(month)  \\\n",
       "GSM3358341                     tissue: whole liver    age: 6 weeks          1   \n",
       "GSM3358342                     tissue: whole liver    age: 6 weeks          1   \n",
       "GSM3358343                     tissue: whole liver    age: 6 weeks          1   \n",
       "GSM3358344                     tissue: whole liver    age: 6 weeks          1   \n",
       "GSM4369021  treatment type: Non-Irradiated Control   time: 1 month          1   \n",
       "...                                            ...             ...        ...   \n",
       "GSM5737077                   R26::rtTA het C57BL/6             NaN  26 months   \n",
       "GSM5737078                   R26::rtTA het C57BL/6             NaN  26 months   \n",
       "GSM2430558                           tissue: liver  age: 26 months         26   \n",
       "GSM2430559                           tissue: liver  age: 26 months         26   \n",
       "GSM2430560                           tissue: liver  age: 26 months         26   \n",
       "\n",
       "                    Sex                genotype  series_id  \\\n",
       "GSM3358341  Sex: Female  genotype/variation: WT  GSE119119   \n",
       "GSM3358342  Sex: Female  genotype/variation: WT  GSE119119   \n",
       "GSM3358343    Sex: Male  genotype/variation: WT  GSE119119   \n",
       "GSM3358344    Sex: Male  genotype/variation: WT  GSE119119   \n",
       "GSM4369021    Sex: Male                     NaN  GSE146254   \n",
       "...                 ...                     ...        ...   \n",
       "GSM5737077           26               Sex: Male        NaN   \n",
       "GSM5737078           26             Sex: Female        NaN   \n",
       "GSM2430558  Sex: Female                     NaN   GSE92486   \n",
       "GSM2430559  Sex: Female                     NaN   GSE92486   \n",
       "GSM2430560  Sex: Female                     NaN   GSE92486   \n",
       "\n",
       "                                                     relation  \\\n",
       "GSM3358341  BioSample: https://www.ncbi.nlm.nih.gov/biosam...   \n",
       "GSM3358342  BioSample: https://www.ncbi.nlm.nih.gov/biosam...   \n",
       "GSM3358343  BioSample: https://www.ncbi.nlm.nih.gov/biosam...   \n",
       "GSM3358344  BioSample: https://www.ncbi.nlm.nih.gov/biosam...   \n",
       "GSM4369021  ['BioSample: https://www.ncbi.nlm.nih.gov/bios...   \n",
       "...                                                       ...   \n",
       "GSM5737077                                GSE190985 GSE190986   \n",
       "GSM5737078                                GSE190985 GSE190986   \n",
       "GSM2430558  BioSample: https://www.ncbi.nlm.nih.gov/biosam...   \n",
       "GSM2430559  BioSample: https://www.ncbi.nlm.nih.gov/biosam...   \n",
       "GSM2430560  BioSample: https://www.ncbi.nlm.nih.gov/biosam...   \n",
       "\n",
       "                                                 molecule_ch1  \\\n",
       "GSM3358341                                          total RNA   \n",
       "GSM3358342                                          total RNA   \n",
       "GSM3358343                                          total RNA   \n",
       "GSM3358344                                          total RNA   \n",
       "GSM4369021   'SRA: https://www.ncbi.nlm.nih.gov/sra?term=S...   \n",
       "...                                                       ...   \n",
       "GSM5737077                                                NaN   \n",
       "GSM5737078                                                NaN   \n",
       "GSM2430558                                          total RNA   \n",
       "GSM2430559                                          total RNA   \n",
       "GSM2430560                                          total RNA   \n",
       "\n",
       "               instrument_model         SRA          SRR         end  \n",
       "GSM3358341  Illumina HiSeq 4000  SRX4616734   SRR7761109  single_end  \n",
       "GSM3358342  Illumina HiSeq 4000  SRX4616735   SRR7761110  single_end  \n",
       "GSM3358343  Illumina HiSeq 4000  SRX4616736   SRR7761111  single_end  \n",
       "GSM3358344  Illumina HiSeq 4000  SRX4616737   SRR7761112  single_end  \n",
       "GSM4369021        ['total RNA']         NaN  SRR11216550  paired_end  \n",
       "...                         ...         ...          ...         ...  \n",
       "GSM5737077                  NaN         NaN  SRR17261704  single_end  \n",
       "GSM5737078                  NaN         NaN  SRR17261705  single_end  \n",
       "GSM2430558  Illumina HiSeq 2500  SRX2431047   SRR5115673  paired_end  \n",
       "GSM2430559  Illumina HiSeq 2500  SRX2431045   SRR5115674  paired_end  \n",
       "GSM2430560  Illumina HiSeq 2500  SRX2431046   SRR5115675  paired_end  \n",
       "\n",
       "[306 rows x 13 columns]"
      ]
     },
     "execution_count": 253,
     "metadata": {},
     "output_type": "execute_result"
    }
   ],
   "source": [
    "df"
   ]
  },
  {
   "cell_type": "code",
   "execution_count": 255,
   "id": "def50ba5",
   "metadata": {},
   "outputs": [],
   "source": [
    "df.to_csv(\"liver_final.csv\")"
   ]
  },
  {
   "cell_type": "code",
   "execution_count": 389,
   "id": "4a32d22e",
   "metadata": {},
   "outputs": [],
   "source": [
    "df = pd.read_csv (\"liver_final.csv\", sep=',',index_col=\"Unnamed: 0\", header=0)"
   ]
  },
  {
   "cell_type": "code",
   "execution_count": 390,
   "id": "ebe64355",
   "metadata": {
    "scrolled": true
   },
   "outputs": [
    {
     "data": {
      "text/html": [
       "<div>\n",
       "<style scoped>\n",
       "    .dataframe tbody tr th:only-of-type {\n",
       "        vertical-align: middle;\n",
       "    }\n",
       "\n",
       "    .dataframe tbody tr th {\n",
       "        vertical-align: top;\n",
       "    }\n",
       "\n",
       "    .dataframe thead th {\n",
       "        text-align: right;\n",
       "    }\n",
       "</style>\n",
       "<table border=\"1\" class=\"dataframe\">\n",
       "  <thead>\n",
       "    <tr style=\"text-align: right;\">\n",
       "      <th></th>\n",
       "      <th>strain</th>\n",
       "      <th>tissue</th>\n",
       "      <th>age</th>\n",
       "      <th>age(month)</th>\n",
       "      <th>Sex</th>\n",
       "      <th>genotype</th>\n",
       "      <th>series_id</th>\n",
       "      <th>relation</th>\n",
       "      <th>molecule_ch1</th>\n",
       "      <th>Type-RNA</th>\n",
       "      <th>SRA</th>\n",
       "      <th>SRR</th>\n",
       "      <th>end</th>\n",
       "      <th>age_class</th>\n",
       "    </tr>\n",
       "  </thead>\n",
       "  <tbody>\n",
       "    <tr>\n",
       "      <th>GSM3358341</th>\n",
       "      <td>strain background: C57BL/6</td>\n",
       "      <td>tissue: whole liver</td>\n",
       "      <td>age: 6 weeks</td>\n",
       "      <td>1</td>\n",
       "      <td>Sex: Female</td>\n",
       "      <td>genotype/variation: WT</td>\n",
       "      <td>GSE119119</td>\n",
       "      <td>BioSample: https://www.ncbi.nlm.nih.gov/biosam...</td>\n",
       "      <td>NaN</td>\n",
       "      <td>total RNA</td>\n",
       "      <td>SRX4616734</td>\n",
       "      <td>SRR7761109</td>\n",
       "      <td>single_end</td>\n",
       "      <td>class1</td>\n",
       "    </tr>\n",
       "    <tr>\n",
       "      <th>GSM3358342</th>\n",
       "      <td>strain background: C57BL/6</td>\n",
       "      <td>tissue: whole liver</td>\n",
       "      <td>age: 6 weeks</td>\n",
       "      <td>1</td>\n",
       "      <td>Sex: Female</td>\n",
       "      <td>genotype/variation: WT</td>\n",
       "      <td>GSE119119</td>\n",
       "      <td>BioSample: https://www.ncbi.nlm.nih.gov/biosam...</td>\n",
       "      <td>NaN</td>\n",
       "      <td>total RNA</td>\n",
       "      <td>SRX4616735</td>\n",
       "      <td>SRR7761110</td>\n",
       "      <td>single_end</td>\n",
       "      <td>class1</td>\n",
       "    </tr>\n",
       "    <tr>\n",
       "      <th>GSM3358343</th>\n",
       "      <td>strain background: C57BL/6</td>\n",
       "      <td>tissue: whole liver</td>\n",
       "      <td>age: 6 weeks</td>\n",
       "      <td>1</td>\n",
       "      <td>Sex: Male</td>\n",
       "      <td>genotype/variation: WT</td>\n",
       "      <td>GSE119119</td>\n",
       "      <td>BioSample: https://www.ncbi.nlm.nih.gov/biosam...</td>\n",
       "      <td>NaN</td>\n",
       "      <td>total RNA</td>\n",
       "      <td>SRX4616736</td>\n",
       "      <td>SRR7761111</td>\n",
       "      <td>single_end</td>\n",
       "      <td>class1</td>\n",
       "    </tr>\n",
       "    <tr>\n",
       "      <th>GSM3358344</th>\n",
       "      <td>strain background: C57BL/6</td>\n",
       "      <td>tissue: whole liver</td>\n",
       "      <td>age: 6 weeks</td>\n",
       "      <td>1</td>\n",
       "      <td>Sex: Male</td>\n",
       "      <td>genotype/variation: WT</td>\n",
       "      <td>GSE119119</td>\n",
       "      <td>BioSample: https://www.ncbi.nlm.nih.gov/biosam...</td>\n",
       "      <td>NaN</td>\n",
       "      <td>total RNA</td>\n",
       "      <td>SRX4616737</td>\n",
       "      <td>SRR7761112</td>\n",
       "      <td>single_end</td>\n",
       "      <td>class1</td>\n",
       "    </tr>\n",
       "    <tr>\n",
       "      <th>GSM4369021</th>\n",
       "      <td>strain: C3H</td>\n",
       "      <td>treatment type: Non-Irradiated Control</td>\n",
       "      <td>time: 1 month</td>\n",
       "      <td>1</td>\n",
       "      <td>Sex: Male</td>\n",
       "      <td>NaN</td>\n",
       "      <td>GSE146254</td>\n",
       "      <td>['BioSample: https://www.ncbi.nlm.nih.gov/bios...</td>\n",
       "      <td>'SRA: https://www.ncbi.nlm.nih.gov/sra?term=S...</td>\n",
       "      <td>['total RNA']</td>\n",
       "      <td>NaN</td>\n",
       "      <td>SRR11216550</td>\n",
       "      <td>paired_end</td>\n",
       "      <td>class1</td>\n",
       "    </tr>\n",
       "    <tr>\n",
       "      <th>...</th>\n",
       "      <td>...</td>\n",
       "      <td>...</td>\n",
       "      <td>...</td>\n",
       "      <td>...</td>\n",
       "      <td>...</td>\n",
       "      <td>...</td>\n",
       "      <td>...</td>\n",
       "      <td>...</td>\n",
       "      <td>...</td>\n",
       "      <td>...</td>\n",
       "      <td>...</td>\n",
       "      <td>...</td>\n",
       "      <td>...</td>\n",
       "      <td>...</td>\n",
       "    </tr>\n",
       "    <tr>\n",
       "      <th>GSM5737077</th>\n",
       "      <td>4F het</td>\n",
       "      <td>R26::rtTA het C57BL/6</td>\n",
       "      <td>26 months</td>\n",
       "      <td>26</td>\n",
       "      <td>Sex: Male</td>\n",
       "      <td>NaN</td>\n",
       "      <td>GSE190985 GSE190986</td>\n",
       "      <td>NaN</td>\n",
       "      <td>NaN</td>\n",
       "      <td>NaN</td>\n",
       "      <td>NaN</td>\n",
       "      <td>SRR17261704</td>\n",
       "      <td>single_end</td>\n",
       "      <td>class4</td>\n",
       "    </tr>\n",
       "    <tr>\n",
       "      <th>GSM5737078</th>\n",
       "      <td>4F het</td>\n",
       "      <td>R26::rtTA het C57BL/6</td>\n",
       "      <td>26 months</td>\n",
       "      <td>26</td>\n",
       "      <td>Sex: Female</td>\n",
       "      <td>NaN</td>\n",
       "      <td>GSE190985 GSE190986</td>\n",
       "      <td>NaN</td>\n",
       "      <td>NaN</td>\n",
       "      <td>NaN</td>\n",
       "      <td>NaN</td>\n",
       "      <td>SRR17261705</td>\n",
       "      <td>single_end</td>\n",
       "      <td>class4</td>\n",
       "    </tr>\n",
       "    <tr>\n",
       "      <th>GSM2430558</th>\n",
       "      <td>strain: C3B6F1</td>\n",
       "      <td>tissue: liver</td>\n",
       "      <td>age: 26 months</td>\n",
       "      <td>26</td>\n",
       "      <td>Sex: Female</td>\n",
       "      <td>NaN</td>\n",
       "      <td>GSE92486</td>\n",
       "      <td>BioSample: https://www.ncbi.nlm.nih.gov/biosam...</td>\n",
       "      <td>NaN</td>\n",
       "      <td>total RNA</td>\n",
       "      <td>SRX2431047</td>\n",
       "      <td>SRR5115673</td>\n",
       "      <td>paired_end</td>\n",
       "      <td>class4</td>\n",
       "    </tr>\n",
       "    <tr>\n",
       "      <th>GSM2430559</th>\n",
       "      <td>strain: C3B6F1</td>\n",
       "      <td>tissue: liver</td>\n",
       "      <td>age: 26 months</td>\n",
       "      <td>26</td>\n",
       "      <td>Sex: Female</td>\n",
       "      <td>NaN</td>\n",
       "      <td>GSE92486</td>\n",
       "      <td>BioSample: https://www.ncbi.nlm.nih.gov/biosam...</td>\n",
       "      <td>NaN</td>\n",
       "      <td>total RNA</td>\n",
       "      <td>SRX2431045</td>\n",
       "      <td>SRR5115674</td>\n",
       "      <td>paired_end</td>\n",
       "      <td>class4</td>\n",
       "    </tr>\n",
       "    <tr>\n",
       "      <th>GSM2430560</th>\n",
       "      <td>strain: C3B6F1</td>\n",
       "      <td>tissue: liver</td>\n",
       "      <td>age: 26 months</td>\n",
       "      <td>26</td>\n",
       "      <td>Sex: Female</td>\n",
       "      <td>NaN</td>\n",
       "      <td>GSE92486</td>\n",
       "      <td>BioSample: https://www.ncbi.nlm.nih.gov/biosam...</td>\n",
       "      <td>NaN</td>\n",
       "      <td>total RNA</td>\n",
       "      <td>SRX2431046</td>\n",
       "      <td>SRR5115675</td>\n",
       "      <td>paired_end</td>\n",
       "      <td>class4</td>\n",
       "    </tr>\n",
       "  </tbody>\n",
       "</table>\n",
       "<p>296 rows × 14 columns</p>\n",
       "</div>"
      ],
      "text/plain": [
       "                                strain  \\\n",
       "GSM3358341  strain background: C57BL/6   \n",
       "GSM3358342  strain background: C57BL/6   \n",
       "GSM3358343  strain background: C57BL/6   \n",
       "GSM3358344  strain background: C57BL/6   \n",
       "GSM4369021                 strain: C3H   \n",
       "...                                ...   \n",
       "GSM5737077                      4F het   \n",
       "GSM5737078                      4F het   \n",
       "GSM2430558              strain: C3B6F1   \n",
       "GSM2430559              strain: C3B6F1   \n",
       "GSM2430560              strain: C3B6F1   \n",
       "\n",
       "                                            tissue             age  \\\n",
       "GSM3358341                     tissue: whole liver    age: 6 weeks   \n",
       "GSM3358342                     tissue: whole liver    age: 6 weeks   \n",
       "GSM3358343                     tissue: whole liver    age: 6 weeks   \n",
       "GSM3358344                     tissue: whole liver    age: 6 weeks   \n",
       "GSM4369021  treatment type: Non-Irradiated Control   time: 1 month   \n",
       "...                                            ...             ...   \n",
       "GSM5737077                   R26::rtTA het C57BL/6       26 months   \n",
       "GSM5737078                   R26::rtTA het C57BL/6       26 months   \n",
       "GSM2430558                           tissue: liver  age: 26 months   \n",
       "GSM2430559                           tissue: liver  age: 26 months   \n",
       "GSM2430560                           tissue: liver  age: 26 months   \n",
       "\n",
       "            age(month)          Sex                genotype  \\\n",
       "GSM3358341           1  Sex: Female  genotype/variation: WT   \n",
       "GSM3358342           1  Sex: Female  genotype/variation: WT   \n",
       "GSM3358343           1    Sex: Male  genotype/variation: WT   \n",
       "GSM3358344           1    Sex: Male  genotype/variation: WT   \n",
       "GSM4369021           1    Sex: Male                     NaN   \n",
       "...                ...          ...                     ...   \n",
       "GSM5737077          26    Sex: Male                     NaN   \n",
       "GSM5737078          26  Sex: Female                     NaN   \n",
       "GSM2430558          26  Sex: Female                     NaN   \n",
       "GSM2430559          26  Sex: Female                     NaN   \n",
       "GSM2430560          26  Sex: Female                     NaN   \n",
       "\n",
       "                      series_id  \\\n",
       "GSM3358341            GSE119119   \n",
       "GSM3358342            GSE119119   \n",
       "GSM3358343            GSE119119   \n",
       "GSM3358344            GSE119119   \n",
       "GSM4369021            GSE146254   \n",
       "...                         ...   \n",
       "GSM5737077  GSE190985 GSE190986   \n",
       "GSM5737078  GSE190985 GSE190986   \n",
       "GSM2430558             GSE92486   \n",
       "GSM2430559             GSE92486   \n",
       "GSM2430560             GSE92486   \n",
       "\n",
       "                                                     relation  \\\n",
       "GSM3358341  BioSample: https://www.ncbi.nlm.nih.gov/biosam...   \n",
       "GSM3358342  BioSample: https://www.ncbi.nlm.nih.gov/biosam...   \n",
       "GSM3358343  BioSample: https://www.ncbi.nlm.nih.gov/biosam...   \n",
       "GSM3358344  BioSample: https://www.ncbi.nlm.nih.gov/biosam...   \n",
       "GSM4369021  ['BioSample: https://www.ncbi.nlm.nih.gov/bios...   \n",
       "...                                                       ...   \n",
       "GSM5737077                                                NaN   \n",
       "GSM5737078                                                NaN   \n",
       "GSM2430558  BioSample: https://www.ncbi.nlm.nih.gov/biosam...   \n",
       "GSM2430559  BioSample: https://www.ncbi.nlm.nih.gov/biosam...   \n",
       "GSM2430560  BioSample: https://www.ncbi.nlm.nih.gov/biosam...   \n",
       "\n",
       "                                                 molecule_ch1       Type-RNA  \\\n",
       "GSM3358341                                                NaN      total RNA   \n",
       "GSM3358342                                                NaN      total RNA   \n",
       "GSM3358343                                                NaN      total RNA   \n",
       "GSM3358344                                                NaN      total RNA   \n",
       "GSM4369021   'SRA: https://www.ncbi.nlm.nih.gov/sra?term=S...  ['total RNA']   \n",
       "...                                                       ...            ...   \n",
       "GSM5737077                                                NaN            NaN   \n",
       "GSM5737078                                                NaN            NaN   \n",
       "GSM2430558                                                NaN      total RNA   \n",
       "GSM2430559                                                NaN      total RNA   \n",
       "GSM2430560                                                NaN      total RNA   \n",
       "\n",
       "                   SRA          SRR         end age_class  \n",
       "GSM3358341  SRX4616734   SRR7761109  single_end    class1  \n",
       "GSM3358342  SRX4616735   SRR7761110  single_end    class1  \n",
       "GSM3358343  SRX4616736   SRR7761111  single_end    class1  \n",
       "GSM3358344  SRX4616737   SRR7761112  single_end    class1  \n",
       "GSM4369021         NaN  SRR11216550  paired_end    class1  \n",
       "...                ...          ...         ...       ...  \n",
       "GSM5737077         NaN  SRR17261704  single_end    class4  \n",
       "GSM5737078         NaN  SRR17261705  single_end    class4  \n",
       "GSM2430558  SRX2431047   SRR5115673  paired_end    class4  \n",
       "GSM2430559  SRX2431045   SRR5115674  paired_end    class4  \n",
       "GSM2430560  SRX2431046   SRR5115675  paired_end    class4  \n",
       "\n",
       "[296 rows x 14 columns]"
      ]
     },
     "execution_count": 390,
     "metadata": {},
     "output_type": "execute_result"
    }
   ],
   "source": [
    "df"
   ]
  },
  {
   "cell_type": "code",
   "execution_count": 360,
   "id": "b55d4585",
   "metadata": {},
   "outputs": [],
   "source": [
    "df['age_class']='NA'"
   ]
  },
  {
   "cell_type": "code",
   "execution_count": 364,
   "id": "1475f15e",
   "metadata": {},
   "outputs": [],
   "source": [
    "for index in df.index:\n",
    "    num=df.loc[index,'age(month)']\n",
    "    num=float(num)\n",
    "    if(num<6):\n",
    "        df.loc[index,'age_class']='class1'\n",
    "    elif(num>=6 and num<12):\n",
    "        df.loc[index,'age_class']='class2'\n",
    "    elif(num>=12 and num<18):\n",
    "        df.loc[index,'age_class']='class3'\n",
    "    else:\n",
    "        df.loc[index,'age_class']='class4'"
   ]
  },
  {
   "cell_type": "code",
   "execution_count": 32,
   "id": "f8ee4e38",
   "metadata": {},
   "outputs": [
    {
     "data": {
      "text/plain": [
       "age_class  Sex        \n",
       "class1     Male           40\n",
       "           Sex: Female    26\n",
       "class2     Male           66\n",
       "           Sex: Female    57\n",
       "class3     Male           43\n",
       "           Sex: Female    16\n",
       "class4     Male           29\n",
       "           Sex: Female    17\n",
       "Name: Sex, dtype: int64"
      ]
     },
     "execution_count": 32,
     "metadata": {},
     "output_type": "execute_result"
    }
   ],
   "source": [
    "df.groupby('age_class')['Sex'].value_counts()"
   ]
  },
  {
   "cell_type": "code",
   "execution_count": 382,
   "id": "5f7c4663",
   "metadata": {},
   "outputs": [],
   "source": [
    "df.to_csv(\"liver_final.csv\")"
   ]
  },
  {
   "cell_type": "markdown",
   "id": "8455732c",
   "metadata": {},
   "source": [
    "### SRR"
   ]
  },
  {
   "cell_type": "code",
   "execution_count": 185,
   "id": "7f3d94ac",
   "metadata": {},
   "outputs": [],
   "source": [
    "list_SRR_total=list(df['SRR'])"
   ]
  },
  {
   "cell_type": "code",
   "execution_count": 186,
   "id": "72474f4e",
   "metadata": {},
   "outputs": [
    {
     "data": {
      "text/plain": [
       "306"
      ]
     },
     "execution_count": 186,
     "metadata": {},
     "output_type": "execute_result"
    }
   ],
   "source": [
    "len(list_SRR_total)"
   ]
  },
  {
   "cell_type": "code",
   "execution_count": 256,
   "id": "2930937f",
   "metadata": {},
   "outputs": [],
   "source": [
    "your_path = '/home/storage_1/yuping/raw_data/liver_BAM'\n",
    "files = os.listdir(your_path)\n",
    "list_SRR=[]\n",
    "for file in files:\n",
    "    x=file.split('A')\n",
    "    list_SRR.append(x[0])"
   ]
  },
  {
   "cell_type": "code",
   "execution_count": 257,
   "id": "25a00e45",
   "metadata": {},
   "outputs": [],
   "source": [
    "list_SRR_reste=list(set(list_SRR_total)-set(list_SRR))"
   ]
  },
  {
   "cell_type": "code",
   "execution_count": 258,
   "id": "88c07611",
   "metadata": {},
   "outputs": [
    {
     "data": {
      "text/plain": [
       "48"
      ]
     },
     "execution_count": 258,
     "metadata": {},
     "output_type": "execute_result"
    }
   ],
   "source": [
    "len(list_SRR_reste)"
   ]
  },
  {
   "cell_type": "code",
   "execution_count": 259,
   "id": "4d160883",
   "metadata": {},
   "outputs": [],
   "source": [
    "file_wite_obj=open(\"sra_liver_reste.txt\",\"w\")\n",
    "for var in list_SRR_reste:\n",
    "    file_wite_obj.writelines(var)\n",
    "    file_wite_obj.write('\\n')\n",
    "file_wite_obj.close()"
   ]
  },
  {
   "cell_type": "markdown",
   "id": "46190d35",
   "metadata": {},
   "source": [
    "### list of the single end and paired end"
   ]
  },
  {
   "cell_type": "code",
   "execution_count": 267,
   "id": "8d3585ab",
   "metadata": {},
   "outputs": [],
   "source": [
    "df_single_end=df[df['end']=='single_end']"
   ]
  },
  {
   "cell_type": "code",
   "execution_count": 271,
   "id": "94ca3741",
   "metadata": {},
   "outputs": [],
   "source": [
    "single_end_list=list(df_single_end.SRR)"
   ]
  },
  {
   "cell_type": "code",
   "execution_count": 276,
   "id": "3f9dbd8e",
   "metadata": {},
   "outputs": [],
   "source": [
    "single_end_list2=[]\n",
    "for i in single_end_list:\n",
    "    single_end_list2.append(f'{i}Aligned.sortedByCoord.out.bam')\n",
    "    "
   ]
  },
  {
   "cell_type": "code",
   "execution_count": 279,
   "id": "7ff8e80e",
   "metadata": {},
   "outputs": [],
   "source": [
    "textfile = open(\"single_end_list.txt\", \"w\")\n",
    "for element in single_end_list2:\n",
    "    textfile.write(element + \"\\n\")\n",
    "textfile.close()\n"
   ]
  },
  {
   "cell_type": "code",
   "execution_count": 342,
   "id": "fbd58a30",
   "metadata": {},
   "outputs": [],
   "source": [
    "df_paired_end=df[df['end']=='paired_end']"
   ]
  },
  {
   "cell_type": "code",
   "execution_count": 343,
   "id": "37a351fd",
   "metadata": {},
   "outputs": [],
   "source": [
    "paired_end_list=list(df_paired_end.SRR)\n"
   ]
  },
  {
   "cell_type": "code",
   "execution_count": 344,
   "id": "e9a215d7",
   "metadata": {},
   "outputs": [],
   "source": [
    "paired_end_list2=[]\n",
    "for i in paired_end_list:\n",
    "    paired_end_list2.append(f'{i}Aligned.sortedByCoord.out.bam')"
   ]
  },
  {
   "cell_type": "code",
   "execution_count": 345,
   "id": "a45c0f0b",
   "metadata": {},
   "outputs": [],
   "source": [
    "textfile = open(\"paired_end_list.txt\", \"w\")\n",
    "for element in paired_end_list2:\n",
    "    textfile.write(element + \"\\n\")\n",
    "textfile.close()"
   ]
  },
  {
   "cell_type": "code",
   "execution_count": null,
   "id": "1374935d",
   "metadata": {},
   "outputs": [],
   "source": []
  },
  {
   "cell_type": "code",
   "execution_count": null,
   "id": "a2cf9e78",
   "metadata": {},
   "outputs": [],
   "source": []
  },
  {
   "cell_type": "markdown",
   "id": "8d5eefce",
   "metadata": {},
   "source": [
    "### read GTF for the matrix scanpy"
   ]
  },
  {
   "cell_type": "code",
   "execution_count": 280,
   "id": "dd9f463d",
   "metadata": {},
   "outputs": [],
   "source": [
    "from collections import defaultdict\n",
    "import gzip\n",
    "import pandas as pd\n",
    "import re"
   ]
  },
  {
   "cell_type": "code",
   "execution_count": 288,
   "id": "4eb74e6d",
   "metadata": {},
   "outputs": [],
   "source": [
    "path_file='/home/storage_1/yuping/index_star_mouseGRC39/gencode.vM28.annotation.gtf'"
   ]
  },
  {
   "cell_type": "code",
   "execution_count": 281,
   "id": "8e1e213d",
   "metadata": {},
   "outputs": [],
   "source": [
    "GTF_HEADER  = ['seqname', 'source', 'feature', 'start', 'end', 'score',\n",
    "               'strand', 'frame']\n",
    "R_SEMICOLON = re.compile(r'\\s*;\\s*')\n",
    "R_COMMA     = re.compile(r'\\s*,\\s*')\n",
    "R_KEYVALUE  = re.compile(r'(\\s+|\\s*=\\s*)')\n",
    "\n",
    "\n",
    "def dataframe(filename):\n",
    "    \"\"\"Open an optionally gzipped GTF file and return a pandas.DataFrame.\n",
    "    \"\"\"\n",
    "    # Each column is a list stored as a value in this dict.\n",
    "    result = defaultdict(list)\n",
    "\n",
    "    for i, line in enumerate(lines(filename)):\n",
    "        for key in line.keys():\n",
    "            # This key has not been seen yet, so set it to None for all\n",
    "            # previous lines.\n",
    "            if key not in result:\n",
    "                result[key] = [None] * i\n",
    "\n",
    "        # Ensure this row has some value for each column.\n",
    "        for key in result.keys():\n",
    "            result[key].append(line.get(key, None))\n",
    "\n",
    "    return pd.DataFrame(result)\n",
    "\n",
    "\n",
    "def lines(filename):\n",
    "    \"\"\"Open an optionally gzipped GTF file and generate a dict for each line.\n",
    "    \"\"\"\n",
    "    fn_open = gzip.open if filename.endswith('.gz') else open\n",
    "\n",
    "    with fn_open(filename) as fh:\n",
    "        for line in fh:\n",
    "            if line.startswith('#'):\n",
    "                continue\n",
    "            else:\n",
    "                yield parse(line)\n",
    "\n",
    "\n",
    "def parse(line):\n",
    "    \"\"\"Parse a single GTF line and return a dict.\n",
    "    \"\"\"\n",
    "    result = {}\n",
    "\n",
    "    fields = line.rstrip().split('\\t')\n",
    "\n",
    "    for i, col in enumerate(GTF_HEADER):\n",
    "        result[col] = _get_value(fields[i])\n",
    "\n",
    "    # INFO field consists of \"key1=value;key2=value;...\".\n",
    "    infos = [x for x in re.split(R_SEMICOLON, fields[8]) if x.strip()]\n",
    "\n",
    "    for i, info in enumerate(infos, 1):\n",
    "        # It should be key=\"value\".\n",
    "        try:\n",
    "            key, _, value = re.split(R_KEYVALUE, info, 1)\n",
    "        # But sometimes it is just \"value\".\n",
    "        except ValueError:\n",
    "            key = 'INFO{}'.format(i)\n",
    "            value = info\n",
    "        # Ignore the field if there is no value.\n",
    "        if value:\n",
    "            result[key] = _get_value(value)\n",
    "\n",
    "    return result\n",
    "\n",
    "\n",
    "def _get_value(value):\n",
    "    if not value:\n",
    "        return None\n",
    "\n",
    "    # Strip double and single quotes.\n",
    "    value = value.strip('\"\\'')\n",
    "\n",
    "    # Return a list if the value has a comma.\n",
    "    if ',' in value:\n",
    "        value = re.split(R_COMMA, value)\n",
    "    # These values are equivalent to None.\n",
    "    elif value in ['', '.', 'NA']:\n",
    "        return None\n",
    "\n",
    "    return value"
   ]
  },
  {
   "cell_type": "code",
   "execution_count": 289,
   "id": "dc0bc745",
   "metadata": {},
   "outputs": [],
   "source": [
    "x=dataframe(path_file)"
   ]
  },
  {
   "cell_type": "code",
   "execution_count": 291,
   "id": "88d48301",
   "metadata": {},
   "outputs": [],
   "source": [
    "data_annotation=x[['seqname','gene_id','gene_type','feature']]"
   ]
  },
  {
   "cell_type": "code",
   "execution_count": 298,
   "id": "8ec35e1d",
   "metadata": {},
   "outputs": [],
   "source": [
    "data_annotation.to_csv(\"annotation_RNA.csv\")"
   ]
  },
  {
   "cell_type": "code",
   "execution_count": 293,
   "id": "aa150db7",
   "metadata": {},
   "outputs": [],
   "source": [
    "data_annotation.set_index(['gene_id'],inplace=True)"
   ]
  },
  {
   "cell_type": "code",
   "execution_count": 297,
   "id": "c94b701f",
   "metadata": {},
   "outputs": [
    {
     "data": {
      "text/plain": [
       "protein_coding                        1709040\n",
       "lncRNA                                  73668\n",
       "processed_pseudogene                    31093\n",
       "unprocessed_pseudogene                  12124\n",
       "TEC                                      9893\n",
       "miRNA                                    6603\n",
       "snoRNA                                   4521\n",
       "transcribed_unprocessed_pseudogene       4364\n",
       "snRNA                                    4143\n",
       "polymorphic_pseudogene                   2298\n",
       "transcribed_processed_pseudogene         2079\n",
       "IG_V_gene                                2000\n",
       "misc_RNA                                 1686\n",
       "TR_V_gene                                1350\n",
       "rRNA                                     1062\n",
       "transcribed_unitary_pseudogene            689\n",
       "IG_V_pseudogene                           587\n",
       "unitary_pseudogene                        419\n",
       "TR_J_gene                                 292\n",
       "pseudogene                                277\n",
       "IG_C_gene                                 246\n",
       "scaRNA                                    153\n",
       "TR_C_gene                                 115\n",
       "TR_V_pseudogene                           115\n",
       "IG_D_gene                                  78\n",
       "ribozyme                                   66\n",
       "Mt_tRNA                                    66\n",
       "IG_J_gene                                  64\n",
       "TR_J_pseudogene                            30\n",
       "IG_LV_gene                                 22\n",
       "TR_D_gene                                  18\n",
       "translated_unprocessed_pseudogene          12\n",
       "IG_D_pseudogene                            12\n",
       "sRNA                                        6\n",
       "Mt_rRNA                                     6\n",
       "IG_C_pseudogene                             5\n",
       "IG_pseudogene                               4\n",
       "scRNA                                       3\n",
       "Name: gene_type, dtype: int64"
      ]
     },
     "execution_count": 297,
     "metadata": {},
     "output_type": "execute_result"
    }
   ],
   "source": [
    "data_annotation['gene_type'].value_counts()"
   ]
  },
  {
   "cell_type": "code",
   "execution_count": 299,
   "id": "37d638c1",
   "metadata": {},
   "outputs": [],
   "source": [
    "data_annotation.to_csv('annatation_grf.txt')"
   ]
  },
  {
   "cell_type": "code",
   "execution_count": 311,
   "id": "33b812ea",
   "metadata": {},
   "outputs": [
    {
     "data": {
      "text/html": [
       "<div>\n",
       "<style scoped>\n",
       "    .dataframe tbody tr th:only-of-type {\n",
       "        vertical-align: middle;\n",
       "    }\n",
       "\n",
       "    .dataframe tbody tr th {\n",
       "        vertical-align: top;\n",
       "    }\n",
       "\n",
       "    .dataframe thead th {\n",
       "        text-align: right;\n",
       "    }\n",
       "</style>\n",
       "<table border=\"1\" class=\"dataframe\">\n",
       "  <thead>\n",
       "    <tr style=\"text-align: right;\">\n",
       "      <th></th>\n",
       "      <th>seqname</th>\n",
       "      <th>gene_type</th>\n",
       "      <th>feature</th>\n",
       "    </tr>\n",
       "    <tr>\n",
       "      <th>gene_id</th>\n",
       "      <th></th>\n",
       "      <th></th>\n",
       "      <th></th>\n",
       "    </tr>\n",
       "  </thead>\n",
       "  <tbody>\n",
       "    <tr>\n",
       "      <th>ENSMUSG00000102693.2</th>\n",
       "      <td>chr1</td>\n",
       "      <td>TEC</td>\n",
       "      <td>gene</td>\n",
       "    </tr>\n",
       "    <tr>\n",
       "      <th>ENSMUSG00000102693.2</th>\n",
       "      <td>chr1</td>\n",
       "      <td>TEC</td>\n",
       "      <td>transcript</td>\n",
       "    </tr>\n",
       "    <tr>\n",
       "      <th>ENSMUSG00000102693.2</th>\n",
       "      <td>chr1</td>\n",
       "      <td>TEC</td>\n",
       "      <td>exon</td>\n",
       "    </tr>\n",
       "    <tr>\n",
       "      <th>ENSMUSG00000064842.3</th>\n",
       "      <td>chr1</td>\n",
       "      <td>snRNA</td>\n",
       "      <td>gene</td>\n",
       "    </tr>\n",
       "    <tr>\n",
       "      <th>ENSMUSG00000064842.3</th>\n",
       "      <td>chr1</td>\n",
       "      <td>snRNA</td>\n",
       "      <td>transcript</td>\n",
       "    </tr>\n",
       "    <tr>\n",
       "      <th>...</th>\n",
       "      <td>...</td>\n",
       "      <td>...</td>\n",
       "      <td>...</td>\n",
       "    </tr>\n",
       "    <tr>\n",
       "      <th>ENSMUSG00000064371.1</th>\n",
       "      <td>chrM</td>\n",
       "      <td>Mt_tRNA</td>\n",
       "      <td>transcript</td>\n",
       "    </tr>\n",
       "    <tr>\n",
       "      <th>ENSMUSG00000064371.1</th>\n",
       "      <td>chrM</td>\n",
       "      <td>Mt_tRNA</td>\n",
       "      <td>exon</td>\n",
       "    </tr>\n",
       "    <tr>\n",
       "      <th>ENSMUSG00000064372.1</th>\n",
       "      <td>chrM</td>\n",
       "      <td>Mt_tRNA</td>\n",
       "      <td>gene</td>\n",
       "    </tr>\n",
       "    <tr>\n",
       "      <th>ENSMUSG00000064372.1</th>\n",
       "      <td>chrM</td>\n",
       "      <td>Mt_tRNA</td>\n",
       "      <td>transcript</td>\n",
       "    </tr>\n",
       "    <tr>\n",
       "      <th>ENSMUSG00000064372.1</th>\n",
       "      <td>chrM</td>\n",
       "      <td>Mt_tRNA</td>\n",
       "      <td>exon</td>\n",
       "    </tr>\n",
       "  </tbody>\n",
       "</table>\n",
       "<p>1869209 rows × 3 columns</p>\n",
       "</div>"
      ],
      "text/plain": [
       "                     seqname gene_type     feature\n",
       "gene_id                                           \n",
       "ENSMUSG00000102693.2    chr1       TEC        gene\n",
       "ENSMUSG00000102693.2    chr1       TEC  transcript\n",
       "ENSMUSG00000102693.2    chr1       TEC        exon\n",
       "ENSMUSG00000064842.3    chr1     snRNA        gene\n",
       "ENSMUSG00000064842.3    chr1     snRNA  transcript\n",
       "...                      ...       ...         ...\n",
       "ENSMUSG00000064371.1    chrM   Mt_tRNA  transcript\n",
       "ENSMUSG00000064371.1    chrM   Mt_tRNA        exon\n",
       "ENSMUSG00000064372.1    chrM   Mt_tRNA        gene\n",
       "ENSMUSG00000064372.1    chrM   Mt_tRNA  transcript\n",
       "ENSMUSG00000064372.1    chrM   Mt_tRNA        exon\n",
       "\n",
       "[1869209 rows x 3 columns]"
      ]
     },
     "execution_count": 311,
     "metadata": {},
     "output_type": "execute_result"
    }
   ],
   "source": [
    "data_annotation"
   ]
  },
  {
   "cell_type": "code",
   "execution_count": null,
   "id": "25ec6603",
   "metadata": {},
   "outputs": [],
   "source": [
    "data=data_annotation.groupby('gene_id').apply(get_all_value)"
   ]
  },
  {
   "cell_type": "code",
   "execution_count": 319,
   "id": "8fbf7037",
   "metadata": {},
   "outputs": [],
   "source": [
    "def get_all_value(x):\n",
    "    df=x.sort_values(by='feature')\n",
    "    return df"
   ]
  },
  {
   "cell_type": "code",
   "execution_count": 331,
   "id": "fbad4509",
   "metadata": {},
   "outputs": [
    {
     "data": {
      "text/html": [
       "<div>\n",
       "<style scoped>\n",
       "    .dataframe tbody tr th:only-of-type {\n",
       "        vertical-align: middle;\n",
       "    }\n",
       "\n",
       "    .dataframe tbody tr th {\n",
       "        vertical-align: top;\n",
       "    }\n",
       "\n",
       "    .dataframe thead th {\n",
       "        text-align: right;\n",
       "    }\n",
       "</style>\n",
       "<table border=\"1\" class=\"dataframe\">\n",
       "  <thead>\n",
       "    <tr style=\"text-align: right;\">\n",
       "      <th></th>\n",
       "      <th>seqname</th>\n",
       "      <th>gene_type</th>\n",
       "    </tr>\n",
       "    <tr>\n",
       "      <th>gene_id</th>\n",
       "      <th></th>\n",
       "      <th></th>\n",
       "    </tr>\n",
       "  </thead>\n",
       "  <tbody>\n",
       "    <tr>\n",
       "      <th>ENSMUSG00000102693.2</th>\n",
       "      <td>chr1</td>\n",
       "      <td>TEC</td>\n",
       "    </tr>\n",
       "    <tr>\n",
       "      <th>ENSMUSG00000102693.2</th>\n",
       "      <td>chr1</td>\n",
       "      <td>TEC</td>\n",
       "    </tr>\n",
       "    <tr>\n",
       "      <th>ENSMUSG00000102693.2</th>\n",
       "      <td>chr1</td>\n",
       "      <td>TEC</td>\n",
       "    </tr>\n",
       "    <tr>\n",
       "      <th>ENSMUSG00000064842.3</th>\n",
       "      <td>chr1</td>\n",
       "      <td>snRNA</td>\n",
       "    </tr>\n",
       "    <tr>\n",
       "      <th>ENSMUSG00000064842.3</th>\n",
       "      <td>chr1</td>\n",
       "      <td>snRNA</td>\n",
       "    </tr>\n",
       "    <tr>\n",
       "      <th>...</th>\n",
       "      <td>...</td>\n",
       "      <td>...</td>\n",
       "    </tr>\n",
       "    <tr>\n",
       "      <th>ENSMUSG00000064371.1</th>\n",
       "      <td>chrM</td>\n",
       "      <td>Mt_tRNA</td>\n",
       "    </tr>\n",
       "    <tr>\n",
       "      <th>ENSMUSG00000064371.1</th>\n",
       "      <td>chrM</td>\n",
       "      <td>Mt_tRNA</td>\n",
       "    </tr>\n",
       "    <tr>\n",
       "      <th>ENSMUSG00000064372.1</th>\n",
       "      <td>chrM</td>\n",
       "      <td>Mt_tRNA</td>\n",
       "    </tr>\n",
       "    <tr>\n",
       "      <th>ENSMUSG00000064372.1</th>\n",
       "      <td>chrM</td>\n",
       "      <td>Mt_tRNA</td>\n",
       "    </tr>\n",
       "    <tr>\n",
       "      <th>ENSMUSG00000064372.1</th>\n",
       "      <td>chrM</td>\n",
       "      <td>Mt_tRNA</td>\n",
       "    </tr>\n",
       "  </tbody>\n",
       "</table>\n",
       "<p>1869209 rows × 2 columns</p>\n",
       "</div>"
      ],
      "text/plain": [
       "                     seqname gene_type\n",
       "gene_id                               \n",
       "ENSMUSG00000102693.2    chr1       TEC\n",
       "ENSMUSG00000102693.2    chr1       TEC\n",
       "ENSMUSG00000102693.2    chr1       TEC\n",
       "ENSMUSG00000064842.3    chr1     snRNA\n",
       "ENSMUSG00000064842.3    chr1     snRNA\n",
       "...                      ...       ...\n",
       "ENSMUSG00000064371.1    chrM   Mt_tRNA\n",
       "ENSMUSG00000064371.1    chrM   Mt_tRNA\n",
       "ENSMUSG00000064372.1    chrM   Mt_tRNA\n",
       "ENSMUSG00000064372.1    chrM   Mt_tRNA\n",
       "ENSMUSG00000064372.1    chrM   Mt_tRNA\n",
       "\n",
       "[1869209 rows x 2 columns]"
      ]
     },
     "execution_count": 331,
     "metadata": {},
     "output_type": "execute_result"
    }
   ],
   "source": [
    "data_annotation"
   ]
  },
  {
   "cell_type": "code",
   "execution_count": 333,
   "id": "79f87c8c",
   "metadata": {},
   "outputs": [],
   "source": [
    "data2=data_annotation.reset_index()"
   ]
  },
  {
   "cell_type": "code",
   "execution_count": 337,
   "id": "1c5dc0b6",
   "metadata": {},
   "outputs": [],
   "source": [
    "data3=data2.drop_duplicates().set_index('gene_id')"
   ]
  },
  {
   "cell_type": "code",
   "execution_count": 348,
   "id": "80862933",
   "metadata": {},
   "outputs": [],
   "source": [
    "data3.to_csv(\"annotation_grf.csv\")"
   ]
  },
  {
   "cell_type": "markdown",
   "id": "ff0dd8b4",
   "metadata": {},
   "source": [
    "### annotation"
   ]
  },
  {
   "cell_type": "code",
   "execution_count": 30,
   "id": "758f5ed9",
   "metadata": {},
   "outputs": [],
   "source": [
    "df = pd.read_csv (\"liver_final.csv\", sep=',',index_col=\"Unnamed: 0\", header=0)"
   ]
  },
  {
   "cell_type": "code",
   "execution_count": 3,
   "id": "38943884",
   "metadata": {},
   "outputs": [],
   "source": [
    "df_annotation=df[['Sex','SRR','age_class']]"
   ]
  },
  {
   "cell_type": "code",
   "execution_count": 4,
   "id": "6588ff9f",
   "metadata": {},
   "outputs": [],
   "source": [
    "df_annotation=df_annotation.set_index('SRR')"
   ]
  },
  {
   "cell_type": "code",
   "execution_count": 5,
   "id": "01651466",
   "metadata": {},
   "outputs": [],
   "source": [
    "liste_name=list(df_annotation.index)"
   ]
  },
  {
   "cell_type": "code",
   "execution_count": 6,
   "id": "8a61b2e6",
   "metadata": {},
   "outputs": [
    {
     "data": {
      "text/plain": [
       "296"
      ]
     },
     "execution_count": 6,
     "metadata": {},
     "output_type": "execute_result"
    }
   ],
   "source": [
    "len(set(liste_name))"
   ]
  },
  {
   "cell_type": "code",
   "execution_count": 20,
   "id": "a5c6450b",
   "metadata": {},
   "outputs": [],
   "source": [
    "df2 = pd.read_csv (\"matrice_count.csv\", sep=',',index_col=\"Unnamed: 0\", header=0)"
   ]
  },
  {
   "cell_type": "code",
   "execution_count": 8,
   "id": "76a50de5",
   "metadata": {},
   "outputs": [],
   "source": [
    "list_name=[]\n",
    "for i in df2.columns:\n",
    "    i=i.split('A')\n",
    "    list_name.append(i[0])"
   ]
  },
  {
   "cell_type": "code",
   "execution_count": 9,
   "id": "66dddbbf",
   "metadata": {},
   "outputs": [],
   "source": [
    "df2.columns=list_name"
   ]
  },
  {
   "cell_type": "code",
   "execution_count": 10,
   "id": "01473d40",
   "metadata": {},
   "outputs": [
    {
     "data": {
      "text/html": [
       "<div>\n",
       "<style scoped>\n",
       "    .dataframe tbody tr th:only-of-type {\n",
       "        vertical-align: middle;\n",
       "    }\n",
       "\n",
       "    .dataframe tbody tr th {\n",
       "        vertical-align: top;\n",
       "    }\n",
       "\n",
       "    .dataframe thead th {\n",
       "        text-align: right;\n",
       "    }\n",
       "</style>\n",
       "<table border=\"1\" class=\"dataframe\">\n",
       "  <thead>\n",
       "    <tr style=\"text-align: right;\">\n",
       "      <th></th>\n",
       "      <th>SRR7761109</th>\n",
       "      <th>SRR7761110</th>\n",
       "      <th>SRR7761111</th>\n",
       "      <th>SRR7761112</th>\n",
       "      <th>SRR9856034</th>\n",
       "      <th>SRR9856035</th>\n",
       "      <th>SRR9856036</th>\n",
       "      <th>SRR10573586</th>\n",
       "      <th>SRR10573847</th>\n",
       "      <th>SRR10573830</th>\n",
       "      <th>...</th>\n",
       "      <th>SRR5115673</th>\n",
       "      <th>SRR5115674</th>\n",
       "      <th>SRR5115675</th>\n",
       "      <th>SRR10025185</th>\n",
       "      <th>SRR1292217</th>\n",
       "      <th>SRR1292216</th>\n",
       "      <th>SRR1292215</th>\n",
       "      <th>SRR10115880</th>\n",
       "      <th>SRR10115879</th>\n",
       "      <th>SRR10025184</th>\n",
       "    </tr>\n",
       "  </thead>\n",
       "  <tbody>\n",
       "    <tr>\n",
       "      <th>ENSMUSG00000102693.2</th>\n",
       "      <td>0</td>\n",
       "      <td>0</td>\n",
       "      <td>0</td>\n",
       "      <td>0</td>\n",
       "      <td>0</td>\n",
       "      <td>0</td>\n",
       "      <td>0</td>\n",
       "      <td>0</td>\n",
       "      <td>1</td>\n",
       "      <td>0</td>\n",
       "      <td>...</td>\n",
       "      <td>0</td>\n",
       "      <td>0</td>\n",
       "      <td>0</td>\n",
       "      <td>0</td>\n",
       "      <td>0</td>\n",
       "      <td>0</td>\n",
       "      <td>0</td>\n",
       "      <td>0</td>\n",
       "      <td>0</td>\n",
       "      <td>0</td>\n",
       "    </tr>\n",
       "    <tr>\n",
       "      <th>ENSMUSG00000064842.3</th>\n",
       "      <td>0</td>\n",
       "      <td>0</td>\n",
       "      <td>0</td>\n",
       "      <td>0</td>\n",
       "      <td>0</td>\n",
       "      <td>0</td>\n",
       "      <td>0</td>\n",
       "      <td>0</td>\n",
       "      <td>0</td>\n",
       "      <td>0</td>\n",
       "      <td>...</td>\n",
       "      <td>0</td>\n",
       "      <td>0</td>\n",
       "      <td>0</td>\n",
       "      <td>0</td>\n",
       "      <td>0</td>\n",
       "      <td>0</td>\n",
       "      <td>0</td>\n",
       "      <td>0</td>\n",
       "      <td>0</td>\n",
       "      <td>0</td>\n",
       "    </tr>\n",
       "    <tr>\n",
       "      <th>ENSMUSG00000051951.6</th>\n",
       "      <td>0</td>\n",
       "      <td>0</td>\n",
       "      <td>0</td>\n",
       "      <td>0</td>\n",
       "      <td>3</td>\n",
       "      <td>3</td>\n",
       "      <td>4</td>\n",
       "      <td>0</td>\n",
       "      <td>0</td>\n",
       "      <td>0</td>\n",
       "      <td>...</td>\n",
       "      <td>5</td>\n",
       "      <td>5</td>\n",
       "      <td>11</td>\n",
       "      <td>1</td>\n",
       "      <td>0</td>\n",
       "      <td>0</td>\n",
       "      <td>1</td>\n",
       "      <td>0</td>\n",
       "      <td>3</td>\n",
       "      <td>9</td>\n",
       "    </tr>\n",
       "    <tr>\n",
       "      <th>ENSMUSG00000102851.2</th>\n",
       "      <td>0</td>\n",
       "      <td>0</td>\n",
       "      <td>0</td>\n",
       "      <td>0</td>\n",
       "      <td>0</td>\n",
       "      <td>0</td>\n",
       "      <td>0</td>\n",
       "      <td>0</td>\n",
       "      <td>0</td>\n",
       "      <td>0</td>\n",
       "      <td>...</td>\n",
       "      <td>0</td>\n",
       "      <td>0</td>\n",
       "      <td>0</td>\n",
       "      <td>0</td>\n",
       "      <td>0</td>\n",
       "      <td>0</td>\n",
       "      <td>0</td>\n",
       "      <td>0</td>\n",
       "      <td>0</td>\n",
       "      <td>0</td>\n",
       "    </tr>\n",
       "    <tr>\n",
       "      <th>ENSMUSG00000103377.2</th>\n",
       "      <td>0</td>\n",
       "      <td>0</td>\n",
       "      <td>0</td>\n",
       "      <td>0</td>\n",
       "      <td>0</td>\n",
       "      <td>1</td>\n",
       "      <td>1</td>\n",
       "      <td>0</td>\n",
       "      <td>0</td>\n",
       "      <td>0</td>\n",
       "      <td>...</td>\n",
       "      <td>0</td>\n",
       "      <td>0</td>\n",
       "      <td>0</td>\n",
       "      <td>0</td>\n",
       "      <td>0</td>\n",
       "      <td>0</td>\n",
       "      <td>0</td>\n",
       "      <td>0</td>\n",
       "      <td>0</td>\n",
       "      <td>5</td>\n",
       "    </tr>\n",
       "    <tr>\n",
       "      <th>...</th>\n",
       "      <td>...</td>\n",
       "      <td>...</td>\n",
       "      <td>...</td>\n",
       "      <td>...</td>\n",
       "      <td>...</td>\n",
       "      <td>...</td>\n",
       "      <td>...</td>\n",
       "      <td>...</td>\n",
       "      <td>...</td>\n",
       "      <td>...</td>\n",
       "      <td>...</td>\n",
       "      <td>...</td>\n",
       "      <td>...</td>\n",
       "      <td>...</td>\n",
       "      <td>...</td>\n",
       "      <td>...</td>\n",
       "      <td>...</td>\n",
       "      <td>...</td>\n",
       "      <td>...</td>\n",
       "      <td>...</td>\n",
       "      <td>...</td>\n",
       "    </tr>\n",
       "    <tr>\n",
       "      <th>ENSMUSG00000064368.1</th>\n",
       "      <td>50519</td>\n",
       "      <td>46133</td>\n",
       "      <td>50642</td>\n",
       "      <td>48946</td>\n",
       "      <td>1504</td>\n",
       "      <td>1172</td>\n",
       "      <td>1273</td>\n",
       "      <td>2726</td>\n",
       "      <td>3235</td>\n",
       "      <td>5378</td>\n",
       "      <td>...</td>\n",
       "      <td>1988</td>\n",
       "      <td>505</td>\n",
       "      <td>763</td>\n",
       "      <td>80278</td>\n",
       "      <td>3067</td>\n",
       "      <td>2461</td>\n",
       "      <td>5709</td>\n",
       "      <td>18499</td>\n",
       "      <td>21986</td>\n",
       "      <td>102840</td>\n",
       "    </tr>\n",
       "    <tr>\n",
       "      <th>ENSMUSG00000064369.1</th>\n",
       "      <td>2334</td>\n",
       "      <td>2065</td>\n",
       "      <td>2462</td>\n",
       "      <td>2358</td>\n",
       "      <td>100</td>\n",
       "      <td>74</td>\n",
       "      <td>74</td>\n",
       "      <td>0</td>\n",
       "      <td>0</td>\n",
       "      <td>2</td>\n",
       "      <td>...</td>\n",
       "      <td>3</td>\n",
       "      <td>4</td>\n",
       "      <td>3</td>\n",
       "      <td>40</td>\n",
       "      <td>17</td>\n",
       "      <td>20</td>\n",
       "      <td>28</td>\n",
       "      <td>119</td>\n",
       "      <td>97</td>\n",
       "      <td>159</td>\n",
       "    </tr>\n",
       "    <tr>\n",
       "      <th>ENSMUSG00000064370.1</th>\n",
       "      <td>427936</td>\n",
       "      <td>418439</td>\n",
       "      <td>367825</td>\n",
       "      <td>292899</td>\n",
       "      <td>26939</td>\n",
       "      <td>18138</td>\n",
       "      <td>19575</td>\n",
       "      <td>22931</td>\n",
       "      <td>32457</td>\n",
       "      <td>45194</td>\n",
       "      <td>...</td>\n",
       "      <td>1953</td>\n",
       "      <td>2018</td>\n",
       "      <td>2498</td>\n",
       "      <td>240955</td>\n",
       "      <td>42441</td>\n",
       "      <td>34976</td>\n",
       "      <td>68523</td>\n",
       "      <td>125895</td>\n",
       "      <td>166496</td>\n",
       "      <td>428028</td>\n",
       "    </tr>\n",
       "    <tr>\n",
       "      <th>ENSMUSG00000064371.1</th>\n",
       "      <td>30</td>\n",
       "      <td>0</td>\n",
       "      <td>7</td>\n",
       "      <td>0</td>\n",
       "      <td>3</td>\n",
       "      <td>0</td>\n",
       "      <td>4</td>\n",
       "      <td>0</td>\n",
       "      <td>0</td>\n",
       "      <td>1</td>\n",
       "      <td>...</td>\n",
       "      <td>0</td>\n",
       "      <td>0</td>\n",
       "      <td>1</td>\n",
       "      <td>13</td>\n",
       "      <td>2</td>\n",
       "      <td>1</td>\n",
       "      <td>3</td>\n",
       "      <td>2</td>\n",
       "      <td>0</td>\n",
       "      <td>41</td>\n",
       "    </tr>\n",
       "    <tr>\n",
       "      <th>ENSMUSG00000064372.1</th>\n",
       "      <td>46</td>\n",
       "      <td>55</td>\n",
       "      <td>35</td>\n",
       "      <td>11</td>\n",
       "      <td>72</td>\n",
       "      <td>36</td>\n",
       "      <td>58</td>\n",
       "      <td>1215</td>\n",
       "      <td>1881</td>\n",
       "      <td>1750</td>\n",
       "      <td>...</td>\n",
       "      <td>270</td>\n",
       "      <td>197</td>\n",
       "      <td>373</td>\n",
       "      <td>2102</td>\n",
       "      <td>223</td>\n",
       "      <td>172</td>\n",
       "      <td>388</td>\n",
       "      <td>6650</td>\n",
       "      <td>7718</td>\n",
       "      <td>3424</td>\n",
       "    </tr>\n",
       "  </tbody>\n",
       "</table>\n",
       "<p>55357 rows × 306 columns</p>\n",
       "</div>"
      ],
      "text/plain": [
       "                      SRR7761109  SRR7761110  SRR7761111  SRR7761112  \\\n",
       "ENSMUSG00000102693.2           0           0           0           0   \n",
       "ENSMUSG00000064842.3           0           0           0           0   \n",
       "ENSMUSG00000051951.6           0           0           0           0   \n",
       "ENSMUSG00000102851.2           0           0           0           0   \n",
       "ENSMUSG00000103377.2           0           0           0           0   \n",
       "...                          ...         ...         ...         ...   \n",
       "ENSMUSG00000064368.1       50519       46133       50642       48946   \n",
       "ENSMUSG00000064369.1        2334        2065        2462        2358   \n",
       "ENSMUSG00000064370.1      427936      418439      367825      292899   \n",
       "ENSMUSG00000064371.1          30           0           7           0   \n",
       "ENSMUSG00000064372.1          46          55          35          11   \n",
       "\n",
       "                      SRR9856034  SRR9856035  SRR9856036  SRR10573586  \\\n",
       "ENSMUSG00000102693.2           0           0           0            0   \n",
       "ENSMUSG00000064842.3           0           0           0            0   \n",
       "ENSMUSG00000051951.6           3           3           4            0   \n",
       "ENSMUSG00000102851.2           0           0           0            0   \n",
       "ENSMUSG00000103377.2           0           1           1            0   \n",
       "...                          ...         ...         ...          ...   \n",
       "ENSMUSG00000064368.1        1504        1172        1273         2726   \n",
       "ENSMUSG00000064369.1         100          74          74            0   \n",
       "ENSMUSG00000064370.1       26939       18138       19575        22931   \n",
       "ENSMUSG00000064371.1           3           0           4            0   \n",
       "ENSMUSG00000064372.1          72          36          58         1215   \n",
       "\n",
       "                      SRR10573847  SRR10573830  ...  SRR5115673  SRR5115674  \\\n",
       "ENSMUSG00000102693.2            1            0  ...           0           0   \n",
       "ENSMUSG00000064842.3            0            0  ...           0           0   \n",
       "ENSMUSG00000051951.6            0            0  ...           5           5   \n",
       "ENSMUSG00000102851.2            0            0  ...           0           0   \n",
       "ENSMUSG00000103377.2            0            0  ...           0           0   \n",
       "...                           ...          ...  ...         ...         ...   \n",
       "ENSMUSG00000064368.1         3235         5378  ...        1988         505   \n",
       "ENSMUSG00000064369.1            0            2  ...           3           4   \n",
       "ENSMUSG00000064370.1        32457        45194  ...        1953        2018   \n",
       "ENSMUSG00000064371.1            0            1  ...           0           0   \n",
       "ENSMUSG00000064372.1         1881         1750  ...         270         197   \n",
       "\n",
       "                      SRR5115675  SRR10025185  SRR1292217  SRR1292216  \\\n",
       "ENSMUSG00000102693.2           0            0           0           0   \n",
       "ENSMUSG00000064842.3           0            0           0           0   \n",
       "ENSMUSG00000051951.6          11            1           0           0   \n",
       "ENSMUSG00000102851.2           0            0           0           0   \n",
       "ENSMUSG00000103377.2           0            0           0           0   \n",
       "...                          ...          ...         ...         ...   \n",
       "ENSMUSG00000064368.1         763        80278        3067        2461   \n",
       "ENSMUSG00000064369.1           3           40          17          20   \n",
       "ENSMUSG00000064370.1        2498       240955       42441       34976   \n",
       "ENSMUSG00000064371.1           1           13           2           1   \n",
       "ENSMUSG00000064372.1         373         2102         223         172   \n",
       "\n",
       "                      SRR1292215  SRR10115880  SRR10115879  SRR10025184  \n",
       "ENSMUSG00000102693.2           0            0            0            0  \n",
       "ENSMUSG00000064842.3           0            0            0            0  \n",
       "ENSMUSG00000051951.6           1            0            3            9  \n",
       "ENSMUSG00000102851.2           0            0            0            0  \n",
       "ENSMUSG00000103377.2           0            0            0            5  \n",
       "...                          ...          ...          ...          ...  \n",
       "ENSMUSG00000064368.1        5709        18499        21986       102840  \n",
       "ENSMUSG00000064369.1          28          119           97          159  \n",
       "ENSMUSG00000064370.1       68523       125895       166496       428028  \n",
       "ENSMUSG00000064371.1           3            2            0           41  \n",
       "ENSMUSG00000064372.1         388         6650         7718         3424  \n",
       "\n",
       "[55357 rows x 306 columns]"
      ]
     },
     "execution_count": 10,
     "metadata": {},
     "output_type": "execute_result"
    }
   ],
   "source": [
    "df2"
   ]
  },
  {
   "cell_type": "code",
   "execution_count": 24,
   "id": "f8321ece",
   "metadata": {},
   "outputs": [],
   "source": [
    "liste_name2=list(df3.columns)"
   ]
  },
  {
   "cell_type": "code",
   "execution_count": null,
   "id": "d16576c3",
   "metadata": {},
   "outputs": [],
   "source": []
  },
  {
   "cell_type": "code",
   "execution_count": 27,
   "id": "dfc997e5",
   "metadata": {},
   "outputs": [
    {
     "data": {
      "text/plain": [
       "['SRR10025183', 'SRR4473788']"
      ]
     },
     "execution_count": 27,
     "metadata": {},
     "output_type": "execute_result"
    }
   ],
   "source": [
    "list(set(liste_name)-set(liste_name2))"
   ]
  },
  {
   "cell_type": "code",
   "execution_count": 13,
   "id": "f09dab56",
   "metadata": {},
   "outputs": [],
   "source": [
    "df3=df2.T.drop_duplicates().T"
   ]
  },
  {
   "cell_type": "code",
   "execution_count": 21,
   "id": "362479a9",
   "metadata": {},
   "outputs": [
    {
     "data": {
      "text/html": [
       "<div>\n",
       "<style scoped>\n",
       "    .dataframe tbody tr th:only-of-type {\n",
       "        vertical-align: middle;\n",
       "    }\n",
       "\n",
       "    .dataframe tbody tr th {\n",
       "        vertical-align: top;\n",
       "    }\n",
       "\n",
       "    .dataframe thead th {\n",
       "        text-align: right;\n",
       "    }\n",
       "</style>\n",
       "<table border=\"1\" class=\"dataframe\">\n",
       "  <thead>\n",
       "    <tr style=\"text-align: right;\">\n",
       "      <th></th>\n",
       "      <th>SRR7761109</th>\n",
       "      <th>SRR7761110</th>\n",
       "      <th>SRR7761111</th>\n",
       "      <th>SRR7761112</th>\n",
       "      <th>SRR9856034</th>\n",
       "      <th>SRR9856035</th>\n",
       "      <th>SRR9856036</th>\n",
       "      <th>SRR10573586</th>\n",
       "      <th>SRR10573847</th>\n",
       "      <th>SRR10573830</th>\n",
       "      <th>...</th>\n",
       "      <th>SRR5115673</th>\n",
       "      <th>SRR5115674</th>\n",
       "      <th>SRR5115675</th>\n",
       "      <th>SRR10025185</th>\n",
       "      <th>SRR1292217</th>\n",
       "      <th>SRR1292216</th>\n",
       "      <th>SRR1292215</th>\n",
       "      <th>SRR10115880</th>\n",
       "      <th>SRR10115879</th>\n",
       "      <th>SRR10025184</th>\n",
       "    </tr>\n",
       "  </thead>\n",
       "  <tbody>\n",
       "    <tr>\n",
       "      <th>ENSMUSG00000102693.2</th>\n",
       "      <td>0</td>\n",
       "      <td>0</td>\n",
       "      <td>0</td>\n",
       "      <td>0</td>\n",
       "      <td>0</td>\n",
       "      <td>0</td>\n",
       "      <td>0</td>\n",
       "      <td>0</td>\n",
       "      <td>1</td>\n",
       "      <td>0</td>\n",
       "      <td>...</td>\n",
       "      <td>0</td>\n",
       "      <td>0</td>\n",
       "      <td>0</td>\n",
       "      <td>0</td>\n",
       "      <td>0</td>\n",
       "      <td>0</td>\n",
       "      <td>0</td>\n",
       "      <td>0</td>\n",
       "      <td>0</td>\n",
       "      <td>0</td>\n",
       "    </tr>\n",
       "    <tr>\n",
       "      <th>ENSMUSG00000064842.3</th>\n",
       "      <td>0</td>\n",
       "      <td>0</td>\n",
       "      <td>0</td>\n",
       "      <td>0</td>\n",
       "      <td>0</td>\n",
       "      <td>0</td>\n",
       "      <td>0</td>\n",
       "      <td>0</td>\n",
       "      <td>0</td>\n",
       "      <td>0</td>\n",
       "      <td>...</td>\n",
       "      <td>0</td>\n",
       "      <td>0</td>\n",
       "      <td>0</td>\n",
       "      <td>0</td>\n",
       "      <td>0</td>\n",
       "      <td>0</td>\n",
       "      <td>0</td>\n",
       "      <td>0</td>\n",
       "      <td>0</td>\n",
       "      <td>0</td>\n",
       "    </tr>\n",
       "    <tr>\n",
       "      <th>ENSMUSG00000051951.6</th>\n",
       "      <td>0</td>\n",
       "      <td>0</td>\n",
       "      <td>0</td>\n",
       "      <td>0</td>\n",
       "      <td>3</td>\n",
       "      <td>3</td>\n",
       "      <td>4</td>\n",
       "      <td>0</td>\n",
       "      <td>0</td>\n",
       "      <td>0</td>\n",
       "      <td>...</td>\n",
       "      <td>5</td>\n",
       "      <td>5</td>\n",
       "      <td>11</td>\n",
       "      <td>1</td>\n",
       "      <td>0</td>\n",
       "      <td>0</td>\n",
       "      <td>1</td>\n",
       "      <td>0</td>\n",
       "      <td>3</td>\n",
       "      <td>9</td>\n",
       "    </tr>\n",
       "    <tr>\n",
       "      <th>ENSMUSG00000102851.2</th>\n",
       "      <td>0</td>\n",
       "      <td>0</td>\n",
       "      <td>0</td>\n",
       "      <td>0</td>\n",
       "      <td>0</td>\n",
       "      <td>0</td>\n",
       "      <td>0</td>\n",
       "      <td>0</td>\n",
       "      <td>0</td>\n",
       "      <td>0</td>\n",
       "      <td>...</td>\n",
       "      <td>0</td>\n",
       "      <td>0</td>\n",
       "      <td>0</td>\n",
       "      <td>0</td>\n",
       "      <td>0</td>\n",
       "      <td>0</td>\n",
       "      <td>0</td>\n",
       "      <td>0</td>\n",
       "      <td>0</td>\n",
       "      <td>0</td>\n",
       "    </tr>\n",
       "    <tr>\n",
       "      <th>ENSMUSG00000103377.2</th>\n",
       "      <td>0</td>\n",
       "      <td>0</td>\n",
       "      <td>0</td>\n",
       "      <td>0</td>\n",
       "      <td>0</td>\n",
       "      <td>1</td>\n",
       "      <td>1</td>\n",
       "      <td>0</td>\n",
       "      <td>0</td>\n",
       "      <td>0</td>\n",
       "      <td>...</td>\n",
       "      <td>0</td>\n",
       "      <td>0</td>\n",
       "      <td>0</td>\n",
       "      <td>0</td>\n",
       "      <td>0</td>\n",
       "      <td>0</td>\n",
       "      <td>0</td>\n",
       "      <td>0</td>\n",
       "      <td>0</td>\n",
       "      <td>5</td>\n",
       "    </tr>\n",
       "    <tr>\n",
       "      <th>...</th>\n",
       "      <td>...</td>\n",
       "      <td>...</td>\n",
       "      <td>...</td>\n",
       "      <td>...</td>\n",
       "      <td>...</td>\n",
       "      <td>...</td>\n",
       "      <td>...</td>\n",
       "      <td>...</td>\n",
       "      <td>...</td>\n",
       "      <td>...</td>\n",
       "      <td>...</td>\n",
       "      <td>...</td>\n",
       "      <td>...</td>\n",
       "      <td>...</td>\n",
       "      <td>...</td>\n",
       "      <td>...</td>\n",
       "      <td>...</td>\n",
       "      <td>...</td>\n",
       "      <td>...</td>\n",
       "      <td>...</td>\n",
       "      <td>...</td>\n",
       "    </tr>\n",
       "    <tr>\n",
       "      <th>ENSMUSG00000064368.1</th>\n",
       "      <td>50519</td>\n",
       "      <td>46133</td>\n",
       "      <td>50642</td>\n",
       "      <td>48946</td>\n",
       "      <td>1504</td>\n",
       "      <td>1172</td>\n",
       "      <td>1273</td>\n",
       "      <td>2726</td>\n",
       "      <td>3235</td>\n",
       "      <td>5378</td>\n",
       "      <td>...</td>\n",
       "      <td>1988</td>\n",
       "      <td>505</td>\n",
       "      <td>763</td>\n",
       "      <td>80278</td>\n",
       "      <td>3067</td>\n",
       "      <td>2461</td>\n",
       "      <td>5709</td>\n",
       "      <td>18499</td>\n",
       "      <td>21986</td>\n",
       "      <td>102840</td>\n",
       "    </tr>\n",
       "    <tr>\n",
       "      <th>ENSMUSG00000064369.1</th>\n",
       "      <td>2334</td>\n",
       "      <td>2065</td>\n",
       "      <td>2462</td>\n",
       "      <td>2358</td>\n",
       "      <td>100</td>\n",
       "      <td>74</td>\n",
       "      <td>74</td>\n",
       "      <td>0</td>\n",
       "      <td>0</td>\n",
       "      <td>2</td>\n",
       "      <td>...</td>\n",
       "      <td>3</td>\n",
       "      <td>4</td>\n",
       "      <td>3</td>\n",
       "      <td>40</td>\n",
       "      <td>17</td>\n",
       "      <td>20</td>\n",
       "      <td>28</td>\n",
       "      <td>119</td>\n",
       "      <td>97</td>\n",
       "      <td>159</td>\n",
       "    </tr>\n",
       "    <tr>\n",
       "      <th>ENSMUSG00000064370.1</th>\n",
       "      <td>427936</td>\n",
       "      <td>418439</td>\n",
       "      <td>367825</td>\n",
       "      <td>292899</td>\n",
       "      <td>26939</td>\n",
       "      <td>18138</td>\n",
       "      <td>19575</td>\n",
       "      <td>22931</td>\n",
       "      <td>32457</td>\n",
       "      <td>45194</td>\n",
       "      <td>...</td>\n",
       "      <td>1953</td>\n",
       "      <td>2018</td>\n",
       "      <td>2498</td>\n",
       "      <td>240955</td>\n",
       "      <td>42441</td>\n",
       "      <td>34976</td>\n",
       "      <td>68523</td>\n",
       "      <td>125895</td>\n",
       "      <td>166496</td>\n",
       "      <td>428028</td>\n",
       "    </tr>\n",
       "    <tr>\n",
       "      <th>ENSMUSG00000064371.1</th>\n",
       "      <td>30</td>\n",
       "      <td>0</td>\n",
       "      <td>7</td>\n",
       "      <td>0</td>\n",
       "      <td>3</td>\n",
       "      <td>0</td>\n",
       "      <td>4</td>\n",
       "      <td>0</td>\n",
       "      <td>0</td>\n",
       "      <td>1</td>\n",
       "      <td>...</td>\n",
       "      <td>0</td>\n",
       "      <td>0</td>\n",
       "      <td>1</td>\n",
       "      <td>13</td>\n",
       "      <td>2</td>\n",
       "      <td>1</td>\n",
       "      <td>3</td>\n",
       "      <td>2</td>\n",
       "      <td>0</td>\n",
       "      <td>41</td>\n",
       "    </tr>\n",
       "    <tr>\n",
       "      <th>ENSMUSG00000064372.1</th>\n",
       "      <td>46</td>\n",
       "      <td>55</td>\n",
       "      <td>35</td>\n",
       "      <td>11</td>\n",
       "      <td>72</td>\n",
       "      <td>36</td>\n",
       "      <td>58</td>\n",
       "      <td>1215</td>\n",
       "      <td>1881</td>\n",
       "      <td>1750</td>\n",
       "      <td>...</td>\n",
       "      <td>270</td>\n",
       "      <td>197</td>\n",
       "      <td>373</td>\n",
       "      <td>2102</td>\n",
       "      <td>223</td>\n",
       "      <td>172</td>\n",
       "      <td>388</td>\n",
       "      <td>6650</td>\n",
       "      <td>7718</td>\n",
       "      <td>3424</td>\n",
       "    </tr>\n",
       "  </tbody>\n",
       "</table>\n",
       "<p>55357 rows × 294 columns</p>\n",
       "</div>"
      ],
      "text/plain": [
       "                      SRR7761109  SRR7761110  SRR7761111  SRR7761112  \\\n",
       "ENSMUSG00000102693.2           0           0           0           0   \n",
       "ENSMUSG00000064842.3           0           0           0           0   \n",
       "ENSMUSG00000051951.6           0           0           0           0   \n",
       "ENSMUSG00000102851.2           0           0           0           0   \n",
       "ENSMUSG00000103377.2           0           0           0           0   \n",
       "...                          ...         ...         ...         ...   \n",
       "ENSMUSG00000064368.1       50519       46133       50642       48946   \n",
       "ENSMUSG00000064369.1        2334        2065        2462        2358   \n",
       "ENSMUSG00000064370.1      427936      418439      367825      292899   \n",
       "ENSMUSG00000064371.1          30           0           7           0   \n",
       "ENSMUSG00000064372.1          46          55          35          11   \n",
       "\n",
       "                      SRR9856034  SRR9856035  SRR9856036  SRR10573586  \\\n",
       "ENSMUSG00000102693.2           0           0           0            0   \n",
       "ENSMUSG00000064842.3           0           0           0            0   \n",
       "ENSMUSG00000051951.6           3           3           4            0   \n",
       "ENSMUSG00000102851.2           0           0           0            0   \n",
       "ENSMUSG00000103377.2           0           1           1            0   \n",
       "...                          ...         ...         ...          ...   \n",
       "ENSMUSG00000064368.1        1504        1172        1273         2726   \n",
       "ENSMUSG00000064369.1         100          74          74            0   \n",
       "ENSMUSG00000064370.1       26939       18138       19575        22931   \n",
       "ENSMUSG00000064371.1           3           0           4            0   \n",
       "ENSMUSG00000064372.1          72          36          58         1215   \n",
       "\n",
       "                      SRR10573847  SRR10573830  ...  SRR5115673  SRR5115674  \\\n",
       "ENSMUSG00000102693.2            1            0  ...           0           0   \n",
       "ENSMUSG00000064842.3            0            0  ...           0           0   \n",
       "ENSMUSG00000051951.6            0            0  ...           5           5   \n",
       "ENSMUSG00000102851.2            0            0  ...           0           0   \n",
       "ENSMUSG00000103377.2            0            0  ...           0           0   \n",
       "...                           ...          ...  ...         ...         ...   \n",
       "ENSMUSG00000064368.1         3235         5378  ...        1988         505   \n",
       "ENSMUSG00000064369.1            0            2  ...           3           4   \n",
       "ENSMUSG00000064370.1        32457        45194  ...        1953        2018   \n",
       "ENSMUSG00000064371.1            0            1  ...           0           0   \n",
       "ENSMUSG00000064372.1         1881         1750  ...         270         197   \n",
       "\n",
       "                      SRR5115675  SRR10025185  SRR1292217  SRR1292216  \\\n",
       "ENSMUSG00000102693.2           0            0           0           0   \n",
       "ENSMUSG00000064842.3           0            0           0           0   \n",
       "ENSMUSG00000051951.6          11            1           0           0   \n",
       "ENSMUSG00000102851.2           0            0           0           0   \n",
       "ENSMUSG00000103377.2           0            0           0           0   \n",
       "...                          ...          ...         ...         ...   \n",
       "ENSMUSG00000064368.1         763        80278        3067        2461   \n",
       "ENSMUSG00000064369.1           3           40          17          20   \n",
       "ENSMUSG00000064370.1        2498       240955       42441       34976   \n",
       "ENSMUSG00000064371.1           1           13           2           1   \n",
       "ENSMUSG00000064372.1         373         2102         223         172   \n",
       "\n",
       "                      SRR1292215  SRR10115880  SRR10115879  SRR10025184  \n",
       "ENSMUSG00000102693.2           0            0            0            0  \n",
       "ENSMUSG00000064842.3           0            0            0            0  \n",
       "ENSMUSG00000051951.6           1            0            3            9  \n",
       "ENSMUSG00000102851.2           0            0            0            0  \n",
       "ENSMUSG00000103377.2           0            0            0            5  \n",
       "...                          ...          ...          ...          ...  \n",
       "ENSMUSG00000064368.1        5709        18499        21986       102840  \n",
       "ENSMUSG00000064369.1          28          119           97          159  \n",
       "ENSMUSG00000064370.1       68523       125895       166496       428028  \n",
       "ENSMUSG00000064371.1           3            2            0           41  \n",
       "ENSMUSG00000064372.1         388         6650         7718         3424  \n",
       "\n",
       "[55357 rows x 294 columns]"
      ]
     },
     "execution_count": 21,
     "metadata": {},
     "output_type": "execute_result"
    }
   ],
   "source": [
    "df3"
   ]
  },
  {
   "cell_type": "code",
   "execution_count": 17,
   "id": "85bf26d6",
   "metadata": {},
   "outputs": [],
   "source": [
    "x=df3.index"
   ]
  },
  {
   "cell_type": "code",
   "execution_count": 29,
   "id": "4db7c7c4",
   "metadata": {},
   "outputs": [
    {
     "data": {
      "text/html": [
       "<div>\n",
       "<style scoped>\n",
       "    .dataframe tbody tr th:only-of-type {\n",
       "        vertical-align: middle;\n",
       "    }\n",
       "\n",
       "    .dataframe tbody tr th {\n",
       "        vertical-align: top;\n",
       "    }\n",
       "\n",
       "    .dataframe thead th {\n",
       "        text-align: right;\n",
       "    }\n",
       "</style>\n",
       "<table border=\"1\" class=\"dataframe\">\n",
       "  <thead>\n",
       "    <tr style=\"text-align: right;\">\n",
       "      <th></th>\n",
       "      <th>SRR7761109</th>\n",
       "      <th>SRR7761110</th>\n",
       "      <th>SRR7761111</th>\n",
       "      <th>SRR7761112</th>\n",
       "      <th>SRR9856034</th>\n",
       "      <th>SRR9856035</th>\n",
       "      <th>SRR9856036</th>\n",
       "      <th>SRR10573586</th>\n",
       "      <th>SRR10573847</th>\n",
       "      <th>SRR10573830</th>\n",
       "      <th>...</th>\n",
       "      <th>SRR5115673</th>\n",
       "      <th>SRR5115674</th>\n",
       "      <th>SRR5115675</th>\n",
       "      <th>SRR10025185</th>\n",
       "      <th>SRR1292217</th>\n",
       "      <th>SRR1292216</th>\n",
       "      <th>SRR1292215</th>\n",
       "      <th>SRR10115880</th>\n",
       "      <th>SRR10115879</th>\n",
       "      <th>SRR10025184</th>\n",
       "    </tr>\n",
       "  </thead>\n",
       "  <tbody>\n",
       "    <tr>\n",
       "      <th>ENSMUSG00000102693.2</th>\n",
       "      <td>0</td>\n",
       "      <td>0</td>\n",
       "      <td>0</td>\n",
       "      <td>0</td>\n",
       "      <td>0</td>\n",
       "      <td>0</td>\n",
       "      <td>0</td>\n",
       "      <td>0</td>\n",
       "      <td>1</td>\n",
       "      <td>0</td>\n",
       "      <td>...</td>\n",
       "      <td>0</td>\n",
       "      <td>0</td>\n",
       "      <td>0</td>\n",
       "      <td>0</td>\n",
       "      <td>0</td>\n",
       "      <td>0</td>\n",
       "      <td>0</td>\n",
       "      <td>0</td>\n",
       "      <td>0</td>\n",
       "      <td>0</td>\n",
       "    </tr>\n",
       "    <tr>\n",
       "      <th>ENSMUSG00000064842.3</th>\n",
       "      <td>0</td>\n",
       "      <td>0</td>\n",
       "      <td>0</td>\n",
       "      <td>0</td>\n",
       "      <td>0</td>\n",
       "      <td>0</td>\n",
       "      <td>0</td>\n",
       "      <td>0</td>\n",
       "      <td>0</td>\n",
       "      <td>0</td>\n",
       "      <td>...</td>\n",
       "      <td>0</td>\n",
       "      <td>0</td>\n",
       "      <td>0</td>\n",
       "      <td>0</td>\n",
       "      <td>0</td>\n",
       "      <td>0</td>\n",
       "      <td>0</td>\n",
       "      <td>0</td>\n",
       "      <td>0</td>\n",
       "      <td>0</td>\n",
       "    </tr>\n",
       "    <tr>\n",
       "      <th>ENSMUSG00000051951.6</th>\n",
       "      <td>0</td>\n",
       "      <td>0</td>\n",
       "      <td>0</td>\n",
       "      <td>0</td>\n",
       "      <td>3</td>\n",
       "      <td>3</td>\n",
       "      <td>4</td>\n",
       "      <td>0</td>\n",
       "      <td>0</td>\n",
       "      <td>0</td>\n",
       "      <td>...</td>\n",
       "      <td>5</td>\n",
       "      <td>5</td>\n",
       "      <td>11</td>\n",
       "      <td>1</td>\n",
       "      <td>0</td>\n",
       "      <td>0</td>\n",
       "      <td>1</td>\n",
       "      <td>0</td>\n",
       "      <td>3</td>\n",
       "      <td>9</td>\n",
       "    </tr>\n",
       "    <tr>\n",
       "      <th>ENSMUSG00000102851.2</th>\n",
       "      <td>0</td>\n",
       "      <td>0</td>\n",
       "      <td>0</td>\n",
       "      <td>0</td>\n",
       "      <td>0</td>\n",
       "      <td>0</td>\n",
       "      <td>0</td>\n",
       "      <td>0</td>\n",
       "      <td>0</td>\n",
       "      <td>0</td>\n",
       "      <td>...</td>\n",
       "      <td>0</td>\n",
       "      <td>0</td>\n",
       "      <td>0</td>\n",
       "      <td>0</td>\n",
       "      <td>0</td>\n",
       "      <td>0</td>\n",
       "      <td>0</td>\n",
       "      <td>0</td>\n",
       "      <td>0</td>\n",
       "      <td>0</td>\n",
       "    </tr>\n",
       "    <tr>\n",
       "      <th>ENSMUSG00000103377.2</th>\n",
       "      <td>0</td>\n",
       "      <td>0</td>\n",
       "      <td>0</td>\n",
       "      <td>0</td>\n",
       "      <td>0</td>\n",
       "      <td>1</td>\n",
       "      <td>1</td>\n",
       "      <td>0</td>\n",
       "      <td>0</td>\n",
       "      <td>0</td>\n",
       "      <td>...</td>\n",
       "      <td>0</td>\n",
       "      <td>0</td>\n",
       "      <td>0</td>\n",
       "      <td>0</td>\n",
       "      <td>0</td>\n",
       "      <td>0</td>\n",
       "      <td>0</td>\n",
       "      <td>0</td>\n",
       "      <td>0</td>\n",
       "      <td>5</td>\n",
       "    </tr>\n",
       "    <tr>\n",
       "      <th>...</th>\n",
       "      <td>...</td>\n",
       "      <td>...</td>\n",
       "      <td>...</td>\n",
       "      <td>...</td>\n",
       "      <td>...</td>\n",
       "      <td>...</td>\n",
       "      <td>...</td>\n",
       "      <td>...</td>\n",
       "      <td>...</td>\n",
       "      <td>...</td>\n",
       "      <td>...</td>\n",
       "      <td>...</td>\n",
       "      <td>...</td>\n",
       "      <td>...</td>\n",
       "      <td>...</td>\n",
       "      <td>...</td>\n",
       "      <td>...</td>\n",
       "      <td>...</td>\n",
       "      <td>...</td>\n",
       "      <td>...</td>\n",
       "      <td>...</td>\n",
       "    </tr>\n",
       "    <tr>\n",
       "      <th>ENSMUSG00000064368.1</th>\n",
       "      <td>50519</td>\n",
       "      <td>46133</td>\n",
       "      <td>50642</td>\n",
       "      <td>48946</td>\n",
       "      <td>1504</td>\n",
       "      <td>1172</td>\n",
       "      <td>1273</td>\n",
       "      <td>2726</td>\n",
       "      <td>3235</td>\n",
       "      <td>5378</td>\n",
       "      <td>...</td>\n",
       "      <td>1988</td>\n",
       "      <td>505</td>\n",
       "      <td>763</td>\n",
       "      <td>80278</td>\n",
       "      <td>3067</td>\n",
       "      <td>2461</td>\n",
       "      <td>5709</td>\n",
       "      <td>18499</td>\n",
       "      <td>21986</td>\n",
       "      <td>102840</td>\n",
       "    </tr>\n",
       "    <tr>\n",
       "      <th>ENSMUSG00000064369.1</th>\n",
       "      <td>2334</td>\n",
       "      <td>2065</td>\n",
       "      <td>2462</td>\n",
       "      <td>2358</td>\n",
       "      <td>100</td>\n",
       "      <td>74</td>\n",
       "      <td>74</td>\n",
       "      <td>0</td>\n",
       "      <td>0</td>\n",
       "      <td>2</td>\n",
       "      <td>...</td>\n",
       "      <td>3</td>\n",
       "      <td>4</td>\n",
       "      <td>3</td>\n",
       "      <td>40</td>\n",
       "      <td>17</td>\n",
       "      <td>20</td>\n",
       "      <td>28</td>\n",
       "      <td>119</td>\n",
       "      <td>97</td>\n",
       "      <td>159</td>\n",
       "    </tr>\n",
       "    <tr>\n",
       "      <th>ENSMUSG00000064370.1</th>\n",
       "      <td>427936</td>\n",
       "      <td>418439</td>\n",
       "      <td>367825</td>\n",
       "      <td>292899</td>\n",
       "      <td>26939</td>\n",
       "      <td>18138</td>\n",
       "      <td>19575</td>\n",
       "      <td>22931</td>\n",
       "      <td>32457</td>\n",
       "      <td>45194</td>\n",
       "      <td>...</td>\n",
       "      <td>1953</td>\n",
       "      <td>2018</td>\n",
       "      <td>2498</td>\n",
       "      <td>240955</td>\n",
       "      <td>42441</td>\n",
       "      <td>34976</td>\n",
       "      <td>68523</td>\n",
       "      <td>125895</td>\n",
       "      <td>166496</td>\n",
       "      <td>428028</td>\n",
       "    </tr>\n",
       "    <tr>\n",
       "      <th>ENSMUSG00000064371.1</th>\n",
       "      <td>30</td>\n",
       "      <td>0</td>\n",
       "      <td>7</td>\n",
       "      <td>0</td>\n",
       "      <td>3</td>\n",
       "      <td>0</td>\n",
       "      <td>4</td>\n",
       "      <td>0</td>\n",
       "      <td>0</td>\n",
       "      <td>1</td>\n",
       "      <td>...</td>\n",
       "      <td>0</td>\n",
       "      <td>0</td>\n",
       "      <td>1</td>\n",
       "      <td>13</td>\n",
       "      <td>2</td>\n",
       "      <td>1</td>\n",
       "      <td>3</td>\n",
       "      <td>2</td>\n",
       "      <td>0</td>\n",
       "      <td>41</td>\n",
       "    </tr>\n",
       "    <tr>\n",
       "      <th>ENSMUSG00000064372.1</th>\n",
       "      <td>46</td>\n",
       "      <td>55</td>\n",
       "      <td>35</td>\n",
       "      <td>11</td>\n",
       "      <td>72</td>\n",
       "      <td>36</td>\n",
       "      <td>58</td>\n",
       "      <td>1215</td>\n",
       "      <td>1881</td>\n",
       "      <td>1750</td>\n",
       "      <td>...</td>\n",
       "      <td>270</td>\n",
       "      <td>197</td>\n",
       "      <td>373</td>\n",
       "      <td>2102</td>\n",
       "      <td>223</td>\n",
       "      <td>172</td>\n",
       "      <td>388</td>\n",
       "      <td>6650</td>\n",
       "      <td>7718</td>\n",
       "      <td>3424</td>\n",
       "    </tr>\n",
       "  </tbody>\n",
       "</table>\n",
       "<p>55357 rows × 294 columns</p>\n",
       "</div>"
      ],
      "text/plain": [
       "                      SRR7761109  SRR7761110  SRR7761111  SRR7761112  \\\n",
       "ENSMUSG00000102693.2           0           0           0           0   \n",
       "ENSMUSG00000064842.3           0           0           0           0   \n",
       "ENSMUSG00000051951.6           0           0           0           0   \n",
       "ENSMUSG00000102851.2           0           0           0           0   \n",
       "ENSMUSG00000103377.2           0           0           0           0   \n",
       "...                          ...         ...         ...         ...   \n",
       "ENSMUSG00000064368.1       50519       46133       50642       48946   \n",
       "ENSMUSG00000064369.1        2334        2065        2462        2358   \n",
       "ENSMUSG00000064370.1      427936      418439      367825      292899   \n",
       "ENSMUSG00000064371.1          30           0           7           0   \n",
       "ENSMUSG00000064372.1          46          55          35          11   \n",
       "\n",
       "                      SRR9856034  SRR9856035  SRR9856036  SRR10573586  \\\n",
       "ENSMUSG00000102693.2           0           0           0            0   \n",
       "ENSMUSG00000064842.3           0           0           0            0   \n",
       "ENSMUSG00000051951.6           3           3           4            0   \n",
       "ENSMUSG00000102851.2           0           0           0            0   \n",
       "ENSMUSG00000103377.2           0           1           1            0   \n",
       "...                          ...         ...         ...          ...   \n",
       "ENSMUSG00000064368.1        1504        1172        1273         2726   \n",
       "ENSMUSG00000064369.1         100          74          74            0   \n",
       "ENSMUSG00000064370.1       26939       18138       19575        22931   \n",
       "ENSMUSG00000064371.1           3           0           4            0   \n",
       "ENSMUSG00000064372.1          72          36          58         1215   \n",
       "\n",
       "                      SRR10573847  SRR10573830  ...  SRR5115673  SRR5115674  \\\n",
       "ENSMUSG00000102693.2            1            0  ...           0           0   \n",
       "ENSMUSG00000064842.3            0            0  ...           0           0   \n",
       "ENSMUSG00000051951.6            0            0  ...           5           5   \n",
       "ENSMUSG00000102851.2            0            0  ...           0           0   \n",
       "ENSMUSG00000103377.2            0            0  ...           0           0   \n",
       "...                           ...          ...  ...         ...         ...   \n",
       "ENSMUSG00000064368.1         3235         5378  ...        1988         505   \n",
       "ENSMUSG00000064369.1            0            2  ...           3           4   \n",
       "ENSMUSG00000064370.1        32457        45194  ...        1953        2018   \n",
       "ENSMUSG00000064371.1            0            1  ...           0           0   \n",
       "ENSMUSG00000064372.1         1881         1750  ...         270         197   \n",
       "\n",
       "                      SRR5115675  SRR10025185  SRR1292217  SRR1292216  \\\n",
       "ENSMUSG00000102693.2           0            0           0           0   \n",
       "ENSMUSG00000064842.3           0            0           0           0   \n",
       "ENSMUSG00000051951.6          11            1           0           0   \n",
       "ENSMUSG00000102851.2           0            0           0           0   \n",
       "ENSMUSG00000103377.2           0            0           0           0   \n",
       "...                          ...          ...         ...         ...   \n",
       "ENSMUSG00000064368.1         763        80278        3067        2461   \n",
       "ENSMUSG00000064369.1           3           40          17          20   \n",
       "ENSMUSG00000064370.1        2498       240955       42441       34976   \n",
       "ENSMUSG00000064371.1           1           13           2           1   \n",
       "ENSMUSG00000064372.1         373         2102         223         172   \n",
       "\n",
       "                      SRR1292215  SRR10115880  SRR10115879  SRR10025184  \n",
       "ENSMUSG00000102693.2           0            0            0            0  \n",
       "ENSMUSG00000064842.3           0            0            0            0  \n",
       "ENSMUSG00000051951.6           1            0            3            9  \n",
       "ENSMUSG00000102851.2           0            0            0            0  \n",
       "ENSMUSG00000103377.2           0            0            0            5  \n",
       "...                          ...          ...          ...          ...  \n",
       "ENSMUSG00000064368.1        5709        18499        21986       102840  \n",
       "ENSMUSG00000064369.1          28          119           97          159  \n",
       "ENSMUSG00000064370.1       68523       125895       166496       428028  \n",
       "ENSMUSG00000064371.1           3            2            0           41  \n",
       "ENSMUSG00000064372.1         388         6650         7718         3424  \n",
       "\n",
       "[55357 rows x 294 columns]"
      ]
     },
     "execution_count": 29,
     "metadata": {},
     "output_type": "execute_result"
    }
   ],
   "source": [
    "df3"
   ]
  },
  {
   "cell_type": "code",
   "execution_count": 22,
   "id": "39121261",
   "metadata": {},
   "outputs": [],
   "source": [
    "df3.to_csv(\"matrice_count.csv\")"
   ]
  },
  {
   "cell_type": "code",
   "execution_count": 34,
   "id": "71200b6f",
   "metadata": {},
   "outputs": [],
   "source": [
    "df.to_csv(\"liver_final.csv\")"
   ]
  }
 ],
 "metadata": {
  "kernelspec": {
   "display_name": "Python 3 (ipykernel)",
   "language": "python",
   "name": "python3"
  },
  "language_info": {
   "codemirror_mode": {
    "name": "ipython",
    "version": 3
   },
   "file_extension": ".py",
   "mimetype": "text/x-python",
   "name": "python",
   "nbconvert_exporter": "python",
   "pygments_lexer": "ipython3",
   "version": "3.9.7"
  }
 },
 "nbformat": 4,
 "nbformat_minor": 5
}
