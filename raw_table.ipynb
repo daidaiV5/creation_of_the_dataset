{
 "cells": [
  {
   "cell_type": "code",
   "execution_count": 16,
   "id": "36a5aba3",
   "metadata": {},
   "outputs": [],
   "source": [
    "import pandas as pd\n",
    "from collections import defaultdict\n",
    "import pandas as pd\n",
    "import os\n",
    "import csv\n",
    "import scipy as sp\n",
    "import subprocess\n",
    "from pysradb import sraweb"
   ]
  },
  {
   "cell_type": "code",
   "execution_count": 17,
   "id": "c3665ab2",
   "metadata": {},
   "outputs": [
    {
     "ename": "ImportError",
     "evalue": "cannot import name 'SRAWeb' from 'pysradb' (/home/storage_1/yuping/environement/ENTER/lib/python3.9/site-packages/pysradb/__init__.py)",
     "output_type": "error",
     "traceback": [
      "\u001b[0;31m---------------------------------------------------------------------------\u001b[0m",
      "\u001b[0;31mImportError\u001b[0m                               Traceback (most recent call last)",
      "\u001b[0;32m/tmp/ipykernel_16045/3660988902.py\u001b[0m in \u001b[0;36m<module>\u001b[0;34m\u001b[0m\n\u001b[0;32m----> 1\u001b[0;31m \u001b[0;32mfrom\u001b[0m \u001b[0mpysradb\u001b[0m \u001b[0;32mimport\u001b[0m \u001b[0mSRAWeb\u001b[0m\u001b[0;34m\u001b[0m\u001b[0;34m\u001b[0m\u001b[0m\n\u001b[0m",
      "\u001b[0;31mImportError\u001b[0m: cannot import name 'SRAWeb' from 'pysradb' (/home/storage_1/yuping/environement/ENTER/lib/python3.9/site-packages/pysradb/__init__.py)"
     ]
    }
   ],
   "source": [
    "from pysradb import SRAWeb"
   ]
  },
  {
   "cell_type": "markdown",
   "id": "1504ce05",
   "metadata": {},
   "source": [
    "### read raw table  "
   ]
  },
  {
   "cell_type": "code",
   "execution_count": 18,
   "id": "03602a4f",
   "metadata": {
    "scrolled": true
   },
   "outputs": [],
   "source": [
    "path = '/home/storage_1/yuping/git_selection/hypocampus_final.csv'\n",
    "df = pd.read_csv (path, sep=',',index_col=\"Unnamed: 0\", header=0)"
   ]
  },
  {
   "cell_type": "code",
   "execution_count": 19,
   "id": "8f61d3cf",
   "metadata": {},
   "outputs": [
    {
     "data": {
      "text/html": [
       "<div>\n",
       "<style scoped>\n",
       "    .dataframe tbody tr th:only-of-type {\n",
       "        vertical-align: middle;\n",
       "    }\n",
       "\n",
       "    .dataframe tbody tr th {\n",
       "        vertical-align: top;\n",
       "    }\n",
       "\n",
       "    .dataframe thead th {\n",
       "        text-align: right;\n",
       "    }\n",
       "</style>\n",
       "<table border=\"1\" class=\"dataframe\">\n",
       "  <thead>\n",
       "    <tr style=\"text-align: right;\">\n",
       "      <th></th>\n",
       "      <th>strain</th>\n",
       "      <th>tissue</th>\n",
       "      <th>age</th>\n",
       "      <th>age(month)</th>\n",
       "      <th>Sex</th>\n",
       "      <th>genotype</th>\n",
       "      <th>series_id</th>\n",
       "      <th>relation</th>\n",
       "      <th>molecule_ch1</th>\n",
       "      <th>instrument_model</th>\n",
       "      <th>SRA</th>\n",
       "      <th>SRR</th>\n",
       "      <th>end</th>\n",
       "    </tr>\n",
       "  </thead>\n",
       "  <tbody>\n",
       "    <tr>\n",
       "      <th>SRR3734805</th>\n",
       "      <td>strain: C57BL/6J</td>\n",
       "      <td>tissue: Hippocampus</td>\n",
       "      <td>age: 1 Month</td>\n",
       "      <td>1</td>\n",
       "      <td>Sex: Male</td>\n",
       "      <td>NaN</td>\n",
       "      <td>GSE83931</td>\n",
       "      <td>BioSample: https://www.ncbi.nlm.nih.gov/biosam...</td>\n",
       "      <td>total RNA</td>\n",
       "      <td>Illumina HiSeq 2500</td>\n",
       "      <td>SRX1890422</td>\n",
       "      <td>SRR3734805</td>\n",
       "      <td>paired_end</td>\n",
       "    </tr>\n",
       "    <tr>\n",
       "      <th>SRR3734804</th>\n",
       "      <td>strain: C57BL/6J</td>\n",
       "      <td>tissue: Hippocampus</td>\n",
       "      <td>age: 1 Month</td>\n",
       "      <td>1</td>\n",
       "      <td>Sex: Male</td>\n",
       "      <td>NaN</td>\n",
       "      <td>GSE83931</td>\n",
       "      <td>BioSample: https://www.ncbi.nlm.nih.gov/biosam...</td>\n",
       "      <td>total RNA</td>\n",
       "      <td>Illumina HiSeq 2500</td>\n",
       "      <td>SRX1890421</td>\n",
       "      <td>SRR3734804</td>\n",
       "      <td>paired_end</td>\n",
       "    </tr>\n",
       "    <tr>\n",
       "      <th>SRR3734797</th>\n",
       "      <td>strain: C57BL/6J</td>\n",
       "      <td>tissue: Hippocampus</td>\n",
       "      <td>age: 1 Month</td>\n",
       "      <td>1</td>\n",
       "      <td>Sex: Female</td>\n",
       "      <td>NaN</td>\n",
       "      <td>GSE83931</td>\n",
       "      <td>BioSample: https://www.ncbi.nlm.nih.gov/biosam...</td>\n",
       "      <td>total RNA</td>\n",
       "      <td>Illumina HiSeq 2500</td>\n",
       "      <td>SRX1890414</td>\n",
       "      <td>SRR3734797</td>\n",
       "      <td>paired_end</td>\n",
       "    </tr>\n",
       "    <tr>\n",
       "      <th>SRR3734799</th>\n",
       "      <td>strain: C57BL/6J</td>\n",
       "      <td>tissue: Hippocampus</td>\n",
       "      <td>age: 1 Month</td>\n",
       "      <td>1</td>\n",
       "      <td>Sex: Female</td>\n",
       "      <td>NaN</td>\n",
       "      <td>GSE83931</td>\n",
       "      <td>BioSample: https://www.ncbi.nlm.nih.gov/biosam...</td>\n",
       "      <td>total RNA</td>\n",
       "      <td>Illumina HiSeq 2500</td>\n",
       "      <td>SRX1890416</td>\n",
       "      <td>SRR3734799</td>\n",
       "      <td>paired_end</td>\n",
       "    </tr>\n",
       "    <tr>\n",
       "      <th>SRR3734796</th>\n",
       "      <td>strain: C57BL/6J</td>\n",
       "      <td>tissue: Hippocampus</td>\n",
       "      <td>age: 1 Month</td>\n",
       "      <td>1</td>\n",
       "      <td>Sex: Female</td>\n",
       "      <td>NaN</td>\n",
       "      <td>GSE83931</td>\n",
       "      <td>BioSample: https://www.ncbi.nlm.nih.gov/biosam...</td>\n",
       "      <td>total RNA</td>\n",
       "      <td>Illumina HiSeq 2500</td>\n",
       "      <td>SRX1890413</td>\n",
       "      <td>SRR3734796</td>\n",
       "      <td>paired_end</td>\n",
       "    </tr>\n",
       "    <tr>\n",
       "      <th>...</th>\n",
       "      <td>...</td>\n",
       "      <td>...</td>\n",
       "      <td>...</td>\n",
       "      <td>...</td>\n",
       "      <td>...</td>\n",
       "      <td>...</td>\n",
       "      <td>...</td>\n",
       "      <td>...</td>\n",
       "      <td>...</td>\n",
       "      <td>...</td>\n",
       "      <td>...</td>\n",
       "      <td>...</td>\n",
       "      <td>...</td>\n",
       "    </tr>\n",
       "    <tr>\n",
       "      <th>SRR6793129</th>\n",
       "      <td>strain: C57BL/6</td>\n",
       "      <td>tissue: brain, hippocampus</td>\n",
       "      <td>age: 24 months</td>\n",
       "      <td>24</td>\n",
       "      <td>Sex: male</td>\n",
       "      <td>perturbation: none</td>\n",
       "      <td>GSE111270</td>\n",
       "      <td>['BioSample: https://www.ncbi.nlm.nih.gov/bios...</td>\n",
       "      <td>['total RNA']</td>\n",
       "      <td>['Illumina HiSeq 2500']</td>\n",
       "      <td>SRX3752161</td>\n",
       "      <td>SRR6793129</td>\n",
       "      <td>paired_end</td>\n",
       "    </tr>\n",
       "    <tr>\n",
       "      <th>SRR6793130</th>\n",
       "      <td>strain: C57BL/6</td>\n",
       "      <td>tissue: brain, hippocampus</td>\n",
       "      <td>age: 24 months</td>\n",
       "      <td>24</td>\n",
       "      <td>Sex: male</td>\n",
       "      <td>perturbation: none</td>\n",
       "      <td>GSE111270</td>\n",
       "      <td>['BioSample: https://www.ncbi.nlm.nih.gov/bios...</td>\n",
       "      <td>['total RNA']</td>\n",
       "      <td>['Illumina HiSeq 2500']</td>\n",
       "      <td>SRX3752162</td>\n",
       "      <td>SRR6793130</td>\n",
       "      <td>paired_end</td>\n",
       "    </tr>\n",
       "    <tr>\n",
       "      <th>SRR6793131</th>\n",
       "      <td>strain: C57BL/6</td>\n",
       "      <td>tissue: brain, hippocampus</td>\n",
       "      <td>age: 24 months</td>\n",
       "      <td>24</td>\n",
       "      <td>Sex: male</td>\n",
       "      <td>perturbation: none</td>\n",
       "      <td>GSE111270</td>\n",
       "      <td>['BioSample: https://www.ncbi.nlm.nih.gov/bios...</td>\n",
       "      <td>['total RNA']</td>\n",
       "      <td>['Illumina HiSeq 2500']</td>\n",
       "      <td>SRX3752163</td>\n",
       "      <td>SRR6793131</td>\n",
       "      <td>paired_end</td>\n",
       "    </tr>\n",
       "    <tr>\n",
       "      <th>SRR6793132</th>\n",
       "      <td>strain: C57BL/6</td>\n",
       "      <td>tissue: brain, hippocampus</td>\n",
       "      <td>age: 24 months</td>\n",
       "      <td>24</td>\n",
       "      <td>Sex: male</td>\n",
       "      <td>perturbation: none</td>\n",
       "      <td>GSE111270</td>\n",
       "      <td>['BioSample: https://www.ncbi.nlm.nih.gov/bios...</td>\n",
       "      <td>['total RNA']</td>\n",
       "      <td>['Illumina HiSeq 2500']</td>\n",
       "      <td>SRX3752164</td>\n",
       "      <td>SRR6793132</td>\n",
       "      <td>paired_end</td>\n",
       "    </tr>\n",
       "    <tr>\n",
       "      <th>SRR6793133</th>\n",
       "      <td>strain: C57BL/6</td>\n",
       "      <td>tissue: brain, hippocampus</td>\n",
       "      <td>age: 24 months</td>\n",
       "      <td>24</td>\n",
       "      <td>Sex: male</td>\n",
       "      <td>perturbation: none</td>\n",
       "      <td>GSE111270</td>\n",
       "      <td>['BioSample: https://www.ncbi.nlm.nih.gov/bios...</td>\n",
       "      <td>['total RNA']</td>\n",
       "      <td>['Illumina HiSeq 2500']</td>\n",
       "      <td>SRX3752165</td>\n",
       "      <td>SRR6793133</td>\n",
       "      <td>paired_end</td>\n",
       "    </tr>\n",
       "  </tbody>\n",
       "</table>\n",
       "<p>294 rows × 13 columns</p>\n",
       "</div>"
      ],
      "text/plain": [
       "                      strain                      tissue             age  \\\n",
       "SRR3734805  strain: C57BL/6J         tissue: Hippocampus    age: 1 Month   \n",
       "SRR3734804  strain: C57BL/6J         tissue: Hippocampus    age: 1 Month   \n",
       "SRR3734797  strain: C57BL/6J         tissue: Hippocampus    age: 1 Month   \n",
       "SRR3734799  strain: C57BL/6J         tissue: Hippocampus    age: 1 Month   \n",
       "SRR3734796  strain: C57BL/6J         tissue: Hippocampus    age: 1 Month   \n",
       "...                      ...                         ...             ...   \n",
       "SRR6793129   strain: C57BL/6  tissue: brain, hippocampus  age: 24 months   \n",
       "SRR6793130   strain: C57BL/6  tissue: brain, hippocampus  age: 24 months   \n",
       "SRR6793131   strain: C57BL/6  tissue: brain, hippocampus  age: 24 months   \n",
       "SRR6793132   strain: C57BL/6  tissue: brain, hippocampus  age: 24 months   \n",
       "SRR6793133   strain: C57BL/6  tissue: brain, hippocampus  age: 24 months   \n",
       "\n",
       "           age(month)          Sex            genotype  series_id  \\\n",
       "SRR3734805          1    Sex: Male                 NaN   GSE83931   \n",
       "SRR3734804          1    Sex: Male                 NaN   GSE83931   \n",
       "SRR3734797          1  Sex: Female                 NaN   GSE83931   \n",
       "SRR3734799          1  Sex: Female                 NaN   GSE83931   \n",
       "SRR3734796          1  Sex: Female                 NaN   GSE83931   \n",
       "...               ...          ...                 ...        ...   \n",
       "SRR6793129         24    Sex: male  perturbation: none  GSE111270   \n",
       "SRR6793130         24    Sex: male  perturbation: none  GSE111270   \n",
       "SRR6793131         24    Sex: male  perturbation: none  GSE111270   \n",
       "SRR6793132         24    Sex: male  perturbation: none  GSE111270   \n",
       "SRR6793133         24    Sex: male  perturbation: none  GSE111270   \n",
       "\n",
       "                                                     relation   molecule_ch1  \\\n",
       "SRR3734805  BioSample: https://www.ncbi.nlm.nih.gov/biosam...      total RNA   \n",
       "SRR3734804  BioSample: https://www.ncbi.nlm.nih.gov/biosam...      total RNA   \n",
       "SRR3734797  BioSample: https://www.ncbi.nlm.nih.gov/biosam...      total RNA   \n",
       "SRR3734799  BioSample: https://www.ncbi.nlm.nih.gov/biosam...      total RNA   \n",
       "SRR3734796  BioSample: https://www.ncbi.nlm.nih.gov/biosam...      total RNA   \n",
       "...                                                       ...            ...   \n",
       "SRR6793129  ['BioSample: https://www.ncbi.nlm.nih.gov/bios...  ['total RNA']   \n",
       "SRR6793130  ['BioSample: https://www.ncbi.nlm.nih.gov/bios...  ['total RNA']   \n",
       "SRR6793131  ['BioSample: https://www.ncbi.nlm.nih.gov/bios...  ['total RNA']   \n",
       "SRR6793132  ['BioSample: https://www.ncbi.nlm.nih.gov/bios...  ['total RNA']   \n",
       "SRR6793133  ['BioSample: https://www.ncbi.nlm.nih.gov/bios...  ['total RNA']   \n",
       "\n",
       "                   instrument_model         SRA         SRR         end  \n",
       "SRR3734805      Illumina HiSeq 2500  SRX1890422  SRR3734805  paired_end  \n",
       "SRR3734804      Illumina HiSeq 2500  SRX1890421  SRR3734804  paired_end  \n",
       "SRR3734797      Illumina HiSeq 2500  SRX1890414  SRR3734797  paired_end  \n",
       "SRR3734799      Illumina HiSeq 2500  SRX1890416  SRR3734799  paired_end  \n",
       "SRR3734796      Illumina HiSeq 2500  SRX1890413  SRR3734796  paired_end  \n",
       "...                             ...         ...         ...         ...  \n",
       "SRR6793129  ['Illumina HiSeq 2500']  SRX3752161  SRR6793129  paired_end  \n",
       "SRR6793130  ['Illumina HiSeq 2500']  SRX3752162  SRR6793130  paired_end  \n",
       "SRR6793131  ['Illumina HiSeq 2500']  SRX3752163  SRR6793131  paired_end  \n",
       "SRR6793132  ['Illumina HiSeq 2500']  SRX3752164  SRR6793132  paired_end  \n",
       "SRR6793133  ['Illumina HiSeq 2500']  SRX3752165  SRR6793133  paired_end  \n",
       "\n",
       "[294 rows x 13 columns]"
      ]
     },
     "execution_count": 19,
     "metadata": {},
     "output_type": "execute_result"
    }
   ],
   "source": [
    "df"
   ]
  },
  {
   "cell_type": "markdown",
   "id": "daae2ef2",
   "metadata": {},
   "source": [
    "### GSM to SRR"
   ]
  },
  {
   "cell_type": "code",
   "execution_count": 5,
   "id": "70fbad1d",
   "metadata": {},
   "outputs": [],
   "source": [
    "df['SRR']='NA'"
   ]
  },
  {
   "cell_type": "code",
   "execution_count": 10,
   "id": "7f8713d3",
   "metadata": {},
   "outputs": [
    {
     "data": {
      "text/plain": [
       "<module 'pysradb.sraweb' from '/Users/daiyuping/Desktop/gitstage/pysradb/pysradb/sraweb.py'>"
      ]
     },
     "execution_count": 10,
     "metadata": {},
     "output_type": "execute_result"
    }
   ],
   "source": [
    "sraweb"
   ]
  },
  {
   "cell_type": "code",
   "execution_count": 15,
   "id": "de59ac60",
   "metadata": {},
   "outputs": [],
   "source": [
    "db = sraweb.SRAweb()"
   ]
  },
  {
   "cell_type": "code",
   "execution_count": 30,
   "id": "b7743c47",
   "metadata": {},
   "outputs": [],
   "source": [
    "df=df.drop(['GSM720460'])"
   ]
  },
  {
   "cell_type": "code",
   "execution_count": 31,
   "id": "07a004fd",
   "metadata": {
    "scrolled": true
   },
   "outputs": [
    {
     "name": "stdout",
     "output_type": "stream",
     "text": [
      "GSM2221822\n",
      "GSM2221821\n",
      "GSM2221814\n",
      "GSM2221816\n",
      "GSM2221813\n",
      "GSM2221815\n",
      "GSM2221818\n",
      "GSM2221817\n",
      "GSM2221820\n",
      "GSM2221819\n",
      "GSM2668551\n",
      "GSM2668552\n",
      "GSM2668553\n",
      "GSM3611119\n",
      "GSM3611120\n",
      "GSM3611121\n",
      "GSM3611131\n",
      "GSM3611132\n",
      "GSM3611133\n",
      "GSM1896433\n",
      "GSM1896435\n",
      "GSM1896431\n",
      "GSM1896436\n",
      "GSM1896438\n",
      "GSM1896437\n",
      "GSM1896432\n",
      "GSM1896434\n",
      "GSM2028058\n",
      "GSM2028057\n",
      "GSM2028055\n",
      "GSM2028059\n",
      "GSM2028056\n",
      "GSM2028060\n",
      "GSM2221831\n",
      "GSM2221825\n",
      "GSM2221824\n",
      "GSM2221830\n",
      "GSM2221832\n",
      "GSM2221826\n",
      "GSM2221828\n",
      "GSM2221827\n",
      "GSM2221829\n",
      "GSM2221823\n",
      "GSM2675552\n",
      "GSM2675553\n",
      "GSM2675554\n",
      "GSM2675555\n",
      "GSM2675556\n",
      "GSM2803007\n",
      "GSM2796670\n",
      "GSM2796671\n",
      "GSM2796672\n",
      "GSM2796673\n",
      "GSM2796688\n",
      "GSM2796689\n",
      "GSM2796708\n",
      "GSM2796709\n",
      "GSM2796710\n",
      "GSM2796711\n",
      "GSM2796628\n",
      "GSM2796629\n",
      "GSM3069756\n",
      "GSM3069757\n",
      "GSM3069758\n",
      "GSM3069759\n",
      "GSM3069760\n",
      "GSM3069761\n",
      "GSM5129621\n",
      "GSM5129622\n",
      "GSM5129623\n",
      "GSM5129624\n",
      "GSM5129625\n",
      "GSM5129626\n",
      "GSM5129627\n",
      "GSM5129628\n",
      "GSM5129629\n",
      "GSM5129630\n",
      "GSM2221835\n",
      "GSM2221839\n",
      "GSM2221833\n",
      "GSM2221837\n",
      "GSM2221838\n",
      "GSM2221842\n",
      "GSM2221841\n",
      "GSM2221840\n",
      "GSM2221836\n",
      "GSM2221834\n",
      "GSM2747159\n",
      "GSM2747160\n",
      "GSM2747161\n",
      "GSM2747162\n",
      "GSM3027654\n",
      "GSM3027655\n",
      "GSM3027656\n",
      "GSM3027657\n",
      "GSM3027658\n",
      "GSM3027659\n",
      "GSM3027660\n",
      "GSM3027661\n",
      "GSM3027662\n",
      "GSM3027663\n",
      "GSM2699853\n",
      "GSM2699854\n",
      "GSM2699857\n",
      "GSM2699859\n",
      "GSM2699860\n",
      "GSM2699865\n",
      "GSM2699867\n",
      "GSM2699868\n",
      "GSM2699870\n",
      "GSM2699871\n",
      "GSM2699872\n",
      "GSM2699873\n",
      "GSM2699874\n",
      "GSM2699875\n",
      "GSM2699879\n",
      "GSM2699880\n",
      "GSM2699881\n",
      "GSM2699883\n",
      "GSM2699887\n",
      "GSM2699888\n",
      "GSM2699889\n",
      "GSM2699892\n",
      "GSM2699894\n",
      "GSM2699895\n",
      "GSM2699898\n",
      "GSM2699899\n",
      "GSM2699903\n",
      "GSM2699905\n",
      "GSM2699908\n",
      "GSM2699910\n",
      "GSM2699911\n",
      "GSM5139781\n",
      "GSM5139787\n",
      "GSM5139793\n",
      "GSM5139799\n",
      "GSM1896439\n",
      "GSM1896444\n",
      "GSM1896442\n",
      "GSM1896440\n",
      "GSM1896445\n",
      "GSM1896443\n",
      "GSM1896441\n",
      "GSM1896446\n",
      "GSM2796712\n",
      "GSM2796713\n",
      "GSM2796714\n",
      "GSM2796715\n",
      "GSM2796716\n",
      "GSM2796717\n",
      "GSM2796718\n",
      "GSM2796719\n",
      "GSM2796720\n",
      "GSM2796721\n",
      "GSM2796724\n",
      "GSM2796725\n",
      "GSM2796726\n",
      "GSM2796727\n",
      "GSM2796728\n",
      "GSM2796729\n",
      "GSM5129661\n",
      "GSM5129662\n",
      "GSM5129663\n",
      "GSM5129664\n",
      "GSM5129665\n",
      "GSM5129666\n",
      "GSM5129667\n",
      "GSM5129669\n",
      "GSM5129670\n",
      "GSM5139782\n",
      "GSM5139788\n",
      "GSM5139794\n",
      "GSM5139800\n",
      "GSM5139805\n",
      "GSM5139811\n",
      "GSM5139817\n",
      "GSM5139823\n",
      "GSM1896424\n",
      "GSM1896425\n",
      "GSM1896423\n",
      "GSM1896428\n",
      "GSM1896430\n",
      "GSM1896427\n",
      "GSM1896426\n",
      "GSM1896429\n",
      "GSM2546841\n",
      "GSM2546842\n",
      "GSM2546843\n",
      "GSM2546844\n",
      "GSM5129701\n",
      "GSM5129702\n",
      "GSM5129703\n",
      "GSM5129704\n",
      "GSM5129705\n",
      "GSM5129706\n",
      "GSM5129707\n",
      "GSM5129708\n",
      "GSM5129709\n",
      "GSM5129710\n",
      "GSM3984866\n",
      "GSM3984864\n",
      "GSM3984865\n",
      "GSM2699850\n",
      "GSM2699851\n",
      "GSM2699852\n",
      "GSM2699855\n",
      "GSM2699856\n",
      "GSM2699858\n",
      "GSM2699861\n",
      "GSM2699862\n",
      "GSM2699863\n",
      "GSM2699864\n",
      "GSM2699866\n",
      "GSM2699869\n",
      "GSM2699876\n",
      "GSM2699877\n",
      "GSM2699878\n",
      "GSM2699882\n",
      "GSM2699884\n",
      "GSM2699885\n",
      "GSM2699886\n",
      "GSM2699890\n",
      "GSM2699891\n",
      "GSM2699893\n",
      "GSM2699896\n",
      "GSM2699897\n",
      "GSM2699900\n",
      "GSM2699901\n",
      "GSM2699902\n",
      "GSM2699904\n",
      "GSM2699906\n",
      "GSM2699907\n",
      "GSM2699909\n",
      "GSM2699912\n",
      "GSM2699913\n",
      "GSM5139726\n",
      "GSM5139732\n",
      "GSM5139738\n",
      "GSM5139744\n",
      "GSM3039611\n",
      "GSM3039612\n",
      "GSM3039613\n",
      "GSM3039614\n",
      "GSM3039615\n",
      "GSM3039616\n",
      "GSM2668545\n",
      "GSM2668546\n",
      "GSM2668547\n",
      "GSM4989052\n",
      "GSM4989054\n",
      "GSM4989055\n",
      "GSM4989058\n",
      "GSM5129763\n",
      "GSM5129764\n",
      "GSM5129765\n",
      "GSM5129766\n",
      "GSM5129767\n",
      "GSM5129768\n",
      "GSM5129769\n",
      "GSM5129770\n",
      "GSM5129771\n",
      "GSM5129772\n",
      "GSM5129773\n",
      "GSM5129774\n",
      "GSM5129775\n",
      "GSM5129776\n",
      "GSM5129777\n",
      "GSM5129778\n",
      "GSM5129779\n",
      "GSM5129780\n",
      "GSM5129781\n",
      "GSM5129782\n",
      "GSM5139812\n",
      "GSM5139818\n",
      "GSM5139824\n",
      "GSM3025386\n",
      "GSM3025387\n",
      "GSM3025388\n",
      "GSM3025389\n",
      "GSM3027640\n",
      "GSM3027641\n",
      "GSM3027642\n",
      "GSM3027643\n",
      "GSM3027644\n",
      "GSM3027645\n",
      "GSM3027649\n",
      "GSM3027651\n",
      "GSM3027653\n",
      "GSM3027673\n",
      "GSM3027674\n",
      "GSM3027675\n",
      "GSM3027676\n",
      "GSM3027677\n",
      "GSM3027678\n"
     ]
    }
   ],
   "source": [
    "for index in df.index:\n",
    "    print(index)\n",
    "    if(df.loc[index,'SRR']=='NA'):\n",
    "        test=db.gsm_to_srr(index)\n",
    "        df.loc[index,'SRR']=test.iloc[0,1]"
   ]
  },
  {
   "cell_type": "code",
   "execution_count": 58,
   "id": "1c75cd2b",
   "metadata": {},
   "outputs": [
    {
     "data": {
      "text/html": [
       "<div>\n",
       "<style scoped>\n",
       "    .dataframe tbody tr th:only-of-type {\n",
       "        vertical-align: middle;\n",
       "    }\n",
       "\n",
       "    .dataframe tbody tr th {\n",
       "        vertical-align: top;\n",
       "    }\n",
       "\n",
       "    .dataframe thead th {\n",
       "        text-align: right;\n",
       "    }\n",
       "</style>\n",
       "<table border=\"1\" class=\"dataframe\">\n",
       "  <thead>\n",
       "    <tr style=\"text-align: right;\">\n",
       "      <th></th>\n",
       "      <th>strain</th>\n",
       "      <th>tissue</th>\n",
       "      <th>age</th>\n",
       "      <th>age(month)</th>\n",
       "      <th>Sex</th>\n",
       "      <th>genotype</th>\n",
       "      <th>series_id</th>\n",
       "      <th>relation</th>\n",
       "      <th>molecule_ch1</th>\n",
       "      <th>instrument_model</th>\n",
       "      <th>SRA</th>\n",
       "      <th>SRR</th>\n",
       "      <th>end</th>\n",
       "    </tr>\n",
       "  </thead>\n",
       "  <tbody>\n",
       "    <tr>\n",
       "      <th>SRR3734805</th>\n",
       "      <td>strain: C57BL/6J</td>\n",
       "      <td>tissue: Hippocampus</td>\n",
       "      <td>age: 1 Month</td>\n",
       "      <td>1</td>\n",
       "      <td>Sex: Male</td>\n",
       "      <td>NaN</td>\n",
       "      <td>GSE83931</td>\n",
       "      <td>BioSample: https://www.ncbi.nlm.nih.gov/biosam...</td>\n",
       "      <td>total RNA</td>\n",
       "      <td>Illumina HiSeq 2500</td>\n",
       "      <td>SRX1890422</td>\n",
       "      <td>SRR3734805</td>\n",
       "      <td>paired_end</td>\n",
       "    </tr>\n",
       "    <tr>\n",
       "      <th>SRR3734804</th>\n",
       "      <td>strain: C57BL/6J</td>\n",
       "      <td>tissue: Hippocampus</td>\n",
       "      <td>age: 1 Month</td>\n",
       "      <td>1</td>\n",
       "      <td>Sex: Male</td>\n",
       "      <td>NaN</td>\n",
       "      <td>GSE83931</td>\n",
       "      <td>BioSample: https://www.ncbi.nlm.nih.gov/biosam...</td>\n",
       "      <td>total RNA</td>\n",
       "      <td>Illumina HiSeq 2500</td>\n",
       "      <td>SRX1890421</td>\n",
       "      <td>SRR3734804</td>\n",
       "      <td>paired_end</td>\n",
       "    </tr>\n",
       "    <tr>\n",
       "      <th>SRR3734797</th>\n",
       "      <td>strain: C57BL/6J</td>\n",
       "      <td>tissue: Hippocampus</td>\n",
       "      <td>age: 1 Month</td>\n",
       "      <td>1</td>\n",
       "      <td>Sex: Female</td>\n",
       "      <td>NaN</td>\n",
       "      <td>GSE83931</td>\n",
       "      <td>BioSample: https://www.ncbi.nlm.nih.gov/biosam...</td>\n",
       "      <td>total RNA</td>\n",
       "      <td>Illumina HiSeq 2500</td>\n",
       "      <td>SRX1890414</td>\n",
       "      <td>SRR3734797</td>\n",
       "      <td>paired_end</td>\n",
       "    </tr>\n",
       "    <tr>\n",
       "      <th>SRR3734799</th>\n",
       "      <td>strain: C57BL/6J</td>\n",
       "      <td>tissue: Hippocampus</td>\n",
       "      <td>age: 1 Month</td>\n",
       "      <td>1</td>\n",
       "      <td>Sex: Female</td>\n",
       "      <td>NaN</td>\n",
       "      <td>GSE83931</td>\n",
       "      <td>BioSample: https://www.ncbi.nlm.nih.gov/biosam...</td>\n",
       "      <td>total RNA</td>\n",
       "      <td>Illumina HiSeq 2500</td>\n",
       "      <td>SRX1890416</td>\n",
       "      <td>SRR3734799</td>\n",
       "      <td>paired_end</td>\n",
       "    </tr>\n",
       "    <tr>\n",
       "      <th>SRR3734796</th>\n",
       "      <td>strain: C57BL/6J</td>\n",
       "      <td>tissue: Hippocampus</td>\n",
       "      <td>age: 1 Month</td>\n",
       "      <td>1</td>\n",
       "      <td>Sex: Female</td>\n",
       "      <td>NaN</td>\n",
       "      <td>GSE83931</td>\n",
       "      <td>BioSample: https://www.ncbi.nlm.nih.gov/biosam...</td>\n",
       "      <td>total RNA</td>\n",
       "      <td>Illumina HiSeq 2500</td>\n",
       "      <td>SRX1890413</td>\n",
       "      <td>SRR3734796</td>\n",
       "      <td>paired_end</td>\n",
       "    </tr>\n",
       "    <tr>\n",
       "      <th>...</th>\n",
       "      <td>...</td>\n",
       "      <td>...</td>\n",
       "      <td>...</td>\n",
       "      <td>...</td>\n",
       "      <td>...</td>\n",
       "      <td>...</td>\n",
       "      <td>...</td>\n",
       "      <td>...</td>\n",
       "      <td>...</td>\n",
       "      <td>...</td>\n",
       "      <td>...</td>\n",
       "      <td>...</td>\n",
       "      <td>...</td>\n",
       "    </tr>\n",
       "    <tr>\n",
       "      <th>SRR6793129</th>\n",
       "      <td>strain: C57BL/6</td>\n",
       "      <td>tissue: brain, hippocampus</td>\n",
       "      <td>age: 24 months</td>\n",
       "      <td>24</td>\n",
       "      <td>Sex: male</td>\n",
       "      <td>perturbation: none</td>\n",
       "      <td>GSE111270</td>\n",
       "      <td>['BioSample: https://www.ncbi.nlm.nih.gov/bios...</td>\n",
       "      <td>['total RNA']</td>\n",
       "      <td>['Illumina HiSeq 2500']</td>\n",
       "      <td>SRX3752161</td>\n",
       "      <td>SRR6793129</td>\n",
       "      <td>paired_end</td>\n",
       "    </tr>\n",
       "    <tr>\n",
       "      <th>SRR6793130</th>\n",
       "      <td>strain: C57BL/6</td>\n",
       "      <td>tissue: brain, hippocampus</td>\n",
       "      <td>age: 24 months</td>\n",
       "      <td>24</td>\n",
       "      <td>Sex: male</td>\n",
       "      <td>perturbation: none</td>\n",
       "      <td>GSE111270</td>\n",
       "      <td>['BioSample: https://www.ncbi.nlm.nih.gov/bios...</td>\n",
       "      <td>['total RNA']</td>\n",
       "      <td>['Illumina HiSeq 2500']</td>\n",
       "      <td>SRX3752162</td>\n",
       "      <td>SRR6793130</td>\n",
       "      <td>paired_end</td>\n",
       "    </tr>\n",
       "    <tr>\n",
       "      <th>SRR6793131</th>\n",
       "      <td>strain: C57BL/6</td>\n",
       "      <td>tissue: brain, hippocampus</td>\n",
       "      <td>age: 24 months</td>\n",
       "      <td>24</td>\n",
       "      <td>Sex: male</td>\n",
       "      <td>perturbation: none</td>\n",
       "      <td>GSE111270</td>\n",
       "      <td>['BioSample: https://www.ncbi.nlm.nih.gov/bios...</td>\n",
       "      <td>['total RNA']</td>\n",
       "      <td>['Illumina HiSeq 2500']</td>\n",
       "      <td>SRX3752163</td>\n",
       "      <td>SRR6793131</td>\n",
       "      <td>paired_end</td>\n",
       "    </tr>\n",
       "    <tr>\n",
       "      <th>SRR6793132</th>\n",
       "      <td>strain: C57BL/6</td>\n",
       "      <td>tissue: brain, hippocampus</td>\n",
       "      <td>age: 24 months</td>\n",
       "      <td>24</td>\n",
       "      <td>Sex: male</td>\n",
       "      <td>perturbation: none</td>\n",
       "      <td>GSE111270</td>\n",
       "      <td>['BioSample: https://www.ncbi.nlm.nih.gov/bios...</td>\n",
       "      <td>['total RNA']</td>\n",
       "      <td>['Illumina HiSeq 2500']</td>\n",
       "      <td>SRX3752164</td>\n",
       "      <td>SRR6793132</td>\n",
       "      <td>paired_end</td>\n",
       "    </tr>\n",
       "    <tr>\n",
       "      <th>SRR6793133</th>\n",
       "      <td>strain: C57BL/6</td>\n",
       "      <td>tissue: brain, hippocampus</td>\n",
       "      <td>age: 24 months</td>\n",
       "      <td>24</td>\n",
       "      <td>Sex: male</td>\n",
       "      <td>perturbation: none</td>\n",
       "      <td>GSE111270</td>\n",
       "      <td>['BioSample: https://www.ncbi.nlm.nih.gov/bios...</td>\n",
       "      <td>['total RNA']</td>\n",
       "      <td>['Illumina HiSeq 2500']</td>\n",
       "      <td>SRX3752165</td>\n",
       "      <td>SRR6793133</td>\n",
       "      <td>paired_end</td>\n",
       "    </tr>\n",
       "  </tbody>\n",
       "</table>\n",
       "<p>294 rows × 13 columns</p>\n",
       "</div>"
      ],
      "text/plain": [
       "                      strain                      tissue             age  \\\n",
       "SRR3734805  strain: C57BL/6J         tissue: Hippocampus    age: 1 Month   \n",
       "SRR3734804  strain: C57BL/6J         tissue: Hippocampus    age: 1 Month   \n",
       "SRR3734797  strain: C57BL/6J         tissue: Hippocampus    age: 1 Month   \n",
       "SRR3734799  strain: C57BL/6J         tissue: Hippocampus    age: 1 Month   \n",
       "SRR3734796  strain: C57BL/6J         tissue: Hippocampus    age: 1 Month   \n",
       "...                      ...                         ...             ...   \n",
       "SRR6793129   strain: C57BL/6  tissue: brain, hippocampus  age: 24 months   \n",
       "SRR6793130   strain: C57BL/6  tissue: brain, hippocampus  age: 24 months   \n",
       "SRR6793131   strain: C57BL/6  tissue: brain, hippocampus  age: 24 months   \n",
       "SRR6793132   strain: C57BL/6  tissue: brain, hippocampus  age: 24 months   \n",
       "SRR6793133   strain: C57BL/6  tissue: brain, hippocampus  age: 24 months   \n",
       "\n",
       "           age(month)          Sex            genotype  series_id  \\\n",
       "SRR3734805          1    Sex: Male                 NaN   GSE83931   \n",
       "SRR3734804          1    Sex: Male                 NaN   GSE83931   \n",
       "SRR3734797          1  Sex: Female                 NaN   GSE83931   \n",
       "SRR3734799          1  Sex: Female                 NaN   GSE83931   \n",
       "SRR3734796          1  Sex: Female                 NaN   GSE83931   \n",
       "...               ...          ...                 ...        ...   \n",
       "SRR6793129         24    Sex: male  perturbation: none  GSE111270   \n",
       "SRR6793130         24    Sex: male  perturbation: none  GSE111270   \n",
       "SRR6793131         24    Sex: male  perturbation: none  GSE111270   \n",
       "SRR6793132         24    Sex: male  perturbation: none  GSE111270   \n",
       "SRR6793133         24    Sex: male  perturbation: none  GSE111270   \n",
       "\n",
       "                                                     relation   molecule_ch1  \\\n",
       "SRR3734805  BioSample: https://www.ncbi.nlm.nih.gov/biosam...      total RNA   \n",
       "SRR3734804  BioSample: https://www.ncbi.nlm.nih.gov/biosam...      total RNA   \n",
       "SRR3734797  BioSample: https://www.ncbi.nlm.nih.gov/biosam...      total RNA   \n",
       "SRR3734799  BioSample: https://www.ncbi.nlm.nih.gov/biosam...      total RNA   \n",
       "SRR3734796  BioSample: https://www.ncbi.nlm.nih.gov/biosam...      total RNA   \n",
       "...                                                       ...            ...   \n",
       "SRR6793129  ['BioSample: https://www.ncbi.nlm.nih.gov/bios...  ['total RNA']   \n",
       "SRR6793130  ['BioSample: https://www.ncbi.nlm.nih.gov/bios...  ['total RNA']   \n",
       "SRR6793131  ['BioSample: https://www.ncbi.nlm.nih.gov/bios...  ['total RNA']   \n",
       "SRR6793132  ['BioSample: https://www.ncbi.nlm.nih.gov/bios...  ['total RNA']   \n",
       "SRR6793133  ['BioSample: https://www.ncbi.nlm.nih.gov/bios...  ['total RNA']   \n",
       "\n",
       "                   instrument_model         SRA         SRR         end  \n",
       "SRR3734805      Illumina HiSeq 2500  SRX1890422  SRR3734805  paired_end  \n",
       "SRR3734804      Illumina HiSeq 2500  SRX1890421  SRR3734804  paired_end  \n",
       "SRR3734797      Illumina HiSeq 2500  SRX1890414  SRR3734797  paired_end  \n",
       "SRR3734799      Illumina HiSeq 2500  SRX1890416  SRR3734799  paired_end  \n",
       "SRR3734796      Illumina HiSeq 2500  SRX1890413  SRR3734796  paired_end  \n",
       "...                             ...         ...         ...         ...  \n",
       "SRR6793129  ['Illumina HiSeq 2500']  SRX3752161  SRR6793129  paired_end  \n",
       "SRR6793130  ['Illumina HiSeq 2500']  SRX3752162  SRR6793130  paired_end  \n",
       "SRR6793131  ['Illumina HiSeq 2500']  SRX3752163  SRR6793131  paired_end  \n",
       "SRR6793132  ['Illumina HiSeq 2500']  SRX3752164  SRR6793132  paired_end  \n",
       "SRR6793133  ['Illumina HiSeq 2500']  SRX3752165  SRR6793133  paired_end  \n",
       "\n",
       "[294 rows x 13 columns]"
      ]
     },
     "execution_count": 58,
     "metadata": {},
     "output_type": "execute_result"
    }
   ],
   "source": [
    "df.to_"
   ]
  },
  {
   "cell_type": "code",
   "execution_count": 50,
   "id": "3a17063c",
   "metadata": {},
   "outputs": [],
   "source": [
    "list_1_hypocampus=list(df['SRR'])[0:100]\n",
    "list_2_hypocampus=list(df['SRR'])[100:200]\n",
    "list_3_hypocampus=list(df['SRR'])[200:]"
   ]
  },
  {
   "cell_type": "code",
   "execution_count": 56,
   "id": "37612758",
   "metadata": {},
   "outputs": [],
   "source": [
    "with open(\"list_3_hypocampus.txt\", 'w') as output:\n",
    "    for row in list_3_hypocampus:\n",
    "        output.write(str(row) + '\\n')"
   ]
  },
  {
   "cell_type": "markdown",
   "id": "1f4782c1",
   "metadata": {},
   "source": [
    "### single end or paired end"
   ]
  },
  {
   "cell_type": "code",
   "execution_count": 20,
   "id": "d305d78e",
   "metadata": {},
   "outputs": [],
   "source": [
    "df['end']='NA'"
   ]
  },
  {
   "cell_type": "code",
   "execution_count": 26,
   "id": "1359058d",
   "metadata": {},
   "outputs": [
    {
     "data": {
      "text/plain": [
       "<os._wrap_close at 0x7f067a800df0>"
      ]
     },
     "execution_count": 26,
     "metadata": {},
     "output_type": "execute_result"
    },
    {
     "name": "stderr",
     "output_type": "stream",
     "text": [
      "Read 1 spots for SRR3184279\n",
      "Written 1 spots for SRR3184279\n"
     ]
    }
   ],
   "source": [
    "numLines=f'fastq-dump -X 1 -Z --split-spot SRR3184279| wc -l'\n",
    "os.popen(numLines)"
   ]
  },
  {
   "cell_type": "code",
   "execution_count": 23,
   "id": "0d531c2a",
   "metadata": {},
   "outputs": [
    {
     "data": {
      "text/plain": [
       "<os._wrap_close at 0x7f067a7778b0>"
      ]
     },
     "execution_count": 23,
     "metadata": {},
     "output_type": "execute_result"
    },
    {
     "name": "stderr",
     "output_type": "stream",
     "text": [
      "Read 1 spots for SRR3184279\n",
      "Written 1 spots for SRR3184279\n"
     ]
    }
   ],
   "source": [
    "f"
   ]
  },
  {
   "cell_type": "code",
   "execution_count": 39,
   "id": "692a9caf",
   "metadata": {},
   "outputs": [],
   "source": [
    "df.index=list(df['SRR'])"
   ]
  },
  {
   "cell_type": "code",
   "execution_count": 40,
   "id": "d2efe263",
   "metadata": {},
   "outputs": [
    {
     "data": {
      "text/html": [
       "<div>\n",
       "<style scoped>\n",
       "    .dataframe tbody tr th:only-of-type {\n",
       "        vertical-align: middle;\n",
       "    }\n",
       "\n",
       "    .dataframe tbody tr th {\n",
       "        vertical-align: top;\n",
       "    }\n",
       "\n",
       "    .dataframe thead th {\n",
       "        text-align: right;\n",
       "    }\n",
       "</style>\n",
       "<table border=\"1\" class=\"dataframe\">\n",
       "  <thead>\n",
       "    <tr style=\"text-align: right;\">\n",
       "      <th></th>\n",
       "      <th>strain</th>\n",
       "      <th>tissue</th>\n",
       "      <th>age</th>\n",
       "      <th>age(month)</th>\n",
       "      <th>Sex</th>\n",
       "      <th>genotype</th>\n",
       "      <th>series_id</th>\n",
       "      <th>relation</th>\n",
       "      <th>molecule_ch1</th>\n",
       "      <th>instrument_model</th>\n",
       "      <th>SRA</th>\n",
       "      <th>SRR</th>\n",
       "      <th>end</th>\n",
       "    </tr>\n",
       "  </thead>\n",
       "  <tbody>\n",
       "    <tr>\n",
       "      <th>SRR3734805</th>\n",
       "      <td>strain: C57BL/6J</td>\n",
       "      <td>tissue: Hippocampus</td>\n",
       "      <td>age: 1 Month</td>\n",
       "      <td>1</td>\n",
       "      <td>Sex: Male</td>\n",
       "      <td>NaN</td>\n",
       "      <td>GSE83931</td>\n",
       "      <td>BioSample: https://www.ncbi.nlm.nih.gov/biosam...</td>\n",
       "      <td>total RNA</td>\n",
       "      <td>Illumina HiSeq 2500</td>\n",
       "      <td>SRX1890422</td>\n",
       "      <td>SRR3734805</td>\n",
       "      <td>paired_end</td>\n",
       "    </tr>\n",
       "    <tr>\n",
       "      <th>SRR3734804</th>\n",
       "      <td>strain: C57BL/6J</td>\n",
       "      <td>tissue: Hippocampus</td>\n",
       "      <td>age: 1 Month</td>\n",
       "      <td>1</td>\n",
       "      <td>Sex: Male</td>\n",
       "      <td>NaN</td>\n",
       "      <td>GSE83931</td>\n",
       "      <td>BioSample: https://www.ncbi.nlm.nih.gov/biosam...</td>\n",
       "      <td>total RNA</td>\n",
       "      <td>Illumina HiSeq 2500</td>\n",
       "      <td>SRX1890421</td>\n",
       "      <td>SRR3734804</td>\n",
       "      <td>paired_end</td>\n",
       "    </tr>\n",
       "    <tr>\n",
       "      <th>SRR3734797</th>\n",
       "      <td>strain: C57BL/6J</td>\n",
       "      <td>tissue: Hippocampus</td>\n",
       "      <td>age: 1 Month</td>\n",
       "      <td>1</td>\n",
       "      <td>Sex: Female</td>\n",
       "      <td>NaN</td>\n",
       "      <td>GSE83931</td>\n",
       "      <td>BioSample: https://www.ncbi.nlm.nih.gov/biosam...</td>\n",
       "      <td>total RNA</td>\n",
       "      <td>Illumina HiSeq 2500</td>\n",
       "      <td>SRX1890414</td>\n",
       "      <td>SRR3734797</td>\n",
       "      <td>paired_end</td>\n",
       "    </tr>\n",
       "    <tr>\n",
       "      <th>SRR3734799</th>\n",
       "      <td>strain: C57BL/6J</td>\n",
       "      <td>tissue: Hippocampus</td>\n",
       "      <td>age: 1 Month</td>\n",
       "      <td>1</td>\n",
       "      <td>Sex: Female</td>\n",
       "      <td>NaN</td>\n",
       "      <td>GSE83931</td>\n",
       "      <td>BioSample: https://www.ncbi.nlm.nih.gov/biosam...</td>\n",
       "      <td>total RNA</td>\n",
       "      <td>Illumina HiSeq 2500</td>\n",
       "      <td>SRX1890416</td>\n",
       "      <td>SRR3734799</td>\n",
       "      <td>paired_end</td>\n",
       "    </tr>\n",
       "    <tr>\n",
       "      <th>SRR3734796</th>\n",
       "      <td>strain: C57BL/6J</td>\n",
       "      <td>tissue: Hippocampus</td>\n",
       "      <td>age: 1 Month</td>\n",
       "      <td>1</td>\n",
       "      <td>Sex: Female</td>\n",
       "      <td>NaN</td>\n",
       "      <td>GSE83931</td>\n",
       "      <td>BioSample: https://www.ncbi.nlm.nih.gov/biosam...</td>\n",
       "      <td>total RNA</td>\n",
       "      <td>Illumina HiSeq 2500</td>\n",
       "      <td>SRX1890413</td>\n",
       "      <td>SRR3734796</td>\n",
       "      <td>paired_end</td>\n",
       "    </tr>\n",
       "    <tr>\n",
       "      <th>...</th>\n",
       "      <td>...</td>\n",
       "      <td>...</td>\n",
       "      <td>...</td>\n",
       "      <td>...</td>\n",
       "      <td>...</td>\n",
       "      <td>...</td>\n",
       "      <td>...</td>\n",
       "      <td>...</td>\n",
       "      <td>...</td>\n",
       "      <td>...</td>\n",
       "      <td>...</td>\n",
       "      <td>...</td>\n",
       "      <td>...</td>\n",
       "    </tr>\n",
       "    <tr>\n",
       "      <th>SRR6793129</th>\n",
       "      <td>strain: C57BL/6</td>\n",
       "      <td>tissue: brain, hippocampus</td>\n",
       "      <td>age: 24 months</td>\n",
       "      <td>24</td>\n",
       "      <td>Sex: male</td>\n",
       "      <td>perturbation: none</td>\n",
       "      <td>GSE111270</td>\n",
       "      <td>['BioSample: https://www.ncbi.nlm.nih.gov/bios...</td>\n",
       "      <td>['total RNA']</td>\n",
       "      <td>['Illumina HiSeq 2500']</td>\n",
       "      <td>SRX3752161</td>\n",
       "      <td>SRR6793129</td>\n",
       "      <td>paired_end</td>\n",
       "    </tr>\n",
       "    <tr>\n",
       "      <th>SRR6793130</th>\n",
       "      <td>strain: C57BL/6</td>\n",
       "      <td>tissue: brain, hippocampus</td>\n",
       "      <td>age: 24 months</td>\n",
       "      <td>24</td>\n",
       "      <td>Sex: male</td>\n",
       "      <td>perturbation: none</td>\n",
       "      <td>GSE111270</td>\n",
       "      <td>['BioSample: https://www.ncbi.nlm.nih.gov/bios...</td>\n",
       "      <td>['total RNA']</td>\n",
       "      <td>['Illumina HiSeq 2500']</td>\n",
       "      <td>SRX3752162</td>\n",
       "      <td>SRR6793130</td>\n",
       "      <td>paired_end</td>\n",
       "    </tr>\n",
       "    <tr>\n",
       "      <th>SRR6793131</th>\n",
       "      <td>strain: C57BL/6</td>\n",
       "      <td>tissue: brain, hippocampus</td>\n",
       "      <td>age: 24 months</td>\n",
       "      <td>24</td>\n",
       "      <td>Sex: male</td>\n",
       "      <td>perturbation: none</td>\n",
       "      <td>GSE111270</td>\n",
       "      <td>['BioSample: https://www.ncbi.nlm.nih.gov/bios...</td>\n",
       "      <td>['total RNA']</td>\n",
       "      <td>['Illumina HiSeq 2500']</td>\n",
       "      <td>SRX3752163</td>\n",
       "      <td>SRR6793131</td>\n",
       "      <td>paired_end</td>\n",
       "    </tr>\n",
       "    <tr>\n",
       "      <th>SRR6793132</th>\n",
       "      <td>strain: C57BL/6</td>\n",
       "      <td>tissue: brain, hippocampus</td>\n",
       "      <td>age: 24 months</td>\n",
       "      <td>24</td>\n",
       "      <td>Sex: male</td>\n",
       "      <td>perturbation: none</td>\n",
       "      <td>GSE111270</td>\n",
       "      <td>['BioSample: https://www.ncbi.nlm.nih.gov/bios...</td>\n",
       "      <td>['total RNA']</td>\n",
       "      <td>['Illumina HiSeq 2500']</td>\n",
       "      <td>SRX3752164</td>\n",
       "      <td>SRR6793132</td>\n",
       "      <td>paired_end</td>\n",
       "    </tr>\n",
       "    <tr>\n",
       "      <th>SRR6793133</th>\n",
       "      <td>strain: C57BL/6</td>\n",
       "      <td>tissue: brain, hippocampus</td>\n",
       "      <td>age: 24 months</td>\n",
       "      <td>24</td>\n",
       "      <td>Sex: male</td>\n",
       "      <td>perturbation: none</td>\n",
       "      <td>GSE111270</td>\n",
       "      <td>['BioSample: https://www.ncbi.nlm.nih.gov/bios...</td>\n",
       "      <td>['total RNA']</td>\n",
       "      <td>['Illumina HiSeq 2500']</td>\n",
       "      <td>SRX3752165</td>\n",
       "      <td>SRR6793133</td>\n",
       "      <td>paired_end</td>\n",
       "    </tr>\n",
       "  </tbody>\n",
       "</table>\n",
       "<p>294 rows × 13 columns</p>\n",
       "</div>"
      ],
      "text/plain": [
       "                      strain                      tissue             age  \\\n",
       "SRR3734805  strain: C57BL/6J         tissue: Hippocampus    age: 1 Month   \n",
       "SRR3734804  strain: C57BL/6J         tissue: Hippocampus    age: 1 Month   \n",
       "SRR3734797  strain: C57BL/6J         tissue: Hippocampus    age: 1 Month   \n",
       "SRR3734799  strain: C57BL/6J         tissue: Hippocampus    age: 1 Month   \n",
       "SRR3734796  strain: C57BL/6J         tissue: Hippocampus    age: 1 Month   \n",
       "...                      ...                         ...             ...   \n",
       "SRR6793129   strain: C57BL/6  tissue: brain, hippocampus  age: 24 months   \n",
       "SRR6793130   strain: C57BL/6  tissue: brain, hippocampus  age: 24 months   \n",
       "SRR6793131   strain: C57BL/6  tissue: brain, hippocampus  age: 24 months   \n",
       "SRR6793132   strain: C57BL/6  tissue: brain, hippocampus  age: 24 months   \n",
       "SRR6793133   strain: C57BL/6  tissue: brain, hippocampus  age: 24 months   \n",
       "\n",
       "           age(month)          Sex            genotype  series_id  \\\n",
       "SRR3734805          1    Sex: Male                 NaN   GSE83931   \n",
       "SRR3734804          1    Sex: Male                 NaN   GSE83931   \n",
       "SRR3734797          1  Sex: Female                 NaN   GSE83931   \n",
       "SRR3734799          1  Sex: Female                 NaN   GSE83931   \n",
       "SRR3734796          1  Sex: Female                 NaN   GSE83931   \n",
       "...               ...          ...                 ...        ...   \n",
       "SRR6793129         24    Sex: male  perturbation: none  GSE111270   \n",
       "SRR6793130         24    Sex: male  perturbation: none  GSE111270   \n",
       "SRR6793131         24    Sex: male  perturbation: none  GSE111270   \n",
       "SRR6793132         24    Sex: male  perturbation: none  GSE111270   \n",
       "SRR6793133         24    Sex: male  perturbation: none  GSE111270   \n",
       "\n",
       "                                                     relation   molecule_ch1  \\\n",
       "SRR3734805  BioSample: https://www.ncbi.nlm.nih.gov/biosam...      total RNA   \n",
       "SRR3734804  BioSample: https://www.ncbi.nlm.nih.gov/biosam...      total RNA   \n",
       "SRR3734797  BioSample: https://www.ncbi.nlm.nih.gov/biosam...      total RNA   \n",
       "SRR3734799  BioSample: https://www.ncbi.nlm.nih.gov/biosam...      total RNA   \n",
       "SRR3734796  BioSample: https://www.ncbi.nlm.nih.gov/biosam...      total RNA   \n",
       "...                                                       ...            ...   \n",
       "SRR6793129  ['BioSample: https://www.ncbi.nlm.nih.gov/bios...  ['total RNA']   \n",
       "SRR6793130  ['BioSample: https://www.ncbi.nlm.nih.gov/bios...  ['total RNA']   \n",
       "SRR6793131  ['BioSample: https://www.ncbi.nlm.nih.gov/bios...  ['total RNA']   \n",
       "SRR6793132  ['BioSample: https://www.ncbi.nlm.nih.gov/bios...  ['total RNA']   \n",
       "SRR6793133  ['BioSample: https://www.ncbi.nlm.nih.gov/bios...  ['total RNA']   \n",
       "\n",
       "                   instrument_model         SRA         SRR         end  \n",
       "SRR3734805      Illumina HiSeq 2500  SRX1890422  SRR3734805  paired_end  \n",
       "SRR3734804      Illumina HiSeq 2500  SRX1890421  SRR3734804  paired_end  \n",
       "SRR3734797      Illumina HiSeq 2500  SRX1890414  SRR3734797  paired_end  \n",
       "SRR3734799      Illumina HiSeq 2500  SRX1890416  SRR3734799  paired_end  \n",
       "SRR3734796      Illumina HiSeq 2500  SRX1890413  SRR3734796  paired_end  \n",
       "...                             ...         ...         ...         ...  \n",
       "SRR6793129  ['Illumina HiSeq 2500']  SRX3752161  SRR6793129  paired_end  \n",
       "SRR6793130  ['Illumina HiSeq 2500']  SRX3752162  SRR6793130  paired_end  \n",
       "SRR6793131  ['Illumina HiSeq 2500']  SRX3752163  SRR6793131  paired_end  \n",
       "SRR6793132  ['Illumina HiSeq 2500']  SRX3752164  SRR6793132  paired_end  \n",
       "SRR6793133  ['Illumina HiSeq 2500']  SRX3752165  SRR6793133  paired_end  \n",
       "\n",
       "[294 rows x 13 columns]"
      ]
     },
     "execution_count": 40,
     "metadata": {},
     "output_type": "execute_result"
    }
   ],
   "source": [
    "df"
   ]
  },
  {
   "cell_type": "code",
   "execution_count": 27,
   "id": "7bf34ca1",
   "metadata": {},
   "outputs": [
    {
     "name": "stdout",
     "output_type": "stream",
     "text": [
      "fastq-dump -X 1 -Z --split-spot SRR3734805| wc -l\n"
     ]
    },
    {
     "name": "stderr",
     "output_type": "stream",
     "text": [
      "Read 1 spots for SRR3734805\n",
      "Written 1 spots for SRR3734805\n"
     ]
    },
    {
     "name": "stdout",
     "output_type": "stream",
     "text": [
      "4\n",
      "\n",
      "fastq-dump -X 1 -Z --split-spot SRR3734804| wc -l\n"
     ]
    },
    {
     "name": "stderr",
     "output_type": "stream",
     "text": [
      "Read 1 spots for SRR3734804\n",
      "Written 1 spots for SRR3734804\n"
     ]
    },
    {
     "name": "stdout",
     "output_type": "stream",
     "text": [
      "4\n",
      "\n",
      "fastq-dump -X 1 -Z --split-spot SRR3734797| wc -l\n"
     ]
    },
    {
     "name": "stderr",
     "output_type": "stream",
     "text": [
      "Read 1 spots for SRR3734797\n",
      "Written 1 spots for SRR3734797\n"
     ]
    },
    {
     "name": "stdout",
     "output_type": "stream",
     "text": [
      "4\n",
      "\n",
      "fastq-dump -X 1 -Z --split-spot SRR3734799| wc -l\n"
     ]
    },
    {
     "name": "stderr",
     "output_type": "stream",
     "text": [
      "Read 1 spots for SRR3734799\n",
      "Written 1 spots for SRR3734799\n"
     ]
    },
    {
     "name": "stdout",
     "output_type": "stream",
     "text": [
      "4\n",
      "\n",
      "fastq-dump -X 1 -Z --split-spot SRR3734796| wc -l\n"
     ]
    },
    {
     "name": "stderr",
     "output_type": "stream",
     "text": [
      "Read 1 spots for SRR3734796\n",
      "Written 1 spots for SRR3734796\n"
     ]
    },
    {
     "name": "stdout",
     "output_type": "stream",
     "text": [
      "4\n",
      "\n",
      "fastq-dump -X 1 -Z --split-spot SRR3734798| wc -l\n"
     ]
    },
    {
     "name": "stderr",
     "output_type": "stream",
     "text": [
      "Read 1 spots for SRR3734798\n",
      "Written 1 spots for SRR3734798\n"
     ]
    },
    {
     "name": "stdout",
     "output_type": "stream",
     "text": [
      "4\n",
      "\n",
      "fastq-dump -X 1 -Z --split-spot SRR3734801| wc -l\n"
     ]
    },
    {
     "name": "stderr",
     "output_type": "stream",
     "text": [
      "Read 1 spots for SRR3734801\n",
      "Written 1 spots for SRR3734801\n"
     ]
    },
    {
     "name": "stdout",
     "output_type": "stream",
     "text": [
      "4\n",
      "\n",
      "fastq-dump -X 1 -Z --split-spot SRR3734800| wc -l\n"
     ]
    },
    {
     "name": "stderr",
     "output_type": "stream",
     "text": [
      "Read 1 spots for SRR3734800\n",
      "Written 1 spots for SRR3734800\n"
     ]
    },
    {
     "name": "stdout",
     "output_type": "stream",
     "text": [
      "4\n",
      "\n",
      "fastq-dump -X 1 -Z --split-spot SRR3734803| wc -l\n"
     ]
    },
    {
     "name": "stderr",
     "output_type": "stream",
     "text": [
      "Read 1 spots for SRR3734803\n",
      "Written 1 spots for SRR3734803\n"
     ]
    },
    {
     "name": "stdout",
     "output_type": "stream",
     "text": [
      "4\n",
      "\n",
      "fastq-dump -X 1 -Z --split-spot SRR3734802| wc -l\n"
     ]
    },
    {
     "name": "stderr",
     "output_type": "stream",
     "text": [
      "Read 1 spots for SRR3734802\n",
      "Written 1 spots for SRR3734802\n"
     ]
    },
    {
     "name": "stdout",
     "output_type": "stream",
     "text": [
      "4\n",
      "\n",
      "fastq-dump -X 1 -Z --split-spot SRR5683646| wc -l\n"
     ]
    },
    {
     "name": "stderr",
     "output_type": "stream",
     "text": [
      "Read 1 spots for SRR5683646\n",
      "Written 1 spots for SRR5683646\n"
     ]
    },
    {
     "name": "stdout",
     "output_type": "stream",
     "text": [
      "8\n",
      "\n",
      "fastq-dump -X 1 -Z --split-spot SRR5683647| wc -l\n"
     ]
    },
    {
     "name": "stderr",
     "output_type": "stream",
     "text": [
      "Read 1 spots for SRR5683647\n",
      "Written 1 spots for SRR5683647\n"
     ]
    },
    {
     "name": "stdout",
     "output_type": "stream",
     "text": [
      "8\n",
      "\n",
      "fastq-dump -X 1 -Z --split-spot SRR5683648| wc -l\n"
     ]
    },
    {
     "name": "stderr",
     "output_type": "stream",
     "text": [
      "Read 1 spots for SRR5683648\n",
      "Written 1 spots for SRR5683648\n"
     ]
    },
    {
     "name": "stdout",
     "output_type": "stream",
     "text": [
      "8\n",
      "\n",
      "fastq-dump -X 1 -Z --split-spot SRR8586306| wc -l\n"
     ]
    },
    {
     "name": "stderr",
     "output_type": "stream",
     "text": [
      "Rejected 1 READS because READLEN < 1\n",
      "Read 1 spots for SRR8586306\n",
      "Written 1 spots for SRR8586306\n"
     ]
    },
    {
     "name": "stdout",
     "output_type": "stream",
     "text": [
      "4\n",
      "\n",
      "fastq-dump -X 1 -Z --split-spot SRR8586307| wc -l\n"
     ]
    },
    {
     "name": "stderr",
     "output_type": "stream",
     "text": [
      "Rejected 1 READS because READLEN < 1\n",
      "Read 1 spots for SRR8586307\n",
      "Written 1 spots for SRR8586307\n"
     ]
    },
    {
     "name": "stdout",
     "output_type": "stream",
     "text": [
      "4\n",
      "\n",
      "fastq-dump -X 1 -Z --split-spot SRR8586308| wc -l\n"
     ]
    },
    {
     "name": "stderr",
     "output_type": "stream",
     "text": [
      "Rejected 1 READS because READLEN < 1\n",
      "Read 1 spots for SRR8586308\n",
      "Written 1 spots for SRR8586308\n"
     ]
    },
    {
     "name": "stdout",
     "output_type": "stream",
     "text": [
      "4\n",
      "\n",
      "fastq-dump -X 1 -Z --split-spot SRR8586318| wc -l\n"
     ]
    },
    {
     "name": "stderr",
     "output_type": "stream",
     "text": [
      "Rejected 1 READS because READLEN < 1\n",
      "Read 1 spots for SRR8586318\n",
      "Written 1 spots for SRR8586318\n"
     ]
    },
    {
     "name": "stdout",
     "output_type": "stream",
     "text": [
      "4\n",
      "\n",
      "fastq-dump -X 1 -Z --split-spot SRR8586319| wc -l\n"
     ]
    },
    {
     "name": "stderr",
     "output_type": "stream",
     "text": [
      "Rejected 1 READS because READLEN < 1\n",
      "Read 1 spots for SRR8586319\n",
      "Written 1 spots for SRR8586319\n"
     ]
    },
    {
     "name": "stdout",
     "output_type": "stream",
     "text": [
      "4\n",
      "\n",
      "fastq-dump -X 1 -Z --split-spot SRR8586320| wc -l\n"
     ]
    },
    {
     "name": "stderr",
     "output_type": "stream",
     "text": [
      "Rejected 1 READS because READLEN < 1\n",
      "Read 1 spots for SRR8586320\n",
      "Written 1 spots for SRR8586320\n"
     ]
    },
    {
     "name": "stdout",
     "output_type": "stream",
     "text": [
      "4\n",
      "\n",
      "fastq-dump -X 1 -Z --split-spot SRR2531542| wc -l\n"
     ]
    },
    {
     "name": "stderr",
     "output_type": "stream",
     "text": [
      "Read 1 spots for SRR2531542\n",
      "Written 1 spots for SRR2531542\n"
     ]
    },
    {
     "name": "stdout",
     "output_type": "stream",
     "text": [
      "8\n",
      "\n",
      "fastq-dump -X 1 -Z --split-spot SRR2531544| wc -l\n"
     ]
    },
    {
     "name": "stderr",
     "output_type": "stream",
     "text": [
      "Read 1 spots for SRR2531544\n",
      "Written 1 spots for SRR2531544\n"
     ]
    },
    {
     "name": "stdout",
     "output_type": "stream",
     "text": [
      "8\n",
      "\n",
      "fastq-dump -X 1 -Z --split-spot SRR2531540| wc -l\n"
     ]
    },
    {
     "name": "stderr",
     "output_type": "stream",
     "text": [
      "Read 1 spots for SRR2531540\n",
      "Written 1 spots for SRR2531540\n"
     ]
    },
    {
     "name": "stdout",
     "output_type": "stream",
     "text": [
      "8\n",
      "\n",
      "fastq-dump -X 1 -Z --split-spot SRR2531545| wc -l\n"
     ]
    },
    {
     "name": "stderr",
     "output_type": "stream",
     "text": [
      "Read 1 spots for SRR2531545\n",
      "Written 1 spots for SRR2531545\n"
     ]
    },
    {
     "name": "stdout",
     "output_type": "stream",
     "text": [
      "8\n",
      "\n",
      "fastq-dump -X 1 -Z --split-spot SRR2531547| wc -l\n"
     ]
    },
    {
     "name": "stderr",
     "output_type": "stream",
     "text": [
      "Read 1 spots for SRR2531547\n",
      "Written 1 spots for SRR2531547\n"
     ]
    },
    {
     "name": "stdout",
     "output_type": "stream",
     "text": [
      "8\n",
      "\n",
      "fastq-dump -X 1 -Z --split-spot SRR2531546| wc -l\n"
     ]
    },
    {
     "name": "stderr",
     "output_type": "stream",
     "text": [
      "Read 1 spots for SRR2531546\n",
      "Written 1 spots for SRR2531546\n"
     ]
    },
    {
     "name": "stdout",
     "output_type": "stream",
     "text": [
      "8\n",
      "\n",
      "fastq-dump -X 1 -Z --split-spot SRR2531541| wc -l\n"
     ]
    },
    {
     "name": "stderr",
     "output_type": "stream",
     "text": [
      "Read 1 spots for SRR2531541\n",
      "Written 1 spots for SRR2531541\n"
     ]
    },
    {
     "name": "stdout",
     "output_type": "stream",
     "text": [
      "8\n",
      "\n",
      "fastq-dump -X 1 -Z --split-spot SRR2531543| wc -l\n"
     ]
    },
    {
     "name": "stderr",
     "output_type": "stream",
     "text": [
      "Read 1 spots for SRR2531543\n",
      "Written 1 spots for SRR2531543\n"
     ]
    },
    {
     "name": "stdout",
     "output_type": "stream",
     "text": [
      "8\n",
      "\n",
      "fastq-dump -X 1 -Z --split-spot SRR3087162| wc -l\n"
     ]
    },
    {
     "name": "stderr",
     "output_type": "stream",
     "text": [
      "Read 1 spots for SRR3087162\n",
      "Written 1 spots for SRR3087162\n"
     ]
    },
    {
     "name": "stdout",
     "output_type": "stream",
     "text": [
      "4\n",
      "\n",
      "fastq-dump -X 1 -Z --split-spot SRR3087161| wc -l\n"
     ]
    },
    {
     "name": "stderr",
     "output_type": "stream",
     "text": [
      "Read 1 spots for SRR3087161\n",
      "Written 1 spots for SRR3087161\n"
     ]
    },
    {
     "name": "stdout",
     "output_type": "stream",
     "text": [
      "4\n",
      "\n",
      "fastq-dump -X 1 -Z --split-spot SRR3087159| wc -l\n"
     ]
    },
    {
     "name": "stderr",
     "output_type": "stream",
     "text": [
      "Read 1 spots for SRR3087159\n",
      "Written 1 spots for SRR3087159\n"
     ]
    },
    {
     "name": "stdout",
     "output_type": "stream",
     "text": [
      "4\n",
      "\n",
      "fastq-dump -X 1 -Z --split-spot SRR3087163| wc -l\n"
     ]
    },
    {
     "name": "stderr",
     "output_type": "stream",
     "text": [
      "Read 1 spots for SRR3087163\n",
      "Written 1 spots for SRR3087163\n"
     ]
    },
    {
     "name": "stdout",
     "output_type": "stream",
     "text": [
      "4\n",
      "\n",
      "fastq-dump -X 1 -Z --split-spot SRR3087160| wc -l\n"
     ]
    },
    {
     "name": "stderr",
     "output_type": "stream",
     "text": [
      "Read 1 spots for SRR3087160\n",
      "Written 1 spots for SRR3087160\n"
     ]
    },
    {
     "name": "stdout",
     "output_type": "stream",
     "text": [
      "4\n",
      "\n",
      "fastq-dump -X 1 -Z --split-spot SRR3087164| wc -l\n"
     ]
    },
    {
     "name": "stderr",
     "output_type": "stream",
     "text": [
      "Read 1 spots for SRR3087164\n",
      "Written 1 spots for SRR3087164\n"
     ]
    },
    {
     "name": "stdout",
     "output_type": "stream",
     "text": [
      "4\n",
      "\n",
      "fastq-dump -X 1 -Z --split-spot SRR3734814| wc -l\n"
     ]
    },
    {
     "name": "stderr",
     "output_type": "stream",
     "text": [
      "Read 1 spots for SRR3734814\n",
      "Written 1 spots for SRR3734814\n"
     ]
    },
    {
     "name": "stdout",
     "output_type": "stream",
     "text": [
      "4\n",
      "\n",
      "fastq-dump -X 1 -Z --split-spot SRR3734808| wc -l\n"
     ]
    },
    {
     "name": "stderr",
     "output_type": "stream",
     "text": [
      "Read 1 spots for SRR3734808\n",
      "Written 1 spots for SRR3734808\n"
     ]
    },
    {
     "name": "stdout",
     "output_type": "stream",
     "text": [
      "4\n",
      "\n",
      "fastq-dump -X 1 -Z --split-spot SRR3734807| wc -l\n"
     ]
    },
    {
     "name": "stderr",
     "output_type": "stream",
     "text": [
      "Read 1 spots for SRR3734807\n",
      "Written 1 spots for SRR3734807\n"
     ]
    },
    {
     "name": "stdout",
     "output_type": "stream",
     "text": [
      "4\n",
      "\n",
      "fastq-dump -X 1 -Z --split-spot SRR3734813| wc -l\n"
     ]
    },
    {
     "name": "stderr",
     "output_type": "stream",
     "text": [
      "Read 1 spots for SRR3734813\n",
      "Written 1 spots for SRR3734813\n"
     ]
    },
    {
     "name": "stdout",
     "output_type": "stream",
     "text": [
      "4\n",
      "\n",
      "fastq-dump -X 1 -Z --split-spot SRR3734815| wc -l\n"
     ]
    },
    {
     "name": "stderr",
     "output_type": "stream",
     "text": [
      "Read 1 spots for SRR3734815\n",
      "Written 1 spots for SRR3734815\n"
     ]
    },
    {
     "name": "stdout",
     "output_type": "stream",
     "text": [
      "4\n",
      "\n",
      "fastq-dump -X 1 -Z --split-spot SRR3734809| wc -l\n"
     ]
    },
    {
     "name": "stderr",
     "output_type": "stream",
     "text": [
      "Read 1 spots for SRR3734809\n",
      "Written 1 spots for SRR3734809\n"
     ]
    },
    {
     "name": "stdout",
     "output_type": "stream",
     "text": [
      "4\n",
      "\n",
      "fastq-dump -X 1 -Z --split-spot SRR3734811| wc -l\n"
     ]
    },
    {
     "name": "stderr",
     "output_type": "stream",
     "text": [
      "Read 1 spots for SRR3734811\n",
      "Written 1 spots for SRR3734811\n"
     ]
    },
    {
     "name": "stdout",
     "output_type": "stream",
     "text": [
      "4\n",
      "\n",
      "fastq-dump -X 1 -Z --split-spot SRR3734810| wc -l\n"
     ]
    },
    {
     "name": "stderr",
     "output_type": "stream",
     "text": [
      "Read 1 spots for SRR3734810\n",
      "Written 1 spots for SRR3734810\n"
     ]
    },
    {
     "name": "stdout",
     "output_type": "stream",
     "text": [
      "4\n",
      "\n",
      "fastq-dump -X 1 -Z --split-spot SRR3734812| wc -l\n"
     ]
    },
    {
     "name": "stderr",
     "output_type": "stream",
     "text": [
      "Read 1 spots for SRR3734812\n",
      "Written 1 spots for SRR3734812\n"
     ]
    },
    {
     "name": "stdout",
     "output_type": "stream",
     "text": [
      "4\n",
      "\n",
      "fastq-dump -X 1 -Z --split-spot SRR3734806| wc -l\n"
     ]
    },
    {
     "name": "stderr",
     "output_type": "stream",
     "text": [
      "Read 1 spots for SRR3734806\n",
      "Written 1 spots for SRR3734806\n"
     ]
    },
    {
     "name": "stdout",
     "output_type": "stream",
     "text": [
      "4\n",
      "\n",
      "fastq-dump -X 1 -Z --split-spot SRR5715023| wc -l\n"
     ]
    },
    {
     "name": "stderr",
     "output_type": "stream",
     "text": [
      "Read 1 spots for SRR5715023\n",
      "Written 1 spots for SRR5715023\n"
     ]
    },
    {
     "name": "stdout",
     "output_type": "stream",
     "text": [
      "4\n",
      "\n",
      "fastq-dump -X 1 -Z --split-spot SRR5715024| wc -l\n"
     ]
    },
    {
     "name": "stderr",
     "output_type": "stream",
     "text": [
      "Read 1 spots for SRR5715024\n",
      "Written 1 spots for SRR5715024\n"
     ]
    },
    {
     "name": "stdout",
     "output_type": "stream",
     "text": [
      "4\n",
      "\n",
      "fastq-dump -X 1 -Z --split-spot SRR5715025| wc -l\n"
     ]
    },
    {
     "name": "stderr",
     "output_type": "stream",
     "text": [
      "Read 1 spots for SRR5715025\n",
      "Written 1 spots for SRR5715025\n"
     ]
    },
    {
     "name": "stdout",
     "output_type": "stream",
     "text": [
      "4\n",
      "\n",
      "fastq-dump -X 1 -Z --split-spot SRR5715026| wc -l\n"
     ]
    },
    {
     "name": "stderr",
     "output_type": "stream",
     "text": [
      "Read 1 spots for SRR5715026\n",
      "Written 1 spots for SRR5715026\n"
     ]
    },
    {
     "name": "stdout",
     "output_type": "stream",
     "text": [
      "4\n",
      "\n",
      "fastq-dump -X 1 -Z --split-spot SRR5715027| wc -l\n"
     ]
    },
    {
     "name": "stderr",
     "output_type": "stream",
     "text": [
      "Read 1 spots for SRR5715027\n",
      "Written 1 spots for SRR5715027\n"
     ]
    },
    {
     "name": "stdout",
     "output_type": "stream",
     "text": [
      "4\n",
      "\n",
      "fastq-dump -X 1 -Z --split-spot SRR6128745| wc -l\n"
     ]
    },
    {
     "name": "stderr",
     "output_type": "stream",
     "text": [
      "Read 1 spots for SRR6128745\n",
      "Written 1 spots for SRR6128745\n"
     ]
    },
    {
     "name": "stdout",
     "output_type": "stream",
     "text": [
      "8\n",
      "\n",
      "fastq-dump -X 1 -Z --split-spot SRR6113532| wc -l\n"
     ]
    },
    {
     "name": "stderr",
     "output_type": "stream",
     "text": [
      "Read 1 spots for SRR6113532\n",
      "Written 1 spots for SRR6113532\n"
     ]
    },
    {
     "name": "stdout",
     "output_type": "stream",
     "text": [
      "8\n",
      "\n",
      "fastq-dump -X 1 -Z --split-spot SRR6113535| wc -l\n"
     ]
    },
    {
     "name": "stderr",
     "output_type": "stream",
     "text": [
      "Read 1 spots for SRR6113535\n",
      "Written 1 spots for SRR6113535\n"
     ]
    },
    {
     "name": "stdout",
     "output_type": "stream",
     "text": [
      "8\n",
      "\n",
      "fastq-dump -X 1 -Z --split-spot SRR6113538| wc -l\n"
     ]
    },
    {
     "name": "stderr",
     "output_type": "stream",
     "text": [
      "Read 1 spots for SRR6113538\n",
      "Written 1 spots for SRR6113538\n"
     ]
    },
    {
     "name": "stdout",
     "output_type": "stream",
     "text": [
      "8\n",
      "\n",
      "fastq-dump -X 1 -Z --split-spot SRR6113544| wc -l\n"
     ]
    },
    {
     "name": "stderr",
     "output_type": "stream",
     "text": [
      "Read 1 spots for SRR6113544\n",
      "Written 1 spots for SRR6113544\n"
     ]
    },
    {
     "name": "stdout",
     "output_type": "stream",
     "text": [
      "8\n",
      "\n",
      "fastq-dump -X 1 -Z --split-spot SRR6113604| wc -l\n"
     ]
    },
    {
     "name": "stderr",
     "output_type": "stream",
     "text": [
      "Read 1 spots for SRR6113604\n",
      "Written 1 spots for SRR6113604\n"
     ]
    },
    {
     "name": "stdout",
     "output_type": "stream",
     "text": [
      "8\n",
      "\n",
      "fastq-dump -X 1 -Z --split-spot SRR6113608| wc -l\n"
     ]
    },
    {
     "name": "stderr",
     "output_type": "stream",
     "text": [
      "Read 1 spots for SRR6113608\n",
      "Written 1 spots for SRR6113608\n"
     ]
    },
    {
     "name": "stdout",
     "output_type": "stream",
     "text": [
      "8\n",
      "\n",
      "fastq-dump -X 1 -Z --split-spot SRR6113685| wc -l\n"
     ]
    },
    {
     "name": "stderr",
     "output_type": "stream",
     "text": [
      "Read 1 spots for SRR6113685\n",
      "Written 1 spots for SRR6113685\n"
     ]
    },
    {
     "name": "stdout",
     "output_type": "stream",
     "text": [
      "8\n",
      "\n",
      "fastq-dump -X 1 -Z --split-spot SRR6113689| wc -l\n"
     ]
    },
    {
     "name": "stderr",
     "output_type": "stream",
     "text": [
      "Read 1 spots for SRR6113689\n",
      "Written 1 spots for SRR6113689\n"
     ]
    },
    {
     "name": "stdout",
     "output_type": "stream",
     "text": [
      "8\n",
      "\n",
      "fastq-dump -X 1 -Z --split-spot SRR6113693| wc -l\n"
     ]
    },
    {
     "name": "stderr",
     "output_type": "stream",
     "text": [
      "Read 1 spots for SRR6113693\n",
      "Written 1 spots for SRR6113693\n"
     ]
    },
    {
     "name": "stdout",
     "output_type": "stream",
     "text": [
      "8\n",
      "\n",
      "fastq-dump -X 1 -Z --split-spot SRR6113694| wc -l\n"
     ]
    },
    {
     "name": "stderr",
     "output_type": "stream",
     "text": [
      "Read 1 spots for SRR6113694\n",
      "Written 1 spots for SRR6113694\n"
     ]
    },
    {
     "name": "stdout",
     "output_type": "stream",
     "text": [
      "8\n",
      "\n",
      "fastq-dump -X 1 -Z --split-spot SRR6113361| wc -l\n"
     ]
    },
    {
     "name": "stderr",
     "output_type": "stream",
     "text": [
      "Read 1 spots for SRR6113361\n",
      "Written 1 spots for SRR6113361\n"
     ]
    },
    {
     "name": "stdout",
     "output_type": "stream",
     "text": [
      "8\n",
      "\n",
      "fastq-dump -X 1 -Z --split-spot SRR6113368| wc -l\n"
     ]
    },
    {
     "name": "stderr",
     "output_type": "stream",
     "text": [
      "Read 1 spots for SRR6113368\n",
      "Written 1 spots for SRR6113368\n"
     ]
    },
    {
     "name": "stdout",
     "output_type": "stream",
     "text": [
      "8\n",
      "\n",
      "fastq-dump -X 1 -Z --split-spot SRR6907164| wc -l\n"
     ]
    },
    {
     "name": "stderr",
     "output_type": "stream",
     "text": [
      "Read 1 spots for SRR6907164\n",
      "Written 1 spots for SRR6907164\n"
     ]
    },
    {
     "name": "stdout",
     "output_type": "stream",
     "text": [
      "4\n",
      "\n",
      "fastq-dump -X 1 -Z --split-spot SRR6907165| wc -l\n"
     ]
    },
    {
     "name": "stderr",
     "output_type": "stream",
     "text": [
      "Read 1 spots for SRR6907165\n",
      "Written 1 spots for SRR6907165\n"
     ]
    },
    {
     "name": "stdout",
     "output_type": "stream",
     "text": [
      "4\n",
      "\n",
      "fastq-dump -X 1 -Z --split-spot SRR6907166| wc -l\n"
     ]
    },
    {
     "name": "stderr",
     "output_type": "stream",
     "text": [
      "Read 1 spots for SRR6907166\n",
      "Written 1 spots for SRR6907166\n"
     ]
    },
    {
     "name": "stdout",
     "output_type": "stream",
     "text": [
      "4\n",
      "\n",
      "fastq-dump -X 1 -Z --split-spot SRR6907167| wc -l\n"
     ]
    },
    {
     "name": "stderr",
     "output_type": "stream",
     "text": [
      "Read 1 spots for SRR6907167\n",
      "Written 1 spots for SRR6907167\n"
     ]
    },
    {
     "name": "stdout",
     "output_type": "stream",
     "text": [
      "4\n",
      "\n",
      "fastq-dump -X 1 -Z --split-spot SRR6907168| wc -l\n"
     ]
    },
    {
     "name": "stderr",
     "output_type": "stream",
     "text": [
      "Read 1 spots for SRR6907168\n",
      "Written 1 spots for SRR6907168\n"
     ]
    },
    {
     "name": "stdout",
     "output_type": "stream",
     "text": [
      "4\n",
      "\n",
      "fastq-dump -X 1 -Z --split-spot SRR6907169| wc -l\n"
     ]
    },
    {
     "name": "stderr",
     "output_type": "stream",
     "text": [
      "Read 1 spots for SRR6907169\n",
      "Written 1 spots for SRR6907169\n"
     ]
    },
    {
     "name": "stdout",
     "output_type": "stream",
     "text": [
      "4\n",
      "\n",
      "fastq-dump -X 1 -Z --split-spot SRR13842778| wc -l\n"
     ]
    },
    {
     "name": "stderr",
     "output_type": "stream",
     "text": [
      "Read 1 spots for SRR13842778\n",
      "Written 1 spots for SRR13842778\n"
     ]
    },
    {
     "name": "stdout",
     "output_type": "stream",
     "text": [
      "8\n",
      "\n",
      "fastq-dump -X 1 -Z --split-spot SRR13842779| wc -l\n"
     ]
    },
    {
     "name": "stderr",
     "output_type": "stream",
     "text": [
      "Read 1 spots for SRR13842779\n",
      "Written 1 spots for SRR13842779\n"
     ]
    },
    {
     "name": "stdout",
     "output_type": "stream",
     "text": [
      "8\n",
      "\n",
      "fastq-dump -X 1 -Z --split-spot SRR13842780| wc -l\n"
     ]
    },
    {
     "name": "stderr",
     "output_type": "stream",
     "text": [
      "Read 1 spots for SRR13842780\n",
      "Written 1 spots for SRR13842780\n"
     ]
    },
    {
     "name": "stdout",
     "output_type": "stream",
     "text": [
      "8\n",
      "\n",
      "fastq-dump -X 1 -Z --split-spot SRR13842781| wc -l\n"
     ]
    },
    {
     "name": "stderr",
     "output_type": "stream",
     "text": [
      "Read 1 spots for SRR13842781\n",
      "Written 1 spots for SRR13842781\n"
     ]
    },
    {
     "name": "stdout",
     "output_type": "stream",
     "text": [
      "8\n",
      "\n",
      "fastq-dump -X 1 -Z --split-spot SRR13842782| wc -l\n"
     ]
    },
    {
     "name": "stderr",
     "output_type": "stream",
     "text": [
      "Read 1 spots for SRR13842782\n",
      "Written 1 spots for SRR13842782\n"
     ]
    },
    {
     "name": "stdout",
     "output_type": "stream",
     "text": [
      "8\n",
      "\n",
      "fastq-dump -X 1 -Z --split-spot SRR13842783| wc -l\n"
     ]
    },
    {
     "name": "stderr",
     "output_type": "stream",
     "text": [
      "Read 1 spots for SRR13842783\n",
      "Written 1 spots for SRR13842783\n"
     ]
    },
    {
     "name": "stdout",
     "output_type": "stream",
     "text": [
      "8\n",
      "\n",
      "fastq-dump -X 1 -Z --split-spot SRR13842784| wc -l\n"
     ]
    },
    {
     "name": "stderr",
     "output_type": "stream",
     "text": [
      "Read 1 spots for SRR13842784\n",
      "Written 1 spots for SRR13842784\n"
     ]
    },
    {
     "name": "stdout",
     "output_type": "stream",
     "text": [
      "8\n",
      "\n",
      "fastq-dump -X 1 -Z --split-spot SRR13842785| wc -l\n"
     ]
    },
    {
     "name": "stderr",
     "output_type": "stream",
     "text": [
      "Read 1 spots for SRR13842785\n",
      "Written 1 spots for SRR13842785\n"
     ]
    },
    {
     "name": "stdout",
     "output_type": "stream",
     "text": [
      "8\n",
      "\n",
      "fastq-dump -X 1 -Z --split-spot SRR13842786| wc -l\n"
     ]
    },
    {
     "name": "stderr",
     "output_type": "stream",
     "text": [
      "Read 1 spots for SRR13842786\n",
      "Written 1 spots for SRR13842786\n"
     ]
    },
    {
     "name": "stdout",
     "output_type": "stream",
     "text": [
      "8\n",
      "\n",
      "fastq-dump -X 1 -Z --split-spot SRR13842787| wc -l\n"
     ]
    },
    {
     "name": "stderr",
     "output_type": "stream",
     "text": [
      "Read 1 spots for SRR13842787\n",
      "Written 1 spots for SRR13842787\n"
     ]
    },
    {
     "name": "stdout",
     "output_type": "stream",
     "text": [
      "8\n",
      "\n",
      "fastq-dump -X 1 -Z --split-spot SRR3734818| wc -l\n"
     ]
    },
    {
     "name": "stderr",
     "output_type": "stream",
     "text": [
      "Read 1 spots for SRR3734818\n",
      "Written 1 spots for SRR3734818\n"
     ]
    },
    {
     "name": "stdout",
     "output_type": "stream",
     "text": [
      "4\n",
      "\n",
      "fastq-dump -X 1 -Z --split-spot SRR3734822| wc -l\n"
     ]
    },
    {
     "name": "stderr",
     "output_type": "stream",
     "text": [
      "Read 1 spots for SRR3734822\n",
      "Written 1 spots for SRR3734822\n"
     ]
    },
    {
     "name": "stdout",
     "output_type": "stream",
     "text": [
      "4\n",
      "\n",
      "fastq-dump -X 1 -Z --split-spot SRR3734816| wc -l\n"
     ]
    },
    {
     "name": "stderr",
     "output_type": "stream",
     "text": [
      "Read 1 spots for SRR3734816\n",
      "Written 1 spots for SRR3734816\n"
     ]
    },
    {
     "name": "stdout",
     "output_type": "stream",
     "text": [
      "4\n",
      "\n",
      "fastq-dump -X 1 -Z --split-spot SRR3734820| wc -l\n"
     ]
    },
    {
     "name": "stderr",
     "output_type": "stream",
     "text": [
      "Read 1 spots for SRR3734820\n",
      "Written 1 spots for SRR3734820\n"
     ]
    },
    {
     "name": "stdout",
     "output_type": "stream",
     "text": [
      "4\n",
      "\n",
      "fastq-dump -X 1 -Z --split-spot SRR3734821| wc -l\n"
     ]
    },
    {
     "name": "stderr",
     "output_type": "stream",
     "text": [
      "Read 1 spots for SRR3734821\n",
      "Written 1 spots for SRR3734821\n"
     ]
    },
    {
     "name": "stdout",
     "output_type": "stream",
     "text": [
      "4\n",
      "\n",
      "fastq-dump -X 1 -Z --split-spot SRR3734825| wc -l\n"
     ]
    },
    {
     "name": "stderr",
     "output_type": "stream",
     "text": [
      "Read 1 spots for SRR3734825\n",
      "Written 1 spots for SRR3734825\n"
     ]
    },
    {
     "name": "stdout",
     "output_type": "stream",
     "text": [
      "4\n",
      "\n",
      "fastq-dump -X 1 -Z --split-spot SRR3734824| wc -l\n"
     ]
    },
    {
     "name": "stderr",
     "output_type": "stream",
     "text": [
      "Read 1 spots for SRR3734824\n",
      "Written 1 spots for SRR3734824\n"
     ]
    },
    {
     "name": "stdout",
     "output_type": "stream",
     "text": [
      "4\n",
      "\n",
      "fastq-dump -X 1 -Z --split-spot SRR3734823| wc -l\n"
     ]
    },
    {
     "name": "stderr",
     "output_type": "stream",
     "text": [
      "Read 1 spots for SRR3734823\n",
      "Written 1 spots for SRR3734823\n"
     ]
    },
    {
     "name": "stdout",
     "output_type": "stream",
     "text": [
      "4\n",
      "\n",
      "fastq-dump -X 1 -Z --split-spot SRR3734819| wc -l\n"
     ]
    },
    {
     "name": "stderr",
     "output_type": "stream",
     "text": [
      "Read 1 spots for SRR3734819\n",
      "Written 1 spots for SRR3734819\n"
     ]
    },
    {
     "name": "stdout",
     "output_type": "stream",
     "text": [
      "4\n",
      "\n",
      "fastq-dump -X 1 -Z --split-spot SRR3734817| wc -l\n"
     ]
    },
    {
     "name": "stderr",
     "output_type": "stream",
     "text": [
      "Read 1 spots for SRR3734817\n",
      "Written 1 spots for SRR3734817\n"
     ]
    },
    {
     "name": "stdout",
     "output_type": "stream",
     "text": [
      "4\n",
      "\n",
      "fastq-dump -X 1 -Z --split-spot SRR5951840| wc -l\n"
     ]
    },
    {
     "name": "stderr",
     "output_type": "stream",
     "text": [
      "Read 1 spots for SRR5951840\n",
      "Written 1 spots for SRR5951840\n"
     ]
    },
    {
     "name": "stdout",
     "output_type": "stream",
     "text": [
      "8\n",
      "\n",
      "fastq-dump -X 1 -Z --split-spot SRR5951841| wc -l\n"
     ]
    },
    {
     "name": "stderr",
     "output_type": "stream",
     "text": [
      "Read 1 spots for SRR5951841\n",
      "Written 1 spots for SRR5951841\n"
     ]
    },
    {
     "name": "stdout",
     "output_type": "stream",
     "text": [
      "8\n",
      "\n",
      "fastq-dump -X 1 -Z --split-spot SRR5951842| wc -l\n"
     ]
    },
    {
     "name": "stderr",
     "output_type": "stream",
     "text": [
      "Read 1 spots for SRR5951842\n",
      "Written 1 spots for SRR5951842\n"
     ]
    },
    {
     "name": "stdout",
     "output_type": "stream",
     "text": [
      "8\n",
      "\n",
      "fastq-dump -X 1 -Z --split-spot SRR5951843| wc -l\n"
     ]
    },
    {
     "name": "stderr",
     "output_type": "stream",
     "text": [
      "Read 1 spots for SRR5951843\n",
      "Written 1 spots for SRR5951843\n"
     ]
    },
    {
     "name": "stdout",
     "output_type": "stream",
     "text": [
      "8\n",
      "\n",
      "fastq-dump -X 1 -Z --split-spot SRR6793109| wc -l\n"
     ]
    },
    {
     "name": "stderr",
     "output_type": "stream",
     "text": [
      "Read 1 spots for SRR6793109\n",
      "Written 1 spots for SRR6793109\n"
     ]
    },
    {
     "name": "stdout",
     "output_type": "stream",
     "text": [
      "4\n",
      "\n",
      "fastq-dump -X 1 -Z --split-spot SRR6793110| wc -l\n"
     ]
    },
    {
     "name": "stderr",
     "output_type": "stream",
     "text": [
      "Read 1 spots for SRR6793110\n",
      "Written 1 spots for SRR6793110\n"
     ]
    },
    {
     "name": "stdout",
     "output_type": "stream",
     "text": [
      "4\n",
      "\n",
      "fastq-dump -X 1 -Z --split-spot SRR6793111| wc -l\n"
     ]
    },
    {
     "name": "stderr",
     "output_type": "stream",
     "text": [
      "Read 1 spots for SRR6793111\n",
      "Written 1 spots for SRR6793111\n"
     ]
    },
    {
     "name": "stdout",
     "output_type": "stream",
     "text": [
      "4\n",
      "\n",
      "fastq-dump -X 1 -Z --split-spot SRR6793112| wc -l\n"
     ]
    },
    {
     "name": "stderr",
     "output_type": "stream",
     "text": [
      "Read 1 spots for SRR6793112\n",
      "Written 1 spots for SRR6793112\n"
     ]
    },
    {
     "name": "stdout",
     "output_type": "stream",
     "text": [
      "4\n",
      "\n",
      "fastq-dump -X 1 -Z --split-spot SRR6793113| wc -l\n"
     ]
    },
    {
     "name": "stderr",
     "output_type": "stream",
     "text": [
      "Read 1 spots for SRR6793113\n",
      "Written 1 spots for SRR6793113\n"
     ]
    },
    {
     "name": "stdout",
     "output_type": "stream",
     "text": [
      "4\n",
      "\n",
      "fastq-dump -X 1 -Z --split-spot SRR6793114| wc -l\n"
     ]
    },
    {
     "name": "stderr",
     "output_type": "stream",
     "text": [
      "Read 1 spots for SRR6793114\n",
      "Written 1 spots for SRR6793114\n"
     ]
    },
    {
     "name": "stdout",
     "output_type": "stream",
     "text": [
      "4\n",
      "\n",
      "fastq-dump -X 1 -Z --split-spot SRR6793115| wc -l\n"
     ]
    },
    {
     "name": "stderr",
     "output_type": "stream",
     "text": [
      "Read 1 spots for SRR6793115\n",
      "Written 1 spots for SRR6793115\n"
     ]
    },
    {
     "name": "stdout",
     "output_type": "stream",
     "text": [
      "4\n",
      "\n",
      "fastq-dump -X 1 -Z --split-spot SRR6793116| wc -l\n"
     ]
    },
    {
     "name": "stderr",
     "output_type": "stream",
     "text": [
      "Read 1 spots for SRR6793116\n",
      "Written 1 spots for SRR6793116\n"
     ]
    },
    {
     "name": "stdout",
     "output_type": "stream",
     "text": [
      "4\n",
      "\n",
      "fastq-dump -X 1 -Z --split-spot SRR6793117| wc -l\n"
     ]
    },
    {
     "name": "stderr",
     "output_type": "stream",
     "text": [
      "Read 1 spots for SRR6793117\n",
      "Written 1 spots for SRR6793117\n"
     ]
    },
    {
     "name": "stdout",
     "output_type": "stream",
     "text": [
      "4\n",
      "\n",
      "fastq-dump -X 1 -Z --split-spot SRR6793118| wc -l\n"
     ]
    },
    {
     "name": "stderr",
     "output_type": "stream",
     "text": [
      "Read 1 spots for SRR6793118\n",
      "Written 1 spots for SRR6793118\n"
     ]
    },
    {
     "name": "stdout",
     "output_type": "stream",
     "text": [
      "4\n",
      "\n",
      "fastq-dump -X 1 -Z --split-spot SRR5817119| wc -l\n"
     ]
    },
    {
     "name": "stderr",
     "output_type": "stream",
     "text": [
      "Read 1 spots for SRR5817119\n",
      "Written 1 spots for SRR5817119\n"
     ]
    },
    {
     "name": "stdout",
     "output_type": "stream",
     "text": [
      "8\n",
      "\n",
      "fastq-dump -X 1 -Z --split-spot SRR5817120| wc -l\n"
     ]
    },
    {
     "name": "stderr",
     "output_type": "stream",
     "text": [
      "Read 1 spots for SRR5817120\n",
      "Written 1 spots for SRR5817120\n"
     ]
    },
    {
     "name": "stdout",
     "output_type": "stream",
     "text": [
      "8\n",
      "\n",
      "fastq-dump -X 1 -Z --split-spot SRR5817123| wc -l\n"
     ]
    },
    {
     "name": "stderr",
     "output_type": "stream",
     "text": [
      "Read 1 spots for SRR5817123\n",
      "Written 1 spots for SRR5817123\n"
     ]
    },
    {
     "name": "stdout",
     "output_type": "stream",
     "text": [
      "8\n",
      "\n",
      "fastq-dump -X 1 -Z --split-spot SRR5817125| wc -l\n"
     ]
    },
    {
     "name": "stderr",
     "output_type": "stream",
     "text": [
      "Read 1 spots for SRR5817125\n",
      "Written 1 spots for SRR5817125\n"
     ]
    },
    {
     "name": "stdout",
     "output_type": "stream",
     "text": [
      "8\n",
      "\n",
      "fastq-dump -X 1 -Z --split-spot SRR5817126| wc -l\n"
     ]
    },
    {
     "name": "stderr",
     "output_type": "stream",
     "text": [
      "Read 1 spots for SRR5817126\n",
      "Written 1 spots for SRR5817126\n"
     ]
    },
    {
     "name": "stdout",
     "output_type": "stream",
     "text": [
      "8\n",
      "\n",
      "fastq-dump -X 1 -Z --split-spot SRR5817131| wc -l\n"
     ]
    },
    {
     "name": "stderr",
     "output_type": "stream",
     "text": [
      "Read 1 spots for SRR5817131\n",
      "Written 1 spots for SRR5817131\n"
     ]
    },
    {
     "name": "stdout",
     "output_type": "stream",
     "text": [
      "8\n",
      "\n",
      "fastq-dump -X 1 -Z --split-spot SRR5817133| wc -l\n"
     ]
    },
    {
     "name": "stderr",
     "output_type": "stream",
     "text": [
      "Read 1 spots for SRR5817133\n",
      "Written 1 spots for SRR5817133\n"
     ]
    },
    {
     "name": "stdout",
     "output_type": "stream",
     "text": [
      "8\n",
      "\n",
      "fastq-dump -X 1 -Z --split-spot SRR5817134| wc -l\n"
     ]
    },
    {
     "name": "stderr",
     "output_type": "stream",
     "text": [
      "Read 1 spots for SRR5817134\n",
      "Written 1 spots for SRR5817134\n"
     ]
    },
    {
     "name": "stdout",
     "output_type": "stream",
     "text": [
      "8\n",
      "\n",
      "fastq-dump -X 1 -Z --split-spot SRR5817136| wc -l\n"
     ]
    },
    {
     "name": "stderr",
     "output_type": "stream",
     "text": [
      "Read 1 spots for SRR5817136\n",
      "Written 1 spots for SRR5817136\n"
     ]
    },
    {
     "name": "stdout",
     "output_type": "stream",
     "text": [
      "8\n",
      "\n",
      "fastq-dump -X 1 -Z --split-spot SRR5817137| wc -l\n"
     ]
    },
    {
     "name": "stderr",
     "output_type": "stream",
     "text": [
      "Read 1 spots for SRR5817137\n",
      "Written 1 spots for SRR5817137\n"
     ]
    },
    {
     "name": "stdout",
     "output_type": "stream",
     "text": [
      "8\n",
      "\n",
      "fastq-dump -X 1 -Z --split-spot SRR5817138| wc -l\n"
     ]
    },
    {
     "name": "stderr",
     "output_type": "stream",
     "text": [
      "Read 1 spots for SRR5817138\n",
      "Written 1 spots for SRR5817138\n"
     ]
    },
    {
     "name": "stdout",
     "output_type": "stream",
     "text": [
      "8\n",
      "\n",
      "fastq-dump -X 1 -Z --split-spot SRR5817139| wc -l\n"
     ]
    },
    {
     "name": "stderr",
     "output_type": "stream",
     "text": [
      "Read 1 spots for SRR5817139\n",
      "Written 1 spots for SRR5817139\n"
     ]
    },
    {
     "name": "stdout",
     "output_type": "stream",
     "text": [
      "8\n",
      "\n",
      "fastq-dump -X 1 -Z --split-spot SRR5817140| wc -l\n"
     ]
    },
    {
     "name": "stderr",
     "output_type": "stream",
     "text": [
      "Read 1 spots for SRR5817140\n",
      "Written 1 spots for SRR5817140\n"
     ]
    },
    {
     "name": "stdout",
     "output_type": "stream",
     "text": [
      "8\n",
      "\n",
      "fastq-dump -X 1 -Z --split-spot SRR5817141| wc -l\n"
     ]
    },
    {
     "name": "stderr",
     "output_type": "stream",
     "text": [
      "Read 1 spots for SRR5817141\n",
      "Written 1 spots for SRR5817141\n"
     ]
    },
    {
     "name": "stdout",
     "output_type": "stream",
     "text": [
      "8\n",
      "\n",
      "fastq-dump -X 1 -Z --split-spot SRR5817145| wc -l\n"
     ]
    },
    {
     "name": "stderr",
     "output_type": "stream",
     "text": [
      "Read 1 spots for SRR5817145\n",
      "Written 1 spots for SRR5817145\n"
     ]
    },
    {
     "name": "stdout",
     "output_type": "stream",
     "text": [
      "8\n",
      "\n",
      "fastq-dump -X 1 -Z --split-spot SRR5817146| wc -l\n"
     ]
    },
    {
     "name": "stderr",
     "output_type": "stream",
     "text": [
      "Read 1 spots for SRR5817146\n",
      "Written 1 spots for SRR5817146\n"
     ]
    },
    {
     "name": "stdout",
     "output_type": "stream",
     "text": [
      "8\n",
      "\n",
      "fastq-dump -X 1 -Z --split-spot SRR5817147| wc -l\n"
     ]
    },
    {
     "name": "stderr",
     "output_type": "stream",
     "text": [
      "Read 1 spots for SRR5817147\n",
      "Written 1 spots for SRR5817147\n"
     ]
    },
    {
     "name": "stdout",
     "output_type": "stream",
     "text": [
      "8\n",
      "\n",
      "fastq-dump -X 1 -Z --split-spot SRR5817149| wc -l\n"
     ]
    },
    {
     "name": "stderr",
     "output_type": "stream",
     "text": [
      "Read 1 spots for SRR5817149\n",
      "Written 1 spots for SRR5817149\n"
     ]
    },
    {
     "name": "stdout",
     "output_type": "stream",
     "text": [
      "8\n",
      "\n",
      "fastq-dump -X 1 -Z --split-spot SRR5817153| wc -l\n"
     ]
    },
    {
     "name": "stderr",
     "output_type": "stream",
     "text": [
      "Read 1 spots for SRR5817153\n",
      "Written 1 spots for SRR5817153\n"
     ]
    },
    {
     "name": "stdout",
     "output_type": "stream",
     "text": [
      "8\n",
      "\n",
      "fastq-dump -X 1 -Z --split-spot SRR5817154| wc -l\n"
     ]
    },
    {
     "name": "stderr",
     "output_type": "stream",
     "text": [
      "Read 1 spots for SRR5817154\n",
      "Written 1 spots for SRR5817154\n"
     ]
    },
    {
     "name": "stdout",
     "output_type": "stream",
     "text": [
      "8\n",
      "\n",
      "fastq-dump -X 1 -Z --split-spot SRR5817155| wc -l\n"
     ]
    },
    {
     "name": "stderr",
     "output_type": "stream",
     "text": [
      "Read 1 spots for SRR5817155\n",
      "Written 1 spots for SRR5817155\n"
     ]
    },
    {
     "name": "stdout",
     "output_type": "stream",
     "text": [
      "8\n",
      "\n",
      "fastq-dump -X 1 -Z --split-spot SRR5817158| wc -l\n"
     ]
    },
    {
     "name": "stderr",
     "output_type": "stream",
     "text": [
      "Read 1 spots for SRR5817158\n",
      "Written 1 spots for SRR5817158\n"
     ]
    },
    {
     "name": "stdout",
     "output_type": "stream",
     "text": [
      "8\n",
      "\n",
      "fastq-dump -X 1 -Z --split-spot SRR5817160| wc -l\n"
     ]
    },
    {
     "name": "stderr",
     "output_type": "stream",
     "text": [
      "Read 1 spots for SRR5817160\n",
      "Written 1 spots for SRR5817160\n"
     ]
    },
    {
     "name": "stdout",
     "output_type": "stream",
     "text": [
      "8\n",
      "\n",
      "fastq-dump -X 1 -Z --split-spot SRR5817161| wc -l\n"
     ]
    },
    {
     "name": "stderr",
     "output_type": "stream",
     "text": [
      "Read 1 spots for SRR5817161\n",
      "Written 1 spots for SRR5817161\n"
     ]
    },
    {
     "name": "stdout",
     "output_type": "stream",
     "text": [
      "8\n",
      "\n",
      "fastq-dump -X 1 -Z --split-spot SRR5817164| wc -l\n"
     ]
    },
    {
     "name": "stderr",
     "output_type": "stream",
     "text": [
      "Read 1 spots for SRR5817164\n",
      "Written 1 spots for SRR5817164\n"
     ]
    },
    {
     "name": "stdout",
     "output_type": "stream",
     "text": [
      "8\n",
      "\n",
      "fastq-dump -X 1 -Z --split-spot SRR5817165| wc -l\n"
     ]
    },
    {
     "name": "stderr",
     "output_type": "stream",
     "text": [
      "Read 1 spots for SRR5817165\n",
      "Written 1 spots for SRR5817165\n"
     ]
    },
    {
     "name": "stdout",
     "output_type": "stream",
     "text": [
      "8\n",
      "\n",
      "fastq-dump -X 1 -Z --split-spot SRR5817169| wc -l\n"
     ]
    },
    {
     "name": "stderr",
     "output_type": "stream",
     "text": [
      "Read 1 spots for SRR5817169\n",
      "Written 1 spots for SRR5817169\n"
     ]
    },
    {
     "name": "stdout",
     "output_type": "stream",
     "text": [
      "8\n",
      "\n",
      "fastq-dump -X 1 -Z --split-spot SRR5817171| wc -l\n"
     ]
    },
    {
     "name": "stderr",
     "output_type": "stream",
     "text": [
      "Read 1 spots for SRR5817171\n",
      "Written 1 spots for SRR5817171\n"
     ]
    },
    {
     "name": "stdout",
     "output_type": "stream",
     "text": [
      "8\n",
      "\n",
      "fastq-dump -X 1 -Z --split-spot SRR5817174| wc -l\n"
     ]
    },
    {
     "name": "stderr",
     "output_type": "stream",
     "text": [
      "Read 1 spots for SRR5817174\n",
      "Written 1 spots for SRR5817174\n"
     ]
    },
    {
     "name": "stdout",
     "output_type": "stream",
     "text": [
      "8\n",
      "\n",
      "fastq-dump -X 1 -Z --split-spot SRR5817176| wc -l\n"
     ]
    },
    {
     "name": "stderr",
     "output_type": "stream",
     "text": [
      "Read 1 spots for SRR5817176\n",
      "Written 1 spots for SRR5817176\n"
     ]
    },
    {
     "name": "stdout",
     "output_type": "stream",
     "text": [
      "8\n",
      "\n",
      "fastq-dump -X 1 -Z --split-spot SRR5817177| wc -l\n"
     ]
    },
    {
     "name": "stderr",
     "output_type": "stream",
     "text": [
      "Read 1 spots for SRR5817177\n",
      "Written 1 spots for SRR5817177\n"
     ]
    },
    {
     "name": "stdout",
     "output_type": "stream",
     "text": [
      "8\n",
      "\n",
      "fastq-dump -X 1 -Z --split-spot SRR13884018| wc -l\n"
     ]
    },
    {
     "name": "stderr",
     "output_type": "stream",
     "text": [
      "Read 1 spots for SRR13884018\n",
      "Written 1 spots for SRR13884018\n"
     ]
    },
    {
     "name": "stdout",
     "output_type": "stream",
     "text": [
      "8\n",
      "\n",
      "fastq-dump -X 1 -Z --split-spot SRR13884030| wc -l\n"
     ]
    },
    {
     "name": "stderr",
     "output_type": "stream",
     "text": [
      "Read 1 spots for SRR13884030\n",
      "Written 1 spots for SRR13884030\n"
     ]
    },
    {
     "name": "stdout",
     "output_type": "stream",
     "text": [
      "8\n",
      "\n",
      "fastq-dump -X 1 -Z --split-spot SRR13884042| wc -l\n"
     ]
    },
    {
     "name": "stderr",
     "output_type": "stream",
     "text": [
      "Read 1 spots for SRR13884042\n",
      "Written 1 spots for SRR13884042\n"
     ]
    },
    {
     "name": "stdout",
     "output_type": "stream",
     "text": [
      "8\n",
      "\n",
      "fastq-dump -X 1 -Z --split-spot SRR13884054| wc -l\n"
     ]
    },
    {
     "name": "stderr",
     "output_type": "stream",
     "text": [
      "Read 1 spots for SRR13884054\n",
      "Written 1 spots for SRR13884054\n"
     ]
    },
    {
     "name": "stdout",
     "output_type": "stream",
     "text": [
      "8\n",
      "\n",
      "fastq-dump -X 1 -Z --split-spot SRR2531548| wc -l\n"
     ]
    },
    {
     "name": "stderr",
     "output_type": "stream",
     "text": [
      "Read 1 spots for SRR2531548\n",
      "Written 1 spots for SRR2531548\n"
     ]
    },
    {
     "name": "stdout",
     "output_type": "stream",
     "text": [
      "8\n",
      "\n",
      "fastq-dump -X 1 -Z --split-spot SRR2531553| wc -l\n"
     ]
    },
    {
     "name": "stderr",
     "output_type": "stream",
     "text": [
      "Read 1 spots for SRR2531553\n",
      "Written 1 spots for SRR2531553\n"
     ]
    },
    {
     "name": "stdout",
     "output_type": "stream",
     "text": [
      "8\n",
      "\n",
      "fastq-dump -X 1 -Z --split-spot SRR2531551| wc -l\n"
     ]
    },
    {
     "name": "stderr",
     "output_type": "stream",
     "text": [
      "Read 1 spots for SRR2531551\n",
      "Written 1 spots for SRR2531551\n"
     ]
    },
    {
     "name": "stdout",
     "output_type": "stream",
     "text": [
      "8\n",
      "\n",
      "fastq-dump -X 1 -Z --split-spot SRR2531549| wc -l\n"
     ]
    },
    {
     "name": "stderr",
     "output_type": "stream",
     "text": [
      "Read 1 spots for SRR2531549\n",
      "Written 1 spots for SRR2531549\n"
     ]
    },
    {
     "name": "stdout",
     "output_type": "stream",
     "text": [
      "8\n",
      "\n",
      "fastq-dump -X 1 -Z --split-spot SRR2531554| wc -l\n"
     ]
    },
    {
     "name": "stderr",
     "output_type": "stream",
     "text": [
      "Read 1 spots for SRR2531554\n",
      "Written 1 spots for SRR2531554\n"
     ]
    },
    {
     "name": "stdout",
     "output_type": "stream",
     "text": [
      "8\n",
      "\n",
      "fastq-dump -X 1 -Z --split-spot SRR2531552| wc -l\n"
     ]
    },
    {
     "name": "stderr",
     "output_type": "stream",
     "text": [
      "Read 1 spots for SRR2531552\n",
      "Written 1 spots for SRR2531552\n"
     ]
    },
    {
     "name": "stdout",
     "output_type": "stream",
     "text": [
      "8\n",
      "\n",
      "fastq-dump -X 1 -Z --split-spot SRR2531550| wc -l\n"
     ]
    },
    {
     "name": "stderr",
     "output_type": "stream",
     "text": [
      "Read 1 spots for SRR2531550\n",
      "Written 1 spots for SRR2531550\n"
     ]
    },
    {
     "name": "stdout",
     "output_type": "stream",
     "text": [
      "8\n",
      "\n",
      "fastq-dump -X 1 -Z --split-spot SRR2531555| wc -l\n"
     ]
    },
    {
     "name": "stderr",
     "output_type": "stream",
     "text": [
      "Read 1 spots for SRR2531555\n",
      "Written 1 spots for SRR2531555\n"
     ]
    },
    {
     "name": "stdout",
     "output_type": "stream",
     "text": [
      "8\n",
      "\n",
      "fastq-dump -X 1 -Z --split-spot SRR6113701| wc -l\n"
     ]
    },
    {
     "name": "stderr",
     "output_type": "stream",
     "text": [
      "Read 1 spots for SRR6113701\n",
      "Written 1 spots for SRR6113701\n"
     ]
    },
    {
     "name": "stdout",
     "output_type": "stream",
     "text": [
      "8\n",
      "\n",
      "fastq-dump -X 1 -Z --split-spot SRR6113705| wc -l\n"
     ]
    },
    {
     "name": "stderr",
     "output_type": "stream",
     "text": [
      "Read 1 spots for SRR6113705\n",
      "Written 1 spots for SRR6113705\n"
     ]
    },
    {
     "name": "stdout",
     "output_type": "stream",
     "text": [
      "8\n",
      "\n",
      "fastq-dump -X 1 -Z --split-spot SRR6113709| wc -l\n"
     ]
    },
    {
     "name": "stderr",
     "output_type": "stream",
     "text": [
      "Read 1 spots for SRR6113709\n",
      "Written 1 spots for SRR6113709\n"
     ]
    },
    {
     "name": "stdout",
     "output_type": "stream",
     "text": [
      "8\n",
      "\n",
      "fastq-dump -X 1 -Z --split-spot SRR6113713| wc -l\n"
     ]
    },
    {
     "name": "stderr",
     "output_type": "stream",
     "text": [
      "Read 1 spots for SRR6113713\n",
      "Written 1 spots for SRR6113713\n"
     ]
    },
    {
     "name": "stdout",
     "output_type": "stream",
     "text": [
      "8\n",
      "\n",
      "fastq-dump -X 1 -Z --split-spot SRR6113717| wc -l\n"
     ]
    },
    {
     "name": "stderr",
     "output_type": "stream",
     "text": [
      "Read 1 spots for SRR6113717\n",
      "Written 1 spots for SRR6113717\n"
     ]
    },
    {
     "name": "stdout",
     "output_type": "stream",
     "text": [
      "8\n",
      "\n",
      "fastq-dump -X 1 -Z --split-spot SRR6113721| wc -l\n"
     ]
    },
    {
     "name": "stderr",
     "output_type": "stream",
     "text": [
      "Read 1 spots for SRR6113721\n",
      "Written 1 spots for SRR6113721\n"
     ]
    },
    {
     "name": "stdout",
     "output_type": "stream",
     "text": [
      "8\n",
      "\n",
      "fastq-dump -X 1 -Z --split-spot SRR6113725| wc -l\n"
     ]
    },
    {
     "name": "stderr",
     "output_type": "stream",
     "text": [
      "Read 1 spots for SRR6113725\n",
      "Written 1 spots for SRR6113725\n"
     ]
    },
    {
     "name": "stdout",
     "output_type": "stream",
     "text": [
      "8\n",
      "\n",
      "fastq-dump -X 1 -Z --split-spot SRR6113729| wc -l\n"
     ]
    },
    {
     "name": "stderr",
     "output_type": "stream",
     "text": [
      "Read 1 spots for SRR6113729\n",
      "Written 1 spots for SRR6113729\n"
     ]
    },
    {
     "name": "stdout",
     "output_type": "stream",
     "text": [
      "8\n",
      "\n",
      "fastq-dump -X 1 -Z --split-spot SRR6113733| wc -l\n"
     ]
    },
    {
     "name": "stderr",
     "output_type": "stream",
     "text": [
      "Read 1 spots for SRR6113733\n",
      "Written 1 spots for SRR6113733\n"
     ]
    },
    {
     "name": "stdout",
     "output_type": "stream",
     "text": [
      "8\n",
      "\n",
      "fastq-dump -X 1 -Z --split-spot SRR6113737| wc -l\n"
     ]
    },
    {
     "name": "stderr",
     "output_type": "stream",
     "text": [
      "Read 1 spots for SRR6113737\n",
      "Written 1 spots for SRR6113737\n"
     ]
    },
    {
     "name": "stdout",
     "output_type": "stream",
     "text": [
      "8\n",
      "\n",
      "fastq-dump -X 1 -Z --split-spot SRR6113749| wc -l\n"
     ]
    },
    {
     "name": "stderr",
     "output_type": "stream",
     "text": [
      "Read 1 spots for SRR6113749\n",
      "Written 1 spots for SRR6113749\n"
     ]
    },
    {
     "name": "stdout",
     "output_type": "stream",
     "text": [
      "8\n",
      "\n",
      "fastq-dump -X 1 -Z --split-spot SRR6113753| wc -l\n"
     ]
    },
    {
     "name": "stderr",
     "output_type": "stream",
     "text": [
      "Read 1 spots for SRR6113753\n",
      "Written 1 spots for SRR6113753\n"
     ]
    },
    {
     "name": "stdout",
     "output_type": "stream",
     "text": [
      "8\n",
      "\n",
      "fastq-dump -X 1 -Z --split-spot SRR6113757| wc -l\n"
     ]
    },
    {
     "name": "stderr",
     "output_type": "stream",
     "text": [
      "Read 1 spots for SRR6113757\n",
      "Written 1 spots for SRR6113757\n"
     ]
    },
    {
     "name": "stdout",
     "output_type": "stream",
     "text": [
      "8\n",
      "\n",
      "fastq-dump -X 1 -Z --split-spot SRR6113761| wc -l\n"
     ]
    },
    {
     "name": "stderr",
     "output_type": "stream",
     "text": [
      "Read 1 spots for SRR6113761\n",
      "Written 1 spots for SRR6113761\n"
     ]
    },
    {
     "name": "stdout",
     "output_type": "stream",
     "text": [
      "8\n",
      "\n",
      "fastq-dump -X 1 -Z --split-spot SRR6113765| wc -l\n"
     ]
    },
    {
     "name": "stderr",
     "output_type": "stream",
     "text": [
      "Read 1 spots for SRR6113765\n",
      "Written 1 spots for SRR6113765\n"
     ]
    },
    {
     "name": "stdout",
     "output_type": "stream",
     "text": [
      "8\n",
      "\n",
      "fastq-dump -X 1 -Z --split-spot SRR6113769| wc -l\n"
     ]
    },
    {
     "name": "stderr",
     "output_type": "stream",
     "text": [
      "Read 1 spots for SRR6113769\n",
      "Written 1 spots for SRR6113769\n"
     ]
    },
    {
     "name": "stdout",
     "output_type": "stream",
     "text": [
      "8\n",
      "\n",
      "fastq-dump -X 1 -Z --split-spot SRR13842818| wc -l\n"
     ]
    },
    {
     "name": "stderr",
     "output_type": "stream",
     "text": [
      "Read 1 spots for SRR13842818\n",
      "Written 1 spots for SRR13842818\n"
     ]
    },
    {
     "name": "stdout",
     "output_type": "stream",
     "text": [
      "8\n",
      "\n",
      "fastq-dump -X 1 -Z --split-spot SRR13842819| wc -l\n"
     ]
    },
    {
     "name": "stderr",
     "output_type": "stream",
     "text": [
      "Read 1 spots for SRR13842819\n",
      "Written 1 spots for SRR13842819\n"
     ]
    },
    {
     "name": "stdout",
     "output_type": "stream",
     "text": [
      "8\n",
      "\n",
      "fastq-dump -X 1 -Z --split-spot SRR13842820| wc -l\n"
     ]
    },
    {
     "name": "stderr",
     "output_type": "stream",
     "text": [
      "Read 1 spots for SRR13842820\n",
      "Written 1 spots for SRR13842820\n"
     ]
    },
    {
     "name": "stdout",
     "output_type": "stream",
     "text": [
      "8\n",
      "\n",
      "fastq-dump -X 1 -Z --split-spot SRR13842821| wc -l\n"
     ]
    },
    {
     "name": "stderr",
     "output_type": "stream",
     "text": [
      "Read 1 spots for SRR13842821\n",
      "Written 1 spots for SRR13842821\n"
     ]
    },
    {
     "name": "stdout",
     "output_type": "stream",
     "text": [
      "8\n",
      "\n",
      "fastq-dump -X 1 -Z --split-spot SRR13842822| wc -l\n"
     ]
    },
    {
     "name": "stderr",
     "output_type": "stream",
     "text": [
      "Read 1 spots for SRR13842822\n",
      "Written 1 spots for SRR13842822\n"
     ]
    },
    {
     "name": "stdout",
     "output_type": "stream",
     "text": [
      "8\n",
      "\n",
      "fastq-dump -X 1 -Z --split-spot SRR13842823| wc -l\n"
     ]
    },
    {
     "name": "stderr",
     "output_type": "stream",
     "text": [
      "Read 1 spots for SRR13842823\n",
      "Written 1 spots for SRR13842823\n"
     ]
    },
    {
     "name": "stdout",
     "output_type": "stream",
     "text": [
      "8\n",
      "\n",
      "fastq-dump -X 1 -Z --split-spot SRR13842824| wc -l\n"
     ]
    },
    {
     "name": "stderr",
     "output_type": "stream",
     "text": [
      "Read 1 spots for SRR13842824\n",
      "Written 1 spots for SRR13842824\n"
     ]
    },
    {
     "name": "stdout",
     "output_type": "stream",
     "text": [
      "8\n",
      "\n",
      "fastq-dump -X 1 -Z --split-spot SRR13842826| wc -l\n"
     ]
    },
    {
     "name": "stderr",
     "output_type": "stream",
     "text": [
      "Read 1 spots for SRR13842826\n",
      "Written 1 spots for SRR13842826\n"
     ]
    },
    {
     "name": "stdout",
     "output_type": "stream",
     "text": [
      "8\n",
      "\n",
      "fastq-dump -X 1 -Z --split-spot SRR13842827| wc -l\n"
     ]
    },
    {
     "name": "stderr",
     "output_type": "stream",
     "text": [
      "Read 1 spots for SRR13842827\n",
      "Written 1 spots for SRR13842827\n"
     ]
    },
    {
     "name": "stdout",
     "output_type": "stream",
     "text": [
      "8\n",
      "\n",
      "fastq-dump -X 1 -Z --split-spot SRR13884020| wc -l\n"
     ]
    },
    {
     "name": "stderr",
     "output_type": "stream",
     "text": [
      "Read 1 spots for SRR13884020\n",
      "Written 1 spots for SRR13884020\n"
     ]
    },
    {
     "name": "stdout",
     "output_type": "stream",
     "text": [
      "8\n",
      "\n",
      "fastq-dump -X 1 -Z --split-spot SRR13884032| wc -l\n"
     ]
    },
    {
     "name": "stderr",
     "output_type": "stream",
     "text": [
      "Read 1 spots for SRR13884032\n",
      "Written 1 spots for SRR13884032\n"
     ]
    },
    {
     "name": "stdout",
     "output_type": "stream",
     "text": [
      "8\n",
      "\n",
      "fastq-dump -X 1 -Z --split-spot SRR13884043| wc -l\n"
     ]
    },
    {
     "name": "stderr",
     "output_type": "stream",
     "text": [
      "Read 1 spots for SRR13884043\n",
      "Written 1 spots for SRR13884043\n"
     ]
    },
    {
     "name": "stdout",
     "output_type": "stream",
     "text": [
      "8\n",
      "\n",
      "fastq-dump -X 1 -Z --split-spot SRR13884056| wc -l\n"
     ]
    },
    {
     "name": "stderr",
     "output_type": "stream",
     "text": [
      "Read 1 spots for SRR13884056\n",
      "Written 1 spots for SRR13884056\n"
     ]
    },
    {
     "name": "stdout",
     "output_type": "stream",
     "text": [
      "8\n",
      "\n",
      "fastq-dump -X 1 -Z --split-spot SRR13884066| wc -l\n"
     ]
    },
    {
     "name": "stderr",
     "output_type": "stream",
     "text": [
      "Read 1 spots for SRR13884066\n",
      "Written 1 spots for SRR13884066\n"
     ]
    },
    {
     "name": "stdout",
     "output_type": "stream",
     "text": [
      "8\n",
      "\n",
      "fastq-dump -X 1 -Z --split-spot SRR13884078| wc -l\n"
     ]
    },
    {
     "name": "stderr",
     "output_type": "stream",
     "text": [
      "Read 1 spots for SRR13884078\n",
      "Written 1 spots for SRR13884078\n"
     ]
    },
    {
     "name": "stdout",
     "output_type": "stream",
     "text": [
      "8\n",
      "\n",
      "fastq-dump -X 1 -Z --split-spot SRR13884090| wc -l\n"
     ]
    },
    {
     "name": "stderr",
     "output_type": "stream",
     "text": [
      "Read 1 spots for SRR13884090\n",
      "Written 1 spots for SRR13884090\n"
     ]
    },
    {
     "name": "stdout",
     "output_type": "stream",
     "text": [
      "8\n",
      "\n",
      "fastq-dump -X 1 -Z --split-spot SRR13884102| wc -l\n"
     ]
    },
    {
     "name": "stderr",
     "output_type": "stream",
     "text": [
      "Read 1 spots for SRR13884102\n",
      "Written 1 spots for SRR13884102\n"
     ]
    },
    {
     "name": "stdout",
     "output_type": "stream",
     "text": [
      "8\n",
      "\n",
      "fastq-dump -X 1 -Z --split-spot SRR2531533| wc -l\n"
     ]
    },
    {
     "name": "stderr",
     "output_type": "stream",
     "text": [
      "Read 1 spots for SRR2531533\n",
      "Written 1 spots for SRR2531533\n"
     ]
    },
    {
     "name": "stdout",
     "output_type": "stream",
     "text": [
      "8\n",
      "\n",
      "fastq-dump -X 1 -Z --split-spot SRR2531534| wc -l\n"
     ]
    },
    {
     "name": "stderr",
     "output_type": "stream",
     "text": [
      "Read 1 spots for SRR2531534\n",
      "Written 1 spots for SRR2531534\n"
     ]
    },
    {
     "name": "stdout",
     "output_type": "stream",
     "text": [
      "8\n",
      "\n",
      "fastq-dump -X 1 -Z --split-spot SRR2531532| wc -l\n"
     ]
    },
    {
     "name": "stderr",
     "output_type": "stream",
     "text": [
      "Read 1 spots for SRR2531532\n",
      "Written 1 spots for SRR2531532\n"
     ]
    },
    {
     "name": "stdout",
     "output_type": "stream",
     "text": [
      "8\n",
      "\n",
      "fastq-dump -X 1 -Z --split-spot SRR2531537| wc -l\n"
     ]
    },
    {
     "name": "stderr",
     "output_type": "stream",
     "text": [
      "Read 1 spots for SRR2531537\n",
      "Written 1 spots for SRR2531537\n"
     ]
    },
    {
     "name": "stdout",
     "output_type": "stream",
     "text": [
      "8\n",
      "\n",
      "fastq-dump -X 1 -Z --split-spot SRR2531539| wc -l\n"
     ]
    },
    {
     "name": "stderr",
     "output_type": "stream",
     "text": [
      "Read 1 spots for SRR2531539\n",
      "Written 1 spots for SRR2531539\n"
     ]
    },
    {
     "name": "stdout",
     "output_type": "stream",
     "text": [
      "8\n",
      "\n",
      "fastq-dump -X 1 -Z --split-spot SRR2531536| wc -l\n"
     ]
    },
    {
     "name": "stderr",
     "output_type": "stream",
     "text": [
      "Read 1 spots for SRR2531536\n",
      "Written 1 spots for SRR2531536\n"
     ]
    },
    {
     "name": "stdout",
     "output_type": "stream",
     "text": [
      "8\n",
      "\n",
      "fastq-dump -X 1 -Z --split-spot SRR2531535| wc -l\n"
     ]
    },
    {
     "name": "stderr",
     "output_type": "stream",
     "text": [
      "Read 1 spots for SRR2531535\n",
      "Written 1 spots for SRR2531535\n"
     ]
    },
    {
     "name": "stdout",
     "output_type": "stream",
     "text": [
      "8\n",
      "\n",
      "fastq-dump -X 1 -Z --split-spot SRR2531538| wc -l\n"
     ]
    },
    {
     "name": "stderr",
     "output_type": "stream",
     "text": [
      "Read 1 spots for SRR2531538\n",
      "Written 1 spots for SRR2531538\n"
     ]
    },
    {
     "name": "stdout",
     "output_type": "stream",
     "text": [
      "8\n",
      "\n",
      "fastq-dump -X 1 -Z --split-spot SRR5368397| wc -l\n"
     ]
    },
    {
     "name": "stderr",
     "output_type": "stream",
     "text": [
      "Read 1 spots for SRR5368397\n",
      "Written 1 spots for SRR5368397\n"
     ]
    },
    {
     "name": "stdout",
     "output_type": "stream",
     "text": [
      "4\n",
      "\n",
      "fastq-dump -X 1 -Z --split-spot SRR5368398| wc -l\n"
     ]
    },
    {
     "name": "stderr",
     "output_type": "stream",
     "text": [
      "Read 1 spots for SRR5368398\n",
      "Written 1 spots for SRR5368398\n"
     ]
    },
    {
     "name": "stdout",
     "output_type": "stream",
     "text": [
      "4\n",
      "\n",
      "fastq-dump -X 1 -Z --split-spot SRR5368399| wc -l\n"
     ]
    },
    {
     "name": "stderr",
     "output_type": "stream",
     "text": [
      "Read 1 spots for SRR5368399\n",
      "Written 1 spots for SRR5368399\n"
     ]
    },
    {
     "name": "stdout",
     "output_type": "stream",
     "text": [
      "4\n",
      "\n",
      "fastq-dump -X 1 -Z --split-spot SRR5368400| wc -l\n"
     ]
    },
    {
     "name": "stderr",
     "output_type": "stream",
     "text": [
      "Read 1 spots for SRR5368400\n",
      "Written 1 spots for SRR5368400\n"
     ]
    },
    {
     "name": "stdout",
     "output_type": "stream",
     "text": [
      "4\n",
      "\n",
      "fastq-dump -X 1 -Z --split-spot SRR13842677| wc -l\n"
     ]
    },
    {
     "name": "stderr",
     "output_type": "stream",
     "text": [
      "Read 1 spots for SRR13842677\n",
      "Written 1 spots for SRR13842677\n"
     ]
    },
    {
     "name": "stdout",
     "output_type": "stream",
     "text": [
      "8\n",
      "\n",
      "fastq-dump -X 1 -Z --split-spot SRR13842678| wc -l\n"
     ]
    },
    {
     "name": "stderr",
     "output_type": "stream",
     "text": [
      "Read 1 spots for SRR13842678\n",
      "Written 1 spots for SRR13842678\n"
     ]
    },
    {
     "name": "stdout",
     "output_type": "stream",
     "text": [
      "8\n",
      "\n",
      "fastq-dump -X 1 -Z --split-spot SRR13842679| wc -l\n"
     ]
    },
    {
     "name": "stderr",
     "output_type": "stream",
     "text": [
      "Read 1 spots for SRR13842679\n",
      "Written 1 spots for SRR13842679\n"
     ]
    },
    {
     "name": "stdout",
     "output_type": "stream",
     "text": [
      "8\n",
      "\n",
      "fastq-dump -X 1 -Z --split-spot SRR13842680| wc -l\n"
     ]
    },
    {
     "name": "stderr",
     "output_type": "stream",
     "text": [
      "Read 1 spots for SRR13842680\n",
      "Written 1 spots for SRR13842680\n"
     ]
    },
    {
     "name": "stdout",
     "output_type": "stream",
     "text": [
      "8\n",
      "\n",
      "fastq-dump -X 1 -Z --split-spot SRR13842681| wc -l\n"
     ]
    },
    {
     "name": "stderr",
     "output_type": "stream",
     "text": [
      "Read 1 spots for SRR13842681\n",
      "Written 1 spots for SRR13842681\n"
     ]
    },
    {
     "name": "stdout",
     "output_type": "stream",
     "text": [
      "8\n",
      "\n",
      "fastq-dump -X 1 -Z --split-spot SRR13842682| wc -l\n"
     ]
    },
    {
     "name": "stderr",
     "output_type": "stream",
     "text": [
      "Read 1 spots for SRR13842682\n",
      "Written 1 spots for SRR13842682\n"
     ]
    },
    {
     "name": "stdout",
     "output_type": "stream",
     "text": [
      "8\n",
      "\n",
      "fastq-dump -X 1 -Z --split-spot SRR13842683| wc -l\n"
     ]
    },
    {
     "name": "stderr",
     "output_type": "stream",
     "text": [
      "Read 1 spots for SRR13842683\n",
      "Written 1 spots for SRR13842683\n"
     ]
    },
    {
     "name": "stdout",
     "output_type": "stream",
     "text": [
      "8\n",
      "\n",
      "fastq-dump -X 1 -Z --split-spot SRR13842684| wc -l\n"
     ]
    },
    {
     "name": "stderr",
     "output_type": "stream",
     "text": [
      "Read 1 spots for SRR13842684\n",
      "Written 1 spots for SRR13842684\n"
     ]
    },
    {
     "name": "stdout",
     "output_type": "stream",
     "text": [
      "8\n",
      "\n",
      "fastq-dump -X 1 -Z --split-spot SRR13842685| wc -l\n"
     ]
    },
    {
     "name": "stderr",
     "output_type": "stream",
     "text": [
      "Read 1 spots for SRR13842685\n",
      "Written 1 spots for SRR13842685\n"
     ]
    },
    {
     "name": "stdout",
     "output_type": "stream",
     "text": [
      "8\n",
      "\n",
      "fastq-dump -X 1 -Z --split-spot SRR13842686| wc -l\n"
     ]
    },
    {
     "name": "stderr",
     "output_type": "stream",
     "text": [
      "Read 1 spots for SRR13842686\n",
      "Written 1 spots for SRR13842686\n"
     ]
    },
    {
     "name": "stdout",
     "output_type": "stream",
     "text": [
      "8\n",
      "\n",
      "fastq-dump -X 1 -Z --split-spot SRR9860256| wc -l\n"
     ]
    },
    {
     "name": "stderr",
     "output_type": "stream",
     "text": [
      "Read 1 spots for SRR9860256\n",
      "Written 1 spots for SRR9860256\n"
     ]
    },
    {
     "name": "stdout",
     "output_type": "stream",
     "text": [
      "4\n",
      "\n",
      "fastq-dump -X 1 -Z --split-spot SRR9860254| wc -l\n"
     ]
    },
    {
     "name": "stderr",
     "output_type": "stream",
     "text": [
      "Read 1 spots for SRR9860254\n",
      "Written 1 spots for SRR9860254\n"
     ]
    },
    {
     "name": "stdout",
     "output_type": "stream",
     "text": [
      "4\n",
      "\n",
      "fastq-dump -X 1 -Z --split-spot SRR9860255| wc -l\n"
     ]
    },
    {
     "name": "stderr",
     "output_type": "stream",
     "text": [
      "Read 1 spots for SRR9860255\n",
      "Written 1 spots for SRR9860255\n"
     ]
    },
    {
     "name": "stdout",
     "output_type": "stream",
     "text": [
      "4\n",
      "\n",
      "fastq-dump -X 1 -Z --split-spot SRR5817116| wc -l\n"
     ]
    },
    {
     "name": "stderr",
     "output_type": "stream",
     "text": [
      "Read 1 spots for SRR5817116\n",
      "Written 1 spots for SRR5817116\n"
     ]
    },
    {
     "name": "stdout",
     "output_type": "stream",
     "text": [
      "8\n",
      "\n",
      "fastq-dump -X 1 -Z --split-spot SRR5817117| wc -l\n"
     ]
    },
    {
     "name": "stderr",
     "output_type": "stream",
     "text": [
      "Read 1 spots for SRR5817117\n",
      "Written 1 spots for SRR5817117\n"
     ]
    },
    {
     "name": "stdout",
     "output_type": "stream",
     "text": [
      "8\n",
      "\n",
      "fastq-dump -X 1 -Z --split-spot SRR5817118| wc -l\n"
     ]
    },
    {
     "name": "stderr",
     "output_type": "stream",
     "text": [
      "Read 1 spots for SRR5817118\n",
      "Written 1 spots for SRR5817118\n"
     ]
    },
    {
     "name": "stdout",
     "output_type": "stream",
     "text": [
      "8\n",
      "\n",
      "fastq-dump -X 1 -Z --split-spot SRR5817121| wc -l\n"
     ]
    },
    {
     "name": "stderr",
     "output_type": "stream",
     "text": [
      "Read 1 spots for SRR5817121\n",
      "Written 1 spots for SRR5817121\n"
     ]
    },
    {
     "name": "stdout",
     "output_type": "stream",
     "text": [
      "8\n",
      "\n",
      "fastq-dump -X 1 -Z --split-spot SRR5817122| wc -l\n"
     ]
    },
    {
     "name": "stderr",
     "output_type": "stream",
     "text": [
      "Read 1 spots for SRR5817122\n",
      "Written 1 spots for SRR5817122\n"
     ]
    },
    {
     "name": "stdout",
     "output_type": "stream",
     "text": [
      "8\n",
      "\n",
      "fastq-dump -X 1 -Z --split-spot SRR5817124| wc -l\n"
     ]
    },
    {
     "name": "stderr",
     "output_type": "stream",
     "text": [
      "Read 1 spots for SRR5817124\n",
      "Written 1 spots for SRR5817124\n"
     ]
    },
    {
     "name": "stdout",
     "output_type": "stream",
     "text": [
      "8\n",
      "\n",
      "fastq-dump -X 1 -Z --split-spot SRR5817127| wc -l\n"
     ]
    },
    {
     "name": "stderr",
     "output_type": "stream",
     "text": [
      "Read 1 spots for SRR5817127\n",
      "Written 1 spots for SRR5817127\n"
     ]
    },
    {
     "name": "stdout",
     "output_type": "stream",
     "text": [
      "8\n",
      "\n",
      "fastq-dump -X 1 -Z --split-spot SRR5817128| wc -l\n"
     ]
    },
    {
     "name": "stderr",
     "output_type": "stream",
     "text": [
      "Read 1 spots for SRR5817128\n",
      "Written 1 spots for SRR5817128\n"
     ]
    },
    {
     "name": "stdout",
     "output_type": "stream",
     "text": [
      "8\n",
      "\n",
      "fastq-dump -X 1 -Z --split-spot SRR5817129| wc -l\n"
     ]
    },
    {
     "name": "stderr",
     "output_type": "stream",
     "text": [
      "Read 1 spots for SRR5817129\n",
      "Written 1 spots for SRR5817129\n"
     ]
    },
    {
     "name": "stdout",
     "output_type": "stream",
     "text": [
      "8\n",
      "\n",
      "fastq-dump -X 1 -Z --split-spot SRR5817130| wc -l\n"
     ]
    },
    {
     "name": "stderr",
     "output_type": "stream",
     "text": [
      "Read 1 spots for SRR5817130\n",
      "Written 1 spots for SRR5817130\n"
     ]
    },
    {
     "name": "stdout",
     "output_type": "stream",
     "text": [
      "8\n",
      "\n",
      "fastq-dump -X 1 -Z --split-spot SRR5817132| wc -l\n"
     ]
    },
    {
     "name": "stderr",
     "output_type": "stream",
     "text": [
      "Read 1 spots for SRR5817132\n",
      "Written 1 spots for SRR5817132\n"
     ]
    },
    {
     "name": "stdout",
     "output_type": "stream",
     "text": [
      "8\n",
      "\n",
      "fastq-dump -X 1 -Z --split-spot SRR5817135| wc -l\n"
     ]
    },
    {
     "name": "stderr",
     "output_type": "stream",
     "text": [
      "Read 1 spots for SRR5817135\n",
      "Written 1 spots for SRR5817135\n"
     ]
    },
    {
     "name": "stdout",
     "output_type": "stream",
     "text": [
      "8\n",
      "\n",
      "fastq-dump -X 1 -Z --split-spot SRR5817142| wc -l\n"
     ]
    },
    {
     "name": "stderr",
     "output_type": "stream",
     "text": [
      "Read 1 spots for SRR5817142\n",
      "Written 1 spots for SRR5817142\n"
     ]
    },
    {
     "name": "stdout",
     "output_type": "stream",
     "text": [
      "8\n",
      "\n",
      "fastq-dump -X 1 -Z --split-spot SRR5817143| wc -l\n"
     ]
    },
    {
     "name": "stderr",
     "output_type": "stream",
     "text": [
      "Read 1 spots for SRR5817143\n",
      "Written 1 spots for SRR5817143\n"
     ]
    },
    {
     "name": "stdout",
     "output_type": "stream",
     "text": [
      "8\n",
      "\n",
      "fastq-dump -X 1 -Z --split-spot SRR5817144| wc -l\n"
     ]
    },
    {
     "name": "stderr",
     "output_type": "stream",
     "text": [
      "Read 1 spots for SRR5817144\n",
      "Written 1 spots for SRR5817144\n"
     ]
    },
    {
     "name": "stdout",
     "output_type": "stream",
     "text": [
      "8\n",
      "\n",
      "fastq-dump -X 1 -Z --split-spot SRR5817148| wc -l\n"
     ]
    },
    {
     "name": "stderr",
     "output_type": "stream",
     "text": [
      "Read 1 spots for SRR5817148\n",
      "Written 1 spots for SRR5817148\n"
     ]
    },
    {
     "name": "stdout",
     "output_type": "stream",
     "text": [
      "8\n",
      "\n",
      "fastq-dump -X 1 -Z --split-spot SRR5817150| wc -l\n"
     ]
    },
    {
     "name": "stderr",
     "output_type": "stream",
     "text": [
      "Read 1 spots for SRR5817150\n",
      "Written 1 spots for SRR5817150\n"
     ]
    },
    {
     "name": "stdout",
     "output_type": "stream",
     "text": [
      "8\n",
      "\n",
      "fastq-dump -X 1 -Z --split-spot SRR5817151| wc -l\n"
     ]
    },
    {
     "name": "stderr",
     "output_type": "stream",
     "text": [
      "Read 1 spots for SRR5817151\n",
      "Written 1 spots for SRR5817151\n"
     ]
    },
    {
     "name": "stdout",
     "output_type": "stream",
     "text": [
      "8\n",
      "\n",
      "fastq-dump -X 1 -Z --split-spot SRR5817152| wc -l\n"
     ]
    },
    {
     "name": "stderr",
     "output_type": "stream",
     "text": [
      "Read 1 spots for SRR5817152\n",
      "Written 1 spots for SRR5817152\n"
     ]
    },
    {
     "name": "stdout",
     "output_type": "stream",
     "text": [
      "8\n",
      "\n",
      "fastq-dump -X 1 -Z --split-spot SRR5817156| wc -l\n"
     ]
    },
    {
     "name": "stderr",
     "output_type": "stream",
     "text": [
      "Read 1 spots for SRR5817156\n",
      "Written 1 spots for SRR5817156\n"
     ]
    },
    {
     "name": "stdout",
     "output_type": "stream",
     "text": [
      "8\n",
      "\n",
      "fastq-dump -X 1 -Z --split-spot SRR7295459| wc -l\n"
     ]
    },
    {
     "name": "stderr",
     "output_type": "stream",
     "text": [
      "Read 1 spots for SRR7295459\n",
      "Written 1 spots for SRR7295459\n"
     ]
    },
    {
     "name": "stdout",
     "output_type": "stream",
     "text": [
      "8\n",
      "\n",
      "fastq-dump -X 1 -Z --split-spot SRR5817159| wc -l\n"
     ]
    },
    {
     "name": "stderr",
     "output_type": "stream",
     "text": [
      "Read 1 spots for SRR5817159\n",
      "Written 1 spots for SRR5817159\n"
     ]
    },
    {
     "name": "stdout",
     "output_type": "stream",
     "text": [
      "8\n",
      "\n",
      "fastq-dump -X 1 -Z --split-spot SRR5817162| wc -l\n"
     ]
    },
    {
     "name": "stderr",
     "output_type": "stream",
     "text": [
      "Read 1 spots for SRR5817162\n",
      "Written 1 spots for SRR5817162\n"
     ]
    },
    {
     "name": "stdout",
     "output_type": "stream",
     "text": [
      "8\n",
      "\n",
      "fastq-dump -X 1 -Z --split-spot SRR5817163| wc -l\n"
     ]
    },
    {
     "name": "stderr",
     "output_type": "stream",
     "text": [
      "Read 1 spots for SRR5817163\n",
      "Written 1 spots for SRR5817163\n"
     ]
    },
    {
     "name": "stdout",
     "output_type": "stream",
     "text": [
      "8\n",
      "\n",
      "fastq-dump -X 1 -Z --split-spot SRR5817166| wc -l\n"
     ]
    },
    {
     "name": "stderr",
     "output_type": "stream",
     "text": [
      "Read 1 spots for SRR5817166\n",
      "Written 1 spots for SRR5817166\n"
     ]
    },
    {
     "name": "stdout",
     "output_type": "stream",
     "text": [
      "8\n",
      "\n",
      "fastq-dump -X 1 -Z --split-spot SRR5817167| wc -l\n"
     ]
    },
    {
     "name": "stderr",
     "output_type": "stream",
     "text": [
      "Read 1 spots for SRR5817167\n",
      "Written 1 spots for SRR5817167\n"
     ]
    },
    {
     "name": "stdout",
     "output_type": "stream",
     "text": [
      "8\n",
      "\n",
      "fastq-dump -X 1 -Z --split-spot SRR5817168| wc -l\n"
     ]
    },
    {
     "name": "stderr",
     "output_type": "stream",
     "text": [
      "Read 1 spots for SRR5817168\n",
      "Written 1 spots for SRR5817168\n"
     ]
    },
    {
     "name": "stdout",
     "output_type": "stream",
     "text": [
      "8\n",
      "\n",
      "fastq-dump -X 1 -Z --split-spot SRR5817170| wc -l\n"
     ]
    },
    {
     "name": "stderr",
     "output_type": "stream",
     "text": [
      "Read 1 spots for SRR5817170\n",
      "Written 1 spots for SRR5817170\n"
     ]
    },
    {
     "name": "stdout",
     "output_type": "stream",
     "text": [
      "8\n",
      "\n",
      "fastq-dump -X 1 -Z --split-spot SRR5817172| wc -l\n"
     ]
    },
    {
     "name": "stderr",
     "output_type": "stream",
     "text": [
      "Read 1 spots for SRR5817172\n",
      "Written 1 spots for SRR5817172\n"
     ]
    },
    {
     "name": "stdout",
     "output_type": "stream",
     "text": [
      "8\n",
      "\n",
      "fastq-dump -X 1 -Z --split-spot SRR5817173| wc -l\n"
     ]
    },
    {
     "name": "stderr",
     "output_type": "stream",
     "text": [
      "Read 1 spots for SRR5817173\n",
      "Written 1 spots for SRR5817173\n"
     ]
    },
    {
     "name": "stdout",
     "output_type": "stream",
     "text": [
      "8\n",
      "\n",
      "fastq-dump -X 1 -Z --split-spot SRR5817175| wc -l\n"
     ]
    },
    {
     "name": "stderr",
     "output_type": "stream",
     "text": [
      "Read 1 spots for SRR5817175\n",
      "Written 1 spots for SRR5817175\n"
     ]
    },
    {
     "name": "stdout",
     "output_type": "stream",
     "text": [
      "8\n",
      "\n",
      "fastq-dump -X 1 -Z --split-spot SRR5817178| wc -l\n"
     ]
    },
    {
     "name": "stderr",
     "output_type": "stream",
     "text": [
      "Read 1 spots for SRR5817178\n",
      "Written 1 spots for SRR5817178\n"
     ]
    },
    {
     "name": "stdout",
     "output_type": "stream",
     "text": [
      "8\n",
      "\n",
      "fastq-dump -X 1 -Z --split-spot SRR5817179| wc -l\n"
     ]
    },
    {
     "name": "stderr",
     "output_type": "stream",
     "text": [
      "Read 1 spots for SRR5817179\n",
      "Written 1 spots for SRR5817179\n"
     ]
    },
    {
     "name": "stdout",
     "output_type": "stream",
     "text": [
      "8\n",
      "\n",
      "fastq-dump -X 1 -Z --split-spot SRR13883960| wc -l\n"
     ]
    },
    {
     "name": "stderr",
     "output_type": "stream",
     "text": [
      "Read 1 spots for SRR13883960\n",
      "Written 1 spots for SRR13883960\n"
     ]
    },
    {
     "name": "stdout",
     "output_type": "stream",
     "text": [
      "8\n",
      "\n",
      "fastq-dump -X 1 -Z --split-spot SRR13883972| wc -l\n"
     ]
    },
    {
     "name": "stderr",
     "output_type": "stream",
     "text": [
      "Read 1 spots for SRR13883972\n",
      "Written 1 spots for SRR13883972\n"
     ]
    },
    {
     "name": "stdout",
     "output_type": "stream",
     "text": [
      "8\n",
      "\n",
      "fastq-dump -X 1 -Z --split-spot SRR13883984| wc -l\n"
     ]
    },
    {
     "name": "stderr",
     "output_type": "stream",
     "text": [
      "Read 1 spots for SRR13883984\n",
      "Written 1 spots for SRR13883984\n"
     ]
    },
    {
     "name": "stdout",
     "output_type": "stream",
     "text": [
      "8\n",
      "\n",
      "fastq-dump -X 1 -Z --split-spot SRR13883996| wc -l\n"
     ]
    },
    {
     "name": "stderr",
     "output_type": "stream",
     "text": [
      "Read 1 spots for SRR13883996\n",
      "Written 1 spots for SRR13883996\n"
     ]
    },
    {
     "name": "stdout",
     "output_type": "stream",
     "text": [
      "8\n",
      "\n",
      "fastq-dump -X 1 -Z --split-spot SRR6829578| wc -l\n"
     ]
    },
    {
     "name": "stderr",
     "output_type": "stream",
     "text": [
      "Read 1 spots for SRR6829578\n",
      "Written 1 spots for SRR6829578\n"
     ]
    },
    {
     "name": "stdout",
     "output_type": "stream",
     "text": [
      "4\n",
      "\n",
      "fastq-dump -X 1 -Z --split-spot SRR6829579| wc -l\n"
     ]
    },
    {
     "name": "stderr",
     "output_type": "stream",
     "text": [
      "Read 1 spots for SRR6829579\n",
      "Written 1 spots for SRR6829579\n"
     ]
    },
    {
     "name": "stdout",
     "output_type": "stream",
     "text": [
      "4\n",
      "\n",
      "fastq-dump -X 1 -Z --split-spot SRR6829580| wc -l\n"
     ]
    },
    {
     "name": "stderr",
     "output_type": "stream",
     "text": [
      "Read 1 spots for SRR6829580\n",
      "Written 1 spots for SRR6829580\n"
     ]
    },
    {
     "name": "stdout",
     "output_type": "stream",
     "text": [
      "4\n",
      "\n",
      "fastq-dump -X 1 -Z --split-spot SRR6829581| wc -l\n"
     ]
    },
    {
     "name": "stderr",
     "output_type": "stream",
     "text": [
      "Read 1 spots for SRR6829581\n",
      "Written 1 spots for SRR6829581\n"
     ]
    },
    {
     "name": "stdout",
     "output_type": "stream",
     "text": [
      "4\n",
      "\n",
      "fastq-dump -X 1 -Z --split-spot SRR6829582| wc -l\n"
     ]
    },
    {
     "name": "stderr",
     "output_type": "stream",
     "text": [
      "Read 1 spots for SRR6829582\n",
      "Written 1 spots for SRR6829582\n"
     ]
    },
    {
     "name": "stdout",
     "output_type": "stream",
     "text": [
      "4\n",
      "\n",
      "fastq-dump -X 1 -Z --split-spot SRR6829583| wc -l\n"
     ]
    },
    {
     "name": "stderr",
     "output_type": "stream",
     "text": [
      "Read 1 spots for SRR6829583\n",
      "Written 1 spots for SRR6829583\n"
     ]
    },
    {
     "name": "stdout",
     "output_type": "stream",
     "text": [
      "4\n",
      "\n",
      "fastq-dump -X 1 -Z --split-spot SRR5683640| wc -l\n"
     ]
    },
    {
     "name": "stderr",
     "output_type": "stream",
     "text": [
      "Read 1 spots for SRR5683640\n",
      "Written 1 spots for SRR5683640\n"
     ]
    },
    {
     "name": "stdout",
     "output_type": "stream",
     "text": [
      "8\n",
      "\n",
      "fastq-dump -X 1 -Z --split-spot SRR5683641| wc -l\n"
     ]
    },
    {
     "name": "stderr",
     "output_type": "stream",
     "text": [
      "Read 1 spots for SRR5683641\n",
      "Written 1 spots for SRR5683641\n"
     ]
    },
    {
     "name": "stdout",
     "output_type": "stream",
     "text": [
      "8\n",
      "\n",
      "fastq-dump -X 1 -Z --split-spot SRR5683642| wc -l\n"
     ]
    },
    {
     "name": "stderr",
     "output_type": "stream",
     "text": [
      "Read 1 spots for SRR5683642\n",
      "Written 1 spots for SRR5683642\n"
     ]
    },
    {
     "name": "stdout",
     "output_type": "stream",
     "text": [
      "8\n",
      "\n",
      "fastq-dump -X 1 -Z --split-spot SRR13310027| wc -l\n"
     ]
    },
    {
     "name": "stderr",
     "output_type": "stream",
     "text": [
      "Read 1 spots for SRR13310027\n",
      "Written 1 spots for SRR13310027\n"
     ]
    },
    {
     "name": "stdout",
     "output_type": "stream",
     "text": [
      "4\n",
      "\n",
      "fastq-dump -X 1 -Z --split-spot SRR13310029| wc -l\n"
     ]
    },
    {
     "name": "stderr",
     "output_type": "stream",
     "text": [
      "Read 1 spots for SRR13310029\n",
      "Written 1 spots for SRR13310029\n"
     ]
    },
    {
     "name": "stdout",
     "output_type": "stream",
     "text": [
      "4\n",
      "\n",
      "fastq-dump -X 1 -Z --split-spot SRR13310030| wc -l\n"
     ]
    },
    {
     "name": "stderr",
     "output_type": "stream",
     "text": [
      "Read 1 spots for SRR13310030\n",
      "Written 1 spots for SRR13310030\n"
     ]
    },
    {
     "name": "stdout",
     "output_type": "stream",
     "text": [
      "4\n",
      "\n",
      "fastq-dump -X 1 -Z --split-spot SRR13310033| wc -l\n"
     ]
    },
    {
     "name": "stderr",
     "output_type": "stream",
     "text": [
      "Read 1 spots for SRR13310033\n",
      "Written 1 spots for SRR13310033\n"
     ]
    },
    {
     "name": "stdout",
     "output_type": "stream",
     "text": [
      "4\n",
      "\n",
      "fastq-dump -X 1 -Z --split-spot SRR13842739| wc -l\n"
     ]
    },
    {
     "name": "stderr",
     "output_type": "stream",
     "text": [
      "Read 1 spots for SRR13842739\n",
      "Written 1 spots for SRR13842739\n"
     ]
    },
    {
     "name": "stdout",
     "output_type": "stream",
     "text": [
      "8\n",
      "\n",
      "fastq-dump -X 1 -Z --split-spot SRR13842740| wc -l\n"
     ]
    },
    {
     "name": "stderr",
     "output_type": "stream",
     "text": [
      "Read 1 spots for SRR13842740\n",
      "Written 1 spots for SRR13842740\n"
     ]
    },
    {
     "name": "stdout",
     "output_type": "stream",
     "text": [
      "8\n",
      "\n",
      "fastq-dump -X 1 -Z --split-spot SRR13842741| wc -l\n"
     ]
    },
    {
     "name": "stderr",
     "output_type": "stream",
     "text": [
      "Read 1 spots for SRR13842741\n",
      "Written 1 spots for SRR13842741\n"
     ]
    },
    {
     "name": "stdout",
     "output_type": "stream",
     "text": [
      "8\n",
      "\n",
      "fastq-dump -X 1 -Z --split-spot SRR13842742| wc -l\n"
     ]
    },
    {
     "name": "stderr",
     "output_type": "stream",
     "text": [
      "Read 1 spots for SRR13842742\n",
      "Written 1 spots for SRR13842742\n"
     ]
    },
    {
     "name": "stdout",
     "output_type": "stream",
     "text": [
      "8\n",
      "\n",
      "fastq-dump -X 1 -Z --split-spot SRR13842743| wc -l\n"
     ]
    },
    {
     "name": "stderr",
     "output_type": "stream",
     "text": [
      "Read 1 spots for SRR13842743\n",
      "Written 1 spots for SRR13842743\n"
     ]
    },
    {
     "name": "stdout",
     "output_type": "stream",
     "text": [
      "8\n",
      "\n",
      "fastq-dump -X 1 -Z --split-spot SRR13842744| wc -l\n"
     ]
    },
    {
     "name": "stderr",
     "output_type": "stream",
     "text": [
      "Read 1 spots for SRR13842744\n",
      "Written 1 spots for SRR13842744\n"
     ]
    },
    {
     "name": "stdout",
     "output_type": "stream",
     "text": [
      "8\n",
      "\n",
      "fastq-dump -X 1 -Z --split-spot SRR13842745| wc -l\n"
     ]
    },
    {
     "name": "stderr",
     "output_type": "stream",
     "text": [
      "Read 1 spots for SRR13842745\n",
      "Written 1 spots for SRR13842745\n"
     ]
    },
    {
     "name": "stdout",
     "output_type": "stream",
     "text": [
      "8\n",
      "\n",
      "fastq-dump -X 1 -Z --split-spot SRR13842746| wc -l\n"
     ]
    },
    {
     "name": "stderr",
     "output_type": "stream",
     "text": [
      "Read 1 spots for SRR13842746\n",
      "Written 1 spots for SRR13842746\n"
     ]
    },
    {
     "name": "stdout",
     "output_type": "stream",
     "text": [
      "8\n",
      "\n",
      "fastq-dump -X 1 -Z --split-spot SRR13842747| wc -l\n"
     ]
    },
    {
     "name": "stderr",
     "output_type": "stream",
     "text": [
      "Read 1 spots for SRR13842747\n",
      "Written 1 spots for SRR13842747\n"
     ]
    },
    {
     "name": "stdout",
     "output_type": "stream",
     "text": [
      "8\n",
      "\n",
      "fastq-dump -X 1 -Z --split-spot SRR13842748| wc -l\n"
     ]
    },
    {
     "name": "stderr",
     "output_type": "stream",
     "text": [
      "Read 1 spots for SRR13842748\n",
      "Written 1 spots for SRR13842748\n"
     ]
    },
    {
     "name": "stdout",
     "output_type": "stream",
     "text": [
      "8\n",
      "\n",
      "fastq-dump -X 1 -Z --split-spot SRR13842749| wc -l\n"
     ]
    },
    {
     "name": "stderr",
     "output_type": "stream",
     "text": [
      "Read 1 spots for SRR13842749\n",
      "Written 1 spots for SRR13842749\n"
     ]
    },
    {
     "name": "stdout",
     "output_type": "stream",
     "text": [
      "8\n",
      "\n",
      "fastq-dump -X 1 -Z --split-spot SRR13842750| wc -l\n"
     ]
    },
    {
     "name": "stderr",
     "output_type": "stream",
     "text": [
      "Read 1 spots for SRR13842750\n",
      "Written 1 spots for SRR13842750\n"
     ]
    },
    {
     "name": "stdout",
     "output_type": "stream",
     "text": [
      "8\n",
      "\n",
      "fastq-dump -X 1 -Z --split-spot SRR13842751| wc -l\n"
     ]
    },
    {
     "name": "stderr",
     "output_type": "stream",
     "text": [
      "Read 1 spots for SRR13842751\n",
      "Written 1 spots for SRR13842751\n"
     ]
    },
    {
     "name": "stdout",
     "output_type": "stream",
     "text": [
      "8\n",
      "\n",
      "fastq-dump -X 1 -Z --split-spot SRR13842752| wc -l\n"
     ]
    },
    {
     "name": "stderr",
     "output_type": "stream",
     "text": [
      "Read 1 spots for SRR13842752\n",
      "Written 1 spots for SRR13842752\n"
     ]
    },
    {
     "name": "stdout",
     "output_type": "stream",
     "text": [
      "8\n",
      "\n",
      "fastq-dump -X 1 -Z --split-spot SRR13842753| wc -l\n"
     ]
    },
    {
     "name": "stderr",
     "output_type": "stream",
     "text": [
      "Read 1 spots for SRR13842753\n",
      "Written 1 spots for SRR13842753\n"
     ]
    },
    {
     "name": "stdout",
     "output_type": "stream",
     "text": [
      "8\n",
      "\n",
      "fastq-dump -X 1 -Z --split-spot SRR13842754| wc -l\n"
     ]
    },
    {
     "name": "stderr",
     "output_type": "stream",
     "text": [
      "Read 1 spots for SRR13842754\n",
      "Written 1 spots for SRR13842754\n"
     ]
    },
    {
     "name": "stdout",
     "output_type": "stream",
     "text": [
      "8\n",
      "\n",
      "fastq-dump -X 1 -Z --split-spot SRR13842755| wc -l\n"
     ]
    },
    {
     "name": "stderr",
     "output_type": "stream",
     "text": [
      "Read 1 spots for SRR13842755\n",
      "Written 1 spots for SRR13842755\n"
     ]
    },
    {
     "name": "stdout",
     "output_type": "stream",
     "text": [
      "8\n",
      "\n",
      "fastq-dump -X 1 -Z --split-spot SRR13842756| wc -l\n"
     ]
    },
    {
     "name": "stderr",
     "output_type": "stream",
     "text": [
      "Read 1 spots for SRR13842756\n",
      "Written 1 spots for SRR13842756\n"
     ]
    },
    {
     "name": "stdout",
     "output_type": "stream",
     "text": [
      "8\n",
      "\n",
      "fastq-dump -X 1 -Z --split-spot SRR13842757| wc -l\n"
     ]
    },
    {
     "name": "stderr",
     "output_type": "stream",
     "text": [
      "Read 1 spots for SRR13842757\n",
      "Written 1 spots for SRR13842757\n"
     ]
    },
    {
     "name": "stdout",
     "output_type": "stream",
     "text": [
      "8\n",
      "\n",
      "fastq-dump -X 1 -Z --split-spot SRR13842758| wc -l\n"
     ]
    },
    {
     "name": "stderr",
     "output_type": "stream",
     "text": [
      "Read 1 spots for SRR13842758\n",
      "Written 1 spots for SRR13842758\n"
     ]
    },
    {
     "name": "stdout",
     "output_type": "stream",
     "text": [
      "8\n",
      "\n",
      "fastq-dump -X 1 -Z --split-spot SRR13884080| wc -l\n"
     ]
    },
    {
     "name": "stderr",
     "output_type": "stream",
     "text": [
      "Read 1 spots for SRR13884080\n",
      "Written 1 spots for SRR13884080\n"
     ]
    },
    {
     "name": "stdout",
     "output_type": "stream",
     "text": [
      "8\n",
      "\n",
      "fastq-dump -X 1 -Z --split-spot SRR13884092| wc -l\n"
     ]
    },
    {
     "name": "stderr",
     "output_type": "stream",
     "text": [
      "Read 1 spots for SRR13884092\n",
      "Written 1 spots for SRR13884092\n"
     ]
    },
    {
     "name": "stdout",
     "output_type": "stream",
     "text": [
      "8\n",
      "\n",
      "fastq-dump -X 1 -Z --split-spot SRR13884104| wc -l\n"
     ]
    },
    {
     "name": "stderr",
     "output_type": "stream",
     "text": [
      "Read 1 spots for SRR13884104\n",
      "Written 1 spots for SRR13884104\n"
     ]
    },
    {
     "name": "stdout",
     "output_type": "stream",
     "text": [
      "8\n",
      "\n",
      "fastq-dump -X 1 -Z --split-spot SRR6788829| wc -l\n"
     ]
    },
    {
     "name": "stderr",
     "output_type": "stream",
     "text": [
      "Read 1 spots for SRR6788829\n",
      "Written 1 spots for SRR6788829\n"
     ]
    },
    {
     "name": "stdout",
     "output_type": "stream",
     "text": [
      "4\n",
      "\n",
      "fastq-dump -X 1 -Z --split-spot SRR6788830| wc -l\n"
     ]
    },
    {
     "name": "stderr",
     "output_type": "stream",
     "text": [
      "Read 1 spots for SRR6788830\n",
      "Written 1 spots for SRR6788830\n"
     ]
    },
    {
     "name": "stdout",
     "output_type": "stream",
     "text": [
      "4\n",
      "\n",
      "fastq-dump -X 1 -Z --split-spot SRR6788831| wc -l\n"
     ]
    },
    {
     "name": "stderr",
     "output_type": "stream",
     "text": [
      "Read 1 spots for SRR6788831\n",
      "Written 1 spots for SRR6788831\n"
     ]
    },
    {
     "name": "stdout",
     "output_type": "stream",
     "text": [
      "4\n",
      "\n",
      "fastq-dump -X 1 -Z --split-spot SRR6788832| wc -l\n"
     ]
    },
    {
     "name": "stderr",
     "output_type": "stream",
     "text": [
      "Read 1 spots for SRR6788832\n",
      "Written 1 spots for SRR6788832\n"
     ]
    },
    {
     "name": "stdout",
     "output_type": "stream",
     "text": [
      "4\n",
      "\n",
      "fastq-dump -X 1 -Z --split-spot SRR6793095| wc -l\n"
     ]
    },
    {
     "name": "stderr",
     "output_type": "stream",
     "text": [
      "Read 1 spots for SRR6793095\n",
      "Written 1 spots for SRR6793095\n"
     ]
    },
    {
     "name": "stdout",
     "output_type": "stream",
     "text": [
      "4\n",
      "\n",
      "fastq-dump -X 1 -Z --split-spot SRR6793096| wc -l\n"
     ]
    },
    {
     "name": "stderr",
     "output_type": "stream",
     "text": [
      "Read 1 spots for SRR6793096\n",
      "Written 1 spots for SRR6793096\n"
     ]
    },
    {
     "name": "stdout",
     "output_type": "stream",
     "text": [
      "4\n",
      "\n",
      "fastq-dump -X 1 -Z --split-spot SRR6793097| wc -l\n"
     ]
    },
    {
     "name": "stderr",
     "output_type": "stream",
     "text": [
      "Read 1 spots for SRR6793097\n",
      "Written 1 spots for SRR6793097\n"
     ]
    },
    {
     "name": "stdout",
     "output_type": "stream",
     "text": [
      "4\n",
      "\n",
      "fastq-dump -X 1 -Z --split-spot SRR6793098| wc -l\n"
     ]
    },
    {
     "name": "stderr",
     "output_type": "stream",
     "text": [
      "Read 1 spots for SRR6793098\n",
      "Written 1 spots for SRR6793098\n"
     ]
    },
    {
     "name": "stdout",
     "output_type": "stream",
     "text": [
      "4\n",
      "\n",
      "fastq-dump -X 1 -Z --split-spot SRR6793099| wc -l\n"
     ]
    },
    {
     "name": "stderr",
     "output_type": "stream",
     "text": [
      "Read 1 spots for SRR6793099\n",
      "Written 1 spots for SRR6793099\n"
     ]
    },
    {
     "name": "stdout",
     "output_type": "stream",
     "text": [
      "4\n",
      "\n",
      "fastq-dump -X 1 -Z --split-spot SRR6793100| wc -l\n"
     ]
    },
    {
     "name": "stderr",
     "output_type": "stream",
     "text": [
      "Read 1 spots for SRR6793100\n",
      "Written 1 spots for SRR6793100\n"
     ]
    },
    {
     "name": "stdout",
     "output_type": "stream",
     "text": [
      "4\n",
      "\n",
      "fastq-dump -X 1 -Z --split-spot SRR6793104| wc -l\n"
     ]
    },
    {
     "name": "stderr",
     "output_type": "stream",
     "text": [
      "Read 1 spots for SRR6793104\n",
      "Written 1 spots for SRR6793104\n"
     ]
    },
    {
     "name": "stdout",
     "output_type": "stream",
     "text": [
      "4\n",
      "\n",
      "fastq-dump -X 1 -Z --split-spot SRR6793106| wc -l\n"
     ]
    },
    {
     "name": "stderr",
     "output_type": "stream",
     "text": [
      "Read 1 spots for SRR6793106\n",
      "Written 1 spots for SRR6793106\n"
     ]
    },
    {
     "name": "stdout",
     "output_type": "stream",
     "text": [
      "4\n",
      "\n",
      "fastq-dump -X 1 -Z --split-spot SRR6793108| wc -l\n"
     ]
    },
    {
     "name": "stderr",
     "output_type": "stream",
     "text": [
      "Read 1 spots for SRR6793108\n",
      "Written 1 spots for SRR6793108\n"
     ]
    },
    {
     "name": "stdout",
     "output_type": "stream",
     "text": [
      "4\n",
      "\n",
      "fastq-dump -X 1 -Z --split-spot SRR6793128| wc -l\n"
     ]
    },
    {
     "name": "stderr",
     "output_type": "stream",
     "text": [
      "Read 1 spots for SRR6793128\n",
      "Written 1 spots for SRR6793128\n"
     ]
    },
    {
     "name": "stdout",
     "output_type": "stream",
     "text": [
      "4\n",
      "\n",
      "fastq-dump -X 1 -Z --split-spot SRR6793129| wc -l\n"
     ]
    },
    {
     "name": "stderr",
     "output_type": "stream",
     "text": [
      "Read 1 spots for SRR6793129\n",
      "Written 1 spots for SRR6793129\n"
     ]
    },
    {
     "name": "stdout",
     "output_type": "stream",
     "text": [
      "4\n",
      "\n",
      "fastq-dump -X 1 -Z --split-spot SRR6793130| wc -l\n"
     ]
    },
    {
     "name": "stderr",
     "output_type": "stream",
     "text": [
      "Read 1 spots for SRR6793130\n",
      "Written 1 spots for SRR6793130\n"
     ]
    },
    {
     "name": "stdout",
     "output_type": "stream",
     "text": [
      "4\n",
      "\n",
      "fastq-dump -X 1 -Z --split-spot SRR6793131| wc -l\n"
     ]
    },
    {
     "name": "stderr",
     "output_type": "stream",
     "text": [
      "Read 1 spots for SRR6793131\n",
      "Written 1 spots for SRR6793131\n"
     ]
    },
    {
     "name": "stdout",
     "output_type": "stream",
     "text": [
      "4\n",
      "\n",
      "fastq-dump -X 1 -Z --split-spot SRR6793132| wc -l\n"
     ]
    },
    {
     "name": "stderr",
     "output_type": "stream",
     "text": [
      "Read 1 spots for SRR6793132\n",
      "Written 1 spots for SRR6793132\n"
     ]
    },
    {
     "name": "stdout",
     "output_type": "stream",
     "text": [
      "4\n",
      "\n",
      "fastq-dump -X 1 -Z --split-spot SRR6793133| wc -l\n",
      "4\n",
      "\n"
     ]
    },
    {
     "name": "stderr",
     "output_type": "stream",
     "text": [
      "Read 1 spots for SRR6793133\n",
      "Written 1 spots for SRR6793133\n"
     ]
    }
   ],
   "source": [
    "for index in df.index:\n",
    "    num=df.loc[index,'SRR']\n",
    "    numLines=f'fastq-dump -X 1 -Z --split-spot {num}| wc -l'\n",
    "    print(numLines)\n",
    "    f=os.popen(numLines)\n",
    "    f=f.read()\n",
    "    print(f)\n",
    "    if(f=='4\\n'):\n",
    "        df.loc[index,'end']='single_end'\n",
    "    else:\n",
    "        df.loc[index,'end']='paired_end'"
   ]
  },
  {
   "cell_type": "code",
   "execution_count": 28,
   "id": "63bcdec7",
   "metadata": {
    "scrolled": true
   },
   "outputs": [
    {
     "data": {
      "text/html": [
       "<div>\n",
       "<style scoped>\n",
       "    .dataframe tbody tr th:only-of-type {\n",
       "        vertical-align: middle;\n",
       "    }\n",
       "\n",
       "    .dataframe tbody tr th {\n",
       "        vertical-align: top;\n",
       "    }\n",
       "\n",
       "    .dataframe thead th {\n",
       "        text-align: right;\n",
       "    }\n",
       "</style>\n",
       "<table border=\"1\" class=\"dataframe\">\n",
       "  <thead>\n",
       "    <tr style=\"text-align: right;\">\n",
       "      <th></th>\n",
       "      <th>strain</th>\n",
       "      <th>tissue</th>\n",
       "      <th>age</th>\n",
       "      <th>age(month)</th>\n",
       "      <th>Sex</th>\n",
       "      <th>genotype</th>\n",
       "      <th>series_id</th>\n",
       "      <th>relation</th>\n",
       "      <th>molecule_ch1</th>\n",
       "      <th>instrument_model</th>\n",
       "      <th>SRA</th>\n",
       "      <th>SRR</th>\n",
       "      <th>end</th>\n",
       "    </tr>\n",
       "  </thead>\n",
       "  <tbody>\n",
       "    <tr>\n",
       "      <th>SRR3734805</th>\n",
       "      <td>strain: C57BL/6J</td>\n",
       "      <td>tissue: Hippocampus</td>\n",
       "      <td>age: 1 Month</td>\n",
       "      <td>1</td>\n",
       "      <td>Sex: Male</td>\n",
       "      <td>NaN</td>\n",
       "      <td>GSE83931</td>\n",
       "      <td>BioSample: https://www.ncbi.nlm.nih.gov/biosam...</td>\n",
       "      <td>total RNA</td>\n",
       "      <td>Illumina HiSeq 2500</td>\n",
       "      <td>SRX1890422</td>\n",
       "      <td>SRR3734805</td>\n",
       "      <td>single_end</td>\n",
       "    </tr>\n",
       "    <tr>\n",
       "      <th>SRR3734804</th>\n",
       "      <td>strain: C57BL/6J</td>\n",
       "      <td>tissue: Hippocampus</td>\n",
       "      <td>age: 1 Month</td>\n",
       "      <td>1</td>\n",
       "      <td>Sex: Male</td>\n",
       "      <td>NaN</td>\n",
       "      <td>GSE83931</td>\n",
       "      <td>BioSample: https://www.ncbi.nlm.nih.gov/biosam...</td>\n",
       "      <td>total RNA</td>\n",
       "      <td>Illumina HiSeq 2500</td>\n",
       "      <td>SRX1890421</td>\n",
       "      <td>SRR3734804</td>\n",
       "      <td>single_end</td>\n",
       "    </tr>\n",
       "    <tr>\n",
       "      <th>SRR3734797</th>\n",
       "      <td>strain: C57BL/6J</td>\n",
       "      <td>tissue: Hippocampus</td>\n",
       "      <td>age: 1 Month</td>\n",
       "      <td>1</td>\n",
       "      <td>Sex: Female</td>\n",
       "      <td>NaN</td>\n",
       "      <td>GSE83931</td>\n",
       "      <td>BioSample: https://www.ncbi.nlm.nih.gov/biosam...</td>\n",
       "      <td>total RNA</td>\n",
       "      <td>Illumina HiSeq 2500</td>\n",
       "      <td>SRX1890414</td>\n",
       "      <td>SRR3734797</td>\n",
       "      <td>single_end</td>\n",
       "    </tr>\n",
       "    <tr>\n",
       "      <th>SRR3734799</th>\n",
       "      <td>strain: C57BL/6J</td>\n",
       "      <td>tissue: Hippocampus</td>\n",
       "      <td>age: 1 Month</td>\n",
       "      <td>1</td>\n",
       "      <td>Sex: Female</td>\n",
       "      <td>NaN</td>\n",
       "      <td>GSE83931</td>\n",
       "      <td>BioSample: https://www.ncbi.nlm.nih.gov/biosam...</td>\n",
       "      <td>total RNA</td>\n",
       "      <td>Illumina HiSeq 2500</td>\n",
       "      <td>SRX1890416</td>\n",
       "      <td>SRR3734799</td>\n",
       "      <td>single_end</td>\n",
       "    </tr>\n",
       "    <tr>\n",
       "      <th>SRR3734796</th>\n",
       "      <td>strain: C57BL/6J</td>\n",
       "      <td>tissue: Hippocampus</td>\n",
       "      <td>age: 1 Month</td>\n",
       "      <td>1</td>\n",
       "      <td>Sex: Female</td>\n",
       "      <td>NaN</td>\n",
       "      <td>GSE83931</td>\n",
       "      <td>BioSample: https://www.ncbi.nlm.nih.gov/biosam...</td>\n",
       "      <td>total RNA</td>\n",
       "      <td>Illumina HiSeq 2500</td>\n",
       "      <td>SRX1890413</td>\n",
       "      <td>SRR3734796</td>\n",
       "      <td>single_end</td>\n",
       "    </tr>\n",
       "    <tr>\n",
       "      <th>...</th>\n",
       "      <td>...</td>\n",
       "      <td>...</td>\n",
       "      <td>...</td>\n",
       "      <td>...</td>\n",
       "      <td>...</td>\n",
       "      <td>...</td>\n",
       "      <td>...</td>\n",
       "      <td>...</td>\n",
       "      <td>...</td>\n",
       "      <td>...</td>\n",
       "      <td>...</td>\n",
       "      <td>...</td>\n",
       "      <td>...</td>\n",
       "    </tr>\n",
       "    <tr>\n",
       "      <th>SRR6793129</th>\n",
       "      <td>strain: C57BL/6</td>\n",
       "      <td>tissue: brain, hippocampus</td>\n",
       "      <td>age: 24 months</td>\n",
       "      <td>24</td>\n",
       "      <td>Sex: male</td>\n",
       "      <td>perturbation: none</td>\n",
       "      <td>GSE111270</td>\n",
       "      <td>['BioSample: https://www.ncbi.nlm.nih.gov/bios...</td>\n",
       "      <td>['total RNA']</td>\n",
       "      <td>['Illumina HiSeq 2500']</td>\n",
       "      <td>SRX3752161</td>\n",
       "      <td>SRR6793129</td>\n",
       "      <td>single_end</td>\n",
       "    </tr>\n",
       "    <tr>\n",
       "      <th>SRR6793130</th>\n",
       "      <td>strain: C57BL/6</td>\n",
       "      <td>tissue: brain, hippocampus</td>\n",
       "      <td>age: 24 months</td>\n",
       "      <td>24</td>\n",
       "      <td>Sex: male</td>\n",
       "      <td>perturbation: none</td>\n",
       "      <td>GSE111270</td>\n",
       "      <td>['BioSample: https://www.ncbi.nlm.nih.gov/bios...</td>\n",
       "      <td>['total RNA']</td>\n",
       "      <td>['Illumina HiSeq 2500']</td>\n",
       "      <td>SRX3752162</td>\n",
       "      <td>SRR6793130</td>\n",
       "      <td>single_end</td>\n",
       "    </tr>\n",
       "    <tr>\n",
       "      <th>SRR6793131</th>\n",
       "      <td>strain: C57BL/6</td>\n",
       "      <td>tissue: brain, hippocampus</td>\n",
       "      <td>age: 24 months</td>\n",
       "      <td>24</td>\n",
       "      <td>Sex: male</td>\n",
       "      <td>perturbation: none</td>\n",
       "      <td>GSE111270</td>\n",
       "      <td>['BioSample: https://www.ncbi.nlm.nih.gov/bios...</td>\n",
       "      <td>['total RNA']</td>\n",
       "      <td>['Illumina HiSeq 2500']</td>\n",
       "      <td>SRX3752163</td>\n",
       "      <td>SRR6793131</td>\n",
       "      <td>single_end</td>\n",
       "    </tr>\n",
       "    <tr>\n",
       "      <th>SRR6793132</th>\n",
       "      <td>strain: C57BL/6</td>\n",
       "      <td>tissue: brain, hippocampus</td>\n",
       "      <td>age: 24 months</td>\n",
       "      <td>24</td>\n",
       "      <td>Sex: male</td>\n",
       "      <td>perturbation: none</td>\n",
       "      <td>GSE111270</td>\n",
       "      <td>['BioSample: https://www.ncbi.nlm.nih.gov/bios...</td>\n",
       "      <td>['total RNA']</td>\n",
       "      <td>['Illumina HiSeq 2500']</td>\n",
       "      <td>SRX3752164</td>\n",
       "      <td>SRR6793132</td>\n",
       "      <td>single_end</td>\n",
       "    </tr>\n",
       "    <tr>\n",
       "      <th>SRR6793133</th>\n",
       "      <td>strain: C57BL/6</td>\n",
       "      <td>tissue: brain, hippocampus</td>\n",
       "      <td>age: 24 months</td>\n",
       "      <td>24</td>\n",
       "      <td>Sex: male</td>\n",
       "      <td>perturbation: none</td>\n",
       "      <td>GSE111270</td>\n",
       "      <td>['BioSample: https://www.ncbi.nlm.nih.gov/bios...</td>\n",
       "      <td>['total RNA']</td>\n",
       "      <td>['Illumina HiSeq 2500']</td>\n",
       "      <td>SRX3752165</td>\n",
       "      <td>SRR6793133</td>\n",
       "      <td>single_end</td>\n",
       "    </tr>\n",
       "  </tbody>\n",
       "</table>\n",
       "<p>294 rows × 13 columns</p>\n",
       "</div>"
      ],
      "text/plain": [
       "                      strain                      tissue             age  \\\n",
       "SRR3734805  strain: C57BL/6J         tissue: Hippocampus    age: 1 Month   \n",
       "SRR3734804  strain: C57BL/6J         tissue: Hippocampus    age: 1 Month   \n",
       "SRR3734797  strain: C57BL/6J         tissue: Hippocampus    age: 1 Month   \n",
       "SRR3734799  strain: C57BL/6J         tissue: Hippocampus    age: 1 Month   \n",
       "SRR3734796  strain: C57BL/6J         tissue: Hippocampus    age: 1 Month   \n",
       "...                      ...                         ...             ...   \n",
       "SRR6793129   strain: C57BL/6  tissue: brain, hippocampus  age: 24 months   \n",
       "SRR6793130   strain: C57BL/6  tissue: brain, hippocampus  age: 24 months   \n",
       "SRR6793131   strain: C57BL/6  tissue: brain, hippocampus  age: 24 months   \n",
       "SRR6793132   strain: C57BL/6  tissue: brain, hippocampus  age: 24 months   \n",
       "SRR6793133   strain: C57BL/6  tissue: brain, hippocampus  age: 24 months   \n",
       "\n",
       "           age(month)          Sex            genotype  series_id  \\\n",
       "SRR3734805          1    Sex: Male                 NaN   GSE83931   \n",
       "SRR3734804          1    Sex: Male                 NaN   GSE83931   \n",
       "SRR3734797          1  Sex: Female                 NaN   GSE83931   \n",
       "SRR3734799          1  Sex: Female                 NaN   GSE83931   \n",
       "SRR3734796          1  Sex: Female                 NaN   GSE83931   \n",
       "...               ...          ...                 ...        ...   \n",
       "SRR6793129         24    Sex: male  perturbation: none  GSE111270   \n",
       "SRR6793130         24    Sex: male  perturbation: none  GSE111270   \n",
       "SRR6793131         24    Sex: male  perturbation: none  GSE111270   \n",
       "SRR6793132         24    Sex: male  perturbation: none  GSE111270   \n",
       "SRR6793133         24    Sex: male  perturbation: none  GSE111270   \n",
       "\n",
       "                                                     relation   molecule_ch1  \\\n",
       "SRR3734805  BioSample: https://www.ncbi.nlm.nih.gov/biosam...      total RNA   \n",
       "SRR3734804  BioSample: https://www.ncbi.nlm.nih.gov/biosam...      total RNA   \n",
       "SRR3734797  BioSample: https://www.ncbi.nlm.nih.gov/biosam...      total RNA   \n",
       "SRR3734799  BioSample: https://www.ncbi.nlm.nih.gov/biosam...      total RNA   \n",
       "SRR3734796  BioSample: https://www.ncbi.nlm.nih.gov/biosam...      total RNA   \n",
       "...                                                       ...            ...   \n",
       "SRR6793129  ['BioSample: https://www.ncbi.nlm.nih.gov/bios...  ['total RNA']   \n",
       "SRR6793130  ['BioSample: https://www.ncbi.nlm.nih.gov/bios...  ['total RNA']   \n",
       "SRR6793131  ['BioSample: https://www.ncbi.nlm.nih.gov/bios...  ['total RNA']   \n",
       "SRR6793132  ['BioSample: https://www.ncbi.nlm.nih.gov/bios...  ['total RNA']   \n",
       "SRR6793133  ['BioSample: https://www.ncbi.nlm.nih.gov/bios...  ['total RNA']   \n",
       "\n",
       "                   instrument_model         SRA         SRR         end  \n",
       "SRR3734805      Illumina HiSeq 2500  SRX1890422  SRR3734805  single_end  \n",
       "SRR3734804      Illumina HiSeq 2500  SRX1890421  SRR3734804  single_end  \n",
       "SRR3734797      Illumina HiSeq 2500  SRX1890414  SRR3734797  single_end  \n",
       "SRR3734799      Illumina HiSeq 2500  SRX1890416  SRR3734799  single_end  \n",
       "SRR3734796      Illumina HiSeq 2500  SRX1890413  SRR3734796  single_end  \n",
       "...                             ...         ...         ...         ...  \n",
       "SRR6793129  ['Illumina HiSeq 2500']  SRX3752161  SRR6793129  single_end  \n",
       "SRR6793130  ['Illumina HiSeq 2500']  SRX3752162  SRR6793130  single_end  \n",
       "SRR6793131  ['Illumina HiSeq 2500']  SRX3752163  SRR6793131  single_end  \n",
       "SRR6793132  ['Illumina HiSeq 2500']  SRX3752164  SRR6793132  single_end  \n",
       "SRR6793133  ['Illumina HiSeq 2500']  SRX3752165  SRR6793133  single_end  \n",
       "\n",
       "[294 rows x 13 columns]"
      ]
     },
     "execution_count": 28,
     "metadata": {},
     "output_type": "execute_result"
    }
   ],
   "source": [
    "df"
   ]
  },
  {
   "cell_type": "code",
   "execution_count": 43,
   "id": "6feace00",
   "metadata": {},
   "outputs": [],
   "source": [
    "df.to_csv(\"hypocampus_final.csv\",sep=';')"
   ]
  },
  {
   "cell_type": "code",
   "execution_count": 54,
   "id": "2b273752",
   "metadata": {},
   "outputs": [],
   "source": [
    "df = pd.read_csv (\"hypocampus_final.csv\", sep=';',index_col=\"SRA\", header=0)"
   ]
  },
  {
   "cell_type": "code",
   "execution_count": 55,
   "id": "728e6ccf",
   "metadata": {
    "scrolled": true
   },
   "outputs": [
    {
     "data": {
      "text/html": [
       "<div>\n",
       "<style scoped>\n",
       "    .dataframe tbody tr th:only-of-type {\n",
       "        vertical-align: middle;\n",
       "    }\n",
       "\n",
       "    .dataframe tbody tr th {\n",
       "        vertical-align: top;\n",
       "    }\n",
       "\n",
       "    .dataframe thead th {\n",
       "        text-align: right;\n",
       "    }\n",
       "</style>\n",
       "<table border=\"1\" class=\"dataframe\">\n",
       "  <thead>\n",
       "    <tr style=\"text-align: right;\">\n",
       "      <th></th>\n",
       "      <th>Unnamed: 0</th>\n",
       "      <th>strain</th>\n",
       "      <th>tissue</th>\n",
       "      <th>age</th>\n",
       "      <th>age(month)</th>\n",
       "      <th>Sex</th>\n",
       "      <th>genotype</th>\n",
       "      <th>series_id</th>\n",
       "      <th>relation</th>\n",
       "      <th>molecule_ch1</th>\n",
       "      <th>instrument_model</th>\n",
       "      <th>SRR</th>\n",
       "      <th>end</th>\n",
       "      <th>age_class</th>\n",
       "    </tr>\n",
       "    <tr>\n",
       "      <th>SRA</th>\n",
       "      <th></th>\n",
       "      <th></th>\n",
       "      <th></th>\n",
       "      <th></th>\n",
       "      <th></th>\n",
       "      <th></th>\n",
       "      <th></th>\n",
       "      <th></th>\n",
       "      <th></th>\n",
       "      <th></th>\n",
       "      <th></th>\n",
       "      <th></th>\n",
       "      <th></th>\n",
       "      <th></th>\n",
       "    </tr>\n",
       "  </thead>\n",
       "  <tbody>\n",
       "    <tr>\n",
       "      <th>SRX1890422</th>\n",
       "      <td>SRR3734805</td>\n",
       "      <td>strain: C57BL/6J</td>\n",
       "      <td>tissue: Hippocampus</td>\n",
       "      <td>age: 1 Month</td>\n",
       "      <td>1</td>\n",
       "      <td>sex: male</td>\n",
       "      <td>NaN</td>\n",
       "      <td>GSE83931</td>\n",
       "      <td>BioSample: https://www.ncbi.nlm.nih.gov/biosam...</td>\n",
       "      <td>total RNA</td>\n",
       "      <td>Illumina HiSeq 2500</td>\n",
       "      <td>SRR3734805</td>\n",
       "      <td>single_end</td>\n",
       "      <td>class1</td>\n",
       "    </tr>\n",
       "    <tr>\n",
       "      <th>SRX1890421</th>\n",
       "      <td>SRR3734804</td>\n",
       "      <td>strain: C57BL/6J</td>\n",
       "      <td>tissue: Hippocampus</td>\n",
       "      <td>age: 1 Month</td>\n",
       "      <td>1</td>\n",
       "      <td>sex: male</td>\n",
       "      <td>NaN</td>\n",
       "      <td>GSE83931</td>\n",
       "      <td>BioSample: https://www.ncbi.nlm.nih.gov/biosam...</td>\n",
       "      <td>total RNA</td>\n",
       "      <td>Illumina HiSeq 2500</td>\n",
       "      <td>SRR3734804</td>\n",
       "      <td>single_end</td>\n",
       "      <td>class1</td>\n",
       "    </tr>\n",
       "    <tr>\n",
       "      <th>SRX1890414</th>\n",
       "      <td>SRR3734797</td>\n",
       "      <td>strain: C57BL/6J</td>\n",
       "      <td>tissue: Hippocampus</td>\n",
       "      <td>age: 1 Month</td>\n",
       "      <td>1</td>\n",
       "      <td>sex: female</td>\n",
       "      <td>NaN</td>\n",
       "      <td>GSE83931</td>\n",
       "      <td>BioSample: https://www.ncbi.nlm.nih.gov/biosam...</td>\n",
       "      <td>total RNA</td>\n",
       "      <td>Illumina HiSeq 2500</td>\n",
       "      <td>SRR3734797</td>\n",
       "      <td>single_end</td>\n",
       "      <td>class1</td>\n",
       "    </tr>\n",
       "    <tr>\n",
       "      <th>SRX1890416</th>\n",
       "      <td>SRR3734799</td>\n",
       "      <td>strain: C57BL/6J</td>\n",
       "      <td>tissue: Hippocampus</td>\n",
       "      <td>age: 1 Month</td>\n",
       "      <td>1</td>\n",
       "      <td>sex: female</td>\n",
       "      <td>NaN</td>\n",
       "      <td>GSE83931</td>\n",
       "      <td>BioSample: https://www.ncbi.nlm.nih.gov/biosam...</td>\n",
       "      <td>total RNA</td>\n",
       "      <td>Illumina HiSeq 2500</td>\n",
       "      <td>SRR3734799</td>\n",
       "      <td>single_end</td>\n",
       "      <td>class1</td>\n",
       "    </tr>\n",
       "    <tr>\n",
       "      <th>SRX1890413</th>\n",
       "      <td>SRR3734796</td>\n",
       "      <td>strain: C57BL/6J</td>\n",
       "      <td>tissue: Hippocampus</td>\n",
       "      <td>age: 1 Month</td>\n",
       "      <td>1</td>\n",
       "      <td>sex: female</td>\n",
       "      <td>NaN</td>\n",
       "      <td>GSE83931</td>\n",
       "      <td>BioSample: https://www.ncbi.nlm.nih.gov/biosam...</td>\n",
       "      <td>total RNA</td>\n",
       "      <td>Illumina HiSeq 2500</td>\n",
       "      <td>SRR3734796</td>\n",
       "      <td>single_end</td>\n",
       "      <td>class1</td>\n",
       "    </tr>\n",
       "    <tr>\n",
       "      <th>...</th>\n",
       "      <td>...</td>\n",
       "      <td>...</td>\n",
       "      <td>...</td>\n",
       "      <td>...</td>\n",
       "      <td>...</td>\n",
       "      <td>...</td>\n",
       "      <td>...</td>\n",
       "      <td>...</td>\n",
       "      <td>...</td>\n",
       "      <td>...</td>\n",
       "      <td>...</td>\n",
       "      <td>...</td>\n",
       "      <td>...</td>\n",
       "      <td>...</td>\n",
       "    </tr>\n",
       "    <tr>\n",
       "      <th>SRX3752161</th>\n",
       "      <td>SRR6793129</td>\n",
       "      <td>strain: C57BL/6</td>\n",
       "      <td>tissue: brain, hippocampus</td>\n",
       "      <td>age: 24 months</td>\n",
       "      <td>24</td>\n",
       "      <td>Sex: male</td>\n",
       "      <td>perturbation: none</td>\n",
       "      <td>GSE111270</td>\n",
       "      <td>['BioSample: https://www.ncbi.nlm.nih.gov/bios...</td>\n",
       "      <td>['total RNA']</td>\n",
       "      <td>['Illumina HiSeq 2500']</td>\n",
       "      <td>SRR6793129</td>\n",
       "      <td>single_end</td>\n",
       "      <td>class4</td>\n",
       "    </tr>\n",
       "    <tr>\n",
       "      <th>SRX3752162</th>\n",
       "      <td>SRR6793130</td>\n",
       "      <td>strain: C57BL/6</td>\n",
       "      <td>tissue: brain, hippocampus</td>\n",
       "      <td>age: 24 months</td>\n",
       "      <td>24</td>\n",
       "      <td>Sex: male</td>\n",
       "      <td>perturbation: none</td>\n",
       "      <td>GSE111270</td>\n",
       "      <td>['BioSample: https://www.ncbi.nlm.nih.gov/bios...</td>\n",
       "      <td>['total RNA']</td>\n",
       "      <td>['Illumina HiSeq 2500']</td>\n",
       "      <td>SRR6793130</td>\n",
       "      <td>single_end</td>\n",
       "      <td>class4</td>\n",
       "    </tr>\n",
       "    <tr>\n",
       "      <th>SRX3752163</th>\n",
       "      <td>SRR6793131</td>\n",
       "      <td>strain: C57BL/6</td>\n",
       "      <td>tissue: brain, hippocampus</td>\n",
       "      <td>age: 24 months</td>\n",
       "      <td>24</td>\n",
       "      <td>Sex: male</td>\n",
       "      <td>perturbation: none</td>\n",
       "      <td>GSE111270</td>\n",
       "      <td>['BioSample: https://www.ncbi.nlm.nih.gov/bios...</td>\n",
       "      <td>['total RNA']</td>\n",
       "      <td>['Illumina HiSeq 2500']</td>\n",
       "      <td>SRR6793131</td>\n",
       "      <td>single_end</td>\n",
       "      <td>class4</td>\n",
       "    </tr>\n",
       "    <tr>\n",
       "      <th>SRX3752164</th>\n",
       "      <td>SRR6793132</td>\n",
       "      <td>strain: C57BL/6</td>\n",
       "      <td>tissue: brain, hippocampus</td>\n",
       "      <td>age: 24 months</td>\n",
       "      <td>24</td>\n",
       "      <td>Sex: male</td>\n",
       "      <td>perturbation: none</td>\n",
       "      <td>GSE111270</td>\n",
       "      <td>['BioSample: https://www.ncbi.nlm.nih.gov/bios...</td>\n",
       "      <td>['total RNA']</td>\n",
       "      <td>['Illumina HiSeq 2500']</td>\n",
       "      <td>SRR6793132</td>\n",
       "      <td>single_end</td>\n",
       "      <td>class4</td>\n",
       "    </tr>\n",
       "    <tr>\n",
       "      <th>SRX3752165</th>\n",
       "      <td>SRR6793133</td>\n",
       "      <td>strain: C57BL/6</td>\n",
       "      <td>tissue: brain, hippocampus</td>\n",
       "      <td>age: 24 months</td>\n",
       "      <td>24</td>\n",
       "      <td>Sex: male</td>\n",
       "      <td>perturbation: none</td>\n",
       "      <td>GSE111270</td>\n",
       "      <td>['BioSample: https://www.ncbi.nlm.nih.gov/bios...</td>\n",
       "      <td>['total RNA']</td>\n",
       "      <td>['Illumina HiSeq 2500']</td>\n",
       "      <td>SRR6793133</td>\n",
       "      <td>single_end</td>\n",
       "      <td>class4</td>\n",
       "    </tr>\n",
       "  </tbody>\n",
       "</table>\n",
       "<p>288 rows × 14 columns</p>\n",
       "</div>"
      ],
      "text/plain": [
       "            Unnamed: 0            strain                      tissue  \\\n",
       "SRA                                                                    \n",
       "SRX1890422  SRR3734805  strain: C57BL/6J         tissue: Hippocampus   \n",
       "SRX1890421  SRR3734804  strain: C57BL/6J         tissue: Hippocampus   \n",
       "SRX1890414  SRR3734797  strain: C57BL/6J         tissue: Hippocampus   \n",
       "SRX1890416  SRR3734799  strain: C57BL/6J         tissue: Hippocampus   \n",
       "SRX1890413  SRR3734796  strain: C57BL/6J         tissue: Hippocampus   \n",
       "...                ...               ...                         ...   \n",
       "SRX3752161  SRR6793129   strain: C57BL/6  tissue: brain, hippocampus   \n",
       "SRX3752162  SRR6793130   strain: C57BL/6  tissue: brain, hippocampus   \n",
       "SRX3752163  SRR6793131   strain: C57BL/6  tissue: brain, hippocampus   \n",
       "SRX3752164  SRR6793132   strain: C57BL/6  tissue: brain, hippocampus   \n",
       "SRX3752165  SRR6793133   strain: C57BL/6  tissue: brain, hippocampus   \n",
       "\n",
       "                       age  age(month)          Sex            genotype  \\\n",
       "SRA                                                                       \n",
       "SRX1890422    age: 1 Month           1    sex: male                 NaN   \n",
       "SRX1890421    age: 1 Month           1    sex: male                 NaN   \n",
       "SRX1890414    age: 1 Month           1  sex: female                 NaN   \n",
       "SRX1890416    age: 1 Month           1  sex: female                 NaN   \n",
       "SRX1890413    age: 1 Month           1  sex: female                 NaN   \n",
       "...                    ...         ...          ...                 ...   \n",
       "SRX3752161  age: 24 months          24    Sex: male  perturbation: none   \n",
       "SRX3752162  age: 24 months          24    Sex: male  perturbation: none   \n",
       "SRX3752163  age: 24 months          24    Sex: male  perturbation: none   \n",
       "SRX3752164  age: 24 months          24    Sex: male  perturbation: none   \n",
       "SRX3752165  age: 24 months          24    Sex: male  perturbation: none   \n",
       "\n",
       "            series_id                                           relation  \\\n",
       "SRA                                                                        \n",
       "SRX1890422   GSE83931  BioSample: https://www.ncbi.nlm.nih.gov/biosam...   \n",
       "SRX1890421   GSE83931  BioSample: https://www.ncbi.nlm.nih.gov/biosam...   \n",
       "SRX1890414   GSE83931  BioSample: https://www.ncbi.nlm.nih.gov/biosam...   \n",
       "SRX1890416   GSE83931  BioSample: https://www.ncbi.nlm.nih.gov/biosam...   \n",
       "SRX1890413   GSE83931  BioSample: https://www.ncbi.nlm.nih.gov/biosam...   \n",
       "...               ...                                                ...   \n",
       "SRX3752161  GSE111270  ['BioSample: https://www.ncbi.nlm.nih.gov/bios...   \n",
       "SRX3752162  GSE111270  ['BioSample: https://www.ncbi.nlm.nih.gov/bios...   \n",
       "SRX3752163  GSE111270  ['BioSample: https://www.ncbi.nlm.nih.gov/bios...   \n",
       "SRX3752164  GSE111270  ['BioSample: https://www.ncbi.nlm.nih.gov/bios...   \n",
       "SRX3752165  GSE111270  ['BioSample: https://www.ncbi.nlm.nih.gov/bios...   \n",
       "\n",
       "             molecule_ch1         instrument_model         SRR         end  \\\n",
       "SRA                                                                          \n",
       "SRX1890422      total RNA      Illumina HiSeq 2500  SRR3734805  single_end   \n",
       "SRX1890421      total RNA      Illumina HiSeq 2500  SRR3734804  single_end   \n",
       "SRX1890414      total RNA      Illumina HiSeq 2500  SRR3734797  single_end   \n",
       "SRX1890416      total RNA      Illumina HiSeq 2500  SRR3734799  single_end   \n",
       "SRX1890413      total RNA      Illumina HiSeq 2500  SRR3734796  single_end   \n",
       "...                   ...                      ...         ...         ...   \n",
       "SRX3752161  ['total RNA']  ['Illumina HiSeq 2500']  SRR6793129  single_end   \n",
       "SRX3752162  ['total RNA']  ['Illumina HiSeq 2500']  SRR6793130  single_end   \n",
       "SRX3752163  ['total RNA']  ['Illumina HiSeq 2500']  SRR6793131  single_end   \n",
       "SRX3752164  ['total RNA']  ['Illumina HiSeq 2500']  SRR6793132  single_end   \n",
       "SRX3752165  ['total RNA']  ['Illumina HiSeq 2500']  SRR6793133  single_end   \n",
       "\n",
       "           age_class  \n",
       "SRA                   \n",
       "SRX1890422    class1  \n",
       "SRX1890421    class1  \n",
       "SRX1890414    class1  \n",
       "SRX1890416    class1  \n",
       "SRX1890413    class1  \n",
       "...              ...  \n",
       "SRX3752161    class4  \n",
       "SRX3752162    class4  \n",
       "SRX3752163    class4  \n",
       "SRX3752164    class4  \n",
       "SRX3752165    class4  \n",
       "\n",
       "[288 rows x 14 columns]"
      ]
     },
     "execution_count": 55,
     "metadata": {},
     "output_type": "execute_result"
    }
   ],
   "source": [
    "df"
   ]
  },
  {
   "cell_type": "code",
   "execution_count": 35,
   "id": "977b60c1",
   "metadata": {},
   "outputs": [],
   "source": [
    "df['age_class']='NA'"
   ]
  },
  {
   "cell_type": "code",
   "execution_count": 36,
   "id": "62800dab",
   "metadata": {},
   "outputs": [],
   "source": [
    "for index in df.index:\n",
    "    num=df.loc[index,'age(month)']\n",
    "    num=float(num)\n",
    "    if(num<6):\n",
    "        df.loc[index,'age_class']='class1'\n",
    "    elif(num>=6 and num<12):\n",
    "        df.loc[index,'age_class']='class2'\n",
    "    elif(num>=12 and num<18):\n",
    "        df.loc[index,'age_class']='class3'\n",
    "    else:\n",
    "        df.loc[index,'age_class']='class4'"
   ]
  },
  {
   "cell_type": "code",
   "execution_count": 58,
   "id": "d45ea520",
   "metadata": {},
   "outputs": [
    {
     "name": "stdout",
     "output_type": "stream",
     "text": [
      "sex: male\n",
      "sex: male\n",
      "sex: female\n",
      "sex: female\n",
      "sex: female\n",
      "sex: female\n",
      "sex: male\n",
      "sex: female\n",
      "sex: male\n",
      "sex: male\n",
      "sex: male\n",
      "sex: male\n",
      "sex: male\n",
      "sex: male\n",
      "sex: male\n",
      "sex: male\n",
      "sex: female\n",
      "sex: female\n",
      "sex: female\n",
      "sex: female\n",
      "sex: male\n",
      "sex: female\n",
      "sex: male\n",
      "sex: male\n",
      "sex: male\n",
      "sex: female\n",
      "sex: female\n",
      "sex: female\n",
      "sex: male\n",
      "sex: male\n",
      "sex: female\n",
      "sex: male\n",
      "sex: female\n",
      "sex: male\n",
      "sex: female\n",
      "sex: female\n",
      "sex: male\n",
      "sex: male\n",
      "sex: female\n",
      "sex: male\n",
      "sex: female\n",
      "sex: male\n",
      "sex: female\n",
      "Sex: Male\n",
      "Sex: Male\n",
      "Sex: Male\n",
      "Sex: Male\n",
      "Sex: Male\n",
      "Sex: Male\n",
      "Sex: Male\n",
      "Sex: Male\n",
      "Sex: Male\n",
      "Sex: Male\n",
      "Sex: Male\n",
      "Sex: Male\n",
      "Sex: Male\n",
      "Sex: Male\n",
      "Sex: Male\n",
      "Sex: Male\n",
      "Sex: Male\n",
      "Sex: Male\n",
      "Sex: Female\n",
      "Sex: Female\n",
      "Sex: Female\n",
      "Sex: Female\n",
      "Sex: Female\n",
      "Sex: Male\n",
      "Sex: Male\n",
      "Sex: Male\n",
      "Sex: Male\n",
      "Sex: Male\n",
      "Sex: Female\n",
      "Sex: Male\n",
      "Sex: Female\n",
      "Sex: Female\n",
      "Sex: Male\n",
      "Sex: Male\n",
      "Sex: Male\n",
      "Sex: Male\n",
      "Sex: Female\n",
      "Sex: Female\n",
      "Sex: Male\n",
      "Sex: Male\n",
      "Sex: Male\n",
      "Sex: Male\n",
      "Sex: male\n",
      "Sex: male\n",
      "Sex: male\n",
      "Sex: male\n",
      "Sex: male\n",
      "Sex: male\n",
      "Sex: male\n",
      "Sex: male\n",
      "Sex: male\n",
      "Sex: male\n",
      "Sex: Female\n",
      "Sex: Female\n",
      "Sex: Female\n",
      "Sex: Female\n",
      "Sex: Female\n",
      "Sex: Female\n",
      "Sex: Female\n",
      "Sex: Female\n",
      "Sex: Female\n",
      "Sex: Female\n",
      "Sex: Female\n",
      "Sex: Female\n",
      "Sex: Female\n",
      "Sex: Female\n",
      "Sex: Female\n",
      "Sex: Female\n",
      "Sex: Female\n",
      "Sex: Male\n",
      "Sex: Male\n",
      "Sex: Male\n",
      "Sex: Male\n",
      "Sex: Male\n",
      "Sex: Male\n",
      "Sex: Male\n",
      "Sex: Male\n",
      "Sex: Male\n",
      "Sex: Male\n",
      "Sex: Male\n",
      "Sex: Male\n",
      "Sex: Male\n",
      "Sex: Male\n",
      "Sex: Female\n",
      "Sex: Female\n",
      "Sex: Female\n",
      "Sex: Female\n",
      "Sex: Female\n",
      "Sex: Male\n",
      "Sex: Female\n",
      "Sex: Female\n",
      "Sex: Male\n",
      "Sex: Male\n",
      "Sex: Female\n",
      "Sex: Male\n",
      "Sex: Male\n",
      "Sex: Male\n",
      "Sex: Male\n",
      "Sex: Male\n",
      "Sex: Male\n",
      "Sex: Male\n",
      "Sex: Male\n",
      "Sex: Male\n",
      "Sex: Male\n",
      "Sex: Male\n",
      "Sex: Male\n",
      "Sex: Male\n",
      "Sex: Male\n",
      "Sex: Male\n",
      "Sex: Male\n",
      "Sex: Male\n",
      "Sex: female\n",
      "Sex: female\n",
      "Sex: female\n",
      "Sex: female\n",
      "Sex: female\n",
      "Sex: Male\n",
      "Sex: Male\n",
      "Sex: Male\n",
      "Sex: Male\n",
      "Sex: Female\n",
      "Sex: Female\n",
      "Sex: Female\n",
      "Sex: Female\n",
      "Sex: Female\n",
      "Sex: Female\n",
      "Sex: Female\n",
      "Sex: Female\n",
      "Sex: Female\n",
      "Sex: Female\n",
      "Sex: Female\n",
      "Sex: Male\n",
      "Sex: Male\n",
      "Sex: Male\n",
      "Sex: Female\n",
      "Sex: Male\n",
      "Sex: Male\n",
      "Sex: Male\n",
      "Sex: Male\n",
      "Sex: Male\n",
      "Sex: female\n",
      "Sex: female\n",
      "Sex: female\n",
      "Sex: female\n",
      "Sex: female\n",
      "Sex: male\n",
      "Sex: male\n",
      "Sex: male\n",
      "Sex: male\n",
      "Sex: male\n",
      "Sex: female\n",
      "Sex: Male\n",
      "Sex: Male\n",
      "Sex: Female\n",
      "Sex: Female\n",
      "Sex: Female\n",
      "Sex: Female\n",
      "Sex: Female\n",
      "Sex: Female\n",
      "Sex: Female\n",
      "Sex: Female\n",
      "Sex: Female\n",
      "Sex: Female\n",
      "Sex: Female\n",
      "Sex: Female\n",
      "Sex: Female\n",
      "Sex: Female\n",
      "Sex: Female\n",
      "Sex: Female\n",
      "Sex: Male\n",
      "Sex: Male\n",
      "Sex: Male\n",
      "Sex: Male\n",
      "Sex: female\n",
      "Sex: Male\n",
      "Sex: Male\n",
      "Sex: Male\n",
      "Sex: Male\n",
      "Sex: Male\n",
      "Sex: Male\n",
      "Sex: Male\n",
      "Sex: Male\n",
      "Sex: Male\n",
      "Sex: Male\n",
      "Sex: Male\n",
      "Sex: Male\n",
      "Sex: Female\n",
      "Sex: Female\n",
      "Sex: Female\n",
      "Sex: Female\n",
      "Sex: Male\n",
      "Sex: Female\n",
      "Sex: Male\n",
      "Sex: Female\n",
      "Sex: Male\n",
      "Sex: Female\n",
      "Sex: Male\n",
      "Sex: Male\n",
      "Sex: Male\n",
      "Sex: male\n",
      "Sex: male\n",
      "Sex: male\n",
      "Sex: male\n",
      "Sex: female\n",
      "Sex: female\n",
      "Sex: female\n",
      "Sex: female\n",
      "Sex: female\n",
      "Sex: female\n",
      "Sex: female\n",
      "Sex: female\n",
      "Sex: female\n",
      "Sex: female\n",
      "Sex: female\n",
      "Sex: female\n",
      "Sex: female\n",
      "Sex: female\n",
      "Sex: female\n",
      "Sex: Male\n",
      "Sex: Male\n",
      "Sex: Male\n",
      "Sex: Male\n",
      "Sex: Male\n",
      "Sex: female\n",
      "Sex: female\n",
      "Sex: female\n",
      "Sex: Male\n",
      "Sex: Male\n",
      "Sex: Male\n",
      "Sex: Male\n",
      "Sex: male\n",
      "Sex: male\n",
      "Sex: male\n",
      "Sex: male\n",
      "Sex: male\n",
      "Sex: male\n",
      "Sex: male\n",
      "Sex: male\n",
      "Sex: male\n",
      "Sex: male\n",
      "Sex: male\n",
      "Sex: male\n",
      "Sex: male\n",
      "Sex: male\n",
      "Sex: male\n"
     ]
    }
   ],
   "source": [
    "for index in df.index:\n",
    "    num=df.loc[index,'Sex']\n",
    "    print(num)\n",
    "    df.loc[index,'Sex']=num.lower()"
   ]
  },
  {
   "cell_type": "code",
   "execution_count": 61,
   "id": "cf27426b",
   "metadata": {
    "scrolled": true
   },
   "outputs": [
    {
     "data": {
      "text/plain": [
       "age_class  Sex        \n",
       "class1     sex: male      65\n",
       "           sex: female    30\n",
       "class2     sex: female    42\n",
       "           sex: male      42\n",
       "class3     sex: male      37\n",
       "           sex: female    30\n",
       "class4     sex: male      24\n",
       "           sex: female    18\n",
       "Name: Sex, dtype: int64"
      ]
     },
     "execution_count": 61,
     "metadata": {},
     "output_type": "execute_result"
    }
   ],
   "source": [
    "df.groupby('age_class')['Sex'].value_counts()"
   ]
  },
  {
   "cell_type": "code",
   "execution_count": 63,
   "id": "7c6ecaf5",
   "metadata": {},
   "outputs": [],
   "source": [
    "df.to_csv(\"hypocampus_final.csv\",sep=';')"
   ]
  },
  {
   "cell_type": "markdown",
   "id": "7e657197",
   "metadata": {},
   "source": [
    "### SRR"
   ]
  },
  {
   "cell_type": "code",
   "execution_count": 185,
   "id": "143d5c45",
   "metadata": {},
   "outputs": [],
   "source": [
    "list_SRR_total=list(df['SRR'])"
   ]
  },
  {
   "cell_type": "code",
   "execution_count": 186,
   "id": "8b8ec59b",
   "metadata": {},
   "outputs": [
    {
     "data": {
      "text/plain": [
       "306"
      ]
     },
     "execution_count": 186,
     "metadata": {},
     "output_type": "execute_result"
    }
   ],
   "source": [
    "len(list_SRR_total)"
   ]
  },
  {
   "cell_type": "code",
   "execution_count": 256,
   "id": "f450be69",
   "metadata": {},
   "outputs": [],
   "source": [
    "your_path = '/home/storage_1/yuping/raw_data/liver_BAM'\n",
    "files = os.listdir(your_path)\n",
    "list_SRR=[]\n",
    "for file in files:\n",
    "    x=file.split('A')\n",
    "    list_SRR.append(x[0])"
   ]
  },
  {
   "cell_type": "code",
   "execution_count": 257,
   "id": "94e7b4d3",
   "metadata": {},
   "outputs": [],
   "source": [
    "list_SRR_reste=list(set(list_SRR_total)-set(list_SRR))"
   ]
  },
  {
   "cell_type": "code",
   "execution_count": 258,
   "id": "995fa01d",
   "metadata": {},
   "outputs": [
    {
     "data": {
      "text/plain": [
       "48"
      ]
     },
     "execution_count": 258,
     "metadata": {},
     "output_type": "execute_result"
    }
   ],
   "source": [
    "len(list_SRR_reste)"
   ]
  },
  {
   "cell_type": "code",
   "execution_count": 259,
   "id": "13f8ce05",
   "metadata": {},
   "outputs": [],
   "source": [
    "file_wite_obj=open(\"sra_liver_reste.txt\",\"w\")\n",
    "for var in list_SRR_reste:\n",
    "    file_wite_obj.writelines(var)\n",
    "    file_wite_obj.write('\\n')\n",
    "file_wite_obj.close()"
   ]
  },
  {
   "cell_type": "code",
   "execution_count": null,
   "id": "f9c636b0",
   "metadata": {},
   "outputs": [],
   "source": []
  },
  {
   "cell_type": "markdown",
   "id": "b393dab3",
   "metadata": {},
   "source": [
    "### read GTF for the matrix scanpy"
   ]
  },
  {
   "cell_type": "code",
   "execution_count": 280,
   "id": "04feed80",
   "metadata": {},
   "outputs": [],
   "source": [
    "from collections import defaultdict\n",
    "import gzip\n",
    "import pandas as pd\n",
    "import re"
   ]
  },
  {
   "cell_type": "code",
   "execution_count": 288,
   "id": "004a5ac8",
   "metadata": {},
   "outputs": [],
   "source": [
    "path_file='/home/storage_1/yuping/index_star_mouseGRC39/gencode.vM28.annotation.gtf'"
   ]
  },
  {
   "cell_type": "code",
   "execution_count": 281,
   "id": "d653ea9f",
   "metadata": {},
   "outputs": [],
   "source": [
    "GTF_HEADER  = ['seqname', 'source', 'feature', 'start', 'end', 'score',\n",
    "               'strand', 'frame']\n",
    "R_SEMICOLON = re.compile(r'\\s*;\\s*')\n",
    "R_COMMA     = re.compile(r'\\s*,\\s*')\n",
    "R_KEYVALUE  = re.compile(r'(\\s+|\\s*=\\s*)')\n",
    "\n",
    "\n",
    "def dataframe(filename):\n",
    "    \"\"\"Open an optionally gzipped GTF file and return a pandas.DataFrame.\n",
    "    \"\"\"\n",
    "    # Each column is a list stored as a value in this dict.\n",
    "    result = defaultdict(list)\n",
    "\n",
    "    for i, line in enumerate(lines(filename)):\n",
    "        for key in line.keys():\n",
    "            # This key has not been seen yet, so set it to None for all\n",
    "            # previous lines.\n",
    "            if key not in result:\n",
    "                result[key] = [None] * i\n",
    "\n",
    "        # Ensure this row has some value for each column.\n",
    "        for key in result.keys():\n",
    "            result[key].append(line.get(key, None))\n",
    "\n",
    "    return pd.DataFrame(result)\n",
    "\n",
    "\n",
    "def lines(filename):\n",
    "    \"\"\"Open an optionally gzipped GTF file and generate a dict for each line.\n",
    "    \"\"\"\n",
    "    fn_open = gzip.open if filename.endswith('.gz') else open\n",
    "\n",
    "    with fn_open(filename) as fh:\n",
    "        for line in fh:\n",
    "            if line.startswith('#'):\n",
    "                continue\n",
    "            else:\n",
    "                yield parse(line)\n",
    "\n",
    "\n",
    "def parse(line):\n",
    "    \"\"\"Parse a single GTF line and return a dict.\n",
    "    \"\"\"\n",
    "    result = {}\n",
    "\n",
    "    fields = line.rstrip().split('\\t')\n",
    "\n",
    "    for i, col in enumerate(GTF_HEADER):\n",
    "        result[col] = _get_value(fields[i])\n",
    "\n",
    "    # INFO field consists of \"key1=value;key2=value;...\".\n",
    "    infos = [x for x in re.split(R_SEMICOLON, fields[8]) if x.strip()]\n",
    "\n",
    "    for i, info in enumerate(infos, 1):\n",
    "        # It should be key=\"value\".\n",
    "        try:\n",
    "            key, _, value = re.split(R_KEYVALUE, info, 1)\n",
    "        # But sometimes it is just \"value\".\n",
    "        except ValueError:\n",
    "            key = 'INFO{}'.format(i)\n",
    "            value = info\n",
    "        # Ignore the field if there is no value.\n",
    "        if value:\n",
    "            result[key] = _get_value(value)\n",
    "\n",
    "    return result\n",
    "\n",
    "\n",
    "def _get_value(value):\n",
    "    if not value:\n",
    "        return None\n",
    "\n",
    "    # Strip double and single quotes.\n",
    "    value = value.strip('\"\\'')\n",
    "\n",
    "    # Return a list if the value has a comma.\n",
    "    if ',' in value:\n",
    "        value = re.split(R_COMMA, value)\n",
    "    # These values are equivalent to None.\n",
    "    elif value in ['', '.', 'NA']:\n",
    "        return None\n",
    "\n",
    "    return value"
   ]
  },
  {
   "cell_type": "code",
   "execution_count": 289,
   "id": "a97957ff",
   "metadata": {},
   "outputs": [],
   "source": [
    "x=dataframe(path_file)"
   ]
  },
  {
   "cell_type": "code",
   "execution_count": 291,
   "id": "271e0501",
   "metadata": {},
   "outputs": [],
   "source": [
    "data_annotation=x[['seqname','gene_id','gene_type','feature']]"
   ]
  },
  {
   "cell_type": "code",
   "execution_count": 298,
   "id": "9c89970b",
   "metadata": {},
   "outputs": [],
   "source": [
    "data_annotation.to_csv(\"annotation_RNA.csv\")"
   ]
  },
  {
   "cell_type": "code",
   "execution_count": 293,
   "id": "96b7ff9a",
   "metadata": {},
   "outputs": [],
   "source": [
    "data_annotation.set_index(['gene_id'],inplace=True)"
   ]
  },
  {
   "cell_type": "code",
   "execution_count": 297,
   "id": "e2dcc749",
   "metadata": {},
   "outputs": [
    {
     "data": {
      "text/plain": [
       "protein_coding                        1709040\n",
       "lncRNA                                  73668\n",
       "processed_pseudogene                    31093\n",
       "unprocessed_pseudogene                  12124\n",
       "TEC                                      9893\n",
       "miRNA                                    6603\n",
       "snoRNA                                   4521\n",
       "transcribed_unprocessed_pseudogene       4364\n",
       "snRNA                                    4143\n",
       "polymorphic_pseudogene                   2298\n",
       "transcribed_processed_pseudogene         2079\n",
       "IG_V_gene                                2000\n",
       "misc_RNA                                 1686\n",
       "TR_V_gene                                1350\n",
       "rRNA                                     1062\n",
       "transcribed_unitary_pseudogene            689\n",
       "IG_V_pseudogene                           587\n",
       "unitary_pseudogene                        419\n",
       "TR_J_gene                                 292\n",
       "pseudogene                                277\n",
       "IG_C_gene                                 246\n",
       "scaRNA                                    153\n",
       "TR_C_gene                                 115\n",
       "TR_V_pseudogene                           115\n",
       "IG_D_gene                                  78\n",
       "ribozyme                                   66\n",
       "Mt_tRNA                                    66\n",
       "IG_J_gene                                  64\n",
       "TR_J_pseudogene                            30\n",
       "IG_LV_gene                                 22\n",
       "TR_D_gene                                  18\n",
       "translated_unprocessed_pseudogene          12\n",
       "IG_D_pseudogene                            12\n",
       "sRNA                                        6\n",
       "Mt_rRNA                                     6\n",
       "IG_C_pseudogene                             5\n",
       "IG_pseudogene                               4\n",
       "scRNA                                       3\n",
       "Name: gene_type, dtype: int64"
      ]
     },
     "execution_count": 297,
     "metadata": {},
     "output_type": "execute_result"
    }
   ],
   "source": [
    "data_annotation['gene_type'].value_counts()"
   ]
  },
  {
   "cell_type": "code",
   "execution_count": 299,
   "id": "2dd229b4",
   "metadata": {},
   "outputs": [],
   "source": [
    "data_annotation.to_csv('annatation_grf.txt')"
   ]
  },
  {
   "cell_type": "code",
   "execution_count": 311,
   "id": "4612fa8d",
   "metadata": {},
   "outputs": [
    {
     "data": {
      "text/html": [
       "<div>\n",
       "<style scoped>\n",
       "    .dataframe tbody tr th:only-of-type {\n",
       "        vertical-align: middle;\n",
       "    }\n",
       "\n",
       "    .dataframe tbody tr th {\n",
       "        vertical-align: top;\n",
       "    }\n",
       "\n",
       "    .dataframe thead th {\n",
       "        text-align: right;\n",
       "    }\n",
       "</style>\n",
       "<table border=\"1\" class=\"dataframe\">\n",
       "  <thead>\n",
       "    <tr style=\"text-align: right;\">\n",
       "      <th></th>\n",
       "      <th>seqname</th>\n",
       "      <th>gene_type</th>\n",
       "      <th>feature</th>\n",
       "    </tr>\n",
       "    <tr>\n",
       "      <th>gene_id</th>\n",
       "      <th></th>\n",
       "      <th></th>\n",
       "      <th></th>\n",
       "    </tr>\n",
       "  </thead>\n",
       "  <tbody>\n",
       "    <tr>\n",
       "      <th>ENSMUSG00000102693.2</th>\n",
       "      <td>chr1</td>\n",
       "      <td>TEC</td>\n",
       "      <td>gene</td>\n",
       "    </tr>\n",
       "    <tr>\n",
       "      <th>ENSMUSG00000102693.2</th>\n",
       "      <td>chr1</td>\n",
       "      <td>TEC</td>\n",
       "      <td>transcript</td>\n",
       "    </tr>\n",
       "    <tr>\n",
       "      <th>ENSMUSG00000102693.2</th>\n",
       "      <td>chr1</td>\n",
       "      <td>TEC</td>\n",
       "      <td>exon</td>\n",
       "    </tr>\n",
       "    <tr>\n",
       "      <th>ENSMUSG00000064842.3</th>\n",
       "      <td>chr1</td>\n",
       "      <td>snRNA</td>\n",
       "      <td>gene</td>\n",
       "    </tr>\n",
       "    <tr>\n",
       "      <th>ENSMUSG00000064842.3</th>\n",
       "      <td>chr1</td>\n",
       "      <td>snRNA</td>\n",
       "      <td>transcript</td>\n",
       "    </tr>\n",
       "    <tr>\n",
       "      <th>...</th>\n",
       "      <td>...</td>\n",
       "      <td>...</td>\n",
       "      <td>...</td>\n",
       "    </tr>\n",
       "    <tr>\n",
       "      <th>ENSMUSG00000064371.1</th>\n",
       "      <td>chrM</td>\n",
       "      <td>Mt_tRNA</td>\n",
       "      <td>transcript</td>\n",
       "    </tr>\n",
       "    <tr>\n",
       "      <th>ENSMUSG00000064371.1</th>\n",
       "      <td>chrM</td>\n",
       "      <td>Mt_tRNA</td>\n",
       "      <td>exon</td>\n",
       "    </tr>\n",
       "    <tr>\n",
       "      <th>ENSMUSG00000064372.1</th>\n",
       "      <td>chrM</td>\n",
       "      <td>Mt_tRNA</td>\n",
       "      <td>gene</td>\n",
       "    </tr>\n",
       "    <tr>\n",
       "      <th>ENSMUSG00000064372.1</th>\n",
       "      <td>chrM</td>\n",
       "      <td>Mt_tRNA</td>\n",
       "      <td>transcript</td>\n",
       "    </tr>\n",
       "    <tr>\n",
       "      <th>ENSMUSG00000064372.1</th>\n",
       "      <td>chrM</td>\n",
       "      <td>Mt_tRNA</td>\n",
       "      <td>exon</td>\n",
       "    </tr>\n",
       "  </tbody>\n",
       "</table>\n",
       "<p>1869209 rows × 3 columns</p>\n",
       "</div>"
      ],
      "text/plain": [
       "                     seqname gene_type     feature\n",
       "gene_id                                           \n",
       "ENSMUSG00000102693.2    chr1       TEC        gene\n",
       "ENSMUSG00000102693.2    chr1       TEC  transcript\n",
       "ENSMUSG00000102693.2    chr1       TEC        exon\n",
       "ENSMUSG00000064842.3    chr1     snRNA        gene\n",
       "ENSMUSG00000064842.3    chr1     snRNA  transcript\n",
       "...                      ...       ...         ...\n",
       "ENSMUSG00000064371.1    chrM   Mt_tRNA  transcript\n",
       "ENSMUSG00000064371.1    chrM   Mt_tRNA        exon\n",
       "ENSMUSG00000064372.1    chrM   Mt_tRNA        gene\n",
       "ENSMUSG00000064372.1    chrM   Mt_tRNA  transcript\n",
       "ENSMUSG00000064372.1    chrM   Mt_tRNA        exon\n",
       "\n",
       "[1869209 rows x 3 columns]"
      ]
     },
     "execution_count": 311,
     "metadata": {},
     "output_type": "execute_result"
    }
   ],
   "source": [
    "data_annotation"
   ]
  },
  {
   "cell_type": "code",
   "execution_count": null,
   "id": "a4f223fc",
   "metadata": {},
   "outputs": [],
   "source": [
    "data=data_annotation.groupby('gene_id').apply(get_all_value)"
   ]
  },
  {
   "cell_type": "code",
   "execution_count": 319,
   "id": "7c57c8eb",
   "metadata": {},
   "outputs": [],
   "source": [
    "def get_all_value(x):\n",
    "    df=x.sort_values(by='feature')\n",
    "    return df"
   ]
  },
  {
   "cell_type": "code",
   "execution_count": 331,
   "id": "5fd58b4b",
   "metadata": {},
   "outputs": [
    {
     "data": {
      "text/html": [
       "<div>\n",
       "<style scoped>\n",
       "    .dataframe tbody tr th:only-of-type {\n",
       "        vertical-align: middle;\n",
       "    }\n",
       "\n",
       "    .dataframe tbody tr th {\n",
       "        vertical-align: top;\n",
       "    }\n",
       "\n",
       "    .dataframe thead th {\n",
       "        text-align: right;\n",
       "    }\n",
       "</style>\n",
       "<table border=\"1\" class=\"dataframe\">\n",
       "  <thead>\n",
       "    <tr style=\"text-align: right;\">\n",
       "      <th></th>\n",
       "      <th>seqname</th>\n",
       "      <th>gene_type</th>\n",
       "    </tr>\n",
       "    <tr>\n",
       "      <th>gene_id</th>\n",
       "      <th></th>\n",
       "      <th></th>\n",
       "    </tr>\n",
       "  </thead>\n",
       "  <tbody>\n",
       "    <tr>\n",
       "      <th>ENSMUSG00000102693.2</th>\n",
       "      <td>chr1</td>\n",
       "      <td>TEC</td>\n",
       "    </tr>\n",
       "    <tr>\n",
       "      <th>ENSMUSG00000102693.2</th>\n",
       "      <td>chr1</td>\n",
       "      <td>TEC</td>\n",
       "    </tr>\n",
       "    <tr>\n",
       "      <th>ENSMUSG00000102693.2</th>\n",
       "      <td>chr1</td>\n",
       "      <td>TEC</td>\n",
       "    </tr>\n",
       "    <tr>\n",
       "      <th>ENSMUSG00000064842.3</th>\n",
       "      <td>chr1</td>\n",
       "      <td>snRNA</td>\n",
       "    </tr>\n",
       "    <tr>\n",
       "      <th>ENSMUSG00000064842.3</th>\n",
       "      <td>chr1</td>\n",
       "      <td>snRNA</td>\n",
       "    </tr>\n",
       "    <tr>\n",
       "      <th>...</th>\n",
       "      <td>...</td>\n",
       "      <td>...</td>\n",
       "    </tr>\n",
       "    <tr>\n",
       "      <th>ENSMUSG00000064371.1</th>\n",
       "      <td>chrM</td>\n",
       "      <td>Mt_tRNA</td>\n",
       "    </tr>\n",
       "    <tr>\n",
       "      <th>ENSMUSG00000064371.1</th>\n",
       "      <td>chrM</td>\n",
       "      <td>Mt_tRNA</td>\n",
       "    </tr>\n",
       "    <tr>\n",
       "      <th>ENSMUSG00000064372.1</th>\n",
       "      <td>chrM</td>\n",
       "      <td>Mt_tRNA</td>\n",
       "    </tr>\n",
       "    <tr>\n",
       "      <th>ENSMUSG00000064372.1</th>\n",
       "      <td>chrM</td>\n",
       "      <td>Mt_tRNA</td>\n",
       "    </tr>\n",
       "    <tr>\n",
       "      <th>ENSMUSG00000064372.1</th>\n",
       "      <td>chrM</td>\n",
       "      <td>Mt_tRNA</td>\n",
       "    </tr>\n",
       "  </tbody>\n",
       "</table>\n",
       "<p>1869209 rows × 2 columns</p>\n",
       "</div>"
      ],
      "text/plain": [
       "                     seqname gene_type\n",
       "gene_id                               \n",
       "ENSMUSG00000102693.2    chr1       TEC\n",
       "ENSMUSG00000102693.2    chr1       TEC\n",
       "ENSMUSG00000102693.2    chr1       TEC\n",
       "ENSMUSG00000064842.3    chr1     snRNA\n",
       "ENSMUSG00000064842.3    chr1     snRNA\n",
       "...                      ...       ...\n",
       "ENSMUSG00000064371.1    chrM   Mt_tRNA\n",
       "ENSMUSG00000064371.1    chrM   Mt_tRNA\n",
       "ENSMUSG00000064372.1    chrM   Mt_tRNA\n",
       "ENSMUSG00000064372.1    chrM   Mt_tRNA\n",
       "ENSMUSG00000064372.1    chrM   Mt_tRNA\n",
       "\n",
       "[1869209 rows x 2 columns]"
      ]
     },
     "execution_count": 331,
     "metadata": {},
     "output_type": "execute_result"
    }
   ],
   "source": [
    "data_annotation"
   ]
  },
  {
   "cell_type": "code",
   "execution_count": 333,
   "id": "49395acf",
   "metadata": {},
   "outputs": [],
   "source": [
    "data2=data_annotation.reset_index()"
   ]
  },
  {
   "cell_type": "code",
   "execution_count": 337,
   "id": "999ba732",
   "metadata": {},
   "outputs": [],
   "source": [
    "data3=data2.drop_duplicates().set_index('gene_id')"
   ]
  },
  {
   "cell_type": "code",
   "execution_count": 348,
   "id": "a47be1ff",
   "metadata": {},
   "outputs": [],
   "source": [
    "data3.to_csv(\"annotation_grf.csv\")"
   ]
  },
  {
   "cell_type": "markdown",
   "id": "96cc1556",
   "metadata": {},
   "source": [
    "### annotation"
   ]
  },
  {
   "cell_type": "code",
   "execution_count": 30,
   "id": "0a101647",
   "metadata": {},
   "outputs": [],
   "source": [
    "df = pd.read_csv (\"liver_final.csv\", sep=',',index_col=\"Unnamed: 0\", header=0)"
   ]
  },
  {
   "cell_type": "code",
   "execution_count": 3,
   "id": "c655f95e",
   "metadata": {},
   "outputs": [],
   "source": [
    "df_annotation=df[['Sex','SRR','age_class']]"
   ]
  },
  {
   "cell_type": "code",
   "execution_count": 4,
   "id": "8e152928",
   "metadata": {},
   "outputs": [],
   "source": [
    "df_annotation=df_annotation.set_index('SRR')"
   ]
  },
  {
   "cell_type": "code",
   "execution_count": 5,
   "id": "274c9f40",
   "metadata": {},
   "outputs": [],
   "source": [
    "liste_name=list(df_annotation.index)"
   ]
  },
  {
   "cell_type": "code",
   "execution_count": 6,
   "id": "144ff060",
   "metadata": {},
   "outputs": [
    {
     "data": {
      "text/plain": [
       "296"
      ]
     },
     "execution_count": 6,
     "metadata": {},
     "output_type": "execute_result"
    }
   ],
   "source": [
    "len(set(liste_name))"
   ]
  },
  {
   "cell_type": "code",
   "execution_count": 20,
   "id": "c1e2887c",
   "metadata": {},
   "outputs": [],
   "source": [
    "df2 = pd.read_csv (\"matrice_count.csv\", sep=',',index_col=\"Unnamed: 0\", header=0)"
   ]
  },
  {
   "cell_type": "code",
   "execution_count": 8,
   "id": "e7db76ae",
   "metadata": {},
   "outputs": [],
   "source": [
    "list_name=[]\n",
    "for i in df2.columns:\n",
    "    i=i.split('A')\n",
    "    list_name.append(i[0])"
   ]
  },
  {
   "cell_type": "code",
   "execution_count": 9,
   "id": "360fffbb",
   "metadata": {},
   "outputs": [],
   "source": [
    "df2.columns=list_name"
   ]
  },
  {
   "cell_type": "code",
   "execution_count": 10,
   "id": "6c0fb0bd",
   "metadata": {},
   "outputs": [
    {
     "data": {
      "text/html": [
       "<div>\n",
       "<style scoped>\n",
       "    .dataframe tbody tr th:only-of-type {\n",
       "        vertical-align: middle;\n",
       "    }\n",
       "\n",
       "    .dataframe tbody tr th {\n",
       "        vertical-align: top;\n",
       "    }\n",
       "\n",
       "    .dataframe thead th {\n",
       "        text-align: right;\n",
       "    }\n",
       "</style>\n",
       "<table border=\"1\" class=\"dataframe\">\n",
       "  <thead>\n",
       "    <tr style=\"text-align: right;\">\n",
       "      <th></th>\n",
       "      <th>SRR7761109</th>\n",
       "      <th>SRR7761110</th>\n",
       "      <th>SRR7761111</th>\n",
       "      <th>SRR7761112</th>\n",
       "      <th>SRR9856034</th>\n",
       "      <th>SRR9856035</th>\n",
       "      <th>SRR9856036</th>\n",
       "      <th>SRR10573586</th>\n",
       "      <th>SRR10573847</th>\n",
       "      <th>SRR10573830</th>\n",
       "      <th>...</th>\n",
       "      <th>SRR5115673</th>\n",
       "      <th>SRR5115674</th>\n",
       "      <th>SRR5115675</th>\n",
       "      <th>SRR10025185</th>\n",
       "      <th>SRR1292217</th>\n",
       "      <th>SRR1292216</th>\n",
       "      <th>SRR1292215</th>\n",
       "      <th>SRR10115880</th>\n",
       "      <th>SRR10115879</th>\n",
       "      <th>SRR10025184</th>\n",
       "    </tr>\n",
       "  </thead>\n",
       "  <tbody>\n",
       "    <tr>\n",
       "      <th>ENSMUSG00000102693.2</th>\n",
       "      <td>0</td>\n",
       "      <td>0</td>\n",
       "      <td>0</td>\n",
       "      <td>0</td>\n",
       "      <td>0</td>\n",
       "      <td>0</td>\n",
       "      <td>0</td>\n",
       "      <td>0</td>\n",
       "      <td>1</td>\n",
       "      <td>0</td>\n",
       "      <td>...</td>\n",
       "      <td>0</td>\n",
       "      <td>0</td>\n",
       "      <td>0</td>\n",
       "      <td>0</td>\n",
       "      <td>0</td>\n",
       "      <td>0</td>\n",
       "      <td>0</td>\n",
       "      <td>0</td>\n",
       "      <td>0</td>\n",
       "      <td>0</td>\n",
       "    </tr>\n",
       "    <tr>\n",
       "      <th>ENSMUSG00000064842.3</th>\n",
       "      <td>0</td>\n",
       "      <td>0</td>\n",
       "      <td>0</td>\n",
       "      <td>0</td>\n",
       "      <td>0</td>\n",
       "      <td>0</td>\n",
       "      <td>0</td>\n",
       "      <td>0</td>\n",
       "      <td>0</td>\n",
       "      <td>0</td>\n",
       "      <td>...</td>\n",
       "      <td>0</td>\n",
       "      <td>0</td>\n",
       "      <td>0</td>\n",
       "      <td>0</td>\n",
       "      <td>0</td>\n",
       "      <td>0</td>\n",
       "      <td>0</td>\n",
       "      <td>0</td>\n",
       "      <td>0</td>\n",
       "      <td>0</td>\n",
       "    </tr>\n",
       "    <tr>\n",
       "      <th>ENSMUSG00000051951.6</th>\n",
       "      <td>0</td>\n",
       "      <td>0</td>\n",
       "      <td>0</td>\n",
       "      <td>0</td>\n",
       "      <td>3</td>\n",
       "      <td>3</td>\n",
       "      <td>4</td>\n",
       "      <td>0</td>\n",
       "      <td>0</td>\n",
       "      <td>0</td>\n",
       "      <td>...</td>\n",
       "      <td>5</td>\n",
       "      <td>5</td>\n",
       "      <td>11</td>\n",
       "      <td>1</td>\n",
       "      <td>0</td>\n",
       "      <td>0</td>\n",
       "      <td>1</td>\n",
       "      <td>0</td>\n",
       "      <td>3</td>\n",
       "      <td>9</td>\n",
       "    </tr>\n",
       "    <tr>\n",
       "      <th>ENSMUSG00000102851.2</th>\n",
       "      <td>0</td>\n",
       "      <td>0</td>\n",
       "      <td>0</td>\n",
       "      <td>0</td>\n",
       "      <td>0</td>\n",
       "      <td>0</td>\n",
       "      <td>0</td>\n",
       "      <td>0</td>\n",
       "      <td>0</td>\n",
       "      <td>0</td>\n",
       "      <td>...</td>\n",
       "      <td>0</td>\n",
       "      <td>0</td>\n",
       "      <td>0</td>\n",
       "      <td>0</td>\n",
       "      <td>0</td>\n",
       "      <td>0</td>\n",
       "      <td>0</td>\n",
       "      <td>0</td>\n",
       "      <td>0</td>\n",
       "      <td>0</td>\n",
       "    </tr>\n",
       "    <tr>\n",
       "      <th>ENSMUSG00000103377.2</th>\n",
       "      <td>0</td>\n",
       "      <td>0</td>\n",
       "      <td>0</td>\n",
       "      <td>0</td>\n",
       "      <td>0</td>\n",
       "      <td>1</td>\n",
       "      <td>1</td>\n",
       "      <td>0</td>\n",
       "      <td>0</td>\n",
       "      <td>0</td>\n",
       "      <td>...</td>\n",
       "      <td>0</td>\n",
       "      <td>0</td>\n",
       "      <td>0</td>\n",
       "      <td>0</td>\n",
       "      <td>0</td>\n",
       "      <td>0</td>\n",
       "      <td>0</td>\n",
       "      <td>0</td>\n",
       "      <td>0</td>\n",
       "      <td>5</td>\n",
       "    </tr>\n",
       "    <tr>\n",
       "      <th>...</th>\n",
       "      <td>...</td>\n",
       "      <td>...</td>\n",
       "      <td>...</td>\n",
       "      <td>...</td>\n",
       "      <td>...</td>\n",
       "      <td>...</td>\n",
       "      <td>...</td>\n",
       "      <td>...</td>\n",
       "      <td>...</td>\n",
       "      <td>...</td>\n",
       "      <td>...</td>\n",
       "      <td>...</td>\n",
       "      <td>...</td>\n",
       "      <td>...</td>\n",
       "      <td>...</td>\n",
       "      <td>...</td>\n",
       "      <td>...</td>\n",
       "      <td>...</td>\n",
       "      <td>...</td>\n",
       "      <td>...</td>\n",
       "      <td>...</td>\n",
       "    </tr>\n",
       "    <tr>\n",
       "      <th>ENSMUSG00000064368.1</th>\n",
       "      <td>50519</td>\n",
       "      <td>46133</td>\n",
       "      <td>50642</td>\n",
       "      <td>48946</td>\n",
       "      <td>1504</td>\n",
       "      <td>1172</td>\n",
       "      <td>1273</td>\n",
       "      <td>2726</td>\n",
       "      <td>3235</td>\n",
       "      <td>5378</td>\n",
       "      <td>...</td>\n",
       "      <td>1988</td>\n",
       "      <td>505</td>\n",
       "      <td>763</td>\n",
       "      <td>80278</td>\n",
       "      <td>3067</td>\n",
       "      <td>2461</td>\n",
       "      <td>5709</td>\n",
       "      <td>18499</td>\n",
       "      <td>21986</td>\n",
       "      <td>102840</td>\n",
       "    </tr>\n",
       "    <tr>\n",
       "      <th>ENSMUSG00000064369.1</th>\n",
       "      <td>2334</td>\n",
       "      <td>2065</td>\n",
       "      <td>2462</td>\n",
       "      <td>2358</td>\n",
       "      <td>100</td>\n",
       "      <td>74</td>\n",
       "      <td>74</td>\n",
       "      <td>0</td>\n",
       "      <td>0</td>\n",
       "      <td>2</td>\n",
       "      <td>...</td>\n",
       "      <td>3</td>\n",
       "      <td>4</td>\n",
       "      <td>3</td>\n",
       "      <td>40</td>\n",
       "      <td>17</td>\n",
       "      <td>20</td>\n",
       "      <td>28</td>\n",
       "      <td>119</td>\n",
       "      <td>97</td>\n",
       "      <td>159</td>\n",
       "    </tr>\n",
       "    <tr>\n",
       "      <th>ENSMUSG00000064370.1</th>\n",
       "      <td>427936</td>\n",
       "      <td>418439</td>\n",
       "      <td>367825</td>\n",
       "      <td>292899</td>\n",
       "      <td>26939</td>\n",
       "      <td>18138</td>\n",
       "      <td>19575</td>\n",
       "      <td>22931</td>\n",
       "      <td>32457</td>\n",
       "      <td>45194</td>\n",
       "      <td>...</td>\n",
       "      <td>1953</td>\n",
       "      <td>2018</td>\n",
       "      <td>2498</td>\n",
       "      <td>240955</td>\n",
       "      <td>42441</td>\n",
       "      <td>34976</td>\n",
       "      <td>68523</td>\n",
       "      <td>125895</td>\n",
       "      <td>166496</td>\n",
       "      <td>428028</td>\n",
       "    </tr>\n",
       "    <tr>\n",
       "      <th>ENSMUSG00000064371.1</th>\n",
       "      <td>30</td>\n",
       "      <td>0</td>\n",
       "      <td>7</td>\n",
       "      <td>0</td>\n",
       "      <td>3</td>\n",
       "      <td>0</td>\n",
       "      <td>4</td>\n",
       "      <td>0</td>\n",
       "      <td>0</td>\n",
       "      <td>1</td>\n",
       "      <td>...</td>\n",
       "      <td>0</td>\n",
       "      <td>0</td>\n",
       "      <td>1</td>\n",
       "      <td>13</td>\n",
       "      <td>2</td>\n",
       "      <td>1</td>\n",
       "      <td>3</td>\n",
       "      <td>2</td>\n",
       "      <td>0</td>\n",
       "      <td>41</td>\n",
       "    </tr>\n",
       "    <tr>\n",
       "      <th>ENSMUSG00000064372.1</th>\n",
       "      <td>46</td>\n",
       "      <td>55</td>\n",
       "      <td>35</td>\n",
       "      <td>11</td>\n",
       "      <td>72</td>\n",
       "      <td>36</td>\n",
       "      <td>58</td>\n",
       "      <td>1215</td>\n",
       "      <td>1881</td>\n",
       "      <td>1750</td>\n",
       "      <td>...</td>\n",
       "      <td>270</td>\n",
       "      <td>197</td>\n",
       "      <td>373</td>\n",
       "      <td>2102</td>\n",
       "      <td>223</td>\n",
       "      <td>172</td>\n",
       "      <td>388</td>\n",
       "      <td>6650</td>\n",
       "      <td>7718</td>\n",
       "      <td>3424</td>\n",
       "    </tr>\n",
       "  </tbody>\n",
       "</table>\n",
       "<p>55357 rows × 306 columns</p>\n",
       "</div>"
      ],
      "text/plain": [
       "                      SRR7761109  SRR7761110  SRR7761111  SRR7761112  \\\n",
       "ENSMUSG00000102693.2           0           0           0           0   \n",
       "ENSMUSG00000064842.3           0           0           0           0   \n",
       "ENSMUSG00000051951.6           0           0           0           0   \n",
       "ENSMUSG00000102851.2           0           0           0           0   \n",
       "ENSMUSG00000103377.2           0           0           0           0   \n",
       "...                          ...         ...         ...         ...   \n",
       "ENSMUSG00000064368.1       50519       46133       50642       48946   \n",
       "ENSMUSG00000064369.1        2334        2065        2462        2358   \n",
       "ENSMUSG00000064370.1      427936      418439      367825      292899   \n",
       "ENSMUSG00000064371.1          30           0           7           0   \n",
       "ENSMUSG00000064372.1          46          55          35          11   \n",
       "\n",
       "                      SRR9856034  SRR9856035  SRR9856036  SRR10573586  \\\n",
       "ENSMUSG00000102693.2           0           0           0            0   \n",
       "ENSMUSG00000064842.3           0           0           0            0   \n",
       "ENSMUSG00000051951.6           3           3           4            0   \n",
       "ENSMUSG00000102851.2           0           0           0            0   \n",
       "ENSMUSG00000103377.2           0           1           1            0   \n",
       "...                          ...         ...         ...          ...   \n",
       "ENSMUSG00000064368.1        1504        1172        1273         2726   \n",
       "ENSMUSG00000064369.1         100          74          74            0   \n",
       "ENSMUSG00000064370.1       26939       18138       19575        22931   \n",
       "ENSMUSG00000064371.1           3           0           4            0   \n",
       "ENSMUSG00000064372.1          72          36          58         1215   \n",
       "\n",
       "                      SRR10573847  SRR10573830  ...  SRR5115673  SRR5115674  \\\n",
       "ENSMUSG00000102693.2            1            0  ...           0           0   \n",
       "ENSMUSG00000064842.3            0            0  ...           0           0   \n",
       "ENSMUSG00000051951.6            0            0  ...           5           5   \n",
       "ENSMUSG00000102851.2            0            0  ...           0           0   \n",
       "ENSMUSG00000103377.2            0            0  ...           0           0   \n",
       "...                           ...          ...  ...         ...         ...   \n",
       "ENSMUSG00000064368.1         3235         5378  ...        1988         505   \n",
       "ENSMUSG00000064369.1            0            2  ...           3           4   \n",
       "ENSMUSG00000064370.1        32457        45194  ...        1953        2018   \n",
       "ENSMUSG00000064371.1            0            1  ...           0           0   \n",
       "ENSMUSG00000064372.1         1881         1750  ...         270         197   \n",
       "\n",
       "                      SRR5115675  SRR10025185  SRR1292217  SRR1292216  \\\n",
       "ENSMUSG00000102693.2           0            0           0           0   \n",
       "ENSMUSG00000064842.3           0            0           0           0   \n",
       "ENSMUSG00000051951.6          11            1           0           0   \n",
       "ENSMUSG00000102851.2           0            0           0           0   \n",
       "ENSMUSG00000103377.2           0            0           0           0   \n",
       "...                          ...          ...         ...         ...   \n",
       "ENSMUSG00000064368.1         763        80278        3067        2461   \n",
       "ENSMUSG00000064369.1           3           40          17          20   \n",
       "ENSMUSG00000064370.1        2498       240955       42441       34976   \n",
       "ENSMUSG00000064371.1           1           13           2           1   \n",
       "ENSMUSG00000064372.1         373         2102         223         172   \n",
       "\n",
       "                      SRR1292215  SRR10115880  SRR10115879  SRR10025184  \n",
       "ENSMUSG00000102693.2           0            0            0            0  \n",
       "ENSMUSG00000064842.3           0            0            0            0  \n",
       "ENSMUSG00000051951.6           1            0            3            9  \n",
       "ENSMUSG00000102851.2           0            0            0            0  \n",
       "ENSMUSG00000103377.2           0            0            0            5  \n",
       "...                          ...          ...          ...          ...  \n",
       "ENSMUSG00000064368.1        5709        18499        21986       102840  \n",
       "ENSMUSG00000064369.1          28          119           97          159  \n",
       "ENSMUSG00000064370.1       68523       125895       166496       428028  \n",
       "ENSMUSG00000064371.1           3            2            0           41  \n",
       "ENSMUSG00000064372.1         388         6650         7718         3424  \n",
       "\n",
       "[55357 rows x 306 columns]"
      ]
     },
     "execution_count": 10,
     "metadata": {},
     "output_type": "execute_result"
    }
   ],
   "source": [
    "df2"
   ]
  },
  {
   "cell_type": "code",
   "execution_count": 24,
   "id": "ceb1b6f2",
   "metadata": {},
   "outputs": [],
   "source": [
    "liste_name2=list(df3.columns)"
   ]
  },
  {
   "cell_type": "code",
   "execution_count": null,
   "id": "43d3722f",
   "metadata": {},
   "outputs": [],
   "source": []
  },
  {
   "cell_type": "code",
   "execution_count": 27,
   "id": "bdb1df06",
   "metadata": {},
   "outputs": [
    {
     "data": {
      "text/plain": [
       "['SRR10025183', 'SRR4473788']"
      ]
     },
     "execution_count": 27,
     "metadata": {},
     "output_type": "execute_result"
    }
   ],
   "source": [
    "list(set(liste_name)-set(liste_name2))"
   ]
  },
  {
   "cell_type": "code",
   "execution_count": 13,
   "id": "6b20eaa6",
   "metadata": {},
   "outputs": [],
   "source": [
    "df3=df2.T.drop_duplicates().T"
   ]
  },
  {
   "cell_type": "code",
   "execution_count": 21,
   "id": "ddddce3c",
   "metadata": {},
   "outputs": [
    {
     "data": {
      "text/html": [
       "<div>\n",
       "<style scoped>\n",
       "    .dataframe tbody tr th:only-of-type {\n",
       "        vertical-align: middle;\n",
       "    }\n",
       "\n",
       "    .dataframe tbody tr th {\n",
       "        vertical-align: top;\n",
       "    }\n",
       "\n",
       "    .dataframe thead th {\n",
       "        text-align: right;\n",
       "    }\n",
       "</style>\n",
       "<table border=\"1\" class=\"dataframe\">\n",
       "  <thead>\n",
       "    <tr style=\"text-align: right;\">\n",
       "      <th></th>\n",
       "      <th>SRR7761109</th>\n",
       "      <th>SRR7761110</th>\n",
       "      <th>SRR7761111</th>\n",
       "      <th>SRR7761112</th>\n",
       "      <th>SRR9856034</th>\n",
       "      <th>SRR9856035</th>\n",
       "      <th>SRR9856036</th>\n",
       "      <th>SRR10573586</th>\n",
       "      <th>SRR10573847</th>\n",
       "      <th>SRR10573830</th>\n",
       "      <th>...</th>\n",
       "      <th>SRR5115673</th>\n",
       "      <th>SRR5115674</th>\n",
       "      <th>SRR5115675</th>\n",
       "      <th>SRR10025185</th>\n",
       "      <th>SRR1292217</th>\n",
       "      <th>SRR1292216</th>\n",
       "      <th>SRR1292215</th>\n",
       "      <th>SRR10115880</th>\n",
       "      <th>SRR10115879</th>\n",
       "      <th>SRR10025184</th>\n",
       "    </tr>\n",
       "  </thead>\n",
       "  <tbody>\n",
       "    <tr>\n",
       "      <th>ENSMUSG00000102693.2</th>\n",
       "      <td>0</td>\n",
       "      <td>0</td>\n",
       "      <td>0</td>\n",
       "      <td>0</td>\n",
       "      <td>0</td>\n",
       "      <td>0</td>\n",
       "      <td>0</td>\n",
       "      <td>0</td>\n",
       "      <td>1</td>\n",
       "      <td>0</td>\n",
       "      <td>...</td>\n",
       "      <td>0</td>\n",
       "      <td>0</td>\n",
       "      <td>0</td>\n",
       "      <td>0</td>\n",
       "      <td>0</td>\n",
       "      <td>0</td>\n",
       "      <td>0</td>\n",
       "      <td>0</td>\n",
       "      <td>0</td>\n",
       "      <td>0</td>\n",
       "    </tr>\n",
       "    <tr>\n",
       "      <th>ENSMUSG00000064842.3</th>\n",
       "      <td>0</td>\n",
       "      <td>0</td>\n",
       "      <td>0</td>\n",
       "      <td>0</td>\n",
       "      <td>0</td>\n",
       "      <td>0</td>\n",
       "      <td>0</td>\n",
       "      <td>0</td>\n",
       "      <td>0</td>\n",
       "      <td>0</td>\n",
       "      <td>...</td>\n",
       "      <td>0</td>\n",
       "      <td>0</td>\n",
       "      <td>0</td>\n",
       "      <td>0</td>\n",
       "      <td>0</td>\n",
       "      <td>0</td>\n",
       "      <td>0</td>\n",
       "      <td>0</td>\n",
       "      <td>0</td>\n",
       "      <td>0</td>\n",
       "    </tr>\n",
       "    <tr>\n",
       "      <th>ENSMUSG00000051951.6</th>\n",
       "      <td>0</td>\n",
       "      <td>0</td>\n",
       "      <td>0</td>\n",
       "      <td>0</td>\n",
       "      <td>3</td>\n",
       "      <td>3</td>\n",
       "      <td>4</td>\n",
       "      <td>0</td>\n",
       "      <td>0</td>\n",
       "      <td>0</td>\n",
       "      <td>...</td>\n",
       "      <td>5</td>\n",
       "      <td>5</td>\n",
       "      <td>11</td>\n",
       "      <td>1</td>\n",
       "      <td>0</td>\n",
       "      <td>0</td>\n",
       "      <td>1</td>\n",
       "      <td>0</td>\n",
       "      <td>3</td>\n",
       "      <td>9</td>\n",
       "    </tr>\n",
       "    <tr>\n",
       "      <th>ENSMUSG00000102851.2</th>\n",
       "      <td>0</td>\n",
       "      <td>0</td>\n",
       "      <td>0</td>\n",
       "      <td>0</td>\n",
       "      <td>0</td>\n",
       "      <td>0</td>\n",
       "      <td>0</td>\n",
       "      <td>0</td>\n",
       "      <td>0</td>\n",
       "      <td>0</td>\n",
       "      <td>...</td>\n",
       "      <td>0</td>\n",
       "      <td>0</td>\n",
       "      <td>0</td>\n",
       "      <td>0</td>\n",
       "      <td>0</td>\n",
       "      <td>0</td>\n",
       "      <td>0</td>\n",
       "      <td>0</td>\n",
       "      <td>0</td>\n",
       "      <td>0</td>\n",
       "    </tr>\n",
       "    <tr>\n",
       "      <th>ENSMUSG00000103377.2</th>\n",
       "      <td>0</td>\n",
       "      <td>0</td>\n",
       "      <td>0</td>\n",
       "      <td>0</td>\n",
       "      <td>0</td>\n",
       "      <td>1</td>\n",
       "      <td>1</td>\n",
       "      <td>0</td>\n",
       "      <td>0</td>\n",
       "      <td>0</td>\n",
       "      <td>...</td>\n",
       "      <td>0</td>\n",
       "      <td>0</td>\n",
       "      <td>0</td>\n",
       "      <td>0</td>\n",
       "      <td>0</td>\n",
       "      <td>0</td>\n",
       "      <td>0</td>\n",
       "      <td>0</td>\n",
       "      <td>0</td>\n",
       "      <td>5</td>\n",
       "    </tr>\n",
       "    <tr>\n",
       "      <th>...</th>\n",
       "      <td>...</td>\n",
       "      <td>...</td>\n",
       "      <td>...</td>\n",
       "      <td>...</td>\n",
       "      <td>...</td>\n",
       "      <td>...</td>\n",
       "      <td>...</td>\n",
       "      <td>...</td>\n",
       "      <td>...</td>\n",
       "      <td>...</td>\n",
       "      <td>...</td>\n",
       "      <td>...</td>\n",
       "      <td>...</td>\n",
       "      <td>...</td>\n",
       "      <td>...</td>\n",
       "      <td>...</td>\n",
       "      <td>...</td>\n",
       "      <td>...</td>\n",
       "      <td>...</td>\n",
       "      <td>...</td>\n",
       "      <td>...</td>\n",
       "    </tr>\n",
       "    <tr>\n",
       "      <th>ENSMUSG00000064368.1</th>\n",
       "      <td>50519</td>\n",
       "      <td>46133</td>\n",
       "      <td>50642</td>\n",
       "      <td>48946</td>\n",
       "      <td>1504</td>\n",
       "      <td>1172</td>\n",
       "      <td>1273</td>\n",
       "      <td>2726</td>\n",
       "      <td>3235</td>\n",
       "      <td>5378</td>\n",
       "      <td>...</td>\n",
       "      <td>1988</td>\n",
       "      <td>505</td>\n",
       "      <td>763</td>\n",
       "      <td>80278</td>\n",
       "      <td>3067</td>\n",
       "      <td>2461</td>\n",
       "      <td>5709</td>\n",
       "      <td>18499</td>\n",
       "      <td>21986</td>\n",
       "      <td>102840</td>\n",
       "    </tr>\n",
       "    <tr>\n",
       "      <th>ENSMUSG00000064369.1</th>\n",
       "      <td>2334</td>\n",
       "      <td>2065</td>\n",
       "      <td>2462</td>\n",
       "      <td>2358</td>\n",
       "      <td>100</td>\n",
       "      <td>74</td>\n",
       "      <td>74</td>\n",
       "      <td>0</td>\n",
       "      <td>0</td>\n",
       "      <td>2</td>\n",
       "      <td>...</td>\n",
       "      <td>3</td>\n",
       "      <td>4</td>\n",
       "      <td>3</td>\n",
       "      <td>40</td>\n",
       "      <td>17</td>\n",
       "      <td>20</td>\n",
       "      <td>28</td>\n",
       "      <td>119</td>\n",
       "      <td>97</td>\n",
       "      <td>159</td>\n",
       "    </tr>\n",
       "    <tr>\n",
       "      <th>ENSMUSG00000064370.1</th>\n",
       "      <td>427936</td>\n",
       "      <td>418439</td>\n",
       "      <td>367825</td>\n",
       "      <td>292899</td>\n",
       "      <td>26939</td>\n",
       "      <td>18138</td>\n",
       "      <td>19575</td>\n",
       "      <td>22931</td>\n",
       "      <td>32457</td>\n",
       "      <td>45194</td>\n",
       "      <td>...</td>\n",
       "      <td>1953</td>\n",
       "      <td>2018</td>\n",
       "      <td>2498</td>\n",
       "      <td>240955</td>\n",
       "      <td>42441</td>\n",
       "      <td>34976</td>\n",
       "      <td>68523</td>\n",
       "      <td>125895</td>\n",
       "      <td>166496</td>\n",
       "      <td>428028</td>\n",
       "    </tr>\n",
       "    <tr>\n",
       "      <th>ENSMUSG00000064371.1</th>\n",
       "      <td>30</td>\n",
       "      <td>0</td>\n",
       "      <td>7</td>\n",
       "      <td>0</td>\n",
       "      <td>3</td>\n",
       "      <td>0</td>\n",
       "      <td>4</td>\n",
       "      <td>0</td>\n",
       "      <td>0</td>\n",
       "      <td>1</td>\n",
       "      <td>...</td>\n",
       "      <td>0</td>\n",
       "      <td>0</td>\n",
       "      <td>1</td>\n",
       "      <td>13</td>\n",
       "      <td>2</td>\n",
       "      <td>1</td>\n",
       "      <td>3</td>\n",
       "      <td>2</td>\n",
       "      <td>0</td>\n",
       "      <td>41</td>\n",
       "    </tr>\n",
       "    <tr>\n",
       "      <th>ENSMUSG00000064372.1</th>\n",
       "      <td>46</td>\n",
       "      <td>55</td>\n",
       "      <td>35</td>\n",
       "      <td>11</td>\n",
       "      <td>72</td>\n",
       "      <td>36</td>\n",
       "      <td>58</td>\n",
       "      <td>1215</td>\n",
       "      <td>1881</td>\n",
       "      <td>1750</td>\n",
       "      <td>...</td>\n",
       "      <td>270</td>\n",
       "      <td>197</td>\n",
       "      <td>373</td>\n",
       "      <td>2102</td>\n",
       "      <td>223</td>\n",
       "      <td>172</td>\n",
       "      <td>388</td>\n",
       "      <td>6650</td>\n",
       "      <td>7718</td>\n",
       "      <td>3424</td>\n",
       "    </tr>\n",
       "  </tbody>\n",
       "</table>\n",
       "<p>55357 rows × 294 columns</p>\n",
       "</div>"
      ],
      "text/plain": [
       "                      SRR7761109  SRR7761110  SRR7761111  SRR7761112  \\\n",
       "ENSMUSG00000102693.2           0           0           0           0   \n",
       "ENSMUSG00000064842.3           0           0           0           0   \n",
       "ENSMUSG00000051951.6           0           0           0           0   \n",
       "ENSMUSG00000102851.2           0           0           0           0   \n",
       "ENSMUSG00000103377.2           0           0           0           0   \n",
       "...                          ...         ...         ...         ...   \n",
       "ENSMUSG00000064368.1       50519       46133       50642       48946   \n",
       "ENSMUSG00000064369.1        2334        2065        2462        2358   \n",
       "ENSMUSG00000064370.1      427936      418439      367825      292899   \n",
       "ENSMUSG00000064371.1          30           0           7           0   \n",
       "ENSMUSG00000064372.1          46          55          35          11   \n",
       "\n",
       "                      SRR9856034  SRR9856035  SRR9856036  SRR10573586  \\\n",
       "ENSMUSG00000102693.2           0           0           0            0   \n",
       "ENSMUSG00000064842.3           0           0           0            0   \n",
       "ENSMUSG00000051951.6           3           3           4            0   \n",
       "ENSMUSG00000102851.2           0           0           0            0   \n",
       "ENSMUSG00000103377.2           0           1           1            0   \n",
       "...                          ...         ...         ...          ...   \n",
       "ENSMUSG00000064368.1        1504        1172        1273         2726   \n",
       "ENSMUSG00000064369.1         100          74          74            0   \n",
       "ENSMUSG00000064370.1       26939       18138       19575        22931   \n",
       "ENSMUSG00000064371.1           3           0           4            0   \n",
       "ENSMUSG00000064372.1          72          36          58         1215   \n",
       "\n",
       "                      SRR10573847  SRR10573830  ...  SRR5115673  SRR5115674  \\\n",
       "ENSMUSG00000102693.2            1            0  ...           0           0   \n",
       "ENSMUSG00000064842.3            0            0  ...           0           0   \n",
       "ENSMUSG00000051951.6            0            0  ...           5           5   \n",
       "ENSMUSG00000102851.2            0            0  ...           0           0   \n",
       "ENSMUSG00000103377.2            0            0  ...           0           0   \n",
       "...                           ...          ...  ...         ...         ...   \n",
       "ENSMUSG00000064368.1         3235         5378  ...        1988         505   \n",
       "ENSMUSG00000064369.1            0            2  ...           3           4   \n",
       "ENSMUSG00000064370.1        32457        45194  ...        1953        2018   \n",
       "ENSMUSG00000064371.1            0            1  ...           0           0   \n",
       "ENSMUSG00000064372.1         1881         1750  ...         270         197   \n",
       "\n",
       "                      SRR5115675  SRR10025185  SRR1292217  SRR1292216  \\\n",
       "ENSMUSG00000102693.2           0            0           0           0   \n",
       "ENSMUSG00000064842.3           0            0           0           0   \n",
       "ENSMUSG00000051951.6          11            1           0           0   \n",
       "ENSMUSG00000102851.2           0            0           0           0   \n",
       "ENSMUSG00000103377.2           0            0           0           0   \n",
       "...                          ...          ...         ...         ...   \n",
       "ENSMUSG00000064368.1         763        80278        3067        2461   \n",
       "ENSMUSG00000064369.1           3           40          17          20   \n",
       "ENSMUSG00000064370.1        2498       240955       42441       34976   \n",
       "ENSMUSG00000064371.1           1           13           2           1   \n",
       "ENSMUSG00000064372.1         373         2102         223         172   \n",
       "\n",
       "                      SRR1292215  SRR10115880  SRR10115879  SRR10025184  \n",
       "ENSMUSG00000102693.2           0            0            0            0  \n",
       "ENSMUSG00000064842.3           0            0            0            0  \n",
       "ENSMUSG00000051951.6           1            0            3            9  \n",
       "ENSMUSG00000102851.2           0            0            0            0  \n",
       "ENSMUSG00000103377.2           0            0            0            5  \n",
       "...                          ...          ...          ...          ...  \n",
       "ENSMUSG00000064368.1        5709        18499        21986       102840  \n",
       "ENSMUSG00000064369.1          28          119           97          159  \n",
       "ENSMUSG00000064370.1       68523       125895       166496       428028  \n",
       "ENSMUSG00000064371.1           3            2            0           41  \n",
       "ENSMUSG00000064372.1         388         6650         7718         3424  \n",
       "\n",
       "[55357 rows x 294 columns]"
      ]
     },
     "execution_count": 21,
     "metadata": {},
     "output_type": "execute_result"
    }
   ],
   "source": [
    "df3"
   ]
  },
  {
   "cell_type": "code",
   "execution_count": 17,
   "id": "c8b5643d",
   "metadata": {},
   "outputs": [],
   "source": [
    "x=df3.index"
   ]
  },
  {
   "cell_type": "code",
   "execution_count": 29,
   "id": "74e40c60",
   "metadata": {},
   "outputs": [
    {
     "data": {
      "text/html": [
       "<div>\n",
       "<style scoped>\n",
       "    .dataframe tbody tr th:only-of-type {\n",
       "        vertical-align: middle;\n",
       "    }\n",
       "\n",
       "    .dataframe tbody tr th {\n",
       "        vertical-align: top;\n",
       "    }\n",
       "\n",
       "    .dataframe thead th {\n",
       "        text-align: right;\n",
       "    }\n",
       "</style>\n",
       "<table border=\"1\" class=\"dataframe\">\n",
       "  <thead>\n",
       "    <tr style=\"text-align: right;\">\n",
       "      <th></th>\n",
       "      <th>SRR7761109</th>\n",
       "      <th>SRR7761110</th>\n",
       "      <th>SRR7761111</th>\n",
       "      <th>SRR7761112</th>\n",
       "      <th>SRR9856034</th>\n",
       "      <th>SRR9856035</th>\n",
       "      <th>SRR9856036</th>\n",
       "      <th>SRR10573586</th>\n",
       "      <th>SRR10573847</th>\n",
       "      <th>SRR10573830</th>\n",
       "      <th>...</th>\n",
       "      <th>SRR5115673</th>\n",
       "      <th>SRR5115674</th>\n",
       "      <th>SRR5115675</th>\n",
       "      <th>SRR10025185</th>\n",
       "      <th>SRR1292217</th>\n",
       "      <th>SRR1292216</th>\n",
       "      <th>SRR1292215</th>\n",
       "      <th>SRR10115880</th>\n",
       "      <th>SRR10115879</th>\n",
       "      <th>SRR10025184</th>\n",
       "    </tr>\n",
       "  </thead>\n",
       "  <tbody>\n",
       "    <tr>\n",
       "      <th>ENSMUSG00000102693.2</th>\n",
       "      <td>0</td>\n",
       "      <td>0</td>\n",
       "      <td>0</td>\n",
       "      <td>0</td>\n",
       "      <td>0</td>\n",
       "      <td>0</td>\n",
       "      <td>0</td>\n",
       "      <td>0</td>\n",
       "      <td>1</td>\n",
       "      <td>0</td>\n",
       "      <td>...</td>\n",
       "      <td>0</td>\n",
       "      <td>0</td>\n",
       "      <td>0</td>\n",
       "      <td>0</td>\n",
       "      <td>0</td>\n",
       "      <td>0</td>\n",
       "      <td>0</td>\n",
       "      <td>0</td>\n",
       "      <td>0</td>\n",
       "      <td>0</td>\n",
       "    </tr>\n",
       "    <tr>\n",
       "      <th>ENSMUSG00000064842.3</th>\n",
       "      <td>0</td>\n",
       "      <td>0</td>\n",
       "      <td>0</td>\n",
       "      <td>0</td>\n",
       "      <td>0</td>\n",
       "      <td>0</td>\n",
       "      <td>0</td>\n",
       "      <td>0</td>\n",
       "      <td>0</td>\n",
       "      <td>0</td>\n",
       "      <td>...</td>\n",
       "      <td>0</td>\n",
       "      <td>0</td>\n",
       "      <td>0</td>\n",
       "      <td>0</td>\n",
       "      <td>0</td>\n",
       "      <td>0</td>\n",
       "      <td>0</td>\n",
       "      <td>0</td>\n",
       "      <td>0</td>\n",
       "      <td>0</td>\n",
       "    </tr>\n",
       "    <tr>\n",
       "      <th>ENSMUSG00000051951.6</th>\n",
       "      <td>0</td>\n",
       "      <td>0</td>\n",
       "      <td>0</td>\n",
       "      <td>0</td>\n",
       "      <td>3</td>\n",
       "      <td>3</td>\n",
       "      <td>4</td>\n",
       "      <td>0</td>\n",
       "      <td>0</td>\n",
       "      <td>0</td>\n",
       "      <td>...</td>\n",
       "      <td>5</td>\n",
       "      <td>5</td>\n",
       "      <td>11</td>\n",
       "      <td>1</td>\n",
       "      <td>0</td>\n",
       "      <td>0</td>\n",
       "      <td>1</td>\n",
       "      <td>0</td>\n",
       "      <td>3</td>\n",
       "      <td>9</td>\n",
       "    </tr>\n",
       "    <tr>\n",
       "      <th>ENSMUSG00000102851.2</th>\n",
       "      <td>0</td>\n",
       "      <td>0</td>\n",
       "      <td>0</td>\n",
       "      <td>0</td>\n",
       "      <td>0</td>\n",
       "      <td>0</td>\n",
       "      <td>0</td>\n",
       "      <td>0</td>\n",
       "      <td>0</td>\n",
       "      <td>0</td>\n",
       "      <td>...</td>\n",
       "      <td>0</td>\n",
       "      <td>0</td>\n",
       "      <td>0</td>\n",
       "      <td>0</td>\n",
       "      <td>0</td>\n",
       "      <td>0</td>\n",
       "      <td>0</td>\n",
       "      <td>0</td>\n",
       "      <td>0</td>\n",
       "      <td>0</td>\n",
       "    </tr>\n",
       "    <tr>\n",
       "      <th>ENSMUSG00000103377.2</th>\n",
       "      <td>0</td>\n",
       "      <td>0</td>\n",
       "      <td>0</td>\n",
       "      <td>0</td>\n",
       "      <td>0</td>\n",
       "      <td>1</td>\n",
       "      <td>1</td>\n",
       "      <td>0</td>\n",
       "      <td>0</td>\n",
       "      <td>0</td>\n",
       "      <td>...</td>\n",
       "      <td>0</td>\n",
       "      <td>0</td>\n",
       "      <td>0</td>\n",
       "      <td>0</td>\n",
       "      <td>0</td>\n",
       "      <td>0</td>\n",
       "      <td>0</td>\n",
       "      <td>0</td>\n",
       "      <td>0</td>\n",
       "      <td>5</td>\n",
       "    </tr>\n",
       "    <tr>\n",
       "      <th>...</th>\n",
       "      <td>...</td>\n",
       "      <td>...</td>\n",
       "      <td>...</td>\n",
       "      <td>...</td>\n",
       "      <td>...</td>\n",
       "      <td>...</td>\n",
       "      <td>...</td>\n",
       "      <td>...</td>\n",
       "      <td>...</td>\n",
       "      <td>...</td>\n",
       "      <td>...</td>\n",
       "      <td>...</td>\n",
       "      <td>...</td>\n",
       "      <td>...</td>\n",
       "      <td>...</td>\n",
       "      <td>...</td>\n",
       "      <td>...</td>\n",
       "      <td>...</td>\n",
       "      <td>...</td>\n",
       "      <td>...</td>\n",
       "      <td>...</td>\n",
       "    </tr>\n",
       "    <tr>\n",
       "      <th>ENSMUSG00000064368.1</th>\n",
       "      <td>50519</td>\n",
       "      <td>46133</td>\n",
       "      <td>50642</td>\n",
       "      <td>48946</td>\n",
       "      <td>1504</td>\n",
       "      <td>1172</td>\n",
       "      <td>1273</td>\n",
       "      <td>2726</td>\n",
       "      <td>3235</td>\n",
       "      <td>5378</td>\n",
       "      <td>...</td>\n",
       "      <td>1988</td>\n",
       "      <td>505</td>\n",
       "      <td>763</td>\n",
       "      <td>80278</td>\n",
       "      <td>3067</td>\n",
       "      <td>2461</td>\n",
       "      <td>5709</td>\n",
       "      <td>18499</td>\n",
       "      <td>21986</td>\n",
       "      <td>102840</td>\n",
       "    </tr>\n",
       "    <tr>\n",
       "      <th>ENSMUSG00000064369.1</th>\n",
       "      <td>2334</td>\n",
       "      <td>2065</td>\n",
       "      <td>2462</td>\n",
       "      <td>2358</td>\n",
       "      <td>100</td>\n",
       "      <td>74</td>\n",
       "      <td>74</td>\n",
       "      <td>0</td>\n",
       "      <td>0</td>\n",
       "      <td>2</td>\n",
       "      <td>...</td>\n",
       "      <td>3</td>\n",
       "      <td>4</td>\n",
       "      <td>3</td>\n",
       "      <td>40</td>\n",
       "      <td>17</td>\n",
       "      <td>20</td>\n",
       "      <td>28</td>\n",
       "      <td>119</td>\n",
       "      <td>97</td>\n",
       "      <td>159</td>\n",
       "    </tr>\n",
       "    <tr>\n",
       "      <th>ENSMUSG00000064370.1</th>\n",
       "      <td>427936</td>\n",
       "      <td>418439</td>\n",
       "      <td>367825</td>\n",
       "      <td>292899</td>\n",
       "      <td>26939</td>\n",
       "      <td>18138</td>\n",
       "      <td>19575</td>\n",
       "      <td>22931</td>\n",
       "      <td>32457</td>\n",
       "      <td>45194</td>\n",
       "      <td>...</td>\n",
       "      <td>1953</td>\n",
       "      <td>2018</td>\n",
       "      <td>2498</td>\n",
       "      <td>240955</td>\n",
       "      <td>42441</td>\n",
       "      <td>34976</td>\n",
       "      <td>68523</td>\n",
       "      <td>125895</td>\n",
       "      <td>166496</td>\n",
       "      <td>428028</td>\n",
       "    </tr>\n",
       "    <tr>\n",
       "      <th>ENSMUSG00000064371.1</th>\n",
       "      <td>30</td>\n",
       "      <td>0</td>\n",
       "      <td>7</td>\n",
       "      <td>0</td>\n",
       "      <td>3</td>\n",
       "      <td>0</td>\n",
       "      <td>4</td>\n",
       "      <td>0</td>\n",
       "      <td>0</td>\n",
       "      <td>1</td>\n",
       "      <td>...</td>\n",
       "      <td>0</td>\n",
       "      <td>0</td>\n",
       "      <td>1</td>\n",
       "      <td>13</td>\n",
       "      <td>2</td>\n",
       "      <td>1</td>\n",
       "      <td>3</td>\n",
       "      <td>2</td>\n",
       "      <td>0</td>\n",
       "      <td>41</td>\n",
       "    </tr>\n",
       "    <tr>\n",
       "      <th>ENSMUSG00000064372.1</th>\n",
       "      <td>46</td>\n",
       "      <td>55</td>\n",
       "      <td>35</td>\n",
       "      <td>11</td>\n",
       "      <td>72</td>\n",
       "      <td>36</td>\n",
       "      <td>58</td>\n",
       "      <td>1215</td>\n",
       "      <td>1881</td>\n",
       "      <td>1750</td>\n",
       "      <td>...</td>\n",
       "      <td>270</td>\n",
       "      <td>197</td>\n",
       "      <td>373</td>\n",
       "      <td>2102</td>\n",
       "      <td>223</td>\n",
       "      <td>172</td>\n",
       "      <td>388</td>\n",
       "      <td>6650</td>\n",
       "      <td>7718</td>\n",
       "      <td>3424</td>\n",
       "    </tr>\n",
       "  </tbody>\n",
       "</table>\n",
       "<p>55357 rows × 294 columns</p>\n",
       "</div>"
      ],
      "text/plain": [
       "                      SRR7761109  SRR7761110  SRR7761111  SRR7761112  \\\n",
       "ENSMUSG00000102693.2           0           0           0           0   \n",
       "ENSMUSG00000064842.3           0           0           0           0   \n",
       "ENSMUSG00000051951.6           0           0           0           0   \n",
       "ENSMUSG00000102851.2           0           0           0           0   \n",
       "ENSMUSG00000103377.2           0           0           0           0   \n",
       "...                          ...         ...         ...         ...   \n",
       "ENSMUSG00000064368.1       50519       46133       50642       48946   \n",
       "ENSMUSG00000064369.1        2334        2065        2462        2358   \n",
       "ENSMUSG00000064370.1      427936      418439      367825      292899   \n",
       "ENSMUSG00000064371.1          30           0           7           0   \n",
       "ENSMUSG00000064372.1          46          55          35          11   \n",
       "\n",
       "                      SRR9856034  SRR9856035  SRR9856036  SRR10573586  \\\n",
       "ENSMUSG00000102693.2           0           0           0            0   \n",
       "ENSMUSG00000064842.3           0           0           0            0   \n",
       "ENSMUSG00000051951.6           3           3           4            0   \n",
       "ENSMUSG00000102851.2           0           0           0            0   \n",
       "ENSMUSG00000103377.2           0           1           1            0   \n",
       "...                          ...         ...         ...          ...   \n",
       "ENSMUSG00000064368.1        1504        1172        1273         2726   \n",
       "ENSMUSG00000064369.1         100          74          74            0   \n",
       "ENSMUSG00000064370.1       26939       18138       19575        22931   \n",
       "ENSMUSG00000064371.1           3           0           4            0   \n",
       "ENSMUSG00000064372.1          72          36          58         1215   \n",
       "\n",
       "                      SRR10573847  SRR10573830  ...  SRR5115673  SRR5115674  \\\n",
       "ENSMUSG00000102693.2            1            0  ...           0           0   \n",
       "ENSMUSG00000064842.3            0            0  ...           0           0   \n",
       "ENSMUSG00000051951.6            0            0  ...           5           5   \n",
       "ENSMUSG00000102851.2            0            0  ...           0           0   \n",
       "ENSMUSG00000103377.2            0            0  ...           0           0   \n",
       "...                           ...          ...  ...         ...         ...   \n",
       "ENSMUSG00000064368.1         3235         5378  ...        1988         505   \n",
       "ENSMUSG00000064369.1            0            2  ...           3           4   \n",
       "ENSMUSG00000064370.1        32457        45194  ...        1953        2018   \n",
       "ENSMUSG00000064371.1            0            1  ...           0           0   \n",
       "ENSMUSG00000064372.1         1881         1750  ...         270         197   \n",
       "\n",
       "                      SRR5115675  SRR10025185  SRR1292217  SRR1292216  \\\n",
       "ENSMUSG00000102693.2           0            0           0           0   \n",
       "ENSMUSG00000064842.3           0            0           0           0   \n",
       "ENSMUSG00000051951.6          11            1           0           0   \n",
       "ENSMUSG00000102851.2           0            0           0           0   \n",
       "ENSMUSG00000103377.2           0            0           0           0   \n",
       "...                          ...          ...         ...         ...   \n",
       "ENSMUSG00000064368.1         763        80278        3067        2461   \n",
       "ENSMUSG00000064369.1           3           40          17          20   \n",
       "ENSMUSG00000064370.1        2498       240955       42441       34976   \n",
       "ENSMUSG00000064371.1           1           13           2           1   \n",
       "ENSMUSG00000064372.1         373         2102         223         172   \n",
       "\n",
       "                      SRR1292215  SRR10115880  SRR10115879  SRR10025184  \n",
       "ENSMUSG00000102693.2           0            0            0            0  \n",
       "ENSMUSG00000064842.3           0            0            0            0  \n",
       "ENSMUSG00000051951.6           1            0            3            9  \n",
       "ENSMUSG00000102851.2           0            0            0            0  \n",
       "ENSMUSG00000103377.2           0            0            0            5  \n",
       "...                          ...          ...          ...          ...  \n",
       "ENSMUSG00000064368.1        5709        18499        21986       102840  \n",
       "ENSMUSG00000064369.1          28          119           97          159  \n",
       "ENSMUSG00000064370.1       68523       125895       166496       428028  \n",
       "ENSMUSG00000064371.1           3            2            0           41  \n",
       "ENSMUSG00000064372.1         388         6650         7718         3424  \n",
       "\n",
       "[55357 rows x 294 columns]"
      ]
     },
     "execution_count": 29,
     "metadata": {},
     "output_type": "execute_result"
    }
   ],
   "source": [
    "df3"
   ]
  },
  {
   "cell_type": "code",
   "execution_count": 22,
   "id": "0c3d4dbf",
   "metadata": {},
   "outputs": [],
   "source": [
    "df3.to_csv(\"matrice_count.csv\")"
   ]
  },
  {
   "cell_type": "code",
   "execution_count": 34,
   "id": "4dd5f9c7",
   "metadata": {},
   "outputs": [],
   "source": [
    "df.to_csv(\"liver_final.csv\")"
   ]
  }
 ],
 "metadata": {
  "kernelspec": {
   "display_name": "Python 3 (ipykernel)",
   "language": "python",
   "name": "python3"
  },
  "language_info": {
   "codemirror_mode": {
    "name": "ipython",
    "version": 3
   },
   "file_extension": ".py",
   "mimetype": "text/x-python",
   "name": "python",
   "nbconvert_exporter": "python",
   "pygments_lexer": "ipython3",
   "version": "3.9.7"
  }
 },
 "nbformat": 4,
 "nbformat_minor": 5
}
