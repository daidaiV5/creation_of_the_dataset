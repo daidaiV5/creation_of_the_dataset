{
 "cells": [
  {
   "cell_type": "code",
   "execution_count": 1,
   "id": "6ba67652",
   "metadata": {},
   "outputs": [
    {
     "name": "stdout",
     "output_type": "stream",
     "text": [
      "Currently downloading: SRR2121685\n",
      "The command used was: prefetch SRR2121685\n",
      "\n",
      "2022-03-10T14:02:33 prefetch.2.8.0: 1) 'SRR2121685' is found locally\n",
      "Generating fastq for: SRR2121685\n",
      "The command used was: fastq-dump --outdir fastq --gzip --skip-technical  --readids --read-filter pass --dumpbase --split-3 --clip /home/storage_1/yuping/raw_data/sra/SRR2121685.sra\n"
     ]
    },
    {
     "name": "stderr",
     "output_type": "stream",
     "text": [
      "2022-03-10T14:03:03 fastq-dump.2.8.0 err: process canceled while executing process - failed /home/storage_1/yuping/raw_data/sra/SRR2121685.sra\n"
     ]
    },
    {
     "ename": "KeyboardInterrupt",
     "evalue": "",
     "output_type": "error",
     "traceback": [
      "\u001b[0;31m---------------------------------------------------------------------------\u001b[0m",
      "\u001b[0;31mKeyboardInterrupt\u001b[0m                         Traceback (most recent call last)",
      "\u001b[0;32m/tmp/ipykernel_24625/2975108120.py\u001b[0m in \u001b[0;36m<module>\u001b[0;34m\u001b[0m\n\u001b[1;32m     16\u001b[0m     \u001b[0mfastq_dump\u001b[0m \u001b[0;34m=\u001b[0m \u001b[0;34m\"fastq-dump --outdir fastq --gzip --skip-technical  --readids --read-filter pass --dumpbase --split-3 --clip /home/storage_1/yuping/raw_data/sra/\"\u001b[0m \u001b[0;34m+\u001b[0m \u001b[0msra_id\u001b[0m \u001b[0;34m+\u001b[0m \u001b[0;34m\".sra\"\u001b[0m\u001b[0;34m\u001b[0m\u001b[0;34m\u001b[0m\u001b[0m\n\u001b[1;32m     17\u001b[0m     \u001b[0mprint\u001b[0m \u001b[0;34m(\u001b[0m\u001b[0;34m\"The command used was: \"\u001b[0m \u001b[0;34m+\u001b[0m \u001b[0mfastq_dump\u001b[0m\u001b[0;34m)\u001b[0m\u001b[0;34m\u001b[0m\u001b[0;34m\u001b[0m\u001b[0m\n\u001b[0;32m---> 18\u001b[0;31m     \u001b[0msubprocess\u001b[0m\u001b[0;34m.\u001b[0m\u001b[0mcall\u001b[0m\u001b[0;34m(\u001b[0m\u001b[0mfastq_dump\u001b[0m\u001b[0;34m,\u001b[0m \u001b[0mshell\u001b[0m\u001b[0;34m=\u001b[0m\u001b[0;32mTrue\u001b[0m\u001b[0;34m)\u001b[0m\u001b[0;34m\u001b[0m\u001b[0;34m\u001b[0m\u001b[0m\n\u001b[0m",
      "\u001b[0;32m/home/storage_1/yuping/environement/ENTER/lib/python3.9/subprocess.py\u001b[0m in \u001b[0;36mcall\u001b[0;34m(timeout, *popenargs, **kwargs)\u001b[0m\n\u001b[1;32m    349\u001b[0m     \u001b[0;32mwith\u001b[0m \u001b[0mPopen\u001b[0m\u001b[0;34m(\u001b[0m\u001b[0;34m*\u001b[0m\u001b[0mpopenargs\u001b[0m\u001b[0;34m,\u001b[0m \u001b[0;34m**\u001b[0m\u001b[0mkwargs\u001b[0m\u001b[0;34m)\u001b[0m \u001b[0;32mas\u001b[0m \u001b[0mp\u001b[0m\u001b[0;34m:\u001b[0m\u001b[0;34m\u001b[0m\u001b[0;34m\u001b[0m\u001b[0m\n\u001b[1;32m    350\u001b[0m         \u001b[0;32mtry\u001b[0m\u001b[0;34m:\u001b[0m\u001b[0;34m\u001b[0m\u001b[0;34m\u001b[0m\u001b[0m\n\u001b[0;32m--> 351\u001b[0;31m             \u001b[0;32mreturn\u001b[0m \u001b[0mp\u001b[0m\u001b[0;34m.\u001b[0m\u001b[0mwait\u001b[0m\u001b[0;34m(\u001b[0m\u001b[0mtimeout\u001b[0m\u001b[0;34m=\u001b[0m\u001b[0mtimeout\u001b[0m\u001b[0;34m)\u001b[0m\u001b[0;34m\u001b[0m\u001b[0;34m\u001b[0m\u001b[0m\n\u001b[0m\u001b[1;32m    352\u001b[0m         \u001b[0;32mexcept\u001b[0m\u001b[0;34m:\u001b[0m  \u001b[0;31m# Including KeyboardInterrupt, wait handled that.\u001b[0m\u001b[0;34m\u001b[0m\u001b[0;34m\u001b[0m\u001b[0m\n\u001b[1;32m    353\u001b[0m             \u001b[0mp\u001b[0m\u001b[0;34m.\u001b[0m\u001b[0mkill\u001b[0m\u001b[0;34m(\u001b[0m\u001b[0;34m)\u001b[0m\u001b[0;34m\u001b[0m\u001b[0;34m\u001b[0m\u001b[0m\n",
      "\u001b[0;32m/home/storage_1/yuping/environement/ENTER/lib/python3.9/subprocess.py\u001b[0m in \u001b[0;36mwait\u001b[0;34m(self, timeout)\u001b[0m\n\u001b[1;32m   1187\u001b[0m             \u001b[0mendtime\u001b[0m \u001b[0;34m=\u001b[0m \u001b[0m_time\u001b[0m\u001b[0;34m(\u001b[0m\u001b[0;34m)\u001b[0m \u001b[0;34m+\u001b[0m \u001b[0mtimeout\u001b[0m\u001b[0;34m\u001b[0m\u001b[0;34m\u001b[0m\u001b[0m\n\u001b[1;32m   1188\u001b[0m         \u001b[0;32mtry\u001b[0m\u001b[0;34m:\u001b[0m\u001b[0;34m\u001b[0m\u001b[0;34m\u001b[0m\u001b[0m\n\u001b[0;32m-> 1189\u001b[0;31m             \u001b[0;32mreturn\u001b[0m \u001b[0mself\u001b[0m\u001b[0;34m.\u001b[0m\u001b[0m_wait\u001b[0m\u001b[0;34m(\u001b[0m\u001b[0mtimeout\u001b[0m\u001b[0;34m=\u001b[0m\u001b[0mtimeout\u001b[0m\u001b[0;34m)\u001b[0m\u001b[0;34m\u001b[0m\u001b[0;34m\u001b[0m\u001b[0m\n\u001b[0m\u001b[1;32m   1190\u001b[0m         \u001b[0;32mexcept\u001b[0m \u001b[0mKeyboardInterrupt\u001b[0m\u001b[0;34m:\u001b[0m\u001b[0;34m\u001b[0m\u001b[0;34m\u001b[0m\u001b[0m\n\u001b[1;32m   1191\u001b[0m             \u001b[0;31m# https://bugs.python.org/issue25942\u001b[0m\u001b[0;34m\u001b[0m\u001b[0;34m\u001b[0m\u001b[0m\n",
      "\u001b[0;32m/home/storage_1/yuping/environement/ENTER/lib/python3.9/subprocess.py\u001b[0m in \u001b[0;36m_wait\u001b[0;34m(self, timeout)\u001b[0m\n\u001b[1;32m   1915\u001b[0m                         \u001b[0;32mif\u001b[0m \u001b[0mself\u001b[0m\u001b[0;34m.\u001b[0m\u001b[0mreturncode\u001b[0m \u001b[0;32mis\u001b[0m \u001b[0;32mnot\u001b[0m \u001b[0;32mNone\u001b[0m\u001b[0;34m:\u001b[0m\u001b[0;34m\u001b[0m\u001b[0;34m\u001b[0m\u001b[0m\n\u001b[1;32m   1916\u001b[0m                             \u001b[0;32mbreak\u001b[0m  \u001b[0;31m# Another thread waited.\u001b[0m\u001b[0;34m\u001b[0m\u001b[0;34m\u001b[0m\u001b[0m\n\u001b[0;32m-> 1917\u001b[0;31m                         \u001b[0;34m(\u001b[0m\u001b[0mpid\u001b[0m\u001b[0;34m,\u001b[0m \u001b[0msts\u001b[0m\u001b[0;34m)\u001b[0m \u001b[0;34m=\u001b[0m \u001b[0mself\u001b[0m\u001b[0;34m.\u001b[0m\u001b[0m_try_wait\u001b[0m\u001b[0;34m(\u001b[0m\u001b[0;36m0\u001b[0m\u001b[0;34m)\u001b[0m\u001b[0;34m\u001b[0m\u001b[0;34m\u001b[0m\u001b[0m\n\u001b[0m\u001b[1;32m   1918\u001b[0m                         \u001b[0;31m# Check the pid and loop as waitpid has been known to\u001b[0m\u001b[0;34m\u001b[0m\u001b[0;34m\u001b[0m\u001b[0m\n\u001b[1;32m   1919\u001b[0m                         \u001b[0;31m# return 0 even without WNOHANG in odd situations.\u001b[0m\u001b[0;34m\u001b[0m\u001b[0;34m\u001b[0m\u001b[0m\n",
      "\u001b[0;32m/home/storage_1/yuping/environement/ENTER/lib/python3.9/subprocess.py\u001b[0m in \u001b[0;36m_try_wait\u001b[0;34m(self, wait_flags)\u001b[0m\n\u001b[1;32m   1873\u001b[0m             \u001b[0;34m\"\"\"All callers to this function MUST hold self._waitpid_lock.\"\"\"\u001b[0m\u001b[0;34m\u001b[0m\u001b[0;34m\u001b[0m\u001b[0m\n\u001b[1;32m   1874\u001b[0m             \u001b[0;32mtry\u001b[0m\u001b[0;34m:\u001b[0m\u001b[0;34m\u001b[0m\u001b[0;34m\u001b[0m\u001b[0m\n\u001b[0;32m-> 1875\u001b[0;31m                 \u001b[0;34m(\u001b[0m\u001b[0mpid\u001b[0m\u001b[0;34m,\u001b[0m \u001b[0msts\u001b[0m\u001b[0;34m)\u001b[0m \u001b[0;34m=\u001b[0m \u001b[0mos\u001b[0m\u001b[0;34m.\u001b[0m\u001b[0mwaitpid\u001b[0m\u001b[0;34m(\u001b[0m\u001b[0mself\u001b[0m\u001b[0;34m.\u001b[0m\u001b[0mpid\u001b[0m\u001b[0;34m,\u001b[0m \u001b[0mwait_flags\u001b[0m\u001b[0;34m)\u001b[0m\u001b[0;34m\u001b[0m\u001b[0;34m\u001b[0m\u001b[0m\n\u001b[0m\u001b[1;32m   1876\u001b[0m             \u001b[0;32mexcept\u001b[0m \u001b[0mChildProcessError\u001b[0m\u001b[0;34m:\u001b[0m\u001b[0;34m\u001b[0m\u001b[0;34m\u001b[0m\u001b[0m\n\u001b[1;32m   1877\u001b[0m                 \u001b[0;31m# This happens if SIGCLD is set to be ignored or waiting\u001b[0m\u001b[0;34m\u001b[0m\u001b[0;34m\u001b[0m\u001b[0m\n",
      "\u001b[0;31mKeyboardInterrupt\u001b[0m: "
     ]
    }
   ],
   "source": [
    "import subprocess\n",
    "\n",
    "# samples correspond to Het_1, Het_2, Imm_1, Imm_2\n",
    "sra_numbers = [\"SRR2121685\", ]\n",
    "\n",
    "# this will download the .sra files to ~/ncbi/public/sra/ (will create directory if not present)\n",
    "for sra_id in sra_numbers:\n",
    "    print (\"Currently downloading: \" + sra_id)\n",
    "    prefetch = \"prefetch \" + sra_id\n",
    "    print (\"The command used was: \" + prefetch)\n",
    "    subprocess.call(prefetch, shell=True)\n",
    "\n",
    "# this will extract the .sra files from above into a folder named 'fastq'\n",
    "for sra_id in sra_numbers:\n",
    "    print (\"Generating fastq for: \" + sra_id)\n",
    "    fastq_dump = \"fastq-dump --outdir fastq --gzip --skip-technical  --readids --read-filter pass --dumpbase --split-3 --clip /home/storage_1/yuping/raw_data/sra/\" + sra_id + \".sra\"\n",
    "    print (\"The command used was: \" + fastq_dump)\n",
    "    subprocess.call(fastq_dump, shell=True)"
   ]
  },
  {
   "cell_type": "code",
   "execution_count": 4,
   "id": "562fa48b",
   "metadata": {
    "scrolled": true
   },
   "outputs": [
    {
     "name": "stdout",
     "output_type": "stream",
     "text": [
      "Generating fastq for: SRR2121685\n",
      "The command used was: fastq-dump --outdir fastq --gzip --skip-technical  --readids --read-filter pass --dumpbase --split-3 --clip /home/storage_1/yuping/raw_data/sra/SRR2121685.sra\n"
     ]
    },
    {
     "name": "stderr",
     "output_type": "stream",
     "text": [
      "2022-03-10T10:03:24 fastq-dump.2.8.0 err: process canceled while executing process - failed /home/storage_1/yuping/raw_data/sra/SRR2121685.sra\n"
     ]
    },
    {
     "ename": "KeyboardInterrupt",
     "evalue": "",
     "output_type": "error",
     "traceback": [
      "\u001b[0;31m---------------------------------------------------------------------------\u001b[0m",
      "\u001b[0;31mKeyboardInterrupt\u001b[0m                         Traceback (most recent call last)",
      "\u001b[0;32m/tmp/ipykernel_12173/3813417071.py\u001b[0m in \u001b[0;36m<module>\u001b[0;34m\u001b[0m\n\u001b[1;32m      3\u001b[0m     \u001b[0mfastq_dump\u001b[0m \u001b[0;34m=\u001b[0m \u001b[0;34m\"fastq-dump --outdir fastq --gzip --skip-technical  --readids --read-filter pass --dumpbase --split-3 --clip /home/storage_1/yuping/raw_data/sra/\"\u001b[0m \u001b[0;34m+\u001b[0m \u001b[0msra_id\u001b[0m \u001b[0;34m+\u001b[0m \u001b[0;34m\".sra\"\u001b[0m\u001b[0;34m\u001b[0m\u001b[0;34m\u001b[0m\u001b[0m\n\u001b[1;32m      4\u001b[0m     \u001b[0mprint\u001b[0m \u001b[0;34m(\u001b[0m\u001b[0;34m\"The command used was: \"\u001b[0m \u001b[0;34m+\u001b[0m \u001b[0mfastq_dump\u001b[0m\u001b[0;34m)\u001b[0m\u001b[0;34m\u001b[0m\u001b[0;34m\u001b[0m\u001b[0m\n\u001b[0;32m----> 5\u001b[0;31m     \u001b[0msubprocess\u001b[0m\u001b[0;34m.\u001b[0m\u001b[0mcall\u001b[0m\u001b[0;34m(\u001b[0m\u001b[0mfastq_dump\u001b[0m\u001b[0;34m,\u001b[0m \u001b[0mshell\u001b[0m\u001b[0;34m=\u001b[0m\u001b[0;32mTrue\u001b[0m\u001b[0;34m)\u001b[0m\u001b[0;34m\u001b[0m\u001b[0;34m\u001b[0m\u001b[0m\n\u001b[0m",
      "\u001b[0;32m/home/storage_1/yuping/environement/ENTER/lib/python3.9/subprocess.py\u001b[0m in \u001b[0;36mcall\u001b[0;34m(timeout, *popenargs, **kwargs)\u001b[0m\n\u001b[1;32m    349\u001b[0m     \u001b[0;32mwith\u001b[0m \u001b[0mPopen\u001b[0m\u001b[0;34m(\u001b[0m\u001b[0;34m*\u001b[0m\u001b[0mpopenargs\u001b[0m\u001b[0;34m,\u001b[0m \u001b[0;34m**\u001b[0m\u001b[0mkwargs\u001b[0m\u001b[0;34m)\u001b[0m \u001b[0;32mas\u001b[0m \u001b[0mp\u001b[0m\u001b[0;34m:\u001b[0m\u001b[0;34m\u001b[0m\u001b[0;34m\u001b[0m\u001b[0m\n\u001b[1;32m    350\u001b[0m         \u001b[0;32mtry\u001b[0m\u001b[0;34m:\u001b[0m\u001b[0;34m\u001b[0m\u001b[0;34m\u001b[0m\u001b[0m\n\u001b[0;32m--> 351\u001b[0;31m             \u001b[0;32mreturn\u001b[0m \u001b[0mp\u001b[0m\u001b[0;34m.\u001b[0m\u001b[0mwait\u001b[0m\u001b[0;34m(\u001b[0m\u001b[0mtimeout\u001b[0m\u001b[0;34m=\u001b[0m\u001b[0mtimeout\u001b[0m\u001b[0;34m)\u001b[0m\u001b[0;34m\u001b[0m\u001b[0;34m\u001b[0m\u001b[0m\n\u001b[0m\u001b[1;32m    352\u001b[0m         \u001b[0;32mexcept\u001b[0m\u001b[0;34m:\u001b[0m  \u001b[0;31m# Including KeyboardInterrupt, wait handled that.\u001b[0m\u001b[0;34m\u001b[0m\u001b[0;34m\u001b[0m\u001b[0m\n\u001b[1;32m    353\u001b[0m             \u001b[0mp\u001b[0m\u001b[0;34m.\u001b[0m\u001b[0mkill\u001b[0m\u001b[0;34m(\u001b[0m\u001b[0;34m)\u001b[0m\u001b[0;34m\u001b[0m\u001b[0;34m\u001b[0m\u001b[0m\n",
      "\u001b[0;32m/home/storage_1/yuping/environement/ENTER/lib/python3.9/subprocess.py\u001b[0m in \u001b[0;36mwait\u001b[0;34m(self, timeout)\u001b[0m\n\u001b[1;32m   1187\u001b[0m             \u001b[0mendtime\u001b[0m \u001b[0;34m=\u001b[0m \u001b[0m_time\u001b[0m\u001b[0;34m(\u001b[0m\u001b[0;34m)\u001b[0m \u001b[0;34m+\u001b[0m \u001b[0mtimeout\u001b[0m\u001b[0;34m\u001b[0m\u001b[0;34m\u001b[0m\u001b[0m\n\u001b[1;32m   1188\u001b[0m         \u001b[0;32mtry\u001b[0m\u001b[0;34m:\u001b[0m\u001b[0;34m\u001b[0m\u001b[0;34m\u001b[0m\u001b[0m\n\u001b[0;32m-> 1189\u001b[0;31m             \u001b[0;32mreturn\u001b[0m \u001b[0mself\u001b[0m\u001b[0;34m.\u001b[0m\u001b[0m_wait\u001b[0m\u001b[0;34m(\u001b[0m\u001b[0mtimeout\u001b[0m\u001b[0;34m=\u001b[0m\u001b[0mtimeout\u001b[0m\u001b[0;34m)\u001b[0m\u001b[0;34m\u001b[0m\u001b[0;34m\u001b[0m\u001b[0m\n\u001b[0m\u001b[1;32m   1190\u001b[0m         \u001b[0;32mexcept\u001b[0m \u001b[0mKeyboardInterrupt\u001b[0m\u001b[0;34m:\u001b[0m\u001b[0;34m\u001b[0m\u001b[0;34m\u001b[0m\u001b[0m\n\u001b[1;32m   1191\u001b[0m             \u001b[0;31m# https://bugs.python.org/issue25942\u001b[0m\u001b[0;34m\u001b[0m\u001b[0;34m\u001b[0m\u001b[0m\n",
      "\u001b[0;32m/home/storage_1/yuping/environement/ENTER/lib/python3.9/subprocess.py\u001b[0m in \u001b[0;36m_wait\u001b[0;34m(self, timeout)\u001b[0m\n\u001b[1;32m   1915\u001b[0m                         \u001b[0;32mif\u001b[0m \u001b[0mself\u001b[0m\u001b[0;34m.\u001b[0m\u001b[0mreturncode\u001b[0m \u001b[0;32mis\u001b[0m \u001b[0;32mnot\u001b[0m \u001b[0;32mNone\u001b[0m\u001b[0;34m:\u001b[0m\u001b[0;34m\u001b[0m\u001b[0;34m\u001b[0m\u001b[0m\n\u001b[1;32m   1916\u001b[0m                             \u001b[0;32mbreak\u001b[0m  \u001b[0;31m# Another thread waited.\u001b[0m\u001b[0;34m\u001b[0m\u001b[0;34m\u001b[0m\u001b[0m\n\u001b[0;32m-> 1917\u001b[0;31m                         \u001b[0;34m(\u001b[0m\u001b[0mpid\u001b[0m\u001b[0;34m,\u001b[0m \u001b[0msts\u001b[0m\u001b[0;34m)\u001b[0m \u001b[0;34m=\u001b[0m \u001b[0mself\u001b[0m\u001b[0;34m.\u001b[0m\u001b[0m_try_wait\u001b[0m\u001b[0;34m(\u001b[0m\u001b[0;36m0\u001b[0m\u001b[0;34m)\u001b[0m\u001b[0;34m\u001b[0m\u001b[0;34m\u001b[0m\u001b[0m\n\u001b[0m\u001b[1;32m   1918\u001b[0m                         \u001b[0;31m# Check the pid and loop as waitpid has been known to\u001b[0m\u001b[0;34m\u001b[0m\u001b[0;34m\u001b[0m\u001b[0m\n\u001b[1;32m   1919\u001b[0m                         \u001b[0;31m# return 0 even without WNOHANG in odd situations.\u001b[0m\u001b[0;34m\u001b[0m\u001b[0;34m\u001b[0m\u001b[0m\n",
      "\u001b[0;32m/home/storage_1/yuping/environement/ENTER/lib/python3.9/subprocess.py\u001b[0m in \u001b[0;36m_try_wait\u001b[0;34m(self, wait_flags)\u001b[0m\n\u001b[1;32m   1873\u001b[0m             \u001b[0;34m\"\"\"All callers to this function MUST hold self._waitpid_lock.\"\"\"\u001b[0m\u001b[0;34m\u001b[0m\u001b[0;34m\u001b[0m\u001b[0m\n\u001b[1;32m   1874\u001b[0m             \u001b[0;32mtry\u001b[0m\u001b[0;34m:\u001b[0m\u001b[0;34m\u001b[0m\u001b[0;34m\u001b[0m\u001b[0m\n\u001b[0;32m-> 1875\u001b[0;31m                 \u001b[0;34m(\u001b[0m\u001b[0mpid\u001b[0m\u001b[0;34m,\u001b[0m \u001b[0msts\u001b[0m\u001b[0;34m)\u001b[0m \u001b[0;34m=\u001b[0m \u001b[0mos\u001b[0m\u001b[0;34m.\u001b[0m\u001b[0mwaitpid\u001b[0m\u001b[0;34m(\u001b[0m\u001b[0mself\u001b[0m\u001b[0;34m.\u001b[0m\u001b[0mpid\u001b[0m\u001b[0;34m,\u001b[0m \u001b[0mwait_flags\u001b[0m\u001b[0;34m)\u001b[0m\u001b[0;34m\u001b[0m\u001b[0;34m\u001b[0m\u001b[0m\n\u001b[0m\u001b[1;32m   1876\u001b[0m             \u001b[0;32mexcept\u001b[0m \u001b[0mChildProcessError\u001b[0m\u001b[0;34m:\u001b[0m\u001b[0;34m\u001b[0m\u001b[0;34m\u001b[0m\u001b[0m\n\u001b[1;32m   1877\u001b[0m                 \u001b[0;31m# This happens if SIGCLD is set to be ignored or waiting\u001b[0m\u001b[0;34m\u001b[0m\u001b[0;34m\u001b[0m\u001b[0m\n",
      "\u001b[0;31mKeyboardInterrupt\u001b[0m: "
     ]
    }
   ],
   "source": [
    "for sra_id in sra_numbers:\n",
    "    print (\"Generating fastq for: \" + sra_id)\n",
    "    fastq_dump = \"fastq-dump --outdir fastq --gzip --skip-technical  --readids --read-filter pass --dumpbase --split-3 --clip /home/storage_1/yuping/raw_data/sra/\" + sra_id + \".sra\"\n",
    "    print (\"The command used was: \" + fastq_dump)\n",
    "    subprocess.call(fastq_dump, shell=True)"
   ]
  },
  {
   "cell_type": "code",
   "execution_count": 2,
   "id": "592a79f2",
   "metadata": {},
   "outputs": [],
   "source": [
    "def download_tools(sra_numbers,fastq,new_path,):\n",
    "    \"\"\" Automating downloads using Python\n",
    "    Since there are lots of SRA files associated with our samples, \n",
    "    it would take a long time to manually run prefetch and fastq-dump for all the files. \n",
    "    To automate this process,the fonction will download each SRA file using prefetch and then run fastq-dump. \n",
    "    Parameter:\n",
    "            - sra_number : a list of all sra_number.\n",
    "            - path : path to save the rawdata of the SRA (dafaut : ~/ncbi/ncbi_public/sra)\n",
    "            - name_of_document: name of the fold(defaut: fastq)\n",
    "    \"\"\"\n",
    "    for sra_id in sra_numbers:\n",
    "        print (\"Currently downloading: \" + sra_id)\n",
    "        prefetch = \"prefetch \" + sra_id\n",
    "        print (\"The command used was: \" + prefetch)\n",
    "        subprocess.call(prefetch, shell=True)\n",
    "\n",
    "    # this will extract the .sra files from above into a folder named 'fastq'\n",
    "    for sra_id in sra_numbers:\n",
    "        print (\"Generating fastq for: \" + sra_id)\n",
    "        fastq_dump = f'fastq-dump --outdir {fastq} --gzip --skip-technical --readids --read-filter pass --dumpbase --split-3 --clip {new_path}/sra/{sra_id}.sra'\n",
    "        print (\"The command used was: \" + fastq_dump)\n",
    "        subprocess.call(fastq_dump, shell=True)\n",
    "    "
   ]
  },
  {
   "cell_type": "code",
   "execution_count": 25,
   "id": "c21c8394",
   "metadata": {},
   "outputs": [],
   "source": [
    "def download_tools(sra_numbers,fastq,new_path,e):\n",
    "    \"\"\" Automating downloads using Python\n",
    "    Since there are lots of SRA files associated with our samples, \n",
    "    it would take a long time to manually run prefetch and fastq-dump for all the files. \n",
    "    To automate this process,the fonction will download each SRA file using prefetch and then run fastq-dump. \n",
    "    Parameter:\n",
    "            - sra_number : a list of all sra_number.\n",
    "            - path : path to save the rawdata of the SRA (dafault : ~/ncbi/ncbi_public/sra)\n",
    "            - name_of_document: name of the fold(default: fastq)\n",
    "            - e : int how many thread (default=6)\n",
    "    \"\"\"\n",
    "    for sra_id in sra_numbers:\n",
    "        print (\"Currently downloading: \" + sra_id)\n",
    "        prefetch = \"prefetch \" + sra_id\n",
    "        print (\"The command used was: \" + prefetch)\n",
    "        subprocess.call(prefetch, shell=True)\n",
    "\n",
    "    # this will extract the .sra files from above into a folder named 'fastq'\n",
    "    for sra_id in sra_numbers:\n",
    "        print (\"Generating fastq for: \" + sra_id)\n",
    "        fastq_dump = f'fasterq-dump {new_path}sra/{sra_id}.sra --outdir {fastq} -e {e} '\n",
    "        print (\"The command used was: \" + fastq_dump)\n",
    "        subprocess.call(fastq_dump, shell=True)"
   ]
  },
  {
   "cell_type": "code",
   "execution_count": 21,
   "id": "e4d23d34",
   "metadata": {},
   "outputs": [],
   "source": [
    "fastq=\"liver_fastq\"\n",
    "sra_numbers = [\"SRR2121685\"]\n",
    "new_path='/home/storage_1/yuping/raw_data/'\n",
    "e=20"
   ]
  },
  {
   "cell_type": "code",
   "execution_count": 26,
   "id": "7d4600a3",
   "metadata": {},
   "outputs": [],
   "source": [
    "with open('listfile.txt', 'w') as filehandle:\n",
    "    for listitem in sra_numbers:\n",
    "        filehandle.write('%s\\n' % listitem)"
   ]
  },
  {
   "cell_type": "code",
   "execution_count": 24,
   "id": "5188e7b1",
   "metadata": {
    "scrolled": true
   },
   "outputs": [
    {
     "name": "stdout",
     "output_type": "stream",
     "text": [
      "Currently downloading: SRR2121685\n",
      "The command used was: prefetch SRR2121685\n",
      "\n"
     ]
    },
    {
     "name": "stderr",
     "output_type": "stream",
     "text": [
      "2022-03-10T15:09:40 prefetch.2.11.2: Current preference is set to retrieve SRA Normalized Format files with full base quality scores.\n",
      "2022-03-10T15:09:41 prefetch.2.11.2: 1) 'SRR2121685' is found locally\n"
     ]
    },
    {
     "name": "stdout",
     "output_type": "stream",
     "text": [
      "Generating fastq for: SRR2121685\n",
      "The command used was: fasterq-dump /home/storage_1/yuping/raw_data/sra/SRR2121685.sra --outdir liver_fastq -e 20 \n",
      "successful downSRR2121685\n"
     ]
    },
    {
     "name": "stderr",
     "output_type": "stream",
     "text": [
      "spots read      : 27,928,438\n",
      "reads read      : 55,856,876\n",
      "reads written   : 55,856,876\n"
     ]
    }
   ],
   "source": [
    "download_tools(sra_numbers,fastq,new_path,e)"
   ]
  },
  {
   "cell_type": "code",
   "execution_count": 32,
   "id": "44c19e58",
   "metadata": {},
   "outputs": [],
   "source": [
    "new_path='/home/storage_1/yuping/raw_data/'"
   ]
  },
  {
   "cell_type": "code",
   "execution_count": 10,
   "id": "027f8e4e",
   "metadata": {},
   "outputs": [
    {
     "name": "stdout",
     "output_type": "stream",
     "text": [
      "echo /repository/user/main/public/root= /home/storage_1/yuping/raw_data/ > $HOME/.ncbi/user-settings.mkfg\n"
     ]
    }
   ],
   "source": [
    "out_path(new_path)"
   ]
  },
  {
   "cell_type": "code",
   "execution_count": 5,
   "id": "ae381c63",
   "metadata": {},
   "outputs": [],
   "source": [
    "def out_path(new_path):\n",
    "    cmd=  f'echo \\'/repository/user/main/public/root= \"{new_path}\"\\' > $HOME/.ncbi/user-settings.mkfg'\n",
    "    print(cmd)\n",
    "    subprocess.call(cmd, shell=True)"
   ]
  },
  {
   "cell_type": "code",
   "execution_count": 6,
   "id": "4d087d31",
   "metadata": {},
   "outputs": [
    {
     "name": "stdout",
     "output_type": "stream",
     "text": [
      "echo '/repository/user/main/public/root= \"/home/storage_1/yuping/raw_data/\"' > $HOME/.ncbi/user-settings.mkfg\n"
     ]
    }
   ],
   "source": [
    "out_path(new_path)"
   ]
  },
  {
   "cell_type": "code",
   "execution_count": 38,
   "id": "3954ee23",
   "metadata": {},
   "outputs": [],
   "source": [
    "import os"
   ]
  },
  {
   "cell_type": "code",
   "execution_count": 46,
   "id": "db51a9c9",
   "metadata": {},
   "outputs": [],
   "source": [
    "x=!pysradb srx-to-srr SRX4616734 "
   ]
  },
  {
   "cell_type": "code",
   "execution_count": 47,
   "id": "bcaf8e45",
   "metadata": {},
   "outputs": [
    {
     "name": "stdout",
     "output_type": "stream",
     "text": [
      "['/home/storage_1/yuping/environement/ENTER/lib/python3.9/site-packages/pysradb/cli.py:38: FutureWarning: Passing a negative integer is deprecated in version 1.0 and will not be supported in future version. Instead, use None to not limit the column width.', '  pd.set_option(\"display.max_colwidth\", -1)', 'experiment_accession run_accession', 'SRX4616734           SRR7761109   ']\n"
     ]
    }
   ],
   "source": [
    "print(x)"
   ]
  },
  {
   "cell_type": "code",
   "execution_count": 2,
   "id": "262800a6",
   "metadata": {},
   "outputs": [],
   "source": [
    "from pysradb.sraweb import SRAweb"
   ]
  },
  {
   "cell_type": "code",
   "execution_count": 3,
   "id": "d6d77f8d",
   "metadata": {},
   "outputs": [],
   "source": [
    "db=SRAweb()"
   ]
  },
  {
   "cell_type": "code",
   "execution_count": 61,
   "id": "c99f3037",
   "metadata": {},
   "outputs": [
    {
     "ename": "ExpatError",
     "evalue": "not well-formed (invalid token): line 1, column 1476",
     "output_type": "error",
     "traceback": [
      "\u001b[0;31m---------------------------------------------------------------------------\u001b[0m",
      "\u001b[0;31mExpatError\u001b[0m                                Traceback (most recent call last)",
      "\u001b[0;32m/tmp/ipykernel_39038/4092519810.py\u001b[0m in \u001b[0;36m<module>\u001b[0;34m\u001b[0m\n\u001b[0;32m----> 1\u001b[0;31m \u001b[0mdb\u001b[0m\u001b[0;34m.\u001b[0m\u001b[0mgsm_to_srr\u001b[0m\u001b[0;34m(\u001b[0m\u001b[0;34m\"GSM1390723\"\u001b[0m\u001b[0;34m)\u001b[0m\u001b[0;34m\u001b[0m\u001b[0;34m\u001b[0m\u001b[0m\n\u001b[0m",
      "\u001b[0;32m/home/storage_1/yuping/environement/ENTER/lib/python3.9/site-packages/pysradb/sraweb.py\u001b[0m in \u001b[0;36mgsm_to_srr\u001b[0;34m(self, gsm, **kwargs)\u001b[0m\n\u001b[1;32m    327\u001b[0m         )\n\u001b[1;32m    328\u001b[0m         \u001b[0mgsm_df\u001b[0m \u001b[0;34m=\u001b[0m \u001b[0mgsm_df\u001b[0m\u001b[0;34m[\u001b[0m\u001b[0mgsm_df\u001b[0m\u001b[0;34m.\u001b[0m\u001b[0mentrytype\u001b[0m \u001b[0;34m==\u001b[0m \u001b[0;34m\"GSM\"\u001b[0m\u001b[0;34m]\u001b[0m\u001b[0;34m\u001b[0m\u001b[0;34m\u001b[0m\u001b[0m\n\u001b[0;32m--> 329\u001b[0;31m         \u001b[0msrr_df\u001b[0m \u001b[0;34m=\u001b[0m \u001b[0mself\u001b[0m\u001b[0;34m.\u001b[0m\u001b[0msrx_to_srr\u001b[0m\u001b[0;34m(\u001b[0m\u001b[0mgsm_df\u001b[0m\u001b[0;34m.\u001b[0m\u001b[0mexperiment_accession\u001b[0m\u001b[0;34m.\u001b[0m\u001b[0mtolist\u001b[0m\u001b[0;34m(\u001b[0m\u001b[0;34m)\u001b[0m\u001b[0;34m)\u001b[0m\u001b[0;34m\u001b[0m\u001b[0;34m\u001b[0m\u001b[0m\n\u001b[0m\u001b[1;32m    330\u001b[0m         \u001b[0mgsm_df\u001b[0m \u001b[0;34m=\u001b[0m \u001b[0mgsm_df\u001b[0m\u001b[0;34m.\u001b[0m\u001b[0mmerge\u001b[0m\u001b[0;34m(\u001b[0m\u001b[0msrr_df\u001b[0m\u001b[0;34m,\u001b[0m \u001b[0mon\u001b[0m\u001b[0;34m=\u001b[0m\u001b[0;34m\"experiment_accession\"\u001b[0m\u001b[0;34m)\u001b[0m\u001b[0;34m\u001b[0m\u001b[0;34m\u001b[0m\u001b[0m\n\u001b[1;32m    331\u001b[0m         \u001b[0;32mreturn\u001b[0m \u001b[0mgsm_df\u001b[0m\u001b[0;34m[\u001b[0m\u001b[0;34m[\u001b[0m\u001b[0;34m\"experiment_alias\"\u001b[0m\u001b[0;34m,\u001b[0m \u001b[0;34m\"run_accession\"\u001b[0m\u001b[0;34m]\u001b[0m\u001b[0;34m]\u001b[0m\u001b[0;34m\u001b[0m\u001b[0;34m\u001b[0m\u001b[0m\n",
      "\u001b[0;32m/home/storage_1/yuping/environement/ENTER/lib/python3.9/site-packages/pysradb/sraweb.py\u001b[0m in \u001b[0;36msrx_to_srr\u001b[0;34m(self, srx, **kwargs)\u001b[0m\n\u001b[1;32m    434\u001b[0m     \u001b[0;32mdef\u001b[0m \u001b[0msrx_to_srr\u001b[0m\u001b[0;34m(\u001b[0m\u001b[0mself\u001b[0m\u001b[0;34m,\u001b[0m \u001b[0msrx\u001b[0m\u001b[0;34m,\u001b[0m \u001b[0;34m**\u001b[0m\u001b[0mkwargs\u001b[0m\u001b[0;34m)\u001b[0m\u001b[0;34m:\u001b[0m\u001b[0;34m\u001b[0m\u001b[0;34m\u001b[0m\u001b[0m\n\u001b[1;32m    435\u001b[0m         \u001b[0;34m\"\"\"Get SRR for a SRX\"\"\"\u001b[0m\u001b[0;34m\u001b[0m\u001b[0;34m\u001b[0m\u001b[0m\n\u001b[0;32m--> 436\u001b[0;31m         \u001b[0msrx_df\u001b[0m \u001b[0;34m=\u001b[0m \u001b[0mself\u001b[0m\u001b[0;34m.\u001b[0m\u001b[0msra_metadata\u001b[0m\u001b[0;34m(\u001b[0m\u001b[0msrx\u001b[0m\u001b[0;34m)\u001b[0m\u001b[0;34m\u001b[0m\u001b[0;34m\u001b[0m\u001b[0m\n\u001b[0m\u001b[1;32m    437\u001b[0m         \u001b[0;32mreturn\u001b[0m \u001b[0msrx_df\u001b[0m\u001b[0;34m[\u001b[0m\u001b[0;34m[\u001b[0m\u001b[0;34m\"experiment_accession\"\u001b[0m\u001b[0;34m,\u001b[0m \u001b[0;34m\"run_accession\"\u001b[0m\u001b[0;34m]\u001b[0m\u001b[0;34m]\u001b[0m\u001b[0;34m\u001b[0m\u001b[0;34m\u001b[0m\u001b[0m\n\u001b[1;32m    438\u001b[0m \u001b[0;34m\u001b[0m\u001b[0m\n",
      "\u001b[0;32m/home/storage_1/yuping/environement/ENTER/lib/python3.9/site-packages/pysradb/sraweb.py\u001b[0m in \u001b[0;36msra_metadata\u001b[0;34m(self, srp, sample_attribute, detailed, expand_sample_attributes, output_read_lengths, **kwargs)\u001b[0m\n\u001b[1;32m    157\u001b[0m \u001b[0;34m\u001b[0m\u001b[0m\n\u001b[1;32m    158\u001b[0m         \u001b[0;32mfor\u001b[0m \u001b[0muid\u001b[0m \u001b[0;32min\u001b[0m \u001b[0muids\u001b[0m\u001b[0;34m:\u001b[0m\u001b[0;34m\u001b[0m\u001b[0;34m\u001b[0m\u001b[0m\n\u001b[0;32m--> 159\u001b[0;31m             \u001b[0mexps_json\u001b[0m\u001b[0;34m[\u001b[0m\u001b[0muid\u001b[0m\u001b[0;34m]\u001b[0m \u001b[0;34m=\u001b[0m \u001b[0mself\u001b[0m\u001b[0;34m.\u001b[0m\u001b[0mxml_to_json\u001b[0m\u001b[0;34m(\u001b[0m\u001b[0mexps_xml\u001b[0m\u001b[0;34m[\u001b[0m\u001b[0muid\u001b[0m\u001b[0;34m]\u001b[0m\u001b[0;34m)\u001b[0m\u001b[0;34m\u001b[0m\u001b[0;34m\u001b[0m\u001b[0m\n\u001b[0m\u001b[1;32m    160\u001b[0m             \u001b[0mruns_json\u001b[0m\u001b[0;34m[\u001b[0m\u001b[0muid\u001b[0m\u001b[0;34m]\u001b[0m \u001b[0;34m=\u001b[0m \u001b[0mself\u001b[0m\u001b[0;34m.\u001b[0m\u001b[0mxml_to_json\u001b[0m\u001b[0;34m(\u001b[0m\u001b[0mruns_xml\u001b[0m\u001b[0;34m[\u001b[0m\u001b[0muid\u001b[0m\u001b[0;34m]\u001b[0m\u001b[0;34m)\u001b[0m\u001b[0;34m\u001b[0m\u001b[0;34m\u001b[0m\u001b[0m\n\u001b[1;32m    161\u001b[0m \u001b[0;34m\u001b[0m\u001b[0m\n",
      "\u001b[0;32m/home/storage_1/yuping/environement/ENTER/lib/python3.9/site-packages/pysradb/sraweb.py\u001b[0m in \u001b[0;36mxml_to_json\u001b[0;34m(xml)\u001b[0m\n\u001b[1;32m     69\u001b[0m                   \u001b[0mParsed\u001b[0m \u001b[0mxml\u001b[0m \u001b[0;32mas\u001b[0m \u001b[0mdict\u001b[0m\u001b[0;34m\u001b[0m\u001b[0;34m\u001b[0m\u001b[0m\n\u001b[1;32m     70\u001b[0m         \"\"\"\n\u001b[0;32m---> 71\u001b[0;31m         \u001b[0;32mreturn\u001b[0m \u001b[0mxmltodict\u001b[0m\u001b[0;34m.\u001b[0m\u001b[0mparse\u001b[0m\u001b[0;34m(\u001b[0m\u001b[0mxml\u001b[0m\u001b[0;34m)\u001b[0m\u001b[0;34m[\u001b[0m\u001b[0;34m\"root\"\u001b[0m\u001b[0;34m]\u001b[0m\u001b[0;34m\u001b[0m\u001b[0;34m\u001b[0m\u001b[0m\n\u001b[0m\u001b[1;32m     72\u001b[0m \u001b[0;34m\u001b[0m\u001b[0m\n\u001b[1;32m     73\u001b[0m     \u001b[0;32mdef\u001b[0m \u001b[0mcreate_esummary_params\u001b[0m\u001b[0;34m(\u001b[0m\u001b[0mself\u001b[0m\u001b[0;34m,\u001b[0m \u001b[0mesearchresult\u001b[0m\u001b[0;34m,\u001b[0m \u001b[0mdb\u001b[0m\u001b[0;34m=\u001b[0m\u001b[0;34m\"sra\"\u001b[0m\u001b[0;34m)\u001b[0m\u001b[0;34m:\u001b[0m\u001b[0;34m\u001b[0m\u001b[0;34m\u001b[0m\u001b[0m\n",
      "\u001b[0;32m/home/storage_1/yuping/environement/ENTER/lib/python3.9/site-packages/xmltodict.py\u001b[0m in \u001b[0;36mparse\u001b[0;34m(xml_input, encoding, expat, process_namespaces, namespace_separator, disable_entities, **kwargs)\u001b[0m\n\u001b[1;32m    325\u001b[0m         \u001b[0mparser\u001b[0m\u001b[0;34m.\u001b[0m\u001b[0mParseFile\u001b[0m\u001b[0;34m(\u001b[0m\u001b[0mxml_input\u001b[0m\u001b[0;34m)\u001b[0m\u001b[0;34m\u001b[0m\u001b[0;34m\u001b[0m\u001b[0m\n\u001b[1;32m    326\u001b[0m     \u001b[0;32melse\u001b[0m\u001b[0;34m:\u001b[0m\u001b[0;34m\u001b[0m\u001b[0;34m\u001b[0m\u001b[0m\n\u001b[0;32m--> 327\u001b[0;31m         \u001b[0mparser\u001b[0m\u001b[0;34m.\u001b[0m\u001b[0mParse\u001b[0m\u001b[0;34m(\u001b[0m\u001b[0mxml_input\u001b[0m\u001b[0;34m,\u001b[0m \u001b[0;32mTrue\u001b[0m\u001b[0;34m)\u001b[0m\u001b[0;34m\u001b[0m\u001b[0;34m\u001b[0m\u001b[0m\n\u001b[0m\u001b[1;32m    328\u001b[0m     \u001b[0;32mreturn\u001b[0m \u001b[0mhandler\u001b[0m\u001b[0;34m.\u001b[0m\u001b[0mitem\u001b[0m\u001b[0;34m\u001b[0m\u001b[0;34m\u001b[0m\u001b[0m\n\u001b[1;32m    329\u001b[0m \u001b[0;34m\u001b[0m\u001b[0m\n",
      "\u001b[0;31mExpatError\u001b[0m: not well-formed (invalid token): line 1, column 1476"
     ]
    }
   ],
   "source": [
    "db.gsm_to_srr(\"GSM1390723\")"
   ]
  },
  {
   "cell_type": "code",
   "execution_count": 22,
   "id": "a08f6e5d",
   "metadata": {},
   "outputs": [
    {
     "data": {
      "text/html": [
       "<div>\n",
       "<style scoped>\n",
       "    .dataframe tbody tr th:only-of-type {\n",
       "        vertical-align: middle;\n",
       "    }\n",
       "\n",
       "    .dataframe tbody tr th {\n",
       "        vertical-align: top;\n",
       "    }\n",
       "\n",
       "    .dataframe thead th {\n",
       "        text-align: right;\n",
       "    }\n",
       "</style>\n",
       "<table border=\"1\" class=\"dataframe\">\n",
       "  <thead>\n",
       "    <tr style=\"text-align: right;\">\n",
       "      <th></th>\n",
       "      <th>experiment_alias</th>\n",
       "      <th>run_accession</th>\n",
       "    </tr>\n",
       "  </thead>\n",
       "  <tbody>\n",
       "    <tr>\n",
       "      <th>0</th>\n",
       "      <td>GSM1869598</td>\n",
       "      <td>SRR2297500</td>\n",
       "    </tr>\n",
       "  </tbody>\n",
       "</table>\n",
       "</div>"
      ],
      "text/plain": [
       "  experiment_alias run_accession\n",
       "0       GSM1869598    SRR2297500"
      ]
     },
     "execution_count": 22,
     "metadata": {},
     "output_type": "execute_result"
    }
   ],
   "source": [
    "result"
   ]
  },
  {
   "cell_type": "code",
   "execution_count": 16,
   "id": "69cc4c26",
   "metadata": {},
   "outputs": [],
   "source": [
    "import pandas as pd"
   ]
  },
  {
   "cell_type": "code",
   "execution_count": 17,
   "id": "7c37bb23",
   "metadata": {},
   "outputs": [
    {
     "data": {
      "text/html": [
       "<div>\n",
       "<style scoped>\n",
       "    .dataframe tbody tr th:only-of-type {\n",
       "        vertical-align: middle;\n",
       "    }\n",
       "\n",
       "    .dataframe tbody tr th {\n",
       "        vertical-align: top;\n",
       "    }\n",
       "\n",
       "    .dataframe thead th {\n",
       "        text-align: right;\n",
       "    }\n",
       "</style>\n",
       "<table border=\"1\" class=\"dataframe\">\n",
       "  <thead>\n",
       "    <tr style=\"text-align: right;\">\n",
       "      <th></th>\n",
       "      <th>experiment_alias</th>\n",
       "      <th>run_accession</th>\n",
       "    </tr>\n",
       "  </thead>\n",
       "  <tbody>\n",
       "    <tr>\n",
       "      <th>0</th>\n",
       "      <td>GSM3358341</td>\n",
       "      <td>SRR7761109</td>\n",
       "    </tr>\n",
       "    <tr>\n",
       "      <th>0</th>\n",
       "      <td>GSM3358341</td>\n",
       "      <td>SRR7761109</td>\n",
       "    </tr>\n",
       "  </tbody>\n",
       "</table>\n",
       "</div>"
      ],
      "text/plain": [
       "  experiment_alias run_accession\n",
       "0       GSM3358341    SRR7761109\n",
       "0       GSM3358341    SRR7761109"
      ]
     },
     "execution_count": 17,
     "metadata": {},
     "output_type": "execute_result"
    }
   ],
   "source": [
    "pd.concat([result,df])"
   ]
  },
  {
   "cell_type": "code",
   "execution_count": 86,
   "id": "ce81fc65",
   "metadata": {},
   "outputs": [],
   "source": [
    "file_wite_obj=open(\"sra_liver.txt\",\"w\")\n",
    "for var in listSRA:\n",
    "    file_wite_obj.writelines(var)\n",
    "    file_wite_obj.write('\\n')\n",
    "file_wite_obj.close()"
   ]
  },
  {
   "cell_type": "code",
   "execution_count": 28,
   "id": "023f8ea7",
   "metadata": {},
   "outputs": [],
   "source": [
    "liste_GSM=[]"
   ]
  },
  {
   "cell_type": "code",
   "execution_count": 67,
   "id": "c015c970",
   "metadata": {},
   "outputs": [],
   "source": [
    "liste_GSM1=liste_GSM[270:]"
   ]
  },
  {
   "cell_type": "code",
   "execution_count": 60,
   "id": "bdbcc484",
   "metadata": {},
   "outputs": [
    {
     "data": {
      "text/plain": [
       "'GSM1390723\\n'"
      ]
     },
     "execution_count": 60,
     "metadata": {},
     "output_type": "execute_result"
    }
   ],
   "source": [
    "liste_GSM[267]"
   ]
  },
  {
   "cell_type": "code",
   "execution_count": 68,
   "id": "f99cee39",
   "metadata": {},
   "outputs": [
    {
     "data": {
      "text/plain": [
       "['GSM5737136\\n',\n",
       " 'GSM5737137\\n',\n",
       " 'GSM5737138\\n',\n",
       " 'GSM5737022\\n',\n",
       " 'GSM5737023\\n',\n",
       " 'GSM5737024\\n',\n",
       " 'GSM5737025\\n',\n",
       " 'GSM5737026\\n',\n",
       " 'GSM2363474\\n',\n",
       " 'GSM2363475\\n',\n",
       " 'GSM2363476\\n',\n",
       " 'GSM2363477\\n',\n",
       " 'GSM4811694\\n',\n",
       " 'GSM4811696\\n',\n",
       " 'GSM4811698\\n',\n",
       " 'GSM5510536\\n',\n",
       " 'GSM5510537\\n',\n",
       " 'GSM5510538\\n',\n",
       " 'GSM3454509\\n',\n",
       " 'GSM3454510\\n',\n",
       " 'GSM3454511\\n',\n",
       " 'GSM3454512\\n',\n",
       " 'GSM3454513\\n',\n",
       " 'GSM3454514\\n',\n",
       " 'GSM3454515\\n',\n",
       " 'GSM3454516\\n',\n",
       " 'GSM3454517\\n',\n",
       " 'GSM3454518\\n',\n",
       " 'GSM3454519\\n',\n",
       " 'GSM3454520\\n',\n",
       " 'GSM4199337\\n',\n",
       " 'GSM4199354\\n',\n",
       " 'GSM4199371\\n',\n",
       " 'GSM4199581\\n',\n",
       " 'GSM4199598\\n',\n",
       " 'GSM4199614\\n',\n",
       " 'GSM5737076\\n',\n",
       " 'GSM5737077\\n',\n",
       " 'GSM5737078\\n',\n",
       " 'GSM2430558\\n',\n",
       " 'GSM2430559\\n',\n",
       " 'GSM2430560\\n']"
      ]
     },
     "execution_count": 68,
     "metadata": {},
     "output_type": "execute_result"
    }
   ],
   "source": [
    "liste_GSM1"
   ]
  },
  {
   "cell_type": "code",
   "execution_count": null,
   "id": "604c6ba5",
   "metadata": {},
   "outputs": [],
   "source": [
    "liste_incorecte=liste_GSM[266:269]"
   ]
  },
  {
   "cell_type": "code",
   "execution_count": 75,
   "id": "f35eabd6",
   "metadata": {},
   "outputs": [],
   "source": [
    "listSRA=list(set(result.run_accession))"
   ]
  },
  {
   "cell_type": "code",
   "execution_count": 82,
   "id": "8bb8bb1c",
   "metadata": {},
   "outputs": [
    {
     "data": {
      "text/html": [
       "<div>\n",
       "<style scoped>\n",
       "    .dataframe tbody tr th:only-of-type {\n",
       "        vertical-align: middle;\n",
       "    }\n",
       "\n",
       "    .dataframe tbody tr th {\n",
       "        vertical-align: top;\n",
       "    }\n",
       "\n",
       "    .dataframe thead th {\n",
       "        text-align: right;\n",
       "    }\n",
       "</style>\n",
       "<table border=\"1\" class=\"dataframe\">\n",
       "  <thead>\n",
       "    <tr style=\"text-align: right;\">\n",
       "      <th></th>\n",
       "      <th>experiment_alias</th>\n",
       "      <th>run_accession</th>\n",
       "    </tr>\n",
       "  </thead>\n",
       "  <tbody>\n",
       "    <tr>\n",
       "      <th>0</th>\n",
       "      <td>GSM1869600</td>\n",
       "      <td>SRR2297502</td>\n",
       "    </tr>\n",
       "    <tr>\n",
       "      <th>0</th>\n",
       "      <td>GSM3358341</td>\n",
       "      <td>SRR7761109</td>\n",
       "    </tr>\n",
       "    <tr>\n",
       "      <th>0</th>\n",
       "      <td>GSM3358342</td>\n",
       "      <td>SRR7761110</td>\n",
       "    </tr>\n",
       "    <tr>\n",
       "      <th>0</th>\n",
       "      <td>GSM3358343</td>\n",
       "      <td>SRR7761111</td>\n",
       "    </tr>\n",
       "    <tr>\n",
       "      <th>0</th>\n",
       "      <td>GSM3358344</td>\n",
       "      <td>SRR7761112</td>\n",
       "    </tr>\n",
       "    <tr>\n",
       "      <th>...</th>\n",
       "      <td>...</td>\n",
       "      <td>...</td>\n",
       "    </tr>\n",
       "    <tr>\n",
       "      <th>0</th>\n",
       "      <td>GSM5737077</td>\n",
       "      <td>SRR17261704</td>\n",
       "    </tr>\n",
       "    <tr>\n",
       "      <th>0</th>\n",
       "      <td>GSM5737078</td>\n",
       "      <td>SRR17261705</td>\n",
       "    </tr>\n",
       "    <tr>\n",
       "      <th>0</th>\n",
       "      <td>GSM2430558</td>\n",
       "      <td>SRR5115673</td>\n",
       "    </tr>\n",
       "    <tr>\n",
       "      <th>0</th>\n",
       "      <td>GSM2430559</td>\n",
       "      <td>SRR5115674</td>\n",
       "    </tr>\n",
       "    <tr>\n",
       "      <th>0</th>\n",
       "      <td>GSM2430560</td>\n",
       "      <td>SRR5115675</td>\n",
       "    </tr>\n",
       "  </tbody>\n",
       "</table>\n",
       "<p>333 rows × 2 columns</p>\n",
       "</div>"
      ],
      "text/plain": [
       "   experiment_alias run_accession\n",
       "0        GSM1869600    SRR2297502\n",
       "0        GSM3358341    SRR7761109\n",
       "0        GSM3358342    SRR7761110\n",
       "0        GSM3358343    SRR7761111\n",
       "0        GSM3358344    SRR7761112\n",
       "..              ...           ...\n",
       "0        GSM5737077   SRR17261704\n",
       "0        GSM5737078   SRR17261705\n",
       "0        GSM2430558    SRR5115673\n",
       "0        GSM2430559    SRR5115674\n",
       "0        GSM2430560    SRR5115675\n",
       "\n",
       "[333 rows x 2 columns]"
      ]
     },
     "execution_count": 82,
     "metadata": {},
     "output_type": "execute_result"
    }
   ],
   "source": [
    "result"
   ]
  },
  {
   "cell_type": "code",
   "execution_count": 77,
   "id": "a679907f",
   "metadata": {},
   "outputs": [
    {
     "data": {
      "text/plain": [
       "303"
      ]
     },
     "execution_count": 77,
     "metadata": {},
     "output_type": "execute_result"
    }
   ],
   "source": [
    "len(listSRA)"
   ]
  },
  {
   "cell_type": "code",
   "execution_count": 70,
   "id": "9ec1907b",
   "metadata": {},
   "outputs": [
    {
     "name": "stdout",
     "output_type": "stream",
     "text": [
      "  experiment_alias run_accession\n",
      "0       GSM5737136   SRR17261763\n",
      "  experiment_alias run_accession\n",
      "0       GSM5737137   SRR17261764\n",
      "  experiment_alias run_accession\n",
      "0       GSM5737138   SRR17261765\n",
      "  experiment_alias run_accession\n",
      "0       GSM5737022   SRR17261649\n",
      "  experiment_alias run_accession\n",
      "0       GSM5737023   SRR17261650\n",
      "  experiment_alias run_accession\n",
      "0       GSM5737024   SRR17261651\n",
      "  experiment_alias run_accession\n",
      "0       GSM5737025   SRR17261652\n",
      "  experiment_alias run_accession\n",
      "0       GSM5737026   SRR17261653\n",
      "  experiment_alias run_accession\n",
      "0       GSM2363474    SRR4473788\n",
      "  experiment_alias run_accession\n",
      "0       GSM2363475    SRR4473789\n",
      "  experiment_alias run_accession\n",
      "0       GSM2363476    SRR4473790\n",
      "  experiment_alias run_accession\n",
      "0       GSM2363477    SRR4473791\n",
      "  experiment_alias run_accession\n",
      "0       GSM4811694   SRR12748625\n",
      "  experiment_alias run_accession\n",
      "0       GSM4811696   SRR12748627\n",
      "  experiment_alias run_accession\n",
      "0       GSM4811698   SRR12748629\n",
      "  experiment_alias run_accession\n",
      "0       GSM5510536   SRR15402325\n",
      "  experiment_alias run_accession\n",
      "0       GSM5510537   SRR15402326\n",
      "  experiment_alias run_accession\n",
      "0       GSM5510538   SRR15402327\n",
      "  experiment_alias run_accession\n",
      "0       GSM3454509    SRR8145401\n",
      "  experiment_alias run_accession\n",
      "0       GSM3454510    SRR8145402\n",
      "  experiment_alias run_accession\n",
      "0       GSM3454511    SRR8145403\n",
      "  experiment_alias run_accession\n",
      "0       GSM3454512    SRR8145404\n",
      "  experiment_alias run_accession\n",
      "0       GSM3454513    SRR8145405\n",
      "  experiment_alias run_accession\n",
      "0       GSM3454514    SRR8145406\n",
      "  experiment_alias run_accession\n",
      "0       GSM3454515    SRR8145407\n",
      "  experiment_alias run_accession\n",
      "0       GSM3454516    SRR8145408\n",
      "  experiment_alias run_accession\n",
      "0       GSM3454517    SRR8145409\n",
      "  experiment_alias run_accession\n",
      "0       GSM3454518    SRR8145410\n",
      "  experiment_alias run_accession\n",
      "0       GSM3454519    SRR8145411\n",
      "  experiment_alias run_accession\n",
      "0       GSM3454520    SRR8145412\n",
      "  experiment_alias run_accession\n",
      "0       GSM4199337   SRR10573512\n",
      "  experiment_alias run_accession\n",
      "0       GSM4199354   SRR10573637\n",
      "  experiment_alias run_accession\n",
      "0       GSM4199371   SRR10573654\n",
      "  experiment_alias run_accession\n",
      "0       GSM4199581   SRR10573864\n",
      "  experiment_alias run_accession\n",
      "0       GSM4199598   SRR10573881\n",
      "  experiment_alias run_accession\n",
      "0       GSM4199614   SRR10573897\n",
      "  experiment_alias run_accession\n",
      "0       GSM5737076   SRR17261703\n",
      "  experiment_alias run_accession\n",
      "0       GSM5737077   SRR17261704\n",
      "  experiment_alias run_accession\n",
      "0       GSM5737078   SRR17261705\n",
      "  experiment_alias run_accession\n",
      "0       GSM2430558    SRR5115673\n",
      "  experiment_alias run_accession\n",
      "0       GSM2430559    SRR5115674\n",
      "  experiment_alias run_accession\n",
      "0       GSM2430560    SRR5115675\n"
     ]
    }
   ],
   "source": [
    "for liste in liste_GSM1:\n",
    "    df=db.gsm_to_srr(liste)\n",
    "    result=pd.concat([result,df])\n",
    "    print(df)"
   ]
  },
  {
   "cell_type": "code",
   "execution_count": null,
   "id": "fc339ff8",
   "metadata": {},
   "outputs": [],
   "source": [
    "n=0\n",
    "with open('GSM_accessions.txt', 'r') as filehandle:\n",
    "    for listitem in filehandle:\n",
    "        df=db.gsm_to_srr(listitem)\n",
    "        print(df)\n",
    "        result=pd.concat([result,df])\n",
    "        n=n+1\n",
    "        print(n)"
   ]
  },
  {
   "cell_type": "code",
   "execution_count": 2,
   "id": "94a3ad70",
   "metadata": {},
   "outputs": [
    {
     "name": "stdout",
     "output_type": "stream",
     "text": [
      "usage: pysradb [-h] [--version] [--citation]\r\n",
      "               {metadb,metadata,download,search,gse-to-gsm,gse-to-srp,gsm-to-gse,gsm-to-srp,gsm-to-srr,gsm-to-srs,gsm-to-srx,srp-to-gse,srp-to-srr,srp-to-srs,srp-to-srx,srr-to-gsm,srr-to-srp,srr-to-srs,srr-to-srx,srs-to-gsm,srs-to-srx,srx-to-srp,srx-to-srr,srx-to-srs}\r\n",
      "               ...\r\n",
      "\r\n",
      "pysradb: Query NGS metadata and data from NCBI Sequence Read Archive.\r\n",
      "version: 0.9.7.\r\n",
      "Citation: 10.12688/f1000research.18676.1\r\n",
      "\r\n",
      "optional arguments:\r\n",
      "  -h, --help            show this help message and exit\r\n",
      "  --version             show program's version number and exit\r\n",
      "  --citation            how to cite\r\n",
      "\r\n",
      "subcommands:\r\n",
      "  {metadb,metadata,download,search,gse-to-gsm,gse-to-srp,gsm-to-gse,gsm-to-srp,gsm-to-srr,gsm-to-srs,gsm-to-srx,srp-to-gse,srp-to-srr,srp-to-srs,srp-to-srx,srr-to-gsm,srr-to-srp,srr-to-srs,srr-to-srx,srs-to-gsm,srs-to-srx,srx-to-srp,srx-to-srr,srx-to-srs}\r\n",
      "    metadb              Download SRAmetadb.sqlite\r\n",
      "    metadata            Fetch metadata for SRA project (SRPnnnn)\r\n",
      "    download            Download SRA project (SRPnnnn)\r\n",
      "    search              Search SRA for matching text\r\n",
      "    gse-to-gsm          Get GSM for a GSE\r\n",
      "    gse-to-srp          Get SRP for a GSE\r\n",
      "    gsm-to-gse          Get GSE for a GSM\r\n",
      "    gsm-to-srp          Get SRP for a GSM\r\n",
      "    gsm-to-srr          Get SRR for a GSM\r\n",
      "    gsm-to-srs          Get SRS for a GSM\r\n",
      "    gsm-to-srx          Get SRX for a GSM\r\n",
      "    srp-to-gse          Get GSE for a SRP\r\n",
      "    srp-to-srr          Get SRR for a SRP\r\n",
      "    srp-to-srs          Get SRS for a SRP\r\n",
      "    srp-to-srx          Get SRX for a SRP\r\n",
      "    srr-to-gsm          Get GSM for a SRR\r\n",
      "    srr-to-srp          Get SRP for a SRR\r\n",
      "    srr-to-srs          Get SRS for a SRR\r\n",
      "    srr-to-srx          Get SRX for a SRR\r\n",
      "    srs-to-gsm          Get GSM for a SRS\r\n",
      "    srs-to-srx          Get SRX for a SRS\r\n",
      "    srx-to-srp          Get SRP for a SRX\r\n",
      "    srx-to-srr          Get SRR for a SRX\r\n",
      "    srx-to-srs          Get SRS for a SRX\r\n"
     ]
    }
   ],
   "source": [
    "!pysradb gsm-to-srr"
   ]
  }
 ],
 "metadata": {
  "kernelspec": {
   "display_name": "Python 3 (ipykernel)",
   "language": "python",
   "name": "python3"
  },
  "language_info": {
   "codemirror_mode": {
    "name": "ipython",
    "version": 3
   },
   "file_extension": ".py",
   "mimetype": "text/x-python",
   "name": "python",
   "nbconvert_exporter": "python",
   "pygments_lexer": "ipython3",
   "version": "3.9.7"
  }
 },
 "nbformat": 4,
 "nbformat_minor": 5
}
